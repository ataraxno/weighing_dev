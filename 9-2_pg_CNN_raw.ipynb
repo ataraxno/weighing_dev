{
 "cells": [
  {
   "cell_type": "code",
   "execution_count": 1,
   "metadata": {},
   "outputs": [
    {
     "data": {
      "text/plain": [
       "'2.3.0'"
      ]
     },
     "execution_count": 1,
     "metadata": {},
     "output_type": "execute_result"
    }
   ],
   "source": [
    "import time\n",
    "import os\n",
    "import gc\n",
    "\n",
    "import pandas as pd\n",
    "import numpy as np\n",
    "from sklearn import linear_model\n",
    "from sklearn.utils import resample\n",
    "from sklearn.model_selection import train_test_split\n",
    "from sklearn.metrics import mean_squared_error, r2_score\n",
    "np.set_printoptions(precision=6, suppress=True)\n",
    "\n",
    "import PIL\n",
    "from PIL import Image\n",
    "\n",
    "import tensorflow as tf\n",
    "from tensorflow.keras import *\n",
    "from tensorflow.keras.preprocessing.image import ImageDataGenerator, array_to_img, img_to_array, load_img\n",
    "tf.__version__"
   ]
  },
  {
   "cell_type": "code",
   "execution_count": 2,
   "metadata": {},
   "outputs": [],
   "source": [
    "import matplotlib\n",
    "import matplotlib.pyplot as plt\n",
    "import matplotlib.dates as mdates\n",
    "from matplotlib.ticker import (LinearLocator, MultipleLocator, FormatStrFormatter)\n",
    "from matplotlib.dates import MonthLocator, WeekdayLocator, DateFormatter\n",
    "from matplotlib import gridspec\n",
    "from pandas.plotting import register_matplotlib_converters\n",
    "register_matplotlib_converters()\n",
    "%matplotlib inline"
   ]
  },
  {
   "cell_type": "code",
   "execution_count": 3,
   "metadata": {},
   "outputs": [],
   "source": [
    "plt.rcParams['figure.figsize'] = ((8/2.54), (6/2.54))\n",
    "plt.rcParams[\"font.family\"] = \"Arial\"\n",
    "plt.rcParams[\"mathtext.default\"] = \"rm\"\n",
    "plt.rcParams.update({'font.size': 11})\n",
    "MARKER_SIZE = 15\n",
    "cmap_m = [\"#f4a6ad\", \"#f6957e\", \"#fccfa2\", \"#8de7be\", \"#86d6f2\", \"#24a9e4\", \"#b586e0\", \"#d7f293\"]\n",
    "cmap = [\"#e94d5b\", \"#ef4d28\", \"#f9a54f\", \"#25b575\", \"#1bb1e7\", \"#1477a2\", \"#a662e5\", \"#c2f442\"]\n",
    "\n",
    "plt.rcParams['axes.spines.top'] = False\n",
    "# plt.rcParams['axes.edgecolor'] = \n",
    "plt.rcParams['axes.linewidth'] = 1\n",
    "plt.rcParams['lines.linewidth'] = 1.5\n",
    "plt.rcParams['xtick.major.width'] = 1\n",
    "plt.rcParams['xtick.minor.width'] = 1\n",
    "plt.rcParams['ytick.major.width'] = 1\n",
    "plt.rcParams['ytick.minor.width'] = 1"
   ]
  },
  {
   "cell_type": "code",
   "execution_count": 4,
   "metadata": {},
   "outputs": [
    {
     "name": "stdout",
     "output_type": "stream",
     "text": [
      "1 Physical GPUs, 1 Logical GPUs\n"
     ]
    }
   ],
   "source": [
    "gpus = tf.config.experimental.list_physical_devices('GPU')\n",
    "if gpus:\n",
    "    try:\n",
    "        for gpu in gpus:\n",
    "            tf.config.experimental.set_memory_growth(gpu, True)\n",
    "        logical_gpus = tf.config.experimental.list_logical_devices('GPU')\n",
    "        print(len(gpus), \"Physical GPUs,\", len(logical_gpus), \"Logical GPUs\")\n",
    "    except RuntimeError as e:\n",
    "        print(e)"
   ]
  },
  {
   "cell_type": "code",
   "execution_count": 5,
   "metadata": {},
   "outputs": [
    {
     "name": "stdout",
     "output_type": "stream",
     "text": [
      "INFO:tensorflow:Using MirroredStrategy with devices ('/job:localhost/replica:0/task:0/device:GPU:0',)\n"
     ]
    }
   ],
   "source": [
    "strategy = tf.distribute.MirroredStrategy()"
   ]
  },
  {
   "cell_type": "markdown",
   "metadata": {},
   "source": [
    "# Hyperparameters"
   ]
  },
  {
   "cell_type": "code",
   "execution_count": 6,
   "metadata": {},
   "outputs": [],
   "source": [
    "BEST_PATH = './models/pg_convnet_raw.h5'\n",
    "TRAINING_EPOCHS = 200\n",
    "LEARNING_RATE = 0.001\n",
    "EPSILON = 1e-08\n",
    "BATCH_SIZE = 128"
   ]
  },
  {
   "cell_type": "markdown",
   "metadata": {},
   "source": [
    "# Data preparation"
   ]
  },
  {
   "cell_type": "code",
   "execution_count": 7,
   "metadata": {},
   "outputs": [],
   "source": [
    "l = np.load('./results/pg_dataset.npz', allow_pickle=True)\n",
    "data_indices_2020S = l['data_indices_2020S']\n",
    "output_label_2020S = l['output_label_2020S']\n",
    "data_indices_2020W = l['data_indices_2020W']\n",
    "output_label_2020W = l['output_label_2020W']\n",
    "OUTPUT_MAXS = l['OUTPUT_MAXS']\n",
    "OUTPUT_MINS = l['OUTPUT_MINS']"
   ]
  },
  {
   "cell_type": "code",
   "execution_count": 8,
   "metadata": {},
   "outputs": [],
   "source": [
    "COLUMNS = ['node_len', 'node_dia', 'plant_h', 'leaf_area']"
   ]
  },
  {
   "cell_type": "code",
   "execution_count": 9,
   "metadata": {},
   "outputs": [],
   "source": [
    "output_2020S_df = pd.DataFrame(output_label_2020S, index=data_indices_2020S, columns=COLUMNS)\n",
    "output_2020W_df = pd.DataFrame(output_label_2020W, index=data_indices_2020W, columns=COLUMNS)"
   ]
  },
  {
   "cell_type": "code",
   "execution_count": 10,
   "metadata": {},
   "outputs": [],
   "source": [
    "DIRECTORY = './images/2020_W/'\n",
    "dir_list = os.listdir(DIRECTORY)\n",
    "dataset_list = [direc for direc in dir_list if direc.startswith('LAI_OVER') or direc.startswith('LAI2_OVER')]\n",
    "dataset_list.sort()"
   ]
  },
  {
   "cell_type": "code",
   "execution_count": 11,
   "metadata": {},
   "outputs": [],
   "source": [
    "data_indices = []\n",
    "input_images = []\n",
    "output_labels = []\n",
    "for DATE in output_2020W_df.index:\n",
    "    for DIRECTORY in dataset_list:\n",
    "        if DATE in DIRECTORY:\n",
    "            file_list = os.listdir(f'./images/2020_W/{DIRECTORY}')\n",
    "            file_list = [file for file in file_list if file.endswith('.jpg')]\n",
    "            for FILE in file_list:\n",
    "                TIME = pd.Timedelta(FILE.split()[-1].split('.')[0])\n",
    "                if TIME >= pd.Timedelta('08:00:00') and TIME <= pd.Timedelta('16:00:00'):\n",
    "                    image = Image.open(f'./images/2020_W/{DIRECTORY}/{FILE}')\n",
    "                    data_indices.append(pd.Timestamp(DATE))\n",
    "                    input_images.append(img_to_array(image))\n",
    "                    output_labels.append(output_2020W_df.loc[DATE].values)"
   ]
  },
  {
   "cell_type": "code",
   "execution_count": 12,
   "metadata": {},
   "outputs": [],
   "source": [
    "input_images = np.stack(input_images, axis=0)\n",
    "output_labels = np.stack(output_labels, axis=0)\n",
    "data_indices = np.array(data_indices)"
   ]
  },
  {
   "cell_type": "code",
   "execution_count": 13,
   "metadata": {},
   "outputs": [
    {
     "name": "stdout",
     "output_type": "stream",
     "text": [
      "6234\n",
      "(6234, 256, 256, 3)\n",
      "(6234, 4)\n"
     ]
    }
   ],
   "source": [
    "print(len(data_indices))\n",
    "print(input_images.shape)\n",
    "print(output_labels.shape)"
   ]
  },
  {
   "cell_type": "code",
   "execution_count": 14,
   "metadata": {},
   "outputs": [],
   "source": [
    "# data_indices, input_images, output_labels = resample(data_indices, input_images, output_labels, n_samples=3000, replace=False, random_state=4574)"
   ]
  },
  {
   "cell_type": "code",
   "execution_count": 15,
   "metadata": {},
   "outputs": [
    {
     "name": "stdout",
     "output_type": "stream",
     "text": [
      "6234\n",
      "(6234, 256, 256, 3)\n",
      "(6234, 4)\n"
     ]
    }
   ],
   "source": [
    "print(len(data_indices))\n",
    "print(input_images.shape)\n",
    "print(output_labels.shape)"
   ]
  },
  {
   "cell_type": "code",
   "execution_count": 16,
   "metadata": {},
   "outputs": [
    {
     "data": {
      "text/plain": [
       "15"
      ]
     },
     "execution_count": 16,
     "metadata": {},
     "output_type": "execute_result"
    }
   ],
   "source": [
    "gc.collect()"
   ]
  },
  {
   "cell_type": "code",
   "execution_count": 17,
   "metadata": {},
   "outputs": [],
   "source": [
    "N_TRAIN = int(output_labels.shape[0]*.1)\n",
    "train_input = input_images[:N_TRAIN, ...]\n",
    "train_label = output_labels[:N_TRAIN, ...]\n",
    "train_index = data_indices[:N_TRAIN]\n",
    "test_input = input_images[N_TRAIN:, ...]\n",
    "test_label = output_labels[N_TRAIN:, ...]\n",
    "test_index = data_indices[N_TRAIN:]"
   ]
  },
  {
   "cell_type": "code",
   "execution_count": 18,
   "metadata": {},
   "outputs": [],
   "source": [
    "train_index, val_index, train_input, val_input, train_label, val_label = train_test_split(train_index, train_input, train_label, test_size=0.3, shuffle=True, random_state=3101)"
   ]
  },
  {
   "cell_type": "code",
   "execution_count": 19,
   "metadata": {},
   "outputs": [],
   "source": [
    "datagen = ImageDataGenerator(\n",
    "    rescale=1/255,\n",
    "    rotation_range=0.1,\n",
    "    zoom_range=0.1,\n",
    "    width_shift_range=0.1,\n",
    "    height_shift_range=0.1,\n",
    "    horizontal_flip=True,\n",
    "    fill_mode='nearest')"
   ]
  },
  {
   "cell_type": "code",
   "execution_count": 20,
   "metadata": {},
   "outputs": [],
   "source": [
    "train_iterator = datagen.flow(train_input, train_label, batch_size=BATCH_SIZE)\n",
    "val_iterator = datagen.flow(val_input, val_label, batch_size=BATCH_SIZE)\n",
    "test_iterator = datagen.flow(test_input, test_label, batch_size=BATCH_SIZE)"
   ]
  },
  {
   "cell_type": "code",
   "execution_count": 21,
   "metadata": {},
   "outputs": [
    {
     "data": {
      "text/plain": [
       "0"
      ]
     },
     "execution_count": 21,
     "metadata": {},
     "output_type": "execute_result"
    }
   ],
   "source": [
    "gc.collect()"
   ]
  },
  {
   "cell_type": "code",
   "execution_count": 22,
   "metadata": {},
   "outputs": [
    {
     "name": "stdout",
     "output_type": "stream",
     "text": [
      "number of data set: 6234\n",
      "number of training set: 436\n",
      "number of validation set: 187\n",
      "number of test set: 5611\n"
     ]
    }
   ],
   "source": [
    "print(f'number of data set: {input_images.shape[0]}')\n",
    "print(f'number of training set: {train_input.shape[0]}')\n",
    "print(f'number of validation set: {val_input.shape[0]}')\n",
    "print(f'number of test set: {test_input.shape[0]}')"
   ]
  },
  {
   "cell_type": "markdown",
   "metadata": {},
   "source": [
    "# Model construction"
   ]
  },
  {
   "cell_type": "code",
   "execution_count": 23,
   "metadata": {},
   "outputs": [],
   "source": [
    "class ResidualBlock(layers.Layer):\n",
    "    def __init__(self, num_filter, stride=1):\n",
    "        super(ResidualBlock, self).__init__()\n",
    "        self.n = num_filter\n",
    "        self.s = stride\n",
    "        \n",
    "        self.conv1 = layers.Conv2D(filters=self.n, kernel_size=1, strides=1, kernel_initializer='glorot_normal', padding='same')\n",
    "        self.norm1 = layers.BatchNormalization()\n",
    "        self.act1 = layers.Activation(activations.relu)\n",
    "        self.conv2 = layers.Conv2D(filters=self.n, kernel_size=3, strides=stride, kernel_initializer='glorot_normal', padding='same')\n",
    "        self.norm2 = layers.BatchNormalization()\n",
    "        self.act2 = layers.Activation(activations.relu)\n",
    "        self.conv3 = layers.Conv2D(filters=self.n*4, kernel_size=1, strides=1, kernel_initializer='glorot_normal', padding='same')\n",
    "        self.norm3 = layers.BatchNormalization()\n",
    "        self.act3 = layers.Activation(activations.relu)\n",
    "\n",
    "        self.downsample = Sequential()\n",
    "        self.downsample.add(layers.Conv2D(filters=self.n*4, kernel_size=1, strides=stride, kernel_initializer='glorot_normal'))\n",
    "        self.downsample.add(layers.BatchNormalization())\n",
    "\n",
    "    def call(self, inp, training=None, **kwargs):\n",
    "        shortcut = self.downsample(inp)\n",
    "\n",
    "        inp = self.act1(self.norm1(self.conv1(inp), training=training))\n",
    "        inp = self.act2(self.norm2(self.conv2(inp), training=training))\n",
    "        inp = self.norm3(self.conv3(inp), training=training)\n",
    "\n",
    "        oup = self.act3(layers.add([shortcut, inp]))\n",
    "\n",
    "        return oup"
   ]
  },
  {
   "cell_type": "code",
   "execution_count": 24,
   "metadata": {},
   "outputs": [],
   "source": [
    "def block_maker(num_filter, num_blocks, stride=1):\n",
    "    res_block = tf.keras.Sequential()\n",
    "    res_block.add(ResidualBlock(num_filter, stride=stride))\n",
    "\n",
    "    for _ in range(1, num_blocks):\n",
    "        res_block.add(ResidualBlock(num_filter, stride=1))\n",
    "\n",
    "    return res_block"
   ]
  },
  {
   "cell_type": "code",
   "execution_count": 25,
   "metadata": {},
   "outputs": [],
   "source": [
    "class ResNet2D(Model):\n",
    "    def __init__(self, layer_params):\n",
    "        super(ResNet2D, self).__init__()\n",
    "        self.conv1 = layers.Conv2D(filters=64, kernel_size=7, strides=2, kernel_initializer='glorot_normal', padding=\"same\")\n",
    "        self.norm1 = layers.BatchNormalization()\n",
    "        self.act1 = layers.Activation(activations.relu)\n",
    "        self.pool1 = layers.MaxPool2D(pool_size=(3, 3), strides=2, padding=\"same\")\n",
    "\n",
    "        self.layer1 = block_maker(num_filter=64, num_blocks=layer_params[0])\n",
    "        self.layer2 = block_maker(num_filter=128, num_blocks=layer_params[1], stride=2)\n",
    "        self.layer3 = block_maker(num_filter=256, num_blocks=layer_params[2], stride=2)\n",
    "        self.layer4 = block_maker(num_filter=512, num_blocks=layer_params[3], stride=2)\n",
    "\n",
    "        self.flat = layers.Flatten()\n",
    "        self.dense1 = layers.Dense(units=512, activation='relu')\n",
    "        self.dense2 = layers.Dense(units=128, activation='relu')\n",
    "        self.fc = layers.Dense(units=4)\n",
    "\n",
    "    def call(self, inp, training=None, mask=None):\n",
    "        inp = self.conv1(inp)\n",
    "        inp = self.norm1(inp, training=training)\n",
    "        inp = self.act1(inp)\n",
    "        inp = self.pool1(inp)\n",
    "        inp = self.layer1(inp, training=training)\n",
    "        inp = self.layer2(inp, training=training)\n",
    "        inp = self.layer3(inp, training=training)\n",
    "        inp = self.layer4(inp, training=training)\n",
    "        inp = self.dense1(self.flat(inp))\n",
    "        inp = self.dense2(inp)\n",
    "        output = self.fc(inp)\n",
    "\n",
    "        return output"
   ]
  },
  {
   "cell_type": "code",
   "execution_count": 26,
   "metadata": {},
   "outputs": [],
   "source": [
    "with strategy.scope():\n",
    "    model = ResNet2D(layer_params=[2, 3, 2, 1])"
   ]
  },
  {
   "cell_type": "code",
   "execution_count": 27,
   "metadata": {},
   "outputs": [],
   "source": [
    "cbs = callbacks.ReduceLROnPlateau(\n",
    "    monitor='val_loss', factor=.1, patience=20, verbose=0, mode='auto',\n",
    "    min_delta=0.0001, cooldown=0, min_lr=0)\n",
    "\n",
    "save = callbacks.ModelCheckpoint(\n",
    "    BEST_PATH, monitor='val_loss', verbose=0,\n",
    "    save_best_only=True, save_weights_only=True, mode='min', save_freq='epoch')\n",
    "\n",
    "early_stop = callbacks.EarlyStopping(monitor='val_loss', min_delta=0.0001, patience=50) "
   ]
  },
  {
   "cell_type": "code",
   "execution_count": 28,
   "metadata": {
    "scrolled": true
   },
   "outputs": [
    {
     "name": "stdout",
     "output_type": "stream",
     "text": [
      "WARNING:tensorflow:Using MirroredStrategy eagerly has significant overhead currently. We will be working on improving this in the future, but for now please wrap `call_for_each_replica` or `experimental_run` or `experimental_run_v2` inside a tf.function to get the best performance.\n",
      "Epoch 1/200\n",
      "WARNING:tensorflow:From /home/ubuntu/anaconda3/envs/tensorflow2_p36/lib/python3.6/site-packages/tensorflow/python/data/ops/multi_device_iterator_ops.py:601: get_next_as_optional (from tensorflow.python.data.ops.iterator_ops) is deprecated and will be removed in a future version.\n",
      "Instructions for updating:\n",
      "Use `tf.data.Iterator.get_next_as_optional()` instead.\n",
      "INFO:tensorflow:Reduce to /job:localhost/replica:0/task:0/device:CPU:0 then broadcast to ('/job:localhost/replica:0/task:0/device:CPU:0',).\n",
      "INFO:tensorflow:Reduce to /job:localhost/replica:0/task:0/device:CPU:0 then broadcast to ('/job:localhost/replica:0/task:0/device:CPU:0',).\n",
      "INFO:tensorflow:Reduce to /job:localhost/replica:0/task:0/device:CPU:0 then broadcast to ('/job:localhost/replica:0/task:0/device:CPU:0',).\n",
      "INFO:tensorflow:Reduce to /job:localhost/replica:0/task:0/device:CPU:0 then broadcast to ('/job:localhost/replica:0/task:0/device:CPU:0',).\n",
      "2/4 [==============>...............] - ETA: 0s - loss: 83.9430WARNING:tensorflow:Callbacks method `on_train_batch_end` is slow compared to the batch time (batch time: 0.2202s vs `on_train_batch_end` time: 0.4315s). Check your callbacks.\n",
      "4/4 [==============================] - ETA: 0s - loss: 64.2172INFO:tensorflow:Reduce to /job:localhost/replica:0/task:0/device:CPU:0 then broadcast to ('/job:localhost/replica:0/task:0/device:CPU:0',).\n",
      "INFO:tensorflow:Reduce to /job:localhost/replica:0/task:0/device:CPU:0 then broadcast to ('/job:localhost/replica:0/task:0/device:CPU:0',).\n",
      "INFO:tensorflow:Reduce to /job:localhost/replica:0/task:0/device:CPU:0 then broadcast to ('/job:localhost/replica:0/task:0/device:CPU:0',).\n",
      "INFO:tensorflow:Reduce to /job:localhost/replica:0/task:0/device:CPU:0 then broadcast to ('/job:localhost/replica:0/task:0/device:CPU:0',).\n",
      "INFO:tensorflow:Reduce to /job:localhost/replica:0/task:0/device:CPU:0 then broadcast to ('/job:localhost/replica:0/task:0/device:CPU:0',).\n",
      "INFO:tensorflow:Reduce to /job:localhost/replica:0/task:0/device:CPU:0 then broadcast to ('/job:localhost/replica:0/task:0/device:CPU:0',).\n",
      "4/4 [==============================] - 11s 3s/step - loss: 64.2172 - val_loss: 121.0416\n",
      "Epoch 2/200\n",
      "4/4 [==============================] - 7s 2s/step - loss: 2.8495 - val_loss: 8097.2832\n",
      "Epoch 3/200\n",
      "4/4 [==============================] - 7s 2s/step - loss: 1.1738 - val_loss: 14203.6074\n",
      "Epoch 4/200\n",
      "4/4 [==============================] - 7s 2s/step - loss: 0.4922 - val_loss: 13105.2744\n",
      "Epoch 5/200\n",
      "4/4 [==============================] - 7s 2s/step - loss: 0.3071 - val_loss: 12860.3955\n",
      "Epoch 6/200\n",
      "4/4 [==============================] - 7s 2s/step - loss: 0.2179 - val_loss: 6624.8892\n",
      "Epoch 7/200\n",
      "4/4 [==============================] - 7s 2s/step - loss: 0.1878 - val_loss: 2343.0579\n",
      "Epoch 8/200\n",
      "4/4 [==============================] - 7s 2s/step - loss: 0.1423 - val_loss: 963.9933\n",
      "Epoch 9/200\n",
      "4/4 [==============================] - 7s 2s/step - loss: 0.1216 - val_loss: 286.4454\n",
      "Epoch 10/200\n",
      "4/4 [==============================] - 8s 2s/step - loss: 0.0872 - val_loss: 62.6642\n",
      "Epoch 11/200\n",
      "4/4 [==============================] - 8s 2s/step - loss: 0.0758 - val_loss: 14.4772\n",
      "Epoch 12/200\n",
      "4/4 [==============================] - 8s 2s/step - loss: 0.0736 - val_loss: 0.6337\n",
      "Epoch 13/200\n",
      "4/4 [==============================] - 8s 2s/step - loss: 0.0690 - val_loss: 0.0639\n",
      "Epoch 14/200\n",
      "4/4 [==============================] - 8s 2s/step - loss: 0.0580 - val_loss: 0.0608\n",
      "Epoch 15/200\n",
      "4/4 [==============================] - 7s 2s/step - loss: 0.0651 - val_loss: 0.0621\n",
      "Epoch 16/200\n",
      "4/4 [==============================] - 7s 2s/step - loss: 0.0507 - val_loss: 0.0685\n",
      "Epoch 17/200\n",
      "4/4 [==============================] - 6s 2s/step - loss: 0.0495 - val_loss: 0.0610\n",
      "Epoch 18/200\n",
      "4/4 [==============================] - 8s 2s/step - loss: 0.0432 - val_loss: 0.0540\n",
      "Epoch 19/200\n",
      "4/4 [==============================] - 9s 2s/step - loss: 0.0535 - val_loss: 0.0441\n",
      "Epoch 20/200\n",
      "4/4 [==============================] - 7s 2s/step - loss: 0.0485 - val_loss: 0.0551\n",
      "Epoch 21/200\n",
      "4/4 [==============================] - 7s 2s/step - loss: 0.0442 - val_loss: 0.0540\n",
      "Epoch 22/200\n",
      "4/4 [==============================] - 8s 2s/step - loss: 0.0441 - val_loss: 0.0485\n",
      "Epoch 23/200\n",
      "4/4 [==============================] - 8s 2s/step - loss: 0.0426 - val_loss: 0.0376\n",
      "Epoch 24/200\n",
      "4/4 [==============================] - 8s 2s/step - loss: 0.0379 - val_loss: 0.0415\n",
      "Epoch 25/200\n",
      "4/4 [==============================] - 6s 2s/step - loss: 0.0369 - val_loss: 0.0450\n",
      "Epoch 26/200\n",
      "4/4 [==============================] - 8s 2s/step - loss: 0.0338 - val_loss: 0.0360\n",
      "Epoch 27/200\n",
      "4/4 [==============================] - 6s 2s/step - loss: 0.0354 - val_loss: 0.0408\n",
      "Epoch 28/200\n",
      "4/4 [==============================] - 7s 2s/step - loss: 0.0341 - val_loss: 0.0383\n",
      "Epoch 29/200\n",
      "4/4 [==============================] - 8s 2s/step - loss: 0.0321 - val_loss: 0.0316\n",
      "Epoch 30/200\n",
      "4/4 [==============================] - 6s 2s/step - loss: 0.0332 - val_loss: 0.0351\n",
      "Epoch 31/200\n",
      "4/4 [==============================] - 8s 2s/step - loss: 0.0305 - val_loss: 0.0288\n",
      "Epoch 32/200\n",
      "4/4 [==============================] - 9s 2s/step - loss: 0.0338 - val_loss: 0.0286\n",
      "Epoch 33/200\n",
      "4/4 [==============================] - 7s 2s/step - loss: 0.0343 - val_loss: 0.0306\n",
      "Epoch 34/200\n",
      "4/4 [==============================] - 7s 2s/step - loss: 0.0349 - val_loss: 0.0307\n",
      "Epoch 35/200\n",
      "4/4 [==============================] - 7s 2s/step - loss: 0.0314 - val_loss: 0.0311\n",
      "Epoch 36/200\n",
      "4/4 [==============================] - 8s 2s/step - loss: 0.0296 - val_loss: 0.0274\n",
      "Epoch 37/200\n",
      "4/4 [==============================] - 7s 2s/step - loss: 0.0307 - val_loss: 0.0286\n",
      "Epoch 38/200\n",
      "4/4 [==============================] - 7s 2s/step - loss: 0.0319 - val_loss: 0.0285\n",
      "Epoch 39/200\n",
      "4/4 [==============================] - 8s 2s/step - loss: 0.0299 - val_loss: 0.0274\n",
      "Epoch 40/200\n",
      "4/4 [==============================] - 8s 2s/step - loss: 0.0286 - val_loss: 0.0282\n",
      "Epoch 41/200\n",
      "4/4 [==============================] - 8s 2s/step - loss: 0.0272 - val_loss: 0.0271\n",
      "Epoch 42/200\n",
      "4/4 [==============================] - 7s 2s/step - loss: 0.0271 - val_loss: 0.0287\n",
      "Epoch 43/200\n",
      "4/4 [==============================] - 7s 2s/step - loss: 0.0268 - val_loss: 0.0278\n",
      "Epoch 44/200\n",
      "4/4 [==============================] - 7s 2s/step - loss: 0.0271 - val_loss: 0.0276\n",
      "Epoch 45/200\n",
      "4/4 [==============================] - 7s 2s/step - loss: 0.0302 - val_loss: 0.0289\n",
      "Epoch 46/200\n",
      "4/4 [==============================] - 6s 2s/step - loss: 0.0350 - val_loss: 0.0296\n",
      "Epoch 47/200\n",
      "4/4 [==============================] - 7s 2s/step - loss: 0.0337 - val_loss: 0.0315\n",
      "Epoch 48/200\n",
      "4/4 [==============================] - 7s 2s/step - loss: 0.0334 - val_loss: 0.0283\n",
      "Epoch 49/200\n",
      "4/4 [==============================] - 7s 2s/step - loss: 0.0315 - val_loss: 0.0276\n",
      "Epoch 50/200\n",
      "4/4 [==============================] - 7s 2s/step - loss: 0.0299 - val_loss: 0.0273\n",
      "Epoch 51/200\n",
      "4/4 [==============================] - 8s 2s/step - loss: 0.0303 - val_loss: 0.0266\n",
      "Epoch 52/200\n",
      "4/4 [==============================] - 8s 2s/step - loss: 0.0294 - val_loss: 0.0264\n",
      "Epoch 53/200\n",
      "4/4 [==============================] - 8s 2s/step - loss: 0.0307 - val_loss: 0.0287\n",
      "Epoch 54/200\n",
      "4/4 [==============================] - 7s 2s/step - loss: 0.0275 - val_loss: 0.0265\n",
      "Epoch 55/200\n",
      "4/4 [==============================] - 7s 2s/step - loss: 0.0256 - val_loss: 0.0274\n",
      "Epoch 56/200\n",
      "4/4 [==============================] - 7s 2s/step - loss: 0.0260 - val_loss: 0.0269\n",
      "Epoch 57/200\n",
      "4/4 [==============================] - 8s 2s/step - loss: 0.0266 - val_loss: 0.0262\n",
      "Epoch 58/200\n",
      "4/4 [==============================] - 8s 2s/step - loss: 0.0275 - val_loss: 0.0277\n",
      "Epoch 59/200\n",
      "4/4 [==============================] - 8s 2s/step - loss: 0.0277 - val_loss: 0.0262\n",
      "Epoch 60/200\n",
      "4/4 [==============================] - 7s 2s/step - loss: 0.0301 - val_loss: 0.0296\n",
      "Epoch 61/200\n",
      "4/4 [==============================] - 7s 2s/step - loss: 0.0321 - val_loss: 0.0333\n",
      "Epoch 62/200\n",
      "4/4 [==============================] - 8s 2s/step - loss: 0.0314 - val_loss: 0.0269\n",
      "Epoch 63/200\n",
      "4/4 [==============================] - 9s 2s/step - loss: 0.0317 - val_loss: 0.0261\n",
      "Epoch 64/200\n",
      "4/4 [==============================] - 7s 2s/step - loss: 0.0275 - val_loss: 0.0289\n",
      "Epoch 65/200\n",
      "4/4 [==============================] - 7s 2s/step - loss: 0.0239 - val_loss: 0.0264\n",
      "Epoch 66/200\n",
      "4/4 [==============================] - 8s 2s/step - loss: 0.0278 - val_loss: 0.0311\n",
      "Epoch 67/200\n",
      "4/4 [==============================] - 6s 2s/step - loss: 0.0219 - val_loss: 0.0331\n",
      "Epoch 68/200\n",
      "4/4 [==============================] - 7s 2s/step - loss: 0.0224 - val_loss: 0.0299\n",
      "Epoch 69/200\n",
      "4/4 [==============================] - 6s 2s/step - loss: 0.0200 - val_loss: 0.0336\n",
      "Epoch 70/200\n",
      "4/4 [==============================] - 7s 2s/step - loss: 0.0214 - val_loss: 0.0284\n",
      "Epoch 71/200\n",
      "4/4 [==============================] - 7s 2s/step - loss: 0.0201 - val_loss: 0.0285\n",
      "Epoch 72/200\n",
      "4/4 [==============================] - 7s 2s/step - loss: 0.0191 - val_loss: 0.0327\n",
      "Epoch 73/200\n",
      "4/4 [==============================] - 6s 2s/step - loss: 0.0207 - val_loss: 0.0274\n",
      "Epoch 74/200\n",
      "4/4 [==============================] - 8s 2s/step - loss: 0.0226 - val_loss: 0.0288\n",
      "Epoch 75/200\n",
      "4/4 [==============================] - 7s 2s/step - loss: 0.0229 - val_loss: 0.0280\n",
      "Epoch 76/200\n",
      "4/4 [==============================] - 7s 2s/step - loss: 0.0183 - val_loss: 0.0279\n",
      "Epoch 77/200\n",
      "4/4 [==============================] - 8s 2s/step - loss: 0.0192 - val_loss: 0.0308\n",
      "Epoch 78/200\n",
      "4/4 [==============================] - 6s 2s/step - loss: 0.0221 - val_loss: 0.0267\n",
      "Epoch 79/200\n",
      "4/4 [==============================] - 6s 2s/step - loss: 0.0203 - val_loss: 0.0283\n",
      "Epoch 80/200\n",
      "4/4 [==============================] - 7s 2s/step - loss: 0.0175 - val_loss: 0.0303\n",
      "Epoch 81/200\n",
      "4/4 [==============================] - 8s 2s/step - loss: 0.0211 - val_loss: 0.0279\n",
      "Epoch 82/200\n",
      "4/4 [==============================] - 7s 2s/step - loss: 0.0201 - val_loss: 0.0262\n",
      "Epoch 83/200\n",
      "4/4 [==============================] - 7s 2s/step - loss: 0.0195 - val_loss: 0.0279\n",
      "Epoch 84/200\n",
      "4/4 [==============================] - 7s 2s/step - loss: 0.0196 - val_loss: 0.0269\n",
      "Epoch 85/200\n",
      "4/4 [==============================] - 8s 2s/step - loss: 0.0170 - val_loss: 0.0259\n",
      "Epoch 86/200\n",
      "4/4 [==============================] - 8s 2s/step - loss: 0.0156 - val_loss: 0.0257\n",
      "Epoch 87/200\n",
      "4/4 [==============================] - 7s 2s/step - loss: 0.0167 - val_loss: 0.0259\n",
      "Epoch 88/200\n",
      "4/4 [==============================] - 9s 2s/step - loss: 0.0163 - val_loss: 0.0256\n",
      "Epoch 89/200\n",
      "4/4 [==============================] - 9s 2s/step - loss: 0.0154 - val_loss: 0.0247\n",
      "Epoch 90/200\n",
      "4/4 [==============================] - 7s 2s/step - loss: 0.0142 - val_loss: 0.0245\n",
      "Epoch 91/200\n",
      "4/4 [==============================] - 7s 2s/step - loss: 0.0145 - val_loss: 0.0246\n",
      "Epoch 92/200\n",
      "4/4 [==============================] - 7s 2s/step - loss: 0.0148 - val_loss: 0.0243\n",
      "Epoch 93/200\n",
      "4/4 [==============================] - 7s 2s/step - loss: 0.0148 - val_loss: 0.0241\n",
      "Epoch 94/200\n",
      "4/4 [==============================] - 8s 2s/step - loss: 0.0145 - val_loss: 0.0240\n",
      "Epoch 95/200\n",
      "4/4 [==============================] - 7s 2s/step - loss: 0.0147 - val_loss: 0.0243\n",
      "Epoch 96/200\n",
      "4/4 [==============================] - 8s 2s/step - loss: 0.0157 - val_loss: 0.0240\n",
      "Epoch 97/200\n",
      "4/4 [==============================] - 8s 2s/step - loss: 0.0162 - val_loss: 0.0233\n",
      "Epoch 98/200\n",
      "4/4 [==============================] - 9s 2s/step - loss: 0.0141 - val_loss: 0.0230\n",
      "Epoch 99/200\n",
      "4/4 [==============================] - 7s 2s/step - loss: 0.0143 - val_loss: 0.0231\n",
      "Epoch 100/200\n",
      "4/4 [==============================] - 7s 2s/step - loss: 0.0150 - val_loss: 0.0235\n",
      "Epoch 101/200\n",
      "4/4 [==============================] - 7s 2s/step - loss: 0.0138 - val_loss: 0.0231\n",
      "Epoch 102/200\n",
      "4/4 [==============================] - 8s 2s/step - loss: 0.0138 - val_loss: 0.0223\n",
      "Epoch 103/200\n",
      "4/4 [==============================] - 7s 2s/step - loss: 0.0144 - val_loss: 0.0226\n",
      "Epoch 104/200\n",
      "4/4 [==============================] - 6s 2s/step - loss: 0.0141 - val_loss: 0.0225\n",
      "Epoch 105/200\n",
      "4/4 [==============================] - 9s 2s/step - loss: 0.0127 - val_loss: 0.0221\n",
      "Epoch 106/200\n",
      "4/4 [==============================] - 8s 2s/step - loss: 0.0141 - val_loss: 0.0226\n",
      "Epoch 107/200\n",
      "4/4 [==============================] - 8s 2s/step - loss: 0.0172 - val_loss: 0.0222\n",
      "Epoch 108/200\n",
      "4/4 [==============================] - 7s 2s/step - loss: 0.0139 - val_loss: 0.0222\n",
      "Epoch 109/200\n",
      "4/4 [==============================] - 6s 2s/step - loss: 0.0143 - val_loss: 0.0223\n",
      "Epoch 110/200\n",
      "4/4 [==============================] - 9s 2s/step - loss: 0.0154 - val_loss: 0.0219\n",
      "Epoch 111/200\n",
      "4/4 [==============================] - 9s 2s/step - loss: 0.0142 - val_loss: 0.0218\n",
      "Epoch 112/200\n",
      "4/4 [==============================] - 7s 2s/step - loss: 0.0148 - val_loss: 0.0220\n",
      "Epoch 113/200\n",
      "4/4 [==============================] - 8s 2s/step - loss: 0.0134 - val_loss: 0.0217\n",
      "Epoch 114/200\n",
      "4/4 [==============================] - 9s 2s/step - loss: 0.0134 - val_loss: 0.0213\n",
      "Epoch 115/200\n",
      "4/4 [==============================] - 7s 2s/step - loss: 0.0128 - val_loss: 0.0213\n",
      "Epoch 116/200\n",
      "4/4 [==============================] - 6s 2s/step - loss: 0.0140 - val_loss: 0.0215\n",
      "Epoch 117/200\n",
      "4/4 [==============================] - 8s 2s/step - loss: 0.0149 - val_loss: 0.0207\n",
      "Epoch 118/200\n",
      "4/4 [==============================] - 7s 2s/step - loss: 0.0138 - val_loss: 0.0214\n",
      "Epoch 119/200\n",
      "4/4 [==============================] - 8s 2s/step - loss: 0.0132 - val_loss: 0.0211\n",
      "Epoch 120/200\n",
      "4/4 [==============================] - 8s 2s/step - loss: 0.0130 - val_loss: 0.0204\n",
      "Epoch 121/200\n",
      "4/4 [==============================] - 9s 2s/step - loss: 0.0136 - val_loss: 0.0204\n",
      "Epoch 122/200\n",
      "4/4 [==============================] - 7s 2s/step - loss: 0.0141 - val_loss: 0.0213\n",
      "Epoch 123/200\n",
      "4/4 [==============================] - 6s 2s/step - loss: 0.0134 - val_loss: 0.0206\n",
      "Epoch 124/200\n",
      "4/4 [==============================] - 8s 2s/step - loss: 0.0122 - val_loss: 0.0207\n",
      "Epoch 125/200\n",
      "4/4 [==============================] - 7s 2s/step - loss: 0.0123 - val_loss: 0.0207\n",
      "Epoch 126/200\n",
      "4/4 [==============================] - 8s 2s/step - loss: 0.0121 - val_loss: 0.0203\n",
      "Epoch 127/200\n",
      "4/4 [==============================] - 7s 2s/step - loss: 0.0126 - val_loss: 0.0205\n",
      "Epoch 128/200\n",
      "4/4 [==============================] - 8s 2s/step - loss: 0.0130 - val_loss: 0.0213\n",
      "Epoch 129/200\n",
      "4/4 [==============================] - 8s 2s/step - loss: 0.0129 - val_loss: 0.0201\n",
      "Epoch 130/200\n",
      "4/4 [==============================] - 7s 2s/step - loss: 0.0132 - val_loss: 0.0201\n",
      "Epoch 131/200\n",
      "4/4 [==============================] - 8s 2s/step - loss: 0.0117 - val_loss: 0.0198\n",
      "Epoch 132/200\n",
      "4/4 [==============================] - 7s 2s/step - loss: 0.0121 - val_loss: 0.0202\n",
      "Epoch 133/200\n",
      "4/4 [==============================] - 7s 2s/step - loss: 0.0119 - val_loss: 0.0210\n",
      "Epoch 134/200\n",
      "4/4 [==============================] - 8s 2s/step - loss: 0.0149 - val_loss: 0.0195\n",
      "Epoch 135/200\n",
      "4/4 [==============================] - 6s 2s/step - loss: 0.0122 - val_loss: 0.0202\n",
      "Epoch 136/200\n",
      "4/4 [==============================] - 7s 2s/step - loss: 0.0119 - val_loss: 0.0207\n",
      "Epoch 137/200\n",
      "4/4 [==============================] - 7s 2s/step - loss: 0.0133 - val_loss: 0.0206\n",
      "Epoch 138/200\n",
      "4/4 [==============================] - 8s 2s/step - loss: 0.0129 - val_loss: 0.0193\n",
      "Epoch 139/200\n",
      "4/4 [==============================] - 6s 2s/step - loss: 0.0120 - val_loss: 0.0199\n",
      "Epoch 140/200\n",
      "4/4 [==============================] - 6s 2s/step - loss: 0.0115 - val_loss: 0.0194\n",
      "Epoch 141/200\n",
      "4/4 [==============================] - 7s 2s/step - loss: 0.0144 - val_loss: 0.0206\n",
      "Epoch 142/200\n",
      "4/4 [==============================] - 8s 2s/step - loss: 0.0115 - val_loss: 0.0184\n",
      "Epoch 143/200\n",
      "4/4 [==============================] - 8s 2s/step - loss: 0.0144 - val_loss: 0.0189\n",
      "Epoch 144/200\n",
      "4/4 [==============================] - 8s 2s/step - loss: 0.0125 - val_loss: 0.0204\n",
      "Epoch 145/200\n",
      "4/4 [==============================] - 7s 2s/step - loss: 0.0110 - val_loss: 0.0184\n",
      "Epoch 146/200\n",
      "4/4 [==============================] - 7s 2s/step - loss: 0.0108 - val_loss: 0.0188\n",
      "Epoch 147/200\n",
      "4/4 [==============================] - 7s 2s/step - loss: 0.0109 - val_loss: 0.0192\n",
      "Epoch 148/200\n",
      "4/4 [==============================] - 8s 2s/step - loss: 0.0133 - val_loss: 0.0176\n",
      "Epoch 149/200\n",
      "4/4 [==============================] - 7s 2s/step - loss: 0.0115 - val_loss: 0.0185\n",
      "Epoch 150/200\n",
      "4/4 [==============================] - 7s 2s/step - loss: 0.0110 - val_loss: 0.0180\n",
      "Epoch 151/200\n",
      "4/4 [==============================] - 7s 2s/step - loss: 0.0103 - val_loss: 0.0171\n",
      "Epoch 152/200\n",
      "4/4 [==============================] - 7s 2s/step - loss: 0.0116 - val_loss: 0.0204\n",
      "Epoch 153/200\n",
      "4/4 [==============================] - 8s 2s/step - loss: 0.0119 - val_loss: 0.0171\n",
      "Epoch 154/200\n",
      "4/4 [==============================] - 6s 2s/step - loss: 0.0118 - val_loss: 0.0187\n",
      "Epoch 155/200\n",
      "4/4 [==============================] - 6s 2s/step - loss: 0.0127 - val_loss: 0.0181\n",
      "Epoch 156/200\n",
      "4/4 [==============================] - 8s 2s/step - loss: 0.0129 - val_loss: 0.0156\n",
      "Epoch 157/200\n",
      "4/4 [==============================] - 7s 2s/step - loss: 0.0138 - val_loss: 0.0182\n",
      "Epoch 158/200\n",
      "4/4 [==============================] - 6s 2s/step - loss: 0.0127 - val_loss: 0.0159\n",
      "Epoch 159/200\n",
      "4/4 [==============================] - 7s 2s/step - loss: 0.0113 - val_loss: 0.0147\n",
      "Epoch 160/200\n",
      "4/4 [==============================] - 8s 2s/step - loss: 0.0106 - val_loss: 0.0155\n",
      "Epoch 161/200\n",
      "4/4 [==============================] - 6s 2s/step - loss: 0.0136 - val_loss: 0.0156\n",
      "Epoch 162/200\n",
      "4/4 [==============================] - 7s 2s/step - loss: 0.0133 - val_loss: 0.0192\n",
      "Epoch 163/200\n",
      "4/4 [==============================] - 7s 2s/step - loss: 0.0121 - val_loss: 0.0165\n",
      "Epoch 164/200\n",
      "4/4 [==============================] - 7s 2s/step - loss: 0.0108 - val_loss: 0.0149\n",
      "Epoch 165/200\n",
      "4/4 [==============================] - 7s 2s/step - loss: 0.0123 - val_loss: 0.0170\n",
      "Epoch 166/200\n",
      "4/4 [==============================] - 7s 2s/step - loss: 0.0120 - val_loss: 0.0148\n",
      "Epoch 167/200\n",
      "4/4 [==============================] - 8s 2s/step - loss: 0.0130 - val_loss: 0.0134\n",
      "Epoch 168/200\n",
      "4/4 [==============================] - 7s 2s/step - loss: 0.0113 - val_loss: 0.0163\n",
      "Epoch 169/200\n",
      "4/4 [==============================] - 7s 2s/step - loss: 0.0143 - val_loss: 0.0142\n",
      "Epoch 170/200\n",
      "4/4 [==============================] - 8s 2s/step - loss: 0.0128 - val_loss: 0.0134\n",
      "Epoch 171/200\n",
      "4/4 [==============================] - 9s 2s/step - loss: 0.0124 - val_loss: 0.0153\n",
      "Epoch 172/200\n",
      "4/4 [==============================] - 7s 2s/step - loss: 0.0106 - val_loss: 0.0134\n",
      "Epoch 173/200\n",
      "4/4 [==============================] - 7s 2s/step - loss: 0.0094 - val_loss: 0.0142\n",
      "Epoch 174/200\n",
      "4/4 [==============================] - 7s 2s/step - loss: 0.0117 - val_loss: 0.0149\n",
      "Epoch 175/200\n",
      "4/4 [==============================] - 10s 2s/step - loss: 0.0094 - val_loss: 0.0130\n",
      "Epoch 176/200\n",
      "4/4 [==============================] - 8s 2s/step - loss: 0.0106 - val_loss: 0.0130\n",
      "Epoch 177/200\n",
      "4/4 [==============================] - 7s 2s/step - loss: 0.0100 - val_loss: 0.0158\n",
      "Epoch 178/200\n",
      "4/4 [==============================] - 7s 2s/step - loss: 0.0105 - val_loss: 0.0115\n",
      "Epoch 179/200\n",
      "4/4 [==============================] - 7s 2s/step - loss: 0.0123 - val_loss: 0.0126\n",
      "Epoch 180/200\n",
      "4/4 [==============================] - 7s 2s/step - loss: 0.0098 - val_loss: 0.0177\n",
      "Epoch 181/200\n",
      "4/4 [==============================] - 7s 2s/step - loss: 0.0099 - val_loss: 0.0133\n",
      "Epoch 182/200\n",
      "4/4 [==============================] - 7s 2s/step - loss: 0.0100 - val_loss: 0.0123\n",
      "Epoch 183/200\n",
      "4/4 [==============================] - 7s 2s/step - loss: 0.0095 - val_loss: 0.0147\n",
      "Epoch 184/200\n",
      "4/4 [==============================] - 7s 2s/step - loss: 0.0098 - val_loss: 0.0129\n",
      "Epoch 185/200\n",
      "4/4 [==============================] - 7s 2s/step - loss: 0.0107 - val_loss: 0.0155\n",
      "Epoch 186/200\n",
      "4/4 [==============================] - 8s 2s/step - loss: 0.0092 - val_loss: 0.0141\n",
      "Epoch 187/200\n",
      "4/4 [==============================] - 6s 2s/step - loss: 0.0097 - val_loss: 0.0169\n",
      "Epoch 188/200\n",
      "4/4 [==============================] - 7s 2s/step - loss: 0.0104 - val_loss: 0.0155\n",
      "Epoch 189/200\n",
      "4/4 [==============================] - 7s 2s/step - loss: 0.0103 - val_loss: 0.0120\n",
      "Epoch 190/200\n",
      "4/4 [==============================] - 7s 2s/step - loss: 0.0094 - val_loss: 0.0173\n",
      "Epoch 191/200\n",
      "4/4 [==============================] - 8s 2s/step - loss: 0.0096 - val_loss: 0.0137\n",
      "Epoch 192/200\n",
      "4/4 [==============================] - 7s 2s/step - loss: 0.0110 - val_loss: 0.0150\n",
      "Epoch 193/200\n",
      "4/4 [==============================] - 7s 2s/step - loss: 0.0145 - val_loss: 0.0269\n",
      "Epoch 194/200\n",
      "4/4 [==============================] - 7s 2s/step - loss: 0.0128 - val_loss: 0.0127\n",
      "Epoch 195/200\n",
      "4/4 [==============================] - 8s 2s/step - loss: 0.0143 - val_loss: 0.0125\n",
      "Epoch 196/200\n",
      "4/4 [==============================] - 8s 2s/step - loss: 0.0158 - val_loss: 0.0166\n",
      "Epoch 197/200\n",
      "4/4 [==============================] - 6s 2s/step - loss: 0.0117 - val_loss: 0.0130\n",
      "Epoch 198/200\n",
      "4/4 [==============================] - 8s 2s/step - loss: 0.0121 - val_loss: 0.0120\n",
      "Epoch 199/200\n",
      "4/4 [==============================] - 7s 2s/step - loss: 0.0103 - val_loss: 0.0121\n",
      "Epoch 200/200\n",
      "4/4 [==============================] - 6s 2s/step - loss: 0.0121 - val_loss: 0.0125\n"
     ]
    }
   ],
   "source": [
    "with strategy.scope():\n",
    "    opt = optimizers.Adam(learning_rate=LEARNING_RATE, epsilon=EPSILON)\n",
    "    model.compile(optimizer=opt, loss='mae')\n",
    "    hist = model.fit(train_iterator, epochs=TRAINING_EPOCHS, validation_data=val_iterator,\n",
    "                     verbose=1, callbacks=[cbs, save, early_stop]) "
   ]
  },
  {
   "cell_type": "code",
   "execution_count": 29,
   "metadata": {},
   "outputs": [],
   "source": [
    "model.load_weights(BEST_PATH)"
   ]
  },
  {
   "cell_type": "code",
   "execution_count": 30,
   "metadata": {},
   "outputs": [
    {
     "name": "stdout",
     "output_type": "stream",
     "text": [
      "2/2 [==============================] - 1s 346ms/step - loss: 0.0126\n"
     ]
    },
    {
     "data": {
      "text/plain": [
       "0.012629581615328789"
      ]
     },
     "execution_count": 30,
     "metadata": {},
     "output_type": "execute_result"
    }
   ],
   "source": [
    "model.evaluate(val_iterator)"
   ]
  },
  {
   "cell_type": "code",
   "execution_count": 31,
   "metadata": {},
   "outputs": [],
   "source": [
    "del(train_index)\n",
    "del(train_input)\n",
    "del(train_iterator)\n",
    "del(train_label)\n",
    "del(val_index)\n",
    "del(val_input)\n",
    "del(val_iterator)\n",
    "del(val_label)"
   ]
  },
  {
   "cell_type": "code",
   "execution_count": 32,
   "metadata": {},
   "outputs": [
    {
     "data": {
      "text/plain": [
       "39374"
      ]
     },
     "execution_count": 32,
     "metadata": {},
     "output_type": "execute_result"
    }
   ],
   "source": [
    "gc.collect()"
   ]
  },
  {
   "cell_type": "code",
   "execution_count": 33,
   "metadata": {},
   "outputs": [],
   "source": [
    "pred_result = model.predict(test_input/255)"
   ]
  },
  {
   "cell_type": "code",
   "execution_count": 34,
   "metadata": {},
   "outputs": [
    {
     "name": "stdout",
     "output_type": "stream",
     "text": [
      "(5611, 4)\n",
      "(5611, 4)\n"
     ]
    }
   ],
   "source": [
    "print(pred_result.shape)\n",
    "print(test_label.shape)"
   ]
  },
  {
   "cell_type": "code",
   "execution_count": 35,
   "metadata": {},
   "outputs": [],
   "source": [
    "test_label = (OUTPUT_MAXS - OUTPUT_MINS)*test_label + OUTPUT_MINS\n",
    "pred_result = (OUTPUT_MAXS - OUTPUT_MINS)*pred_result + OUTPUT_MINS"
   ]
  },
  {
   "cell_type": "code",
   "execution_count": 36,
   "metadata": {},
   "outputs": [],
   "source": [
    "pred_df = pd.DataFrame(np.concatenate([test_label, pred_result], axis=1), index=test_index)\n",
    "pred_df.columns = ['label_node_len', 'label_node_dia', 'label_plant_h', 'label_leaf_area', 'pred_node_len', 'pred_node_dia', 'pred_plant_h', 'pred_leaf_area']"
   ]
  },
  {
   "cell_type": "code",
   "execution_count": 37,
   "metadata": {},
   "outputs": [],
   "source": [
    "pred_df.to_csv('./results/model_output/pg_pred_result_raw.csv')"
   ]
  },
  {
   "cell_type": "code",
   "execution_count": 38,
   "metadata": {},
   "outputs": [],
   "source": [
    "pred_df = pred_df.sort_index()"
   ]
  },
  {
   "cell_type": "code",
   "execution_count": 39,
   "metadata": {},
   "outputs": [],
   "source": [
    "label_df = pred_df.loc[:, [col for col in pred_df.columns if col.startswith('label')]]\n",
    "pred_df = pred_df.loc[:, [col for col in pred_df.columns if col.startswith('pred')]]"
   ]
  },
  {
   "cell_type": "code",
   "execution_count": 40,
   "metadata": {},
   "outputs": [],
   "source": [
    "pred_max_df = pred_df.groupby(pred_df.index).max()\n",
    "pred_min_df = pred_df.groupby(pred_df.index).min()"
   ]
  },
  {
   "cell_type": "code",
   "execution_count": 41,
   "metadata": {},
   "outputs": [],
   "source": [
    "def is_outlier(s):\n",
    "    lower_limit = s.mean() - s.std()\n",
    "    upper_limit = s.mean() + s.std()\n",
    "    return ~s.between(lower_limit, upper_limit)"
   ]
  },
  {
   "cell_type": "code",
   "execution_count": 42,
   "metadata": {},
   "outputs": [],
   "source": [
    "tamp_df = []\n",
    "for _ in pred_df.columns:\n",
    "    tamp_s = pred_df.loc[~pred_df.groupby(pred_df.index)[_].apply(is_outlier)][_]\n",
    "    tamp_s = tamp_s.groupby(tamp_s.index).mean()\n",
    "    tamp_df.append(tamp_s)"
   ]
  },
  {
   "cell_type": "code",
   "execution_count": 43,
   "metadata": {},
   "outputs": [],
   "source": [
    "label_df = label_df.groupby(label_df.index).mean()\n",
    "pred_df = pd.concat(tamp_df,axis=1)"
   ]
  },
  {
   "cell_type": "code",
   "execution_count": 44,
   "metadata": {
    "tags": []
   },
   "outputs": [
    {
     "data": {
      "image/png": "[encoded data removed]",
      "text/plain": [
       "<Figure size 498.898x374.173 with 4 Axes>"
      ]
     },
     "metadata": {},
     "output_type": "display_data"
    }
   ],
   "source": [
    "fig = plt.figure(figsize=((8/2.54*2.2), (6/2.54*2.2)))\n",
    "grid = plt.GridSpec(2, 2)\n",
    "\n",
    "ax0 = plt.subplot(grid[0])\n",
    "ax1 = plt.subplot(grid[1])\n",
    "ax2 = plt.subplot(grid[2])\n",
    "ax3 = plt.subplot(grid[3])\n",
    "\n",
    "ax0.spines['right'].set_visible(False)\n",
    "ax0.spines['left'].set_position(('outward', 10))\n",
    "ax0.spines['bottom'].set_position(('outward', 5))\n",
    "ax1.spines['right'].set_visible(False)\n",
    "ax1.spines['left'].set_position(('outward', 10))\n",
    "ax1.spines['bottom'].set_position(('outward', 5))\n",
    "ax2.spines['right'].set_visible(False)\n",
    "ax2.spines['left'].set_position(('outward', 10))\n",
    "ax2.spines['bottom'].set_position(('outward', 5))\n",
    "ax3.spines['right'].set_visible(False)\n",
    "ax3.spines['left'].set_position(('outward', 10))\n",
    "ax3.spines['bottom'].set_position(('outward', 5))\n",
    "\n",
    "ax0.plot(pred_df.index, pred_df['pred_node_len'], '-', c=cmap[3])\n",
    "ax1.plot(pred_df.index, pred_df['pred_node_dia'], '-', c=cmap[3])\n",
    "ax2.plot(pred_df.index, pred_df['pred_plant_h'], '-', c=cmap[3])\n",
    "ax3.plot(pred_df.index, pred_df['pred_leaf_area'], '-', c=cmap[3])\n",
    "\n",
    "ax0.fill_between(pred_df.index, pred_min_df['pred_node_len'], pred_max_df['pred_node_len'], color=cmap[3], alpha=0.5)\n",
    "ax1.fill_between(pred_df.index, pred_min_df['pred_node_dia'], pred_max_df['pred_node_dia'], color=cmap[3], alpha=0.5)\n",
    "ax2.fill_between(pred_df.index, pred_min_df['pred_plant_h'], pred_max_df['pred_plant_h'], color=cmap[3], alpha=0.5)\n",
    "ax3.fill_between(pred_df.index, pred_min_df['pred_leaf_area'], pred_max_df['pred_leaf_area'], color=cmap[3], alpha=0.5)\n",
    "\n",
    "ax0.plot(label_df.index, label_df['label_node_len'], '-', c='k')\n",
    "ax1.plot(label_df.index, label_df['label_node_dia'], '-', c='k')\n",
    "ax2.plot(label_df.index, label_df['label_plant_h'], '-', c='k')\n",
    "ax3.plot(label_df.index, label_df['label_leaf_area'], '-', c='k')\n",
    "\n",
    "ax0.set_xbound(pred_df.index[0], pred_df.index[-1])\n",
    "ax0.xaxis.set_major_formatter(mdates.DateFormatter('%m-%d'))\n",
    "ax0.xaxis.set_major_locator(LinearLocator(4))\n",
    "ax0.yaxis.set_major_locator(LinearLocator(4))\n",
    "ax0.yaxis.set_minor_locator(LinearLocator(7))\n",
    "ax0.set_ybound(2, 8)\n",
    "ax1.set_xbound(pred_df.index[0], pred_df.index[-1])\n",
    "ax1.xaxis.set_major_formatter(mdates.DateFormatter('%m-%d'))\n",
    "ax1.xaxis.set_major_locator(LinearLocator(4))\n",
    "ax1.yaxis.set_major_locator(LinearLocator(5))\n",
    "ax1.yaxis.set_minor_locator(LinearLocator(9))\n",
    "ax1.set_ybound(4, 12)\n",
    "ax2.set_xbound(pred_df.index[0], pred_df.index[-1])\n",
    "ax2.xaxis.set_major_formatter(mdates.DateFormatter('%m-%d'))\n",
    "ax2.xaxis.set_major_locator(LinearLocator(4))\n",
    "ax2.yaxis.set_major_locator(LinearLocator(5))\n",
    "ax2.yaxis.set_minor_locator(LinearLocator(13))\n",
    "ax2.set_ybound(0, 240)\n",
    "ax3.set_xbound(pred_df.index[0], pred_df.index[-1])\n",
    "ax3.xaxis.set_major_formatter(mdates.DateFormatter('%m-%d'))\n",
    "ax3.xaxis.set_major_locator(LinearLocator(4))\n",
    "ax3.yaxis.set_major_locator(LinearLocator(4))\n",
    "ax3.yaxis.set_minor_locator(LinearLocator(7))\n",
    "ax3.set_ybound(0, 1.5)\n",
    "\n",
    "ax0.set_ylabel('Internode length (cm)')\n",
    "ax1.set_ylabel('Internode diameter (mm)')\n",
    "ax2.set_xlabel('DAT')\n",
    "ax2.set_ylabel('Plant height (cm)')\n",
    "ax3.set_ylabel('Leaf area ($m^2$)')\n",
    "\n",
    "fig.tight_layout()\n",
    "plt.show()"
   ]
  }
 ],
 "metadata": {
  "kernelspec": {
   "display_name": "Environment (conda_tensorflow2_p36)",
   "language": "python",
   "name": "conda_tensorflow2_p36"
  },
  "language_info": {
   "codemirror_mode": {
    "name": "ipython",
    "version": 3
   },
   "file_extension": ".py",
   "mimetype": "text/x-python",
   "name": "python",
   "nbconvert_exporter": "python",
   "pygments_lexer": "ipython3",
   "version": "3.6.10"
  }
 },
 "nbformat": 4,
 "nbformat_minor": 4
}
