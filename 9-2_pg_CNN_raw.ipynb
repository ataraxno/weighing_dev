{
 "cells": [
  {
   "cell_type": "code",
   "execution_count": 1,
   "metadata": {},
   "outputs": [
    {
     "data": {
      "text/plain": [
       "'2.3.0'"
      ]
     },
     "execution_count": 1,
     "metadata": {},
     "output_type": "execute_result"
    }
   ],
   "source": [
    "import time\n",
    "import os\n",
    "import gc\n",
    "\n",
    "import pandas as pd\n",
    "import numpy as np\n",
    "from sklearn import linear_model\n",
    "from sklearn.utils import resample\n",
    "from sklearn.model_selection import train_test_split\n",
    "from sklearn.metrics import mean_squared_error, r2_score\n",
    "np.set_printoptions(precision=6, suppress=True)\n",
    "\n",
    "import PIL\n",
    "from PIL import Image\n",
    "\n",
    "import tensorflow as tf\n",
    "from tensorflow.keras import *\n",
    "from tensorflow.keras.preprocessing.image import ImageDataGenerator, array_to_img, img_to_array, load_img\n",
    "tf.__version__"
   ]
  },
  {
   "cell_type": "code",
   "execution_count": 2,
   "metadata": {},
   "outputs": [
    {
     "name": "stdout",
     "output_type": "stream",
     "text": [
      "1 Physical GPUs, 1 Logical GPUs\n"
     ]
    }
   ],
   "source": [
    "gpus = tf.config.experimental.list_physical_devices('GPU')\n",
    "if gpus:\n",
    "    try:\n",
    "        for gpu in gpus:\n",
    "            tf.config.experimental.set_memory_growth(gpu, True)\n",
    "        logical_gpus = tf.config.experimental.list_logical_devices('GPU')\n",
    "        print(len(gpus), \"Physical GPUs,\", len(logical_gpus), \"Logical GPUs\")\n",
    "    except RuntimeError as e:\n",
    "        print(e)"
   ]
  },
  {
   "cell_type": "code",
   "execution_count": 3,
   "metadata": {},
   "outputs": [
    {
     "name": "stdout",
     "output_type": "stream",
     "text": [
      "INFO:tensorflow:Using MirroredStrategy with devices ('/job:localhost/replica:0/task:0/device:GPU:0',)\n"
     ]
    }
   ],
   "source": [
    "strategy = tf.distribute.MirroredStrategy()"
   ]
  },
  {
   "cell_type": "markdown",
   "metadata": {},
   "source": [
    "# Hyperparameters"
   ]
  },
  {
   "cell_type": "code",
   "execution_count": 4,
   "metadata": {},
   "outputs": [],
   "source": [
    "BEST_PATH = './models/pg_convnet_raw.h5'\n",
    "TRAINING_EPOCHS = 200\n",
    "LEARNING_RATE = 0.001\n",
    "EPSILON = 1e-08\n",
    "BATCH_SIZE = 128"
   ]
  },
  {
   "cell_type": "markdown",
   "metadata": {},
   "source": [
    "# Data preparation"
   ]
  },
  {
   "cell_type": "code",
   "execution_count": 5,
   "metadata": {},
   "outputs": [],
   "source": [
    "l = np.load('./results/pg_dataset.npz', allow_pickle=True)\n",
    "data_indices_2020S = l['data_indices_2020S']\n",
    "output_label_2020S = l['output_label_2020S']\n",
    "data_indices_2020W = l['data_indices_2020W']\n",
    "output_label_2020W = l['output_label_2020W']\n",
    "OUTPUT_MAXS = l['OUTPUT_MAXS']\n",
    "OUTPUT_MINS = l['OUTPUT_MINS']"
   ]
  },
  {
   "cell_type": "code",
   "execution_count": 6,
   "metadata": {},
   "outputs": [],
   "source": [
    "COLUMNS = ['node_len', 'node_dia', 'plant_h', 'leaf_area']"
   ]
  },
  {
   "cell_type": "code",
   "execution_count": 7,
   "metadata": {},
   "outputs": [],
   "source": [
    "output_2020S_df = pd.DataFrame(output_label_2020S, index=data_indices_2020S, columns=COLUMNS)\n",
    "output_2020W_df = pd.DataFrame(output_label_2020W, index=data_indices_2020W, columns=COLUMNS)"
   ]
  },
  {
   "cell_type": "code",
   "execution_count": 8,
   "metadata": {},
   "outputs": [],
   "source": [
    "DIRECTORY = './images/2020_W/'\n",
    "dir_list = os.listdir(DIRECTORY)\n",
    "dataset_list = [direc for direc in dir_list if direc.startswith('LAI_OVER') or direc.startswith('LAI2_OVER')]\n",
    "dataset_list.sort()"
   ]
  },
  {
   "cell_type": "code",
   "execution_count": 9,
   "metadata": {},
   "outputs": [],
   "source": [
    "data_indices = []\n",
    "input_images = []\n",
    "output_labels = []\n",
    "for DATE in output_2020W_df.index:\n",
    "    for DIRECTORY in dataset_list:\n",
    "        if DATE in DIRECTORY:\n",
    "            file_list = os.listdir(f'./images/2020_W/{DIRECTORY}')\n",
    "            file_list = [file for file in file_list if file.endswith('.jpg')]\n",
    "            for FILE in file_list:\n",
    "                TIME = pd.Timedelta(FILE.split()[-1].split('.')[0])\n",
    "                if TIME >= pd.Timedelta('08:00:00') and TIME <= pd.Timedelta('16:00:00'):\n",
    "                    image = Image.open(f'./images/2020_W/{DIRECTORY}/{FILE}')\n",
    "                    data_indices.append(pd.Timestamp(DATE))\n",
    "                    input_images.append(img_to_array(image))\n",
    "                    output_labels.append(output_2020W_df.loc[DATE].values)"
   ]
  },
  {
   "cell_type": "code",
   "execution_count": 10,
   "metadata": {},
   "outputs": [],
   "source": [
    "input_images = np.stack(input_images, axis=0)\n",
    "output_labels = np.stack(output_labels, axis=0)\n",
    "data_indices = np.array(data_indices)"
   ]
  },
  {
   "cell_type": "code",
   "execution_count": 11,
   "metadata": {},
   "outputs": [
    {
     "name": "stdout",
     "output_type": "stream",
     "text": [
      "6505\n",
      "(6505, 256, 256, 3)\n",
      "(6505, 4)\n"
     ]
    }
   ],
   "source": [
    "print(len(data_indices))\n",
    "print(input_images.shape)\n",
    "print(output_labels.shape)"
   ]
  },
  {
   "cell_type": "code",
   "execution_count": 12,
   "metadata": {},
   "outputs": [],
   "source": [
    "data_indices, input_images, output_labels = resample(data_indices, input_images, output_labels, n_samples=3000, replace=False, random_state=4574)"
   ]
  },
  {
   "cell_type": "code",
   "execution_count": 13,
   "metadata": {},
   "outputs": [
    {
     "name": "stdout",
     "output_type": "stream",
     "text": [
      "3000\n",
      "(3000, 256, 256, 3)\n",
      "(3000, 4)\n"
     ]
    }
   ],
   "source": [
    "print(len(data_indices))\n",
    "print(input_images.shape)\n",
    "print(output_labels.shape)"
   ]
  },
  {
   "cell_type": "code",
   "execution_count": 14,
   "metadata": {},
   "outputs": [
    {
     "data": {
      "text/plain": [
       "22"
      ]
     },
     "execution_count": 14,
     "metadata": {},
     "output_type": "execute_result"
    }
   ],
   "source": [
    "gc.collect()"
   ]
  },
  {
   "cell_type": "code",
   "execution_count": 15,
   "metadata": {},
   "outputs": [],
   "source": [
    "N_TRAIN = int(output_labels.shape[0]*.1)\n",
    "train_input = input_images[:N_TRAIN, ...]\n",
    "train_label = output_labels[:N_TRAIN, ...]\n",
    "train_index = data_indices[:N_TRAIN]\n",
    "test_input = input_images[N_TRAIN:, ...]\n",
    "test_label = output_labels[N_TRAIN:, ...]\n",
    "test_index = data_indices[N_TRAIN:]"
   ]
  },
  {
   "cell_type": "code",
   "execution_count": 16,
   "metadata": {},
   "outputs": [],
   "source": [
    "train_index, val_index, train_input, val_input, train_label, val_label = train_test_split(train_index, train_input, train_label, test_size=0.3, shuffle=True, random_state=3101)"
   ]
  },
  {
   "cell_type": "code",
   "execution_count": 17,
   "metadata": {},
   "outputs": [],
   "source": [
    "datagen = ImageDataGenerator(\n",
    "    rescale=1/255,\n",
    "    width_shift_range=0.1,\n",
    "    height_shift_range=0.1,\n",
    "    horizontal_flip=True,\n",
    "    fill_mode='nearest')"
   ]
  },
  {
   "cell_type": "code",
   "execution_count": 18,
   "metadata": {},
   "outputs": [],
   "source": [
    "train_iterator = datagen.flow(train_input, train_label, batch_size=BATCH_SIZE)\n",
    "val_iterator = datagen.flow(val_input, val_label, batch_size=BATCH_SIZE)\n",
    "test_iterator = datagen.flow(test_input, test_label, batch_size=BATCH_SIZE)"
   ]
  },
  {
   "cell_type": "code",
   "execution_count": 19,
   "metadata": {},
   "outputs": [
    {
     "data": {
      "text/plain": [
       "0"
      ]
     },
     "execution_count": 19,
     "metadata": {},
     "output_type": "execute_result"
    }
   ],
   "source": [
    "gc.collect()"
   ]
  },
  {
   "cell_type": "code",
   "execution_count": 20,
   "metadata": {},
   "outputs": [
    {
     "name": "stdout",
     "output_type": "stream",
     "text": [
      "number of data set: 3000\n",
      "number of training set: 210\n",
      "number of validation set: 90\n",
      "number of test set: 2700\n"
     ]
    }
   ],
   "source": [
    "print(f'number of data set: {input_images.shape[0]}')\n",
    "print(f'number of training set: {train_input.shape[0]}')\n",
    "print(f'number of validation set: {val_input.shape[0]}')\n",
    "print(f'number of test set: {test_input.shape[0]}')"
   ]
  },
  {
   "cell_type": "markdown",
   "metadata": {},
   "source": [
    "# Model construction"
   ]
  },
  {
   "cell_type": "code",
   "execution_count": 21,
   "metadata": {},
   "outputs": [],
   "source": [
    "class ResidualBlock(layers.Layer):\n",
    "    def __init__(self, num_filter, stride=1):\n",
    "        super(ResidualBlock, self).__init__()\n",
    "        self.n = num_filter\n",
    "        self.s = stride\n",
    "        \n",
    "        self.conv1 = layers.Conv2D(filters=self.n, kernel_size=1, strides=1, kernel_initializer='glorot_normal', padding='same')\n",
    "        self.norm1 = layers.BatchNormalization()\n",
    "        self.act1 = layers.Activation(activations.relu)\n",
    "        self.conv2 = layers.Conv2D(filters=self.n, kernel_size=3, strides=stride, kernel_initializer='glorot_normal', padding='same')\n",
    "        self.norm2 = layers.BatchNormalization()\n",
    "        self.act2 = layers.Activation(activations.relu)\n",
    "        self.conv3 = layers.Conv2D(filters=self.n*4, kernel_size=1, strides=1, kernel_initializer='glorot_normal', padding='same')\n",
    "        self.norm3 = layers.BatchNormalization()\n",
    "        self.act3 = layers.Activation(activations.relu)\n",
    "\n",
    "        self.downsample = Sequential()\n",
    "        self.downsample.add(layers.Conv2D(filters=self.n*4, kernel_size=1, strides=stride, kernel_initializer='glorot_normal'))\n",
    "        self.downsample.add(layers.BatchNormalization())\n",
    "\n",
    "    def call(self, inp, training=None, **kwargs):\n",
    "        shortcut = self.downsample(inp)\n",
    "\n",
    "        inp = self.act1(self.norm1(self.conv1(inp), training=training))\n",
    "        inp = self.act2(self.norm2(self.conv2(inp), training=training))\n",
    "        inp = self.norm3(self.conv3(inp), training=training)\n",
    "\n",
    "        oup = self.act3(layers.add([shortcut, inp]))\n",
    "\n",
    "        return oup"
   ]
  },
  {
   "cell_type": "code",
   "execution_count": 22,
   "metadata": {},
   "outputs": [],
   "source": [
    "def block_maker(num_filter, num_blocks, stride=1):\n",
    "    res_block = tf.keras.Sequential()\n",
    "    res_block.add(ResidualBlock(num_filter, stride=stride))\n",
    "\n",
    "    for _ in range(1, num_blocks):\n",
    "        res_block.add(ResidualBlock(num_filter, stride=1))\n",
    "\n",
    "    return res_block"
   ]
  },
  {
   "cell_type": "code",
   "execution_count": 23,
   "metadata": {},
   "outputs": [],
   "source": [
    "class ResNet2D(Model):\n",
    "    def __init__(self, layer_params):\n",
    "        super(ResNet2D, self).__init__()\n",
    "        self.conv1 = layers.Conv2D(filters=64, kernel_size=7, strides=2, kernel_initializer='glorot_normal', padding=\"same\")\n",
    "        self.norm1 = layers.BatchNormalization()\n",
    "        self.act1 = layers.Activation(activations.relu)\n",
    "        self.pool1 = layers.MaxPool2D(pool_size=(3, 3), strides=2, padding=\"same\")\n",
    "\n",
    "        self.layer1 = block_maker(num_filter=64, num_blocks=layer_params[0])\n",
    "        self.layer2 = block_maker(num_filter=128, num_blocks=layer_params[1], stride=2)\n",
    "        self.layer3 = block_maker(num_filter=256, num_blocks=layer_params[2], stride=2)\n",
    "        self.layer4 = block_maker(num_filter=512, num_blocks=layer_params[3], stride=2)\n",
    "\n",
    "        self.flat = layers.Flatten()\n",
    "        self.dense1 = layers.Dense(units=512, activation='relu')\n",
    "        self.dense2 = layers.Dense(units=128, activation='relu')\n",
    "        self.fc = layers.Dense(units=4)\n",
    "\n",
    "    def call(self, inp, training=None, mask=None):\n",
    "        inp = self.conv1(inp)\n",
    "        inp = self.norm1(inp, training=training)\n",
    "        inp = self.act1(inp)\n",
    "        inp = self.pool1(inp)\n",
    "        inp = self.layer1(inp, training=training)\n",
    "        inp = self.layer2(inp, training=training)\n",
    "        inp = self.layer3(inp, training=training)\n",
    "        inp = self.layer4(inp, training=training)\n",
    "        inp = self.dense1(self.flat(inp))\n",
    "        inp = self.dense2(inp)\n",
    "        output = self.fc(inp)\n",
    "\n",
    "        return output"
   ]
  },
  {
   "cell_type": "code",
   "execution_count": 24,
   "metadata": {},
   "outputs": [],
   "source": [
    "with strategy.scope():\n",
    "    model = ResNet2D(layer_params=[2, 3, 2, 1])"
   ]
  },
  {
   "cell_type": "code",
   "execution_count": 25,
   "metadata": {},
   "outputs": [],
   "source": [
    "cbs = callbacks.ReduceLROnPlateau(\n",
    "    monitor='val_loss', factor=.1, patience=5, verbose=0, mode='auto',\n",
    "    min_delta=0.0001, cooldown=0, min_lr=0)\n",
    "\n",
    "save = callbacks.ModelCheckpoint(\n",
    "    BEST_PATH, monitor='val_loss', verbose=0,\n",
    "    save_best_only=True, save_weights_only=True, mode='min', save_freq='epoch')\n",
    "\n",
    "early_stop = callbacks.EarlyStopping(monitor='val_loss', min_delta=0.0001, patience=20) "
   ]
  },
  {
   "cell_type": "code",
   "execution_count": 26,
   "metadata": {
    "scrolled": true
   },
   "outputs": [
    {
     "name": "stdout",
     "output_type": "stream",
     "text": [
      "WARNING:tensorflow:Using MirroredStrategy eagerly has significant overhead currently. We will be working on improving this in the future, but for now please wrap `call_for_each_replica` or `experimental_run` or `experimental_run_v2` inside a tf.function to get the best performance.\n",
      "Epoch 1/200\n",
      "WARNING:tensorflow:From /home/ubuntu/anaconda3/envs/tensorflow2_p36/lib/python3.6/site-packages/tensorflow/python/data/ops/multi_device_iterator_ops.py:601: get_next_as_optional (from tensorflow.python.data.ops.iterator_ops) is deprecated and will be removed in a future version.\n",
      "Instructions for updating:\n",
      "Use `tf.data.Iterator.get_next_as_optional()` instead.\n",
      "INFO:tensorflow:Reduce to /job:localhost/replica:0/task:0/device:CPU:0 then broadcast to ('/job:localhost/replica:0/task:0/device:CPU:0',).\n",
      "INFO:tensorflow:Reduce to /job:localhost/replica:0/task:0/device:CPU:0 then broadcast to ('/job:localhost/replica:0/task:0/device:CPU:0',).\n",
      "INFO:tensorflow:Reduce to /job:localhost/replica:0/task:0/device:CPU:0 then broadcast to ('/job:localhost/replica:0/task:0/device:CPU:0',).\n",
      "INFO:tensorflow:Reduce to /job:localhost/replica:0/task:0/device:CPU:0 then broadcast to ('/job:localhost/replica:0/task:0/device:CPU:0',).\n",
      "2/2 [==============================] - ETA: 0s - loss: 147.0858INFO:tensorflow:Reduce to /job:localhost/replica:0/task:0/device:CPU:0 then broadcast to ('/job:localhost/replica:0/task:0/device:CPU:0',).\n",
      "INFO:tensorflow:Reduce to /job:localhost/replica:0/task:0/device:CPU:0 then broadcast to ('/job:localhost/replica:0/task:0/device:CPU:0',).\n",
      "INFO:tensorflow:Reduce to /job:localhost/replica:0/task:0/device:CPU:0 then broadcast to ('/job:localhost/replica:0/task:0/device:CPU:0',).\n",
      "INFO:tensorflow:Reduce to /job:localhost/replica:0/task:0/device:CPU:0 then broadcast to ('/job:localhost/replica:0/task:0/device:CPU:0',).\n",
      "INFO:tensorflow:Reduce to /job:localhost/replica:0/task:0/device:CPU:0 then broadcast to ('/job:localhost/replica:0/task:0/device:CPU:0',).\n",
      "INFO:tensorflow:Reduce to /job:localhost/replica:0/task:0/device:CPU:0 then broadcast to ('/job:localhost/replica:0/task:0/device:CPU:0',).\n",
      "2/2 [==============================] - 45s 23s/step - loss: 147.0858 - val_loss: 0.6460\n",
      "Epoch 2/200\n",
      "2/2 [==============================] - 40s 20s/step - loss: 37.5746 - val_loss: 35.0195\n",
      "Epoch 3/200\n",
      "2/2 [==============================] - 40s 20s/step - loss: 5.0945 - val_loss: 309.3867\n",
      "Epoch 4/200\n",
      "2/2 [==============================] - 39s 19s/step - loss: 2.8076 - val_loss: 655.7883\n",
      "Epoch 5/200\n",
      "2/2 [==============================] - 40s 20s/step - loss: 1.4885 - val_loss: 181.2637\n",
      "Epoch 6/200\n",
      "2/2 [==============================] - 39s 20s/step - loss: 1.0109 - val_loss: 6.8759\n",
      "Epoch 7/200\n",
      "2/2 [==============================] - 39s 19s/step - loss: 0.7891 - val_loss: 0.7141\n",
      "Epoch 8/200\n",
      "2/2 [==============================] - 41s 20s/step - loss: 0.7204 - val_loss: 0.6183\n",
      "Epoch 9/200\n",
      "2/2 [==============================] - 41s 21s/step - loss: 0.6760 - val_loss: 0.6102\n",
      "Epoch 10/200\n",
      "2/2 [==============================] - 41s 21s/step - loss: 0.6218 - val_loss: 0.6002\n",
      "Epoch 11/200\n",
      "2/2 [==============================] - 41s 20s/step - loss: 0.5737 - val_loss: 0.5884\n",
      "Epoch 12/200\n",
      "2/2 [==============================] - 40s 20s/step - loss: 0.5349 - val_loss: 0.5751\n",
      "Epoch 13/200\n",
      "2/2 [==============================] - 39s 20s/step - loss: 0.4675 - val_loss: 0.5607\n",
      "Epoch 14/200\n",
      "2/2 [==============================] - 40s 20s/step - loss: 0.4388 - val_loss: 0.5458\n",
      "Epoch 15/200\n",
      "2/2 [==============================] - 39s 20s/step - loss: 0.3940 - val_loss: 0.5307\n",
      "Epoch 16/200\n",
      "2/2 [==============================] - 41s 20s/step - loss: 0.3571 - val_loss: 0.5142\n",
      "Epoch 17/200\n",
      "2/2 [==============================] - 41s 20s/step - loss: 0.3265 - val_loss: 0.4966\n",
      "Epoch 18/200\n",
      "2/2 [==============================] - 41s 20s/step - loss: 0.3043 - val_loss: 0.4775\n",
      "Epoch 19/200\n",
      "2/2 [==============================] - 39s 20s/step - loss: 0.2824 - val_loss: 0.4605\n",
      "Epoch 20/200\n",
      "2/2 [==============================] - 40s 20s/step - loss: 0.2746 - val_loss: 0.4449\n",
      "Epoch 21/200\n",
      "2/2 [==============================] - 40s 20s/step - loss: 0.2828 - val_loss: 0.4290\n",
      "Epoch 22/200\n",
      "2/2 [==============================] - 39s 20s/step - loss: 0.2703 - val_loss: 0.4135\n",
      "Epoch 23/200\n",
      "2/2 [==============================] - 39s 20s/step - loss: 0.2773 - val_loss: 0.3988\n",
      "Epoch 24/200\n",
      "2/2 [==============================] - 41s 20s/step - loss: 0.2731 - val_loss: 0.3848\n",
      "Epoch 25/200\n",
      "2/2 [==============================] - 40s 20s/step - loss: 0.2646 - val_loss: 0.3715\n",
      "Epoch 26/200\n",
      "2/2 [==============================] - 41s 20s/step - loss: 0.2491 - val_loss: 0.3597\n",
      "Epoch 27/200\n",
      "2/2 [==============================] - 40s 20s/step - loss: 0.2456 - val_loss: 0.3499\n",
      "Epoch 28/200\n",
      "2/2 [==============================] - 41s 20s/step - loss: 0.2412 - val_loss: 0.3419\n",
      "Epoch 29/200\n",
      "2/2 [==============================] - 39s 20s/step - loss: 0.2345 - val_loss: 0.3356\n",
      "Epoch 30/200\n",
      "2/2 [==============================] - 40s 20s/step - loss: 0.2309 - val_loss: 0.3297\n",
      "Epoch 31/200\n",
      "2/2 [==============================] - 41s 20s/step - loss: 0.2326 - val_loss: 0.3244\n",
      "Epoch 32/200\n",
      "2/2 [==============================] - 41s 20s/step - loss: 0.2238 - val_loss: 0.3184\n",
      "Epoch 33/200\n",
      "2/2 [==============================] - 41s 20s/step - loss: 0.2185 - val_loss: 0.3116\n",
      "Epoch 34/200\n",
      "2/2 [==============================] - 40s 20s/step - loss: 0.2137 - val_loss: 0.3042\n",
      "Epoch 35/200\n",
      "2/2 [==============================] - 40s 20s/step - loss: 0.2302 - val_loss: 0.2958\n",
      "Epoch 36/200\n",
      "2/2 [==============================] - 41s 20s/step - loss: 0.2164 - val_loss: 0.2884\n",
      "Epoch 37/200\n",
      "2/2 [==============================] - 40s 20s/step - loss: 0.2160 - val_loss: 0.2846\n",
      "Epoch 38/200\n",
      "2/2 [==============================] - 39s 20s/step - loss: 0.2195 - val_loss: 0.2828\n",
      "Epoch 39/200\n",
      "2/2 [==============================] - 40s 20s/step - loss: 0.2182 - val_loss: 0.2834\n",
      "Epoch 40/200\n",
      "2/2 [==============================] - 39s 19s/step - loss: 0.2227 - val_loss: 0.2833\n",
      "Epoch 41/200\n",
      "2/2 [==============================] - 40s 20s/step - loss: 0.2114 - val_loss: 0.2799\n",
      "Epoch 42/200\n",
      "2/2 [==============================] - 40s 20s/step - loss: 0.2108 - val_loss: 0.2734\n",
      "Epoch 43/200\n",
      "2/2 [==============================] - 41s 20s/step - loss: 0.2086 - val_loss: 0.2652\n",
      "Epoch 44/200\n",
      "2/2 [==============================] - 40s 20s/step - loss: 0.2088 - val_loss: 0.2587\n",
      "Epoch 45/200\n",
      "2/2 [==============================] - 40s 20s/step - loss: 0.2013 - val_loss: 0.2571\n",
      "Epoch 46/200\n",
      "2/2 [==============================] - 40s 20s/step - loss: 0.2027 - val_loss: 0.2559\n",
      "Epoch 47/200\n",
      "2/2 [==============================] - 41s 20s/step - loss: 0.2044 - val_loss: 0.2557\n",
      "Epoch 48/200\n",
      "2/2 [==============================] - 39s 20s/step - loss: 0.2003 - val_loss: 0.2533\n",
      "Epoch 49/200\n",
      "2/2 [==============================] - 41s 20s/step - loss: 0.1997 - val_loss: 0.2494\n",
      "Epoch 50/200\n",
      "2/2 [==============================] - 39s 20s/step - loss: 0.1935 - val_loss: 0.2457\n",
      "Epoch 51/200\n",
      "2/2 [==============================] - 40s 20s/step - loss: 0.1930 - val_loss: 0.2430\n",
      "Epoch 52/200\n",
      "2/2 [==============================] - 41s 21s/step - loss: 0.1956 - val_loss: 0.2419\n",
      "Epoch 53/200\n",
      "2/2 [==============================] - 40s 20s/step - loss: 0.1949 - val_loss: 0.2442\n",
      "Epoch 54/200\n",
      "2/2 [==============================] - 40s 20s/step - loss: 0.1902 - val_loss: 0.2442\n",
      "Epoch 55/200\n",
      "2/2 [==============================] - 39s 20s/step - loss: 0.1828 - val_loss: 0.2429\n",
      "Epoch 56/200\n",
      "2/2 [==============================] - 42s 21s/step - loss: 0.1831 - val_loss: 0.2413\n",
      "Epoch 57/200\n",
      "2/2 [==============================] - 38s 19s/step - loss: 0.1846 - val_loss: 0.2423\n",
      "Epoch 58/200\n",
      "2/2 [==============================] - 40s 20s/step - loss: 0.1741 - val_loss: 0.2418\n",
      "Epoch 59/200\n",
      "2/2 [==============================] - 40s 20s/step - loss: 0.1724 - val_loss: 0.2404\n",
      "Epoch 60/200\n",
      "2/2 [==============================] - 39s 20s/step - loss: 0.1634 - val_loss: 0.2410\n",
      "Epoch 61/200\n",
      "2/2 [==============================] - 39s 19s/step - loss: 0.1651 - val_loss: 0.2436\n",
      "Epoch 62/200\n",
      "2/2 [==============================] - 39s 19s/step - loss: 0.1640 - val_loss: 0.2457\n",
      "Epoch 63/200\n",
      "2/2 [==============================] - 40s 20s/step - loss: 0.1566 - val_loss: 0.2448\n",
      "Epoch 64/200\n",
      "2/2 [==============================] - 39s 19s/step - loss: 0.1512 - val_loss: 0.2446\n",
      "Epoch 65/200\n",
      "2/2 [==============================] - 38s 19s/step - loss: 0.1574 - val_loss: 0.2441\n",
      "Epoch 66/200\n",
      "2/2 [==============================] - 39s 19s/step - loss: 0.1470 - val_loss: 0.2432\n",
      "Epoch 67/200\n",
      "2/2 [==============================] - 39s 19s/step - loss: 0.1443 - val_loss: 0.2423\n",
      "Epoch 68/200\n",
      "2/2 [==============================] - 40s 20s/step - loss: 0.1431 - val_loss: 0.2416\n",
      "Epoch 69/200\n",
      "2/2 [==============================] - 40s 20s/step - loss: 0.1422 - val_loss: 0.2410\n",
      "Epoch 70/200\n",
      "2/2 [==============================] - 41s 20s/step - loss: 0.1509 - val_loss: 0.2403\n",
      "Epoch 71/200\n",
      "2/2 [==============================] - 41s 20s/step - loss: 0.1403 - val_loss: 0.2397\n",
      "Epoch 72/200\n",
      "2/2 [==============================] - 40s 20s/step - loss: 0.1500 - val_loss: 0.2393\n",
      "Epoch 73/200\n",
      "2/2 [==============================] - 39s 20s/step - loss: 0.1446 - val_loss: 0.2387\n",
      "Epoch 74/200\n",
      "2/2 [==============================] - 39s 20s/step - loss: 0.1412 - val_loss: 0.2382\n",
      "Epoch 75/200\n",
      "2/2 [==============================] - 41s 20s/step - loss: 0.1407 - val_loss: 0.2377\n",
      "Epoch 76/200\n",
      "2/2 [==============================] - 41s 21s/step - loss: 0.1563 - val_loss: 0.2373\n",
      "Epoch 77/200\n",
      "2/2 [==============================] - 39s 20s/step - loss: 0.1396 - val_loss: 0.2367\n",
      "Epoch 78/200\n",
      "2/2 [==============================] - 41s 20s/step - loss: 0.1430 - val_loss: 0.2363\n",
      "Epoch 79/200\n",
      "2/2 [==============================] - 41s 20s/step - loss: 0.1444 - val_loss: 0.2358\n",
      "Epoch 80/200\n",
      "2/2 [==============================] - 41s 21s/step - loss: 0.1540 - val_loss: 0.2353\n",
      "Epoch 81/200\n",
      "2/2 [==============================] - 39s 20s/step - loss: 0.1402 - val_loss: 0.2349\n",
      "Epoch 82/200\n",
      "2/2 [==============================] - 39s 20s/step - loss: 0.1381 - val_loss: 0.2345\n",
      "Epoch 83/200\n",
      "2/2 [==============================] - 39s 20s/step - loss: 0.1483 - val_loss: 0.2339\n",
      "Epoch 84/200\n",
      "2/2 [==============================] - 40s 20s/step - loss: 0.1555 - val_loss: 0.2334\n",
      "Epoch 85/200\n",
      "2/2 [==============================] - 39s 20s/step - loss: 0.1463 - val_loss: 0.2330\n",
      "Epoch 86/200\n",
      "2/2 [==============================] - 39s 20s/step - loss: 0.1570 - val_loss: 0.2326\n",
      "Epoch 87/200\n",
      "2/2 [==============================] - 39s 20s/step - loss: 0.1446 - val_loss: 0.2321\n",
      "Epoch 88/200\n",
      "2/2 [==============================] - 41s 21s/step - loss: 0.1434 - val_loss: 0.2317\n",
      "Epoch 89/200\n",
      "2/2 [==============================] - 39s 20s/step - loss: 0.1428 - val_loss: 0.2312\n",
      "Epoch 90/200\n",
      "2/2 [==============================] - 41s 20s/step - loss: 0.1479 - val_loss: 0.2307\n",
      "Epoch 91/200\n",
      "2/2 [==============================] - 40s 20s/step - loss: 0.1390 - val_loss: 0.2302\n",
      "Epoch 92/200\n",
      "2/2 [==============================] - 40s 20s/step - loss: 0.1399 - val_loss: 0.2298\n",
      "Epoch 93/200\n",
      "2/2 [==============================] - 41s 20s/step - loss: 0.1351 - val_loss: 0.2293\n",
      "Epoch 94/200\n",
      "2/2 [==============================] - 39s 20s/step - loss: 0.1405 - val_loss: 0.2289\n",
      "Epoch 95/200\n",
      "2/2 [==============================] - 40s 20s/step - loss: 0.1456 - val_loss: 0.2285\n",
      "Epoch 96/200\n",
      "2/2 [==============================] - 40s 20s/step - loss: 0.1447 - val_loss: 0.2279\n",
      "Epoch 97/200\n",
      "2/2 [==============================] - 39s 20s/step - loss: 0.1551 - val_loss: 0.2273\n",
      "Epoch 98/200\n",
      "2/2 [==============================] - 39s 20s/step - loss: 0.1405 - val_loss: 0.2270\n",
      "Epoch 99/200\n",
      "2/2 [==============================] - 39s 20s/step - loss: 0.1507 - val_loss: 0.2267\n",
      "Epoch 100/200\n",
      "2/2 [==============================] - 39s 20s/step - loss: 0.1418 - val_loss: 0.2262\n",
      "Epoch 101/200\n",
      "2/2 [==============================] - 39s 20s/step - loss: 0.1364 - val_loss: 0.2258\n",
      "Epoch 102/200\n",
      "2/2 [==============================] - 41s 20s/step - loss: 0.1371 - val_loss: 0.2253\n",
      "Epoch 103/200\n",
      "2/2 [==============================] - 40s 20s/step - loss: 0.1443 - val_loss: 0.2248\n",
      "Epoch 104/200\n",
      "2/2 [==============================] - 39s 20s/step - loss: 0.1347 - val_loss: 0.2245\n",
      "Epoch 105/200\n",
      "2/2 [==============================] - 39s 20s/step - loss: 0.1377 - val_loss: 0.2241\n",
      "Epoch 106/200\n",
      "2/2 [==============================] - 41s 20s/step - loss: 0.1361 - val_loss: 0.2235\n",
      "Epoch 107/200\n",
      "2/2 [==============================] - 39s 20s/step - loss: 0.1489 - val_loss: 0.2229\n",
      "Epoch 108/200\n",
      "2/2 [==============================] - 39s 20s/step - loss: 0.1409 - val_loss: 0.2224\n",
      "Epoch 109/200\n",
      "2/2 [==============================] - 39s 20s/step - loss: 0.1422 - val_loss: 0.2220\n",
      "Epoch 110/200\n",
      "2/2 [==============================] - 39s 20s/step - loss: 0.1437 - val_loss: 0.2214\n",
      "Epoch 111/200\n",
      "2/2 [==============================] - 39s 20s/step - loss: 0.1383 - val_loss: 0.2211\n",
      "Epoch 112/200\n",
      "2/2 [==============================] - 40s 20s/step - loss: 0.1464 - val_loss: 0.2206\n",
      "Epoch 113/200\n",
      "2/2 [==============================] - 41s 20s/step - loss: 0.1333 - val_loss: 0.2202\n",
      "Epoch 114/200\n",
      "2/2 [==============================] - 39s 20s/step - loss: 0.1495 - val_loss: 0.2199\n",
      "Epoch 115/200\n",
      "2/2 [==============================] - 39s 20s/step - loss: 0.1417 - val_loss: 0.2194\n",
      "Epoch 116/200\n",
      "2/2 [==============================] - 40s 20s/step - loss: 0.1382 - val_loss: 0.2190\n",
      "Epoch 117/200\n",
      "2/2 [==============================] - 41s 20s/step - loss: 0.1377 - val_loss: 0.2187\n",
      "Epoch 118/200\n",
      "2/2 [==============================] - 39s 20s/step - loss: 0.1431 - val_loss: 0.2182\n",
      "Epoch 119/200\n",
      "2/2 [==============================] - 39s 20s/step - loss: 0.1373 - val_loss: 0.2178\n",
      "Epoch 120/200\n",
      "2/2 [==============================] - 39s 20s/step - loss: 0.1412 - val_loss: 0.2173\n",
      "Epoch 121/200\n",
      "2/2 [==============================] - 40s 20s/step - loss: 0.1373 - val_loss: 0.2168\n",
      "Epoch 122/200\n",
      "2/2 [==============================] - 40s 20s/step - loss: 0.1371 - val_loss: 0.2164\n",
      "Epoch 123/200\n",
      "2/2 [==============================] - 41s 20s/step - loss: 0.1394 - val_loss: 0.2159\n",
      "Epoch 124/200\n",
      "2/2 [==============================] - 40s 20s/step - loss: 0.1373 - val_loss: 0.2155\n",
      "Epoch 125/200\n",
      "2/2 [==============================] - 40s 20s/step - loss: 0.1427 - val_loss: 0.2150\n",
      "Epoch 126/200\n",
      "2/2 [==============================] - 41s 20s/step - loss: 0.1409 - val_loss: 0.2146\n",
      "Epoch 127/200\n",
      "2/2 [==============================] - 40s 20s/step - loss: 0.1382 - val_loss: 0.2141\n",
      "Epoch 128/200\n",
      "2/2 [==============================] - 41s 20s/step - loss: 0.1408 - val_loss: 0.2136\n",
      "Epoch 129/200\n",
      "2/2 [==============================] - 41s 21s/step - loss: 0.1442 - val_loss: 0.2132\n",
      "Epoch 130/200\n",
      "2/2 [==============================] - 39s 20s/step - loss: 0.1362 - val_loss: 0.2129\n",
      "Epoch 131/200\n",
      "2/2 [==============================] - 39s 20s/step - loss: 0.1398 - val_loss: 0.2124\n",
      "Epoch 132/200\n",
      "2/2 [==============================] - 41s 20s/step - loss: 0.1415 - val_loss: 0.2119\n",
      "Epoch 133/200\n",
      "2/2 [==============================] - 40s 20s/step - loss: 0.1397 - val_loss: 0.2115\n",
      "Epoch 134/200\n",
      "2/2 [==============================] - 39s 20s/step - loss: 0.1353 - val_loss: 0.2112\n",
      "Epoch 135/200\n",
      "2/2 [==============================] - 40s 20s/step - loss: 0.1391 - val_loss: 0.2106\n",
      "Epoch 136/200\n",
      "2/2 [==============================] - 41s 20s/step - loss: 0.1339 - val_loss: 0.2101\n",
      "Epoch 137/200\n",
      "2/2 [==============================] - 40s 20s/step - loss: 0.1362 - val_loss: 0.2096\n",
      "Epoch 138/200\n",
      "2/2 [==============================] - 41s 20s/step - loss: 0.1371 - val_loss: 0.2092\n",
      "Epoch 139/200\n",
      "2/2 [==============================] - 41s 20s/step - loss: 0.1415 - val_loss: 0.2086\n",
      "Epoch 140/200\n",
      "2/2 [==============================] - 41s 20s/step - loss: 0.1381 - val_loss: 0.2082\n",
      "Epoch 141/200\n",
      "2/2 [==============================] - 39s 20s/step - loss: 0.1393 - val_loss: 0.2077\n",
      "Epoch 142/200\n",
      "2/2 [==============================] - 39s 20s/step - loss: 0.1461 - val_loss: 0.2072\n",
      "Epoch 143/200\n",
      "2/2 [==============================] - 39s 20s/step - loss: 0.1446 - val_loss: 0.2068\n",
      "Epoch 144/200\n",
      "2/2 [==============================] - 41s 20s/step - loss: 0.1353 - val_loss: 0.2063\n",
      "Epoch 145/200\n",
      "2/2 [==============================] - 70s 35s/step - loss: 0.1341 - val_loss: 0.2058\n",
      "Epoch 146/200\n",
      "2/2 [==============================] - 254s 127s/step - loss: 0.1407 - val_loss: 0.2054\n",
      "Epoch 147/200\n",
      "2/2 [==============================] - 279s 140s/step - loss: 0.1359 - val_loss: 0.2049\n",
      "Epoch 148/200\n",
      "2/2 [==============================] - 284s 142s/step - loss: 0.1369 - val_loss: 0.2045\n",
      "Epoch 149/200\n",
      "2/2 [==============================] - 256s 128s/step - loss: 0.1318 - val_loss: 0.2040\n",
      "Epoch 150/200\n",
      "2/2 [==============================] - 284s 142s/step - loss: 0.1451 - val_loss: 0.2034\n",
      "Epoch 151/200\n",
      "2/2 [==============================] - 230s 115s/step - loss: 0.1321 - val_loss: 0.2030\n",
      "Epoch 152/200\n",
      "2/2 [==============================] - 126s 63s/step - loss: 0.1289 - val_loss: 0.2026\n",
      "Epoch 153/200\n",
      "2/2 [==============================] - 46s 23s/step - loss: 0.1368 - val_loss: 0.2020\n",
      "Epoch 154/200\n",
      "2/2 [==============================] - 45s 22s/step - loss: 0.1429 - val_loss: 0.2015\n",
      "Epoch 155/200\n",
      "2/2 [==============================] - 41s 21s/step - loss: 0.1367 - val_loss: 0.2011\n",
      "Epoch 156/200\n",
      "2/2 [==============================] - 40s 20s/step - loss: 0.1372 - val_loss: 0.2005\n",
      "Epoch 157/200\n",
      "2/2 [==============================] - 40s 20s/step - loss: 0.1429 - val_loss: 0.2001\n",
      "Epoch 158/200\n",
      "2/2 [==============================] - 40s 20s/step - loss: 0.1327 - val_loss: 0.1994\n",
      "Epoch 159/200\n",
      "2/2 [==============================] - 39s 20s/step - loss: 0.1389 - val_loss: 0.1990\n",
      "Epoch 160/200\n",
      "2/2 [==============================] - 41s 20s/step - loss: 0.1339 - val_loss: 0.1985\n",
      "Epoch 161/200\n",
      "2/2 [==============================] - 39s 20s/step - loss: 0.1334 - val_loss: 0.1980\n",
      "Epoch 162/200\n",
      "2/2 [==============================] - 39s 20s/step - loss: 0.1336 - val_loss: 0.1975\n",
      "Epoch 163/200\n",
      "2/2 [==============================] - 41s 20s/step - loss: 0.1343 - val_loss: 0.1970\n",
      "Epoch 164/200\n",
      "2/2 [==============================] - 40s 20s/step - loss: 0.1348 - val_loss: 0.1966\n",
      "Epoch 165/200\n",
      "2/2 [==============================] - 40s 20s/step - loss: 0.1369 - val_loss: 0.1960\n",
      "Epoch 166/200\n",
      "2/2 [==============================] - 40s 20s/step - loss: 0.1328 - val_loss: 0.1956\n",
      "Epoch 167/200\n",
      "2/2 [==============================] - 41s 20s/step - loss: 0.1372 - val_loss: 0.1952\n",
      "Epoch 168/200\n",
      "2/2 [==============================] - 39s 20s/step - loss: 0.1444 - val_loss: 0.1945\n",
      "Epoch 169/200\n",
      "2/2 [==============================] - 40s 20s/step - loss: 0.1341 - val_loss: 0.1941\n",
      "Epoch 170/200\n",
      "2/2 [==============================] - 40s 20s/step - loss: 0.1309 - val_loss: 0.1937\n",
      "Epoch 171/200\n",
      "2/2 [==============================] - 39s 20s/step - loss: 0.1322 - val_loss: 0.1931\n",
      "Epoch 172/200\n",
      "2/2 [==============================] - 40s 20s/step - loss: 0.1311 - val_loss: 0.1926\n",
      "Epoch 173/200\n",
      "2/2 [==============================] - 40s 20s/step - loss: 0.1365 - val_loss: 0.1922\n",
      "Epoch 174/200\n",
      "2/2 [==============================] - 40s 20s/step - loss: 0.1341 - val_loss: 0.1917\n",
      "Epoch 175/200\n",
      "2/2 [==============================] - 40s 20s/step - loss: 0.1313 - val_loss: 0.1912\n",
      "Epoch 176/200\n",
      "2/2 [==============================] - 39s 20s/step - loss: 0.1357 - val_loss: 0.1905\n",
      "Epoch 177/200\n",
      "2/2 [==============================] - 39s 20s/step - loss: 0.1317 - val_loss: 0.1901\n",
      "Epoch 178/200\n",
      "2/2 [==============================] - 41s 20s/step - loss: 0.1315 - val_loss: 0.1896\n",
      "Epoch 179/200\n",
      "2/2 [==============================] - 40s 20s/step - loss: 0.1343 - val_loss: 0.1891\n",
      "Epoch 180/200\n",
      "2/2 [==============================] - 40s 20s/step - loss: 0.1290 - val_loss: 0.1885\n",
      "Epoch 181/200\n",
      "2/2 [==============================] - 40s 20s/step - loss: 0.1302 - val_loss: 0.1879\n",
      "Epoch 182/200\n",
      "2/2 [==============================] - 39s 20s/step - loss: 0.1537 - val_loss: 0.1872\n",
      "Epoch 183/200\n",
      "2/2 [==============================] - 39s 20s/step - loss: 0.1307 - val_loss: 0.1868\n",
      "Epoch 184/200\n",
      "2/2 [==============================] - 41s 20s/step - loss: 0.1388 - val_loss: 0.1864\n",
      "Epoch 185/200\n",
      "2/2 [==============================] - 40s 20s/step - loss: 0.1321 - val_loss: 0.1859\n",
      "Epoch 186/200\n",
      "2/2 [==============================] - 41s 21s/step - loss: 0.1369 - val_loss: 0.1855\n",
      "Epoch 187/200\n",
      "2/2 [==============================] - 41s 20s/step - loss: 0.1353 - val_loss: 0.1849\n",
      "Epoch 188/200\n",
      "2/2 [==============================] - 41s 20s/step - loss: 0.1285 - val_loss: 0.1843\n",
      "Epoch 189/200\n",
      "2/2 [==============================] - 39s 20s/step - loss: 0.1366 - val_loss: 0.1837\n",
      "Epoch 190/200\n",
      "2/2 [==============================] - 39s 20s/step - loss: 0.1353 - val_loss: 0.1833\n",
      "Epoch 191/200\n",
      "2/2 [==============================] - 41s 20s/step - loss: 0.1346 - val_loss: 0.1830\n",
      "Epoch 192/200\n",
      "2/2 [==============================] - 42s 21s/step - loss: 0.1343 - val_loss: 0.1824\n",
      "Epoch 193/200\n",
      "2/2 [==============================] - 40s 20s/step - loss: 0.1405 - val_loss: 0.1822\n",
      "Epoch 194/200\n",
      "2/2 [==============================] - 40s 20s/step - loss: 0.1388 - val_loss: 0.1817\n",
      "Epoch 195/200\n",
      "2/2 [==============================] - 39s 20s/step - loss: 0.1341 - val_loss: 0.1811\n",
      "Epoch 196/200\n",
      "2/2 [==============================] - 39s 20s/step - loss: 0.1308 - val_loss: 0.1806\n",
      "Epoch 197/200\n",
      "2/2 [==============================] - 40s 20s/step - loss: 0.1342 - val_loss: 0.1802\n",
      "Epoch 198/200\n",
      "2/2 [==============================] - 39s 20s/step - loss: 0.1315 - val_loss: 0.1797\n",
      "Epoch 199/200\n",
      "2/2 [==============================] - 41s 20s/step - loss: 0.1354 - val_loss: 0.1793\n",
      "Epoch 200/200\n",
      "2/2 [==============================] - 39s 20s/step - loss: 0.1308 - val_loss: 0.1786\n"
     ]
    }
   ],
   "source": [
    "with strategy.scope():\n",
    "    opt = optimizers.Adam(learning_rate=LEARNING_RATE, epsilon=EPSILON)\n",
    "    model.compile(optimizer=opt, loss='mae')\n",
    "    model.fit(train_iterator, epochs=TRAINING_EPOCHS, validation_data=test_iterator,\n",
    "                  verbose=1, callbacks=[cbs, save, early_stop]) "
   ]
  },
  {
   "cell_type": "code",
   "execution_count": 27,
   "metadata": {},
   "outputs": [],
   "source": [
    "model.load_weights(BEST_PATH)"
   ]
  },
  {
   "cell_type": "code",
   "execution_count": 28,
   "metadata": {},
   "outputs": [
    {
     "name": "stdout",
     "output_type": "stream",
     "text": [
      "1/1 [==============================] - 0s 2ms/step - loss: 0.1717\n"
     ]
    },
    {
     "data": {
      "text/plain": [
       "0.1717236042022705"
      ]
     },
     "execution_count": 28,
     "metadata": {},
     "output_type": "execute_result"
    }
   ],
   "source": [
    "model.evaluate(val_iterator)"
   ]
  },
  {
   "cell_type": "code",
   "execution_count": 29,
   "metadata": {},
   "outputs": [],
   "source": [
    "del(train_index)\n",
    "del(train_input)\n",
    "del(train_iterator)\n",
    "del(train_label)\n",
    "del(val_index)\n",
    "del(val_input)\n",
    "del(val_iterator)\n",
    "del(val_label)"
   ]
  },
  {
   "cell_type": "code",
   "execution_count": 30,
   "metadata": {},
   "outputs": [
    {
     "data": {
      "text/plain": [
       "35484"
      ]
     },
     "execution_count": 30,
     "metadata": {},
     "output_type": "execute_result"
    }
   ],
   "source": [
    "gc.collect()"
   ]
  },
  {
   "cell_type": "code",
   "execution_count": 31,
   "metadata": {},
   "outputs": [],
   "source": [
    "pred_result = model.predict(test_input/255)"
   ]
  },
  {
   "cell_type": "code",
   "execution_count": 32,
   "metadata": {},
   "outputs": [
    {
     "name": "stdout",
     "output_type": "stream",
     "text": [
      "(2700, 4)\n",
      "(2700, 4)\n"
     ]
    }
   ],
   "source": [
    "print(pred_result.shape)\n",
    "print(test_label.shape)"
   ]
  },
  {
   "cell_type": "code",
   "execution_count": 33,
   "metadata": {},
   "outputs": [],
   "source": [
    "test_label = (OUTPUT_MAXS - OUTPUT_MINS)*test_label + OUTPUT_MINS\n",
    "pred_result = (OUTPUT_MAXS - OUTPUT_MINS)*pred_result + OUTPUT_MINS"
   ]
  },
  {
   "cell_type": "code",
   "execution_count": 34,
   "metadata": {},
   "outputs": [],
   "source": [
    "pred_df = pd.DataFrame(np.concatenate([test_label, pred_result], axis=1), index=test_index)\n",
    "pred_df.columns = ['label_node_len', 'label_node_dia', 'label_plant_h', 'label_leaf_area', 'pred_node_len', 'pred_node_dia', 'pred_plant_h', 'pred_leaf_area']"
   ]
  },
  {
   "cell_type": "code",
   "execution_count": 35,
   "metadata": {},
   "outputs": [],
   "source": [
    "pred_df.to_csv('./results/model_output/pg_pred_result_raw.csv')"
   ]
  }
 ],
 "metadata": {
  "kernelspec": {
   "display_name": "Environment (conda_tensorflow2_p36)",
   "language": "python",
   "name": "conda_tensorflow2_p36"
  },
  "language_info": {
   "codemirror_mode": {
    "name": "ipython",
    "version": 3
   },
   "file_extension": ".py",
   "mimetype": "text/x-python",
   "name": "python",
   "nbconvert_exporter": "python",
   "pygments_lexer": "ipython3",
   "version": "3.6.10"
  }
 },
 "nbformat": 4,
 "nbformat_minor": 4
}
