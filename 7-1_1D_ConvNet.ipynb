{
 "cells": [
  {
   "cell_type": "code",
   "execution_count": 1,
   "metadata": {},
   "outputs": [
    {
     "data": {
      "text/plain": [
       "'2.3.0'"
      ]
     },
     "execution_count": 1,
     "metadata": {},
     "output_type": "execute_result"
    }
   ],
   "source": [
    "import pandas as pd\n",
    "import numpy as np\n",
    "np.set_printoptions(precision=6, suppress=True)\n",
    "from sklearn.utils import shuffle\n",
    "\n",
    "from tqdm import tqdm\n",
    "\n",
    "import tensorflow as tf\n",
    "from tensorflow.keras import *\n",
    "import tensorflow_addons as tfa\n",
    "tf.__version__"
   ]
  },
  {
   "cell_type": "code",
   "execution_count": 2,
   "metadata": {},
   "outputs": [],
   "source": [
    "import matplotlib\n",
    "import matplotlib.pyplot as plt\n",
    "import matplotlib.dates as mdates\n",
    "from matplotlib.ticker import (LinearLocator, MultipleLocator, FormatStrFormatter)\n",
    "from matplotlib.dates import MONDAY\n",
    "from matplotlib.dates import MonthLocator, WeekdayLocator, DateFormatter\n",
    "from matplotlib import gridspec\n",
    "from pandas.plotting import register_matplotlib_converters\n",
    "register_matplotlib_converters()\n",
    "%matplotlib inline"
   ]
  },
  {
   "cell_type": "code",
   "execution_count": 3,
   "metadata": {},
   "outputs": [],
   "source": [
    "plt.rcParams['figure.figsize'] = ((8/2.54), (6/2.54))\n",
    "plt.rcParams[\"font.family\"] = \"Arial\"\n",
    "plt.rcParams[\"mathtext.default\"] = \"rm\"\n",
    "plt.rcParams.update({'font.size': 11})\n",
    "MARKER_SIZE = 15\n",
    "cmap_m = [\"#f4a6ad\", \"#f6957e\", \"#fccfa2\", \"#8de7be\", \"#86d6f2\", \"#24a9e4\", \"#b586e0\", \"#d7f293\"]\n",
    "cmap = [\"#e94d5b\", \"#ef4d28\", \"#f9a54f\", \"#25b575\", \"#1bb1e7\", \"#1477a2\", \"#a662e5\", \"#c2f442\"]\n",
    "\n",
    "plt.rcParams['axes.spines.top'] = False\n",
    "# plt.rcParams['axes.edgecolor'] = \n",
    "plt.rcParams['axes.linewidth'] = 1\n",
    "plt.rcParams['lines.linewidth'] = 1.5\n",
    "plt.rcParams['xtick.major.width'] = 1\n",
    "plt.rcParams['xtick.minor.width'] = 1\n",
    "plt.rcParams['ytick.major.width'] = 1\n",
    "plt.rcParams['ytick.minor.width'] = 1"
   ]
  },
  {
   "cell_type": "code",
   "execution_count": 4,
   "metadata": {},
   "outputs": [
    {
     "data": {
      "text/plain": [
       "[PhysicalDevice(name='/physical_device:GPU:0', device_type='GPU')]"
      ]
     },
     "execution_count": 4,
     "metadata": {},
     "output_type": "execute_result"
    }
   ],
   "source": [
    "tf.config.list_physical_devices('GPU')"
   ]
  },
  {
   "cell_type": "code",
   "execution_count": 5,
   "metadata": {},
   "outputs": [
    {
     "name": "stdout",
     "output_type": "stream",
     "text": [
      "1 Physical GPUs, 1 Logical GPUs\n"
     ]
    }
   ],
   "source": [
    "gpus = tf.config.experimental.list_physical_devices('GPU')\n",
    "if gpus:\n",
    "    try:\n",
    "        for gpu in gpus:\n",
    "            tf.config.experimental.set_memory_growth(gpu, True)\n",
    "        logical_gpus = tf.config.experimental.list_logical_devices('GPU')\n",
    "        print(len(gpus), \"Physical GPUs,\", len(logical_gpus), \"Logical GPUs\")\n",
    "    except RuntimeError as e:\n",
    "        print(e)"
   ]
  },
  {
   "cell_type": "code",
   "execution_count": 6,
   "metadata": {},
   "outputs": [
    {
     "name": "stdout",
     "output_type": "stream",
     "text": [
      "INFO:tensorflow:Using MirroredStrategy with devices ('/job:localhost/replica:0/task:0/device:GPU:0',)\n"
     ]
    }
   ],
   "source": [
    "strategy = tf.distribute.MirroredStrategy()"
   ]
  },
  {
   "cell_type": "markdown",
   "metadata": {},
   "source": [
    "# Hyperparameters"
   ]
  },
  {
   "cell_type": "code",
   "execution_count": 7,
   "metadata": {},
   "outputs": [],
   "source": [
    "BEST_PATH = './models/ResNet.h5'\n",
    "TRAINING_EPOCHS = 200\n",
    "LEARNING_RATE = 0.0015\n",
    "EPSILON = 1e-08\n",
    "BATCH_SIZE = 4"
   ]
  },
  {
   "cell_type": "markdown",
   "metadata": {},
   "source": [
    "# Data loading"
   ]
  },
  {
   "cell_type": "code",
   "execution_count": 8,
   "metadata": {},
   "outputs": [],
   "source": [
    "l = np.load('./results/2020_S/fw_ct_dataset.npz', allow_pickle=True)\n",
    "data_indices = l['data_indices']\n",
    "input_data = l['input_data']\n",
    "output_label = l['output_label']\n",
    "INPUT_MAXS = l['INPUT_MAXS']\n",
    "INPUT_MINS = l['INPUT_MINS']\n",
    "OUTPUT_MAX = l['OUTPUT_MAX']\n",
    "OUTPUT_MIN = l['OUTPUT_MIN']"
   ]
  },
  {
   "cell_type": "code",
   "execution_count": 9,
   "metadata": {},
   "outputs": [],
   "source": [
    "input_data = input_data.astype('float32')\n",
    "output_label = output_label.astype('float32')"
   ]
  },
  {
   "cell_type": "code",
   "execution_count": 10,
   "metadata": {},
   "outputs": [
    {
     "name": "stdout",
     "output_type": "stream",
     "text": [
      "(363, 144, 1)\n",
      "(363, 1)\n"
     ]
    }
   ],
   "source": [
    "print(input_data.shape)\n",
    "print(output_label.shape)"
   ]
  },
  {
   "cell_type": "code",
   "execution_count": 11,
   "metadata": {},
   "outputs": [
    {
     "name": "stdout",
     "output_type": "stream",
     "text": [
      "[19.731]\n",
      "[11.000128]\n"
     ]
    }
   ],
   "source": [
    "print(INPUT_MAXS)\n",
    "print(INPUT_MINS)"
   ]
  },
  {
   "cell_type": "code",
   "execution_count": 12,
   "metadata": {},
   "outputs": [
    {
     "name": "stdout",
     "output_type": "stream",
     "text": [
      "2.5180414673761202\n",
      "0.15073025551954564\n"
     ]
    }
   ],
   "source": [
    "print(OUTPUT_MAX)\n",
    "print(OUTPUT_MIN)"
   ]
  },
  {
   "cell_type": "code",
   "execution_count": 13,
   "metadata": {},
   "outputs": [],
   "source": [
    "data_indices, input_data, output_label = shuffle(data_indices, input_data, output_label, random_state=3101)"
   ]
  },
  {
   "cell_type": "code",
   "execution_count": 14,
   "metadata": {},
   "outputs": [],
   "source": [
    "N_TRAIN = int(input_data.shape[0]*.7)\n",
    "train_input = input_data[:N_TRAIN, ...]\n",
    "train_label = output_label[:N_TRAIN, ...]\n",
    "train_indices = data_indices[:N_TRAIN]\n",
    "val_input = input_data[N_TRAIN:, ...]\n",
    "val_label = output_label[N_TRAIN:, ...]\n",
    "val_indices = data_indices[N_TRAIN:]"
   ]
  },
  {
   "cell_type": "code",
   "execution_count": 15,
   "metadata": {},
   "outputs": [
    {
     "name": "stdout",
     "output_type": "stream",
     "text": [
      "number of training set: 254\n",
      "number of validation set: 109\n"
     ]
    }
   ],
   "source": [
    "print(f'number of training set: {train_input.shape[0]}')\n",
    "print(f'number of validation set: {val_input.shape[0]}')"
   ]
  },
  {
   "cell_type": "code",
   "execution_count": 16,
   "metadata": {},
   "outputs": [],
   "source": [
    "with strategy.scope():\n",
    "    train_dataset = tf.data.Dataset.from_tensor_slices((train_input, train_label))\n",
    "    train_dataset = train_dataset.cache().shuffle(BATCH_SIZE*10).batch(BATCH_SIZE, drop_remainder=False)\n",
    "    val_dataset = tf.data.Dataset.from_tensor_slices((val_input, val_label))\n",
    "    val_dataset = val_dataset.cache().shuffle(BATCH_SIZE*10).batch(BATCH_SIZE, drop_remainder=False)"
   ]
  },
  {
   "cell_type": "markdown",
   "metadata": {},
   "source": [
    "# Model construction"
   ]
  },
  {
   "cell_type": "code",
   "execution_count": 17,
   "metadata": {},
   "outputs": [],
   "source": [
    "class ResidualBlock(layers.Layer):\n",
    "    def __init__(self, num_filter, stride=1):\n",
    "        super(ResidualBlock, self).__init__()\n",
    "        self.n = num_filter\n",
    "        self.s = stride\n",
    "        \n",
    "        self.conv1 = layers.Conv1D(filters=self.n, kernel_size=1, strides=1, kernel_initializer='glorot_normal', padding='same')\n",
    "        self.norm1 = layers.BatchNormalization()\n",
    "        self.act1 = layers.Activation(activations.relu)\n",
    "        self.conv2 = layers.Conv1D(filters=self.n, kernel_size=3, strides=stride, kernel_initializer='glorot_normal', padding='same')\n",
    "        self.norm2 = layers.BatchNormalization()\n",
    "        self.act2 = layers.Activation(activations.relu)\n",
    "        self.conv3 = layers.Conv1D(filters=self.n*4, kernel_size=1, strides=1, kernel_initializer='glorot_normal', padding='same')\n",
    "        self.norm3 = layers.BatchNormalization()\n",
    "        self.act3 = layers.Activation(activations.relu)\n",
    "\n",
    "        self.downsample = Sequential()\n",
    "        self.downsample.add(layers.Conv1D(filters=self.n*4, kernel_size=1, strides=stride, kernel_initializer='glorot_normal'))\n",
    "        self.downsample.add(layers.BatchNormalization())\n",
    "\n",
    "    def call(self, inp, training=None, **kwargs):\n",
    "        shortcut = self.downsample(inp)\n",
    "\n",
    "        inp = self.act1(self.norm1(self.conv1(inp), training=training))\n",
    "        inp = self.act2(self.norm2(self.conv2(inp), training=training))\n",
    "        inp = self.norm3(self.conv3(inp), training=training)\n",
    "\n",
    "        oup = self.act3(layers.add([shortcut, inp]))\n",
    "\n",
    "        return oup"
   ]
  },
  {
   "cell_type": "code",
   "execution_count": 18,
   "metadata": {},
   "outputs": [],
   "source": [
    "def block_maker(num_filter, num_blocks, stride=1):\n",
    "    res_block = tf.keras.Sequential()\n",
    "    res_block.add(ResidualBlock(num_filter, stride=stride))\n",
    "\n",
    "    for _ in range(1, num_blocks):\n",
    "        res_block.add(ResidualBlock(num_filter, stride=1))\n",
    "\n",
    "    return res_block"
   ]
  },
  {
   "cell_type": "code",
   "execution_count": 19,
   "metadata": {},
   "outputs": [],
   "source": [
    "class ResNet1D(Model):\n",
    "    def __init__(self, layer_params):\n",
    "        super(ResNet1D, self).__init__()\n",
    "        self.conv1 = layers.Conv1D(filters=64, kernel_size=7, strides=2, kernel_initializer='glorot_normal', padding=\"same\")\n",
    "        self.norm1 = layers.BatchNormalization()\n",
    "        self.act1 = layers.Activation(activations.relu)\n",
    "        self.pool1 = layers.MaxPool1D(pool_size=3, strides=2, padding=\"same\")\n",
    "\n",
    "        self.layer1 = block_maker(num_filter=64, num_blocks=layer_params[0])\n",
    "        self.layer2 = block_maker(num_filter=128, num_blocks=layer_params[1], stride=2)\n",
    "        self.layer3 = block_maker(num_filter=256, num_blocks=layer_params[2], stride=2)\n",
    "        self.layer4 = block_maker(num_filter=512, num_blocks=layer_params[3], stride=2)\n",
    "\n",
    "#         self.avgpool = layers.GlobalAveragePooling1D()\n",
    "        self.flat = layers.Flatten()\n",
    "        self.dense1 = layers.Dense(units=512, activation='relu')\n",
    "        self.dense2 = layers.Dense(units=128, activation='relu')\n",
    "        self.fc = layers.Dense(units=1)\n",
    "\n",
    "    def call(self, inp, training=None, mask=None):\n",
    "        inp = self.conv1(inp)\n",
    "        inp = self.norm1(inp, training=training)\n",
    "        inp = self.act1(inp)\n",
    "        inp = self.pool1(inp)\n",
    "        inp = self.layer1(inp, training=training)\n",
    "        inp = self.layer2(inp, training=training)\n",
    "        inp = self.layer3(inp, training=training)\n",
    "        inp = self.layer4(inp, training=training)\n",
    "#         inp = self.avgpool(inp)\n",
    "        inp = self.dense1(self.flat(inp))\n",
    "        inp = self.dense2(inp)\n",
    "        output = self.fc(inp)\n",
    "\n",
    "        return output"
   ]
  },
  {
   "cell_type": "code",
   "execution_count": 20,
   "metadata": {},
   "outputs": [],
   "source": [
    "cbs = callbacks.ReduceLROnPlateau(\n",
    "    monitor='val_loss', factor=.5, patience=5, verbose=0, mode='auto',\n",
    "    min_delta=0.0001, cooldown=0, min_lr=0)\n",
    "\n",
    "save = callbacks.ModelCheckpoint(\n",
    "    BEST_PATH, monitor='val_loss', verbose=0,\n",
    "    save_best_only=True, save_weights_only=True, mode='min', save_freq='epoch')\n",
    "\n",
    "early_stop = callbacks.EarlyStopping(monitor='val_loss', min_delta=0.0001, patience=20) "
   ]
  },
  {
   "cell_type": "code",
   "execution_count": 21,
   "metadata": {
    "scrolled": true
   },
   "outputs": [
    {
     "name": "stdout",
     "output_type": "stream",
     "text": [
      "Epoch 1/200\n",
      "WARNING:tensorflow:From /home/ubuntu/anaconda3/envs/tensorflow2_p36/lib/python3.6/site-packages/tensorflow/python/data/ops/multi_device_iterator_ops.py:601: get_next_as_optional (from tensorflow.python.data.ops.iterator_ops) is deprecated and will be removed in a future version.\n",
      "Instructions for updating:\n",
      "Use `tf.data.Iterator.get_next_as_optional()` instead.\n",
      "INFO:tensorflow:Reduce to /job:localhost/replica:0/task:0/device:CPU:0 then broadcast to ('/job:localhost/replica:0/task:0/device:CPU:0',).\n",
      "INFO:tensorflow:Reduce to /job:localhost/replica:0/task:0/device:CPU:0 then broadcast to ('/job:localhost/replica:0/task:0/device:CPU:0',).\n",
      "INFO:tensorflow:Reduce to /job:localhost/replica:0/task:0/device:CPU:0 then broadcast to ('/job:localhost/replica:0/task:0/device:CPU:0',).\n",
      "INFO:tensorflow:Reduce to /job:localhost/replica:0/task:0/device:CPU:0 then broadcast to ('/job:localhost/replica:0/task:0/device:CPU:0',).\n",
      "64/64 [==============================] - ETA: 0s - loss: 2.8051INFO:tensorflow:Reduce to /job:localhost/replica:0/task:0/device:CPU:0 then broadcast to ('/job:localhost/replica:0/task:0/device:CPU:0',).\n",
      "INFO:tensorflow:Reduce to /job:localhost/replica:0/task:0/device:CPU:0 then broadcast to ('/job:localhost/replica:0/task:0/device:CPU:0',).\n",
      "INFO:tensorflow:Reduce to /job:localhost/replica:0/task:0/device:CPU:0 then broadcast to ('/job:localhost/replica:0/task:0/device:CPU:0',).\n",
      "INFO:tensorflow:Reduce to /job:localhost/replica:0/task:0/device:CPU:0 then broadcast to ('/job:localhost/replica:0/task:0/device:CPU:0',).\n",
      "INFO:tensorflow:Reduce to /job:localhost/replica:0/task:0/device:CPU:0 then broadcast to ('/job:localhost/replica:0/task:0/device:CPU:0',).\n",
      "INFO:tensorflow:Reduce to /job:localhost/replica:0/task:0/device:CPU:0 then broadcast to ('/job:localhost/replica:0/task:0/device:CPU:0',).\n",
      "64/64 [==============================] - 5s 73ms/step - loss: 2.8051 - val_loss: 0.3207\n",
      "Epoch 2/200\n",
      "64/64 [==============================] - 2s 30ms/step - loss: 0.2287 - val_loss: 0.3373\n",
      "Epoch 3/200\n",
      "64/64 [==============================] - 2s 35ms/step - loss: 0.1591 - val_loss: 0.2966\n",
      "Epoch 4/200\n",
      "64/64 [==============================] - 2s 31ms/step - loss: 0.1469 - val_loss: 0.3367\n",
      "Epoch 5/200\n",
      "64/64 [==============================] - 2s 34ms/step - loss: 0.1303 - val_loss: 0.2520\n",
      "Epoch 6/200\n",
      "64/64 [==============================] - 2s 31ms/step - loss: 0.1287 - val_loss: 0.2831\n",
      "Epoch 7/200\n",
      "64/64 [==============================] - 2s 32ms/step - loss: 0.1199 - val_loss: 0.2723\n",
      "Epoch 8/200\n",
      "64/64 [==============================] - 2s 36ms/step - loss: 0.1024 - val_loss: 0.2480\n",
      "Epoch 9/200\n",
      "64/64 [==============================] - 2s 36ms/step - loss: 0.1040 - val_loss: 0.2004\n",
      "Epoch 10/200\n",
      "64/64 [==============================] - 2s 37ms/step - loss: 0.1227 - val_loss: 0.1527\n",
      "Epoch 11/200\n",
      "64/64 [==============================] - 2s 37ms/step - loss: 0.0940 - val_loss: 0.1113\n",
      "Epoch 12/200\n",
      "64/64 [==============================] - 2s 36ms/step - loss: 0.0838 - val_loss: 0.0608\n",
      "Epoch 13/200\n",
      "64/64 [==============================] - 2s 32ms/step - loss: 0.1041 - val_loss: 0.0840\n",
      "Epoch 14/200\n",
      "64/64 [==============================] - 2s 32ms/step - loss: 0.0822 - val_loss: 0.0724\n",
      "Epoch 15/200\n",
      "64/64 [==============================] - 2s 33ms/step - loss: 0.0869 - val_loss: 0.1104\n",
      "Epoch 16/200\n",
      "64/64 [==============================] - 2s 34ms/step - loss: 0.0959 - val_loss: 0.0816\n",
      "Epoch 17/200\n",
      "64/64 [==============================] - 2s 33ms/step - loss: 0.0921 - val_loss: 0.1307\n",
      "Epoch 18/200\n",
      "64/64 [==============================] - 2s 35ms/step - loss: 0.0916 - val_loss: 0.0715\n",
      "Epoch 19/200\n",
      "64/64 [==============================] - 2s 34ms/step - loss: 0.0738 - val_loss: 0.0663\n",
      "Epoch 20/200\n",
      "64/64 [==============================] - 2s 33ms/step - loss: 0.0712 - val_loss: 0.0633\n",
      "Epoch 21/200\n",
      "64/64 [==============================] - 2s 33ms/step - loss: 0.0932 - val_loss: 0.1008\n",
      "Epoch 22/200\n",
      "64/64 [==============================] - 2s 31ms/step - loss: 0.0883 - val_loss: 0.0797\n",
      "Epoch 23/200\n",
      "64/64 [==============================] - 2s 36ms/step - loss: 0.0675 - val_loss: 0.0574\n",
      "Epoch 24/200\n",
      "64/64 [==============================] - 2s 29ms/step - loss: 0.0615 - val_loss: 0.0602\n",
      "Epoch 25/200\n",
      "64/64 [==============================] - 2s 28ms/step - loss: 0.0628 - val_loss: 0.0590\n",
      "Epoch 26/200\n",
      "64/64 [==============================] - 2s 32ms/step - loss: 0.0570 - val_loss: 0.0571\n",
      "Epoch 27/200\n",
      "64/64 [==============================] - 2s 31ms/step - loss: 0.0634 - val_loss: 0.0569\n",
      "Epoch 28/200\n",
      "64/64 [==============================] - 2s 27ms/step - loss: 0.0571 - val_loss: 0.0771\n",
      "Epoch 29/200\n",
      "64/64 [==============================] - 2s 31ms/step - loss: 0.0589 - val_loss: 0.0622\n",
      "Epoch 30/200\n",
      "64/64 [==============================] - 2s 29ms/step - loss: 0.0560 - val_loss: 0.0502\n",
      "Epoch 31/200\n",
      "64/64 [==============================] - 2s 30ms/step - loss: 0.0520 - val_loss: 0.0451\n",
      "Epoch 32/200\n",
      "64/64 [==============================] - 2s 27ms/step - loss: 0.0620 - val_loss: 0.0552\n",
      "Epoch 33/200\n",
      "64/64 [==============================] - 2s 28ms/step - loss: 0.0513 - val_loss: 0.0627\n",
      "Epoch 34/200\n",
      "64/64 [==============================] - 2s 28ms/step - loss: 0.0611 - val_loss: 0.0573\n",
      "Epoch 35/200\n",
      "64/64 [==============================] - 2s 32ms/step - loss: 0.0518 - val_loss: 0.0445\n",
      "Epoch 36/200\n",
      "64/64 [==============================] - 2s 29ms/step - loss: 0.0540 - val_loss: 0.0496\n",
      "Epoch 37/200\n",
      "64/64 [==============================] - 2s 27ms/step - loss: 0.0541 - val_loss: 0.0471\n",
      "Epoch 38/200\n",
      "64/64 [==============================] - 2s 27ms/step - loss: 0.0551 - val_loss: 0.0538\n",
      "Epoch 39/200\n",
      "64/64 [==============================] - 2s 26ms/step - loss: 0.0608 - val_loss: 0.0695\n",
      "Epoch 40/200\n",
      "64/64 [==============================] - 2s 26ms/step - loss: 0.0602 - val_loss: 0.0520\n",
      "Epoch 41/200\n",
      "64/64 [==============================] - 2s 27ms/step - loss: 0.0523 - val_loss: 0.0479\n",
      "Epoch 42/200\n",
      "64/64 [==============================] - 2s 30ms/step - loss: 0.0448 - val_loss: 0.0436\n",
      "Epoch 43/200\n",
      "64/64 [==============================] - 2s 27ms/step - loss: 0.0468 - val_loss: 0.0437\n",
      "Epoch 44/200\n",
      "64/64 [==============================] - 2s 31ms/step - loss: 0.0471 - val_loss: 0.0403\n",
      "Epoch 45/200\n",
      "64/64 [==============================] - 2s 31ms/step - loss: 0.0450 - val_loss: 0.0386\n",
      "Epoch 46/200\n",
      "64/64 [==============================] - 2s 27ms/step - loss: 0.0445 - val_loss: 0.0582\n",
      "Epoch 47/200\n",
      "64/64 [==============================] - 2s 27ms/step - loss: 0.0484 - val_loss: 0.0411\n",
      "Epoch 48/200\n",
      "64/64 [==============================] - 2s 27ms/step - loss: 0.0462 - val_loss: 0.0418\n",
      "Epoch 49/200\n",
      "64/64 [==============================] - 2s 28ms/step - loss: 0.0426 - val_loss: 0.0395\n",
      "Epoch 50/200\n",
      "64/64 [==============================] - 2s 31ms/step - loss: 0.0459 - val_loss: 0.0372\n",
      "Epoch 51/200\n",
      "64/64 [==============================] - 2s 28ms/step - loss: 0.0453 - val_loss: 0.0449\n",
      "Epoch 52/200\n",
      "64/64 [==============================] - 2s 28ms/step - loss: 0.0577 - val_loss: 0.0416\n",
      "Epoch 53/200\n",
      "64/64 [==============================] - 2s 28ms/step - loss: 0.0501 - val_loss: 0.0484\n",
      "Epoch 54/200\n",
      "64/64 [==============================] - 2s 27ms/step - loss: 0.0447 - val_loss: 0.0464\n",
      "Epoch 55/200\n",
      "64/64 [==============================] - 2s 26ms/step - loss: 0.0514 - val_loss: 0.0490\n",
      "Epoch 56/200\n",
      "64/64 [==============================] - 2s 27ms/step - loss: 0.0450 - val_loss: 0.0476\n",
      "Epoch 57/200\n",
      "64/64 [==============================] - 2s 26ms/step - loss: 0.0426 - val_loss: 0.0499\n",
      "Epoch 58/200\n",
      "64/64 [==============================] - 2s 27ms/step - loss: 0.0379 - val_loss: 0.0495\n",
      "Epoch 59/200\n",
      "64/64 [==============================] - 2s 27ms/step - loss: 0.0390 - val_loss: 0.0505\n",
      "Epoch 60/200\n",
      "64/64 [==============================] - 2s 27ms/step - loss: 0.0372 - val_loss: 0.0433\n",
      "Epoch 61/200\n",
      "64/64 [==============================] - 2s 27ms/step - loss: 0.0387 - val_loss: 0.0429\n",
      "Epoch 62/200\n",
      "64/64 [==============================] - 2s 27ms/step - loss: 0.0340 - val_loss: 0.0465\n",
      "Epoch 63/200\n",
      "64/64 [==============================] - 2s 27ms/step - loss: 0.0336 - val_loss: 0.0441\n",
      "Epoch 64/200\n",
      "64/64 [==============================] - 2s 26ms/step - loss: 0.0353 - val_loss: 0.0458\n",
      "Epoch 65/200\n",
      "64/64 [==============================] - 2s 27ms/step - loss: 0.0408 - val_loss: 0.0423\n",
      "Epoch 66/200\n",
      "64/64 [==============================] - 2s 28ms/step - loss: 0.0328 - val_loss: 0.0405\n",
      "Epoch 67/200\n",
      "64/64 [==============================] - 2s 28ms/step - loss: 0.0333 - val_loss: 0.0431\n",
      "Epoch 68/200\n",
      "64/64 [==============================] - 2s 28ms/step - loss: 0.0348 - val_loss: 0.0479\n",
      "Epoch 69/200\n",
      "64/64 [==============================] - 2s 28ms/step - loss: 0.0312 - val_loss: 0.0469\n",
      "Epoch 70/200\n",
      "64/64 [==============================] - 2s 28ms/step - loss: 0.0322 - val_loss: 0.0408\n"
     ]
    }
   ],
   "source": [
    "with strategy.scope():\n",
    "    opt = tf.keras.optimizers.Adam(learning_rate=LEARNING_RATE, epsilon=EPSILON)\n",
    "    model = ResNet1D(layer_params=[1, 2, 1, 1])\n",
    "    model.compile(optimizer=opt, loss='mae')\n",
    "    model.fit(train_dataset, epochs=TRAINING_EPOCHS, validation_data=val_dataset,\n",
    "                  verbose=1, callbacks=[cbs, save, early_stop]) "
   ]
  },
  {
   "cell_type": "code",
   "execution_count": 22,
   "metadata": {},
   "outputs": [],
   "source": [
    "# model.summary()"
   ]
  },
  {
   "cell_type": "code",
   "execution_count": 23,
   "metadata": {},
   "outputs": [],
   "source": [
    "model.load_weights(BEST_PATH)"
   ]
  },
  {
   "cell_type": "code",
   "execution_count": 24,
   "metadata": {},
   "outputs": [
    {
     "name": "stdout",
     "output_type": "stream",
     "text": [
      "28/28 [==============================] - 0s 5ms/step - loss: 0.0372\n"
     ]
    },
    {
     "data": {
      "text/plain": [
       "0.037207234650850296"
      ]
     },
     "execution_count": 24,
     "metadata": {},
     "output_type": "execute_result"
    }
   ],
   "source": [
    "model.evaluate(val_dataset)"
   ]
  },
  {
   "cell_type": "code",
   "execution_count": 25,
   "metadata": {},
   "outputs": [],
   "source": [
    "pred_output = model.predict(val_input)"
   ]
  },
  {
   "cell_type": "code",
   "execution_count": 26,
   "metadata": {},
   "outputs": [],
   "source": [
    "pred_output = pred_output*(OUTPUT_MAX - OUTPUT_MIN) + OUTPUT_MIN\n",
    "val_label = val_label*(OUTPUT_MAX - OUTPUT_MIN) + OUTPUT_MIN"
   ]
  },
  {
   "cell_type": "code",
   "execution_count": 27,
   "metadata": {},
   "outputs": [
    {
     "data": {
      "image/png": "[encoded data removed]",
      "text/plain": [
       "<Figure size 481.89x340.157 with 1 Axes>"
      ]
     },
     "metadata": {},
     "output_type": "display_data"
    }
   ],
   "source": [
    "fig = plt.figure(figsize=((8.5/2.54*2), (6/2.54*2)))\n",
    "ax0 = plt.subplot()\n",
    "\n",
    "ax0.spines['right'].set_visible(False)\n",
    "ax0.spines['left'].set_position(('outward', 5))\n",
    "ax0.spines['bottom'].set_position(('outward', 5))\n",
    "\n",
    "ax0.plot(val_label, pred_output, 'o', ms=5, mec='k', c=cmap[0])\n",
    "\n",
    "\n",
    "fig.tight_layout()"
   ]
  },
  {
   "cell_type": "code",
   "execution_count": 28,
   "metadata": {},
   "outputs": [],
   "source": [
    "pred_df = pd.DataFrame(val_label, index=val_indices[:, 0], columns=['label'])\n",
    "pred_df['pred'] = pred_output\n",
    "pred_df.index = pd.DatetimeIndex(pred_df.index)\n",
    "pred_df = pred_df.sort_index()"
   ]
  },
  {
   "cell_type": "code",
   "execution_count": 29,
   "metadata": {},
   "outputs": [
    {
     "data": {
      "image/png": "[encoded data removed]",
      "text/plain": [
       "<Figure size 481.89x340.157 with 1 Axes>"
      ]
     },
     "metadata": {},
     "output_type": "display_data"
    }
   ],
   "source": [
    "fig = plt.figure(figsize=((8.5/2.54*2), (6/2.54*2)))\n",
    "ax0 = plt.subplot()\n",
    "\n",
    "ax0.spines['right'].set_visible(False)\n",
    "ax0.spines['left'].set_position(('outward', 5))\n",
    "ax0.spines['bottom'].set_position(('outward', 5))\n",
    "\n",
    "ax0.plot(pred_df.index, pred_df['label'], '-o', ms=5, mec='k', c=cmap[4])\n",
    "ax0.plot(pred_df.index, pred_df['pred'], 'o', ms=5, mec='k', c=cmap[0])\n",
    "\n",
    "\n",
    "fig.tight_layout()"
   ]
  },
  {
   "cell_type": "code",
   "execution_count": 30,
   "metadata": {},
   "outputs": [],
   "source": [
    "pred_df.to_csv('./results/model_output/convnet1d.csv')"
   ]
  }
 ],
 "metadata": {
  "kernelspec": {
   "display_name": "Environment (conda_tensorflow2_p36)",
   "language": "python",
   "name": "conda_tensorflow2_p36"
  },
  "language_info": {
   "codemirror_mode": {
    "name": "ipython",
    "version": 3
   },
   "file_extension": ".py",
   "mimetype": "text/x-python",
   "name": "python",
   "nbconvert_exporter": "python",
   "pygments_lexer": "ipython3",
   "version": "3.6.10"
  }
 },
 "nbformat": 4,
 "nbformat_minor": 4
}
