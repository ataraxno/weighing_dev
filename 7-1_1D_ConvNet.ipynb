{
 "cells": [
  {
   "cell_type": "code",
   "execution_count": 1,
   "metadata": {},
   "outputs": [
    {
     "data": {
      "text/plain": [
       "'2.3.0'"
      ]
     },
     "execution_count": 1,
     "metadata": {},
     "output_type": "execute_result"
    }
   ],
   "source": [
    "import pandas as pd\n",
    "import numpy as np\n",
    "np.set_printoptions(precision=6, suppress=True)\n",
    "from sklearn.utils import shuffle\n",
    "\n",
    "from tqdm import tqdm\n",
    "\n",
    "import tensorflow as tf\n",
    "from tensorflow.keras import *\n",
    "import tensorflow_addons as tfa\n",
    "tf.__version__"
   ]
  },
  {
   "cell_type": "code",
   "execution_count": 2,
   "metadata": {},
   "outputs": [],
   "source": [
    "import matplotlib\n",
    "import matplotlib.pyplot as plt\n",
    "import matplotlib.dates as mdates\n",
    "from matplotlib.ticker import (LinearLocator, MultipleLocator, FormatStrFormatter)\n",
    "from matplotlib.dates import MONDAY\n",
    "from matplotlib.dates import MonthLocator, WeekdayLocator, DateFormatter\n",
    "from matplotlib import gridspec\n",
    "from pandas.plotting import register_matplotlib_converters\n",
    "register_matplotlib_converters()\n",
    "%matplotlib inline"
   ]
  },
  {
   "cell_type": "code",
   "execution_count": 3,
   "metadata": {},
   "outputs": [],
   "source": [
    "plt.rcParams['figure.figsize'] = ((8/2.54), (6/2.54))\n",
    "plt.rcParams[\"font.family\"] = \"Arial\"\n",
    "plt.rcParams[\"mathtext.default\"] = \"rm\"\n",
    "plt.rcParams.update({'font.size': 11})\n",
    "MARKER_SIZE = 15\n",
    "cmap_m = [\"#f4a6ad\", \"#f6957e\", \"#fccfa2\", \"#8de7be\", \"#86d6f2\", \"#24a9e4\", \"#b586e0\", \"#d7f293\"]\n",
    "cmap = [\"#e94d5b\", \"#ef4d28\", \"#f9a54f\", \"#25b575\", \"#1bb1e7\", \"#1477a2\", \"#a662e5\", \"#c2f442\"]\n",
    "\n",
    "plt.rcParams['axes.spines.top'] = False\n",
    "# plt.rcParams['axes.edgecolor'] = \n",
    "plt.rcParams['axes.linewidth'] = 1\n",
    "plt.rcParams['lines.linewidth'] = 1.5\n",
    "plt.rcParams['xtick.major.width'] = 1\n",
    "plt.rcParams['xtick.minor.width'] = 1\n",
    "plt.rcParams['ytick.major.width'] = 1\n",
    "plt.rcParams['ytick.minor.width'] = 1"
   ]
  },
  {
   "cell_type": "code",
   "execution_count": 4,
   "metadata": {},
   "outputs": [
    {
     "data": {
      "text/plain": [
       "[PhysicalDevice(name='/physical_device:GPU:0', device_type='GPU')]"
      ]
     },
     "execution_count": 4,
     "metadata": {},
     "output_type": "execute_result"
    }
   ],
   "source": [
    "tf.config.list_physical_devices('GPU')"
   ]
  },
  {
   "cell_type": "code",
   "execution_count": 5,
   "metadata": {},
   "outputs": [
    {
     "name": "stdout",
     "output_type": "stream",
     "text": [
      "1 Physical GPUs, 1 Logical GPUs\n"
     ]
    }
   ],
   "source": [
    "gpus = tf.config.experimental.list_physical_devices('GPU')\n",
    "if gpus:\n",
    "    try:\n",
    "        for gpu in gpus:\n",
    "            tf.config.experimental.set_memory_growth(gpu, True)\n",
    "        logical_gpus = tf.config.experimental.list_logical_devices('GPU')\n",
    "        print(len(gpus), \"Physical GPUs,\", len(logical_gpus), \"Logical GPUs\")\n",
    "    except RuntimeError as e:\n",
    "        print(e)"
   ]
  },
  {
   "cell_type": "code",
   "execution_count": 6,
   "metadata": {},
   "outputs": [
    {
     "name": "stdout",
     "output_type": "stream",
     "text": [
      "INFO:tensorflow:Using MirroredStrategy with devices ('/job:localhost/replica:0/task:0/device:GPU:0',)\n"
     ]
    }
   ],
   "source": [
    "strategy = tf.distribute.MirroredStrategy()"
   ]
  },
  {
   "cell_type": "markdown",
   "metadata": {},
   "source": [
    "# Hyperparameters"
   ]
  },
  {
   "cell_type": "code",
   "execution_count": 7,
   "metadata": {},
   "outputs": [],
   "source": [
    "BEST_PATH = './models/ResNet.h5'\n",
    "TRAINING_EPOCHS = 200\n",
    "LEARNING_RATE = 0.0015\n",
    "EPSILON = 1e-08\n",
    "BATCH_SIZE = 16"
   ]
  },
  {
   "cell_type": "markdown",
   "metadata": {},
   "source": [
    "# Data loading"
   ]
  },
  {
   "cell_type": "code",
   "execution_count": 8,
   "metadata": {},
   "outputs": [],
   "source": [
    "l = np.load('./results/2020_S/fw_dataset.npz', allow_pickle=True)\n",
    "data_indices = l['data_indices']\n",
    "input_data = l['input_data']\n",
    "output_label = l['output_label']\n",
    "INPUT_MAXS = l['INPUT_MAXS']\n",
    "INPUT_MINS = l['INPUT_MINS']\n",
    "OUTPUT_MAX = l['OUTPUT_MAX']\n",
    "OUTPUT_MIN = l['OUTPUT_MIN']"
   ]
  },
  {
   "cell_type": "code",
   "execution_count": 9,
   "metadata": {},
   "outputs": [],
   "source": [
    "input_data = input_data.astype('float32')\n",
    "output_label = output_label.astype('float32')"
   ]
  },
  {
   "cell_type": "code",
   "execution_count": 10,
   "metadata": {},
   "outputs": [
    {
     "name": "stdout",
     "output_type": "stream",
     "text": [
      "(363, 144, 9)\n",
      "(363, 1)\n"
     ]
    }
   ],
   "source": [
    "print(input_data.shape)\n",
    "print(output_label.shape)"
   ]
  },
  {
   "cell_type": "code",
   "execution_count": 11,
   "metadata": {},
   "outputs": [
    {
     "name": "stdout",
     "output_type": "stream",
     "text": [
      "[ 42.31875  90.9425  330.1      73.335    10.006     5.057    36.58\n",
      "  50.264    19.731  ]\n",
      "[15.83875  4.4325  -0.5957  32.115    2.296    0.579   15.7      8.744\n",
      " 11.393  ]\n"
     ]
    }
   ],
   "source": [
    "print(INPUT_MAXS)\n",
    "print(INPUT_MINS)"
   ]
  },
  {
   "cell_type": "code",
   "execution_count": 12,
   "metadata": {},
   "outputs": [
    {
     "name": "stdout",
     "output_type": "stream",
     "text": [
      "2.470441467376113\n",
      "0.40038664002968494\n"
     ]
    }
   ],
   "source": [
    "print(OUTPUT_MAX)\n",
    "print(OUTPUT_MIN)"
   ]
  },
  {
   "cell_type": "code",
   "execution_count": 13,
   "metadata": {},
   "outputs": [],
   "source": [
    "data_indices, input_data, output_label = shuffle(data_indices, input_data, output_label, random_state=3101)"
   ]
  },
  {
   "cell_type": "code",
   "execution_count": 14,
   "metadata": {},
   "outputs": [],
   "source": [
    "N_TRAIN = int(input_data.shape[0]*.7)\n",
    "train_input = input_data[:N_TRAIN, ...]\n",
    "train_label = output_label[:N_TRAIN, ...]\n",
    "train_indices = data_indices[:N_TRAIN]\n",
    "val_input = input_data[N_TRAIN:, ...]\n",
    "val_label = output_label[N_TRAIN:, ...]\n",
    "val_indices = data_indices[N_TRAIN:]"
   ]
  },
  {
   "cell_type": "code",
   "execution_count": 15,
   "metadata": {},
   "outputs": [
    {
     "name": "stdout",
     "output_type": "stream",
     "text": [
      "number of training set: 254\n",
      "number of validation set: 109\n"
     ]
    }
   ],
   "source": [
    "print(f'number of training set: {train_input.shape[0]}')\n",
    "print(f'number of validation set: {val_input.shape[0]}')"
   ]
  },
  {
   "cell_type": "code",
   "execution_count": 16,
   "metadata": {},
   "outputs": [],
   "source": [
    "with strategy.scope():\n",
    "    train_dataset = tf.data.Dataset.from_tensor_slices((train_input, train_label))\n",
    "    train_dataset = train_dataset.cache().shuffle(BATCH_SIZE*10).batch(BATCH_SIZE, drop_remainder=False)\n",
    "    val_dataset = tf.data.Dataset.from_tensor_slices((val_input, val_label))\n",
    "    val_dataset = val_dataset.cache().shuffle(BATCH_SIZE*10).batch(BATCH_SIZE, drop_remainder=False)"
   ]
  },
  {
   "cell_type": "markdown",
   "metadata": {},
   "source": [
    "# Model construction"
   ]
  },
  {
   "cell_type": "code",
   "execution_count": 17,
   "metadata": {},
   "outputs": [],
   "source": [
    "class ResidualBlock(layers.Layer):\n",
    "    def __init__(self, num_filter, stride=1):\n",
    "        super(ResidualBlock, self).__init__()\n",
    "        self.n = num_filter\n",
    "        self.s = stride\n",
    "        \n",
    "        self.conv1 = layers.Conv1D(filters=self.n, kernel_size=1, strides=1, kernel_initializer='glorot_normal', padding='same')\n",
    "        self.norm1 = layers.BatchNormalization()\n",
    "        self.act1 = layers.Activation(activations.relu)\n",
    "        self.conv2 = layers.Conv1D(filters=self.n, kernel_size=3, strides=stride, kernel_initializer='glorot_normal', padding='same')\n",
    "        self.norm2 = layers.BatchNormalization()\n",
    "        self.act2 = layers.Activation(activations.relu)\n",
    "        self.conv3 = layers.Conv1D(filters=self.n*4, kernel_size=1, strides=1, kernel_initializer='glorot_normal', padding='same')\n",
    "        self.norm3 = layers.BatchNormalization()\n",
    "        self.act3 = layers.Activation(activations.relu)\n",
    "\n",
    "        self.downsample = Sequential()\n",
    "        self.downsample.add(layers.Conv1D(filters=self.n*4, kernel_size=1, strides=stride, kernel_initializer='glorot_normal'))\n",
    "        self.downsample.add(layers.BatchNormalization())\n",
    "\n",
    "    def call(self, inp, training=None, **kwargs):\n",
    "        shortcut = self.downsample(inp)\n",
    "\n",
    "        inp = self.act1(self.norm1(self.conv1(inp), training=training))\n",
    "        inp = self.act2(self.norm2(self.conv2(inp), training=training))\n",
    "        inp = self.norm3(self.conv3(inp), training=training)\n",
    "\n",
    "        oup = self.act3(layers.add([shortcut, inp]))\n",
    "\n",
    "        return oup"
   ]
  },
  {
   "cell_type": "code",
   "execution_count": 18,
   "metadata": {},
   "outputs": [],
   "source": [
    "def block_maker(num_filter, num_blocks, stride=1):\n",
    "    res_block = tf.keras.Sequential()\n",
    "    res_block.add(ResidualBlock(num_filter, stride=stride))\n",
    "\n",
    "    for _ in range(1, num_blocks):\n",
    "        res_block.add(ResidualBlock(num_filter, stride=1))\n",
    "\n",
    "    return res_block"
   ]
  },
  {
   "cell_type": "code",
   "execution_count": 19,
   "metadata": {},
   "outputs": [],
   "source": [
    "class ResNet1D(Model):\n",
    "    def __init__(self, layer_params):\n",
    "        super(ResNet1D, self).__init__()\n",
    "        self.conv1 = layers.Conv1D(filters=64, kernel_size=7, strides=2, kernel_initializer='glorot_normal', padding=\"same\")\n",
    "        self.norm1 = layers.BatchNormalization()\n",
    "        self.act1 = layers.Activation(activations.relu)\n",
    "        self.pool1 = layers.MaxPool1D(pool_size=3, strides=2, padding=\"same\")\n",
    "\n",
    "        self.layer1 = block_maker(num_filter=64, num_blocks=layer_params[0])\n",
    "        self.layer2 = block_maker(num_filter=128, num_blocks=layer_params[1], stride=2)\n",
    "        self.layer3 = block_maker(num_filter=256, num_blocks=layer_params[2], stride=2)\n",
    "        self.layer4 = block_maker(num_filter=512, num_blocks=layer_params[3], stride=2)\n",
    "\n",
    "#         self.avgpool = layers.GlobalAveragePooling1D()\n",
    "        self.flat = layers.Flatten()\n",
    "        self.dense1 = layers.Dense(units=512, activation='relu')\n",
    "        self.dense2 = layers.Dense(units=128, activation='relu')\n",
    "        self.fc = layers.Dense(units=1)\n",
    "\n",
    "    def call(self, inp, training=None, mask=None):\n",
    "        inp = self.conv1(inp)\n",
    "        inp = self.norm1(inp, training=training)\n",
    "        inp = self.act1(inp)\n",
    "        inp = self.pool1(inp)\n",
    "        inp = self.layer1(inp, training=training)\n",
    "        inp = self.layer2(inp, training=training)\n",
    "        inp = self.layer3(inp, training=training)\n",
    "        inp = self.layer4(inp, training=training)\n",
    "#         inp = self.avgpool(inp)\n",
    "        inp = self.dense1(self.flat(inp))\n",
    "        inp = self.dense2(inp)\n",
    "        output = self.fc(inp)\n",
    "\n",
    "        return output"
   ]
  },
  {
   "cell_type": "code",
   "execution_count": 20,
   "metadata": {},
   "outputs": [],
   "source": [
    "cbs = callbacks.ReduceLROnPlateau(\n",
    "    monitor='val_loss', factor=.5, patience=5, verbose=0, mode='auto',\n",
    "    min_delta=0.0001, cooldown=0, min_lr=0)\n",
    "\n",
    "save = callbacks.ModelCheckpoint(\n",
    "    BEST_PATH, monitor='val_loss', verbose=0,\n",
    "    save_best_only=True, save_weights_only=True, mode='min', save_freq='epoch')\n",
    "\n",
    "early_stop = callbacks.EarlyStopping(monitor='val_loss', min_delta=0.0001, patience=20) "
   ]
  },
  {
   "cell_type": "code",
   "execution_count": 21,
   "metadata": {
    "scrolled": true
   },
   "outputs": [
    {
     "name": "stdout",
     "output_type": "stream",
     "text": [
      "Epoch 1/200\n",
      "WARNING:tensorflow:From /home/ubuntu/anaconda3/envs/tensorflow2_p36/lib/python3.6/site-packages/tensorflow/python/data/ops/multi_device_iterator_ops.py:601: get_next_as_optional (from tensorflow.python.data.ops.iterator_ops) is deprecated and will be removed in a future version.\n",
      "Instructions for updating:\n",
      "Use `tf.data.Iterator.get_next_as_optional()` instead.\n",
      "INFO:tensorflow:Reduce to /job:localhost/replica:0/task:0/device:CPU:0 then broadcast to ('/job:localhost/replica:0/task:0/device:CPU:0',).\n",
      "INFO:tensorflow:Reduce to /job:localhost/replica:0/task:0/device:CPU:0 then broadcast to ('/job:localhost/replica:0/task:0/device:CPU:0',).\n",
      "INFO:tensorflow:Reduce to /job:localhost/replica:0/task:0/device:CPU:0 then broadcast to ('/job:localhost/replica:0/task:0/device:CPU:0',).\n",
      "INFO:tensorflow:Reduce to /job:localhost/replica:0/task:0/device:CPU:0 then broadcast to ('/job:localhost/replica:0/task:0/device:CPU:0',).\n",
      "16/16 [==============================] - ETA: 0s - loss: 5.5647INFO:tensorflow:Reduce to /job:localhost/replica:0/task:0/device:CPU:0 then broadcast to ('/job:localhost/replica:0/task:0/device:CPU:0',).\n",
      "INFO:tensorflow:Reduce to /job:localhost/replica:0/task:0/device:CPU:0 then broadcast to ('/job:localhost/replica:0/task:0/device:CPU:0',).\n",
      "INFO:tensorflow:Reduce to /job:localhost/replica:0/task:0/device:CPU:0 then broadcast to ('/job:localhost/replica:0/task:0/device:CPU:0',).\n",
      "INFO:tensorflow:Reduce to /job:localhost/replica:0/task:0/device:CPU:0 then broadcast to ('/job:localhost/replica:0/task:0/device:CPU:0',).\n",
      "INFO:tensorflow:Reduce to /job:localhost/replica:0/task:0/device:CPU:0 then broadcast to ('/job:localhost/replica:0/task:0/device:CPU:0',).\n",
      "INFO:tensorflow:Reduce to /job:localhost/replica:0/task:0/device:CPU:0 then broadcast to ('/job:localhost/replica:0/task:0/device:CPU:0',).\n",
      "16/16 [==============================] - 3s 175ms/step - loss: 5.5647 - val_loss: 0.4608\n",
      "Epoch 2/200\n",
      "16/16 [==============================] - 1s 40ms/step - loss: 0.6605 - val_loss: 0.3839\n",
      "Epoch 3/200\n",
      "16/16 [==============================] - 1s 39ms/step - loss: 0.2109 - val_loss: 0.3570\n",
      "Epoch 4/200\n",
      "16/16 [==============================] - 0s 28ms/step - loss: 0.2807 - val_loss: 0.3587\n",
      "Epoch 5/200\n",
      "16/16 [==============================] - 1s 40ms/step - loss: 0.1575 - val_loss: 0.3391\n",
      "Epoch 6/200\n",
      "16/16 [==============================] - 1s 40ms/step - loss: 0.1813 - val_loss: 0.2870\n",
      "Epoch 7/200\n",
      "16/16 [==============================] - 0s 28ms/step - loss: 0.1406 - val_loss: 0.3010\n",
      "Epoch 8/200\n",
      "16/16 [==============================] - 1s 40ms/step - loss: 0.1372 - val_loss: 0.2864\n",
      "Epoch 9/200\n",
      "16/16 [==============================] - 1s 40ms/step - loss: 0.1319 - val_loss: 0.2569\n",
      "Epoch 10/200\n",
      "16/16 [==============================] - 0s 28ms/step - loss: 0.0820 - val_loss: 0.2662\n",
      "Epoch 11/200\n",
      "16/16 [==============================] - 0s 28ms/step - loss: 0.0985 - val_loss: 0.2638\n",
      "Epoch 12/200\n",
      "16/16 [==============================] - 0s 28ms/step - loss: 0.1114 - val_loss: 0.2599\n",
      "Epoch 13/200\n",
      "16/16 [==============================] - 1s 39ms/step - loss: 0.1265 - val_loss: 0.2520\n",
      "Epoch 14/200\n",
      "16/16 [==============================] - 1s 41ms/step - loss: 0.0868 - val_loss: 0.2337\n",
      "Epoch 15/200\n",
      "16/16 [==============================] - 0s 28ms/step - loss: 0.0744 - val_loss: 0.2360\n",
      "Epoch 16/200\n",
      "16/16 [==============================] - 0s 28ms/step - loss: 0.1099 - val_loss: 0.2464\n",
      "Epoch 17/200\n",
      "16/16 [==============================] - 0s 28ms/step - loss: 0.0977 - val_loss: 0.2383\n",
      "Epoch 18/200\n",
      "16/16 [==============================] - 0s 28ms/step - loss: 0.0947 - val_loss: 0.2400\n",
      "Epoch 19/200\n",
      "16/16 [==============================] - 1s 40ms/step - loss: 0.0800 - val_loss: 0.2098\n",
      "Epoch 20/200\n",
      "16/16 [==============================] - 1s 39ms/step - loss: 0.0917 - val_loss: 0.1961\n",
      "Epoch 21/200\n",
      "16/16 [==============================] - 1s 40ms/step - loss: 0.1135 - val_loss: 0.1617\n",
      "Epoch 22/200\n",
      "16/16 [==============================] - 0s 28ms/step - loss: 0.0733 - val_loss: 0.1914\n",
      "Epoch 23/200\n",
      "16/16 [==============================] - 0s 28ms/step - loss: 0.0935 - val_loss: 0.2053\n",
      "Epoch 24/200\n",
      "16/16 [==============================] - 0s 27ms/step - loss: 0.0987 - val_loss: 0.1621\n",
      "Epoch 25/200\n",
      "16/16 [==============================] - 0s 27ms/step - loss: 0.0701 - val_loss: 0.1848\n",
      "Epoch 26/200\n",
      "16/16 [==============================] - 0s 28ms/step - loss: 0.0748 - val_loss: 0.1788\n",
      "Epoch 27/200\n",
      "16/16 [==============================] - 1s 40ms/step - loss: 0.0656 - val_loss: 0.1504\n",
      "Epoch 28/200\n",
      "16/16 [==============================] - 1s 39ms/step - loss: 0.0621 - val_loss: 0.0876\n",
      "Epoch 29/200\n",
      "16/16 [==============================] - 0s 28ms/step - loss: 0.0626 - val_loss: 0.1168\n",
      "Epoch 30/200\n",
      "16/16 [==============================] - 0s 28ms/step - loss: 0.0634 - val_loss: 0.1266\n",
      "Epoch 31/200\n",
      "16/16 [==============================] - 0s 27ms/step - loss: 0.0486 - val_loss: 0.1160\n",
      "Epoch 32/200\n",
      "16/16 [==============================] - 0s 29ms/step - loss: 0.0547 - val_loss: 0.1114\n",
      "Epoch 33/200\n",
      "16/16 [==============================] - 1s 41ms/step - loss: 0.0583 - val_loss: 0.0807\n",
      "Epoch 34/200\n",
      "16/16 [==============================] - 1s 41ms/step - loss: 0.0727 - val_loss: 0.0611\n",
      "Epoch 35/200\n",
      "16/16 [==============================] - 0s 28ms/step - loss: 0.0585 - val_loss: 0.0712\n",
      "Epoch 36/200\n",
      "16/16 [==============================] - 1s 39ms/step - loss: 0.0569 - val_loss: 0.0553\n",
      "Epoch 37/200\n",
      "16/16 [==============================] - 0s 28ms/step - loss: 0.0671 - val_loss: 0.0773\n",
      "Epoch 38/200\n",
      "16/16 [==============================] - 1s 40ms/step - loss: 0.0493 - val_loss: 0.0229\n",
      "Epoch 39/200\n",
      "16/16 [==============================] - 0s 28ms/step - loss: 0.0485 - val_loss: 0.0610\n",
      "Epoch 40/200\n",
      "16/16 [==============================] - 0s 28ms/step - loss: 0.0411 - val_loss: 0.0465\n",
      "Epoch 41/200\n",
      "16/16 [==============================] - 0s 28ms/step - loss: 0.0451 - val_loss: 0.0289\n",
      "Epoch 42/200\n",
      "16/16 [==============================] - 0s 27ms/step - loss: 0.0610 - val_loss: 0.0493\n",
      "Epoch 43/200\n",
      "16/16 [==============================] - 0s 29ms/step - loss: 0.0412 - val_loss: 0.0475\n",
      "Epoch 44/200\n",
      "16/16 [==============================] - 0s 29ms/step - loss: 0.0339 - val_loss: 0.0339\n",
      "Epoch 45/200\n",
      "16/16 [==============================] - 0s 29ms/step - loss: 0.0573 - val_loss: 0.0359\n",
      "Epoch 46/200\n",
      "16/16 [==============================] - 0s 28ms/step - loss: 0.0537 - val_loss: 0.0326\n",
      "Epoch 47/200\n",
      "16/16 [==============================] - 0s 30ms/step - loss: 0.0489 - val_loss: 0.0351\n",
      "Epoch 48/200\n",
      "16/16 [==============================] - 0s 29ms/step - loss: 0.0544 - val_loss: 0.0261\n",
      "Epoch 49/200\n",
      "16/16 [==============================] - 0s 30ms/step - loss: 0.0396 - val_loss: 0.0232\n",
      "Epoch 50/200\n",
      "16/16 [==============================] - 1s 43ms/step - loss: 0.0327 - val_loss: 0.0218\n",
      "Epoch 51/200\n",
      "16/16 [==============================] - 1s 40ms/step - loss: 0.0372 - val_loss: 0.0196\n",
      "Epoch 52/200\n",
      "16/16 [==============================] - 0s 28ms/step - loss: 0.0341 - val_loss: 0.0240\n",
      "Epoch 53/200\n",
      "16/16 [==============================] - 1s 43ms/step - loss: 0.0294 - val_loss: 0.0232\n",
      "Epoch 54/200\n",
      "16/16 [==============================] - 0s 28ms/step - loss: 0.0337 - val_loss: 0.0230\n",
      "Epoch 55/200\n",
      "16/16 [==============================] - 0s 28ms/step - loss: 0.0252 - val_loss: 0.0234\n",
      "Epoch 56/200\n",
      "16/16 [==============================] - 0s 28ms/step - loss: 0.0342 - val_loss: 0.0233\n",
      "Epoch 57/200\n",
      "16/16 [==============================] - 0s 27ms/step - loss: 0.0342 - val_loss: 0.0245\n",
      "Epoch 58/200\n",
      "16/16 [==============================] - 0s 28ms/step - loss: 0.0274 - val_loss: 0.0221\n",
      "Epoch 59/200\n",
      "16/16 [==============================] - 0s 28ms/step - loss: 0.0258 - val_loss: 0.0200\n",
      "Epoch 60/200\n",
      "16/16 [==============================] - 0s 27ms/step - loss: 0.0276 - val_loss: 0.0206\n",
      "Epoch 61/200\n",
      "16/16 [==============================] - 1s 41ms/step - loss: 0.0305 - val_loss: 0.0193\n",
      "Epoch 62/200\n",
      "16/16 [==============================] - 0s 29ms/step - loss: 0.0347 - val_loss: 0.0251\n",
      "Epoch 63/200\n",
      "16/16 [==============================] - 0s 29ms/step - loss: 0.0276 - val_loss: 0.0233\n",
      "Epoch 64/200\n",
      "16/16 [==============================] - 1s 40ms/step - loss: 0.0334 - val_loss: 0.0188\n",
      "Epoch 65/200\n",
      "16/16 [==============================] - 0s 28ms/step - loss: 0.0235 - val_loss: 0.0242\n",
      "Epoch 66/200\n",
      "16/16 [==============================] - 0s 29ms/step - loss: 0.0261 - val_loss: 0.0215\n",
      "Epoch 67/200\n",
      "16/16 [==============================] - 0s 28ms/step - loss: 0.0243 - val_loss: 0.0197\n",
      "Epoch 68/200\n",
      "16/16 [==============================] - 0s 29ms/step - loss: 0.0350 - val_loss: 0.0266\n",
      "Epoch 69/200\n",
      "16/16 [==============================] - 1s 41ms/step - loss: 0.0284 - val_loss: 0.0170\n",
      "Epoch 70/200\n",
      "16/16 [==============================] - 0s 29ms/step - loss: 0.0327 - val_loss: 0.0191\n",
      "Epoch 71/200\n",
      "16/16 [==============================] - 0s 30ms/step - loss: 0.0318 - val_loss: 0.0277\n",
      "Epoch 72/200\n",
      "16/16 [==============================] - 0s 28ms/step - loss: 0.0384 - val_loss: 0.0249\n",
      "Epoch 73/200\n",
      "16/16 [==============================] - 0s 30ms/step - loss: 0.0305 - val_loss: 0.0234\n",
      "Epoch 74/200\n",
      "16/16 [==============================] - 0s 28ms/step - loss: 0.0261 - val_loss: 0.0195\n",
      "Epoch 75/200\n",
      "16/16 [==============================] - 0s 28ms/step - loss: 0.0244 - val_loss: 0.0176\n",
      "Epoch 76/200\n",
      "16/16 [==============================] - 0s 28ms/step - loss: 0.0301 - val_loss: 0.0181\n",
      "Epoch 77/200\n",
      "16/16 [==============================] - 0s 28ms/step - loss: 0.0245 - val_loss: 0.0182\n",
      "Epoch 78/200\n",
      "16/16 [==============================] - 1s 39ms/step - loss: 0.0266 - val_loss: 0.0148\n",
      "Epoch 79/200\n",
      "16/16 [==============================] - 0s 28ms/step - loss: 0.0329 - val_loss: 0.0172\n",
      "Epoch 80/200\n",
      "16/16 [==============================] - 0s 27ms/step - loss: 0.0276 - val_loss: 0.0162\n",
      "Epoch 81/200\n",
      "16/16 [==============================] - 0s 28ms/step - loss: 0.0312 - val_loss: 0.0154\n",
      "Epoch 82/200\n",
      "16/16 [==============================] - 1s 40ms/step - loss: 0.0267 - val_loss: 0.0146\n",
      "Epoch 83/200\n",
      "16/16 [==============================] - 0s 27ms/step - loss: 0.0218 - val_loss: 0.0150\n",
      "Epoch 84/200\n",
      "16/16 [==============================] - 0s 28ms/step - loss: 0.0258 - val_loss: 0.0163\n",
      "Epoch 85/200\n",
      "16/16 [==============================] - 0s 28ms/step - loss: 0.0278 - val_loss: 0.0156\n",
      "Epoch 86/200\n",
      "16/16 [==============================] - 0s 28ms/step - loss: 0.0251 - val_loss: 0.0163\n",
      "Epoch 87/200\n",
      "16/16 [==============================] - 0s 28ms/step - loss: 0.0247 - val_loss: 0.0171\n",
      "Epoch 88/200\n",
      "16/16 [==============================] - 0s 29ms/step - loss: 0.0207 - val_loss: 0.0149\n",
      "Epoch 89/200\n",
      "16/16 [==============================] - 0s 29ms/step - loss: 0.0254 - val_loss: 0.0155\n",
      "Epoch 90/200\n",
      "16/16 [==============================] - 1s 41ms/step - loss: 0.0235 - val_loss: 0.0136\n",
      "Epoch 91/200\n",
      "16/16 [==============================] - 0s 29ms/step - loss: 0.0262 - val_loss: 0.0149\n",
      "Epoch 92/200\n",
      "16/16 [==============================] - 0s 28ms/step - loss: 0.0198 - val_loss: 0.0154\n",
      "Epoch 93/200\n",
      "16/16 [==============================] - 0s 28ms/step - loss: 0.0290 - val_loss: 0.0143\n",
      "Epoch 94/200\n",
      "16/16 [==============================] - 0s 28ms/step - loss: 0.0227 - val_loss: 0.0147\n",
      "Epoch 95/200\n",
      "16/16 [==============================] - 0s 27ms/step - loss: 0.0208 - val_loss: 0.0154\n",
      "Epoch 96/200\n",
      "16/16 [==============================] - 0s 27ms/step - loss: 0.0187 - val_loss: 0.0146\n",
      "Epoch 97/200\n",
      "16/16 [==============================] - 0s 28ms/step - loss: 0.0310 - val_loss: 0.0154\n",
      "Epoch 98/200\n",
      "16/16 [==============================] - 0s 28ms/step - loss: 0.0204 - val_loss: 0.0144\n",
      "Epoch 99/200\n",
      "16/16 [==============================] - 0s 27ms/step - loss: 0.0248 - val_loss: 0.0146\n",
      "Epoch 100/200\n",
      "16/16 [==============================] - 1s 41ms/step - loss: 0.0215 - val_loss: 0.0136\n",
      "Epoch 101/200\n",
      "16/16 [==============================] - 1s 40ms/step - loss: 0.0196 - val_loss: 0.0135\n",
      "Epoch 102/200\n",
      "16/16 [==============================] - 0s 28ms/step - loss: 0.0231 - val_loss: 0.0135\n",
      "Epoch 103/200\n",
      "16/16 [==============================] - 0s 29ms/step - loss: 0.0249 - val_loss: 0.0136\n",
      "Epoch 104/200\n",
      "16/16 [==============================] - 0s 28ms/step - loss: 0.0243 - val_loss: 0.0138\n",
      "Epoch 105/200\n",
      "16/16 [==============================] - 0s 28ms/step - loss: 0.0223 - val_loss: 0.0138\n",
      "Epoch 106/200\n",
      "16/16 [==============================] - 0s 28ms/step - loss: 0.0206 - val_loss: 0.0139\n",
      "Epoch 107/200\n",
      "16/16 [==============================] - 0s 28ms/step - loss: 0.0243 - val_loss: 0.0137\n",
      "Epoch 108/200\n",
      "16/16 [==============================] - 0s 28ms/step - loss: 0.0229 - val_loss: 0.0138\n",
      "Epoch 109/200\n",
      "16/16 [==============================] - 0s 28ms/step - loss: 0.0273 - val_loss: 0.0138\n",
      "Epoch 110/200\n",
      "16/16 [==============================] - 0s 28ms/step - loss: 0.0224 - val_loss: 0.0137\n",
      "Epoch 111/200\n",
      "16/16 [==============================] - 0s 28ms/step - loss: 0.0224 - val_loss: 0.0139\n",
      "Epoch 112/200\n",
      "16/16 [==============================] - 0s 28ms/step - loss: 0.0250 - val_loss: 0.0139\n",
      "Epoch 113/200\n",
      "16/16 [==============================] - 0s 28ms/step - loss: 0.0186 - val_loss: 0.0139\n",
      "Epoch 114/200\n",
      "16/16 [==============================] - 0s 28ms/step - loss: 0.0232 - val_loss: 0.0139\n",
      "Epoch 115/200\n",
      "16/16 [==============================] - 0s 28ms/step - loss: 0.0179 - val_loss: 0.0140\n",
      "Epoch 116/200\n",
      "16/16 [==============================] - 0s 29ms/step - loss: 0.0192 - val_loss: 0.0141\n",
      "Epoch 117/200\n",
      "16/16 [==============================] - 0s 28ms/step - loss: 0.0245 - val_loss: 0.0141\n",
      "Epoch 118/200\n",
      "16/16 [==============================] - 0s 28ms/step - loss: 0.0185 - val_loss: 0.0140\n",
      "Epoch 119/200\n",
      "16/16 [==============================] - 0s 28ms/step - loss: 0.0190 - val_loss: 0.0139\n",
      "Epoch 120/200\n",
      "16/16 [==============================] - 0s 28ms/step - loss: 0.0224 - val_loss: 0.0138\n",
      "Epoch 121/200\n",
      "16/16 [==============================] - 0s 28ms/step - loss: 0.0200 - val_loss: 0.0137\n"
     ]
    }
   ],
   "source": [
    "with strategy.scope():\n",
    "    opt = tf.keras.optimizers.Adam(learning_rate=LEARNING_RATE, epsilon=EPSILON)\n",
    "    model = ResNet1D(layer_params=[1, 2, 1, 1])\n",
    "    model.compile(optimizer=opt, loss='mae')\n",
    "    model.fit(train_dataset, epochs=TRAINING_EPOCHS, validation_data=val_dataset,\n",
    "                  verbose=1, callbacks=[cbs, save, early_stop]) "
   ]
  },
  {
   "cell_type": "code",
   "execution_count": 22,
   "metadata": {},
   "outputs": [],
   "source": [
    "# model.summary()"
   ]
  },
  {
   "cell_type": "code",
   "execution_count": 23,
   "metadata": {},
   "outputs": [],
   "source": [
    "model.load_weights(BEST_PATH)"
   ]
  },
  {
   "cell_type": "code",
   "execution_count": 24,
   "metadata": {},
   "outputs": [
    {
     "name": "stdout",
     "output_type": "stream",
     "text": [
      "7/7 [==============================] - 0s 5ms/step - loss: 0.0135\n"
     ]
    },
    {
     "data": {
      "text/plain": [
       "0.013487654738128185"
      ]
     },
     "execution_count": 24,
     "metadata": {},
     "output_type": "execute_result"
    }
   ],
   "source": [
    "model.evaluate(val_dataset)"
   ]
  },
  {
   "cell_type": "code",
   "execution_count": 25,
   "metadata": {},
   "outputs": [],
   "source": [
    "pred_output = model.predict(val_input)"
   ]
  },
  {
   "cell_type": "code",
   "execution_count": 26,
   "metadata": {},
   "outputs": [],
   "source": [
    "pred_output = pred_output*(OUTPUT_MAX - OUTPUT_MIN) + OUTPUT_MIN\n",
    "val_label = val_label*(OUTPUT_MAX - OUTPUT_MIN) + OUTPUT_MIN"
   ]
  },
  {
   "cell_type": "code",
   "execution_count": 27,
   "metadata": {},
   "outputs": [
    {
     "data": {
      "image/png": "[encoded data removed]",
      "text/plain": [
       "<Figure size 481.89x340.157 with 1 Axes>"
      ]
     },
     "metadata": {},
     "output_type": "display_data"
    }
   ],
   "source": [
    "fig = plt.figure(figsize=((8.5/2.54*2), (6/2.54*2)))\n",
    "ax0 = plt.subplot()\n",
    "\n",
    "ax0.spines['right'].set_visible(False)\n",
    "ax0.spines['left'].set_position(('outward', 5))\n",
    "ax0.spines['bottom'].set_position(('outward', 5))\n",
    "\n",
    "ax0.plot(val_label, pred_output, 'o', ms=5, mec='k', c=cmap[0])\n",
    "\n",
    "\n",
    "fig.tight_layout()"
   ]
  },
  {
   "cell_type": "code",
   "execution_count": 28,
   "metadata": {},
   "outputs": [],
   "source": [
    "pred_df = pd.DataFrame(val_label, index=val_indices[:, 0], columns=['label'])\n",
    "pred_df['pred'] = pred_output\n",
    "pred_df.index = pd.DatetimeIndex(pred_df.index)\n",
    "pred_df = pred_df.sort_index()"
   ]
  },
  {
   "cell_type": "code",
   "execution_count": 29,
   "metadata": {},
   "outputs": [
    {
     "data": {
      "image/png": "[encoded data removed]",
      "text/plain": [
       "<Figure size 481.89x340.157 with 1 Axes>"
      ]
     },
     "metadata": {},
     "output_type": "display_data"
    }
   ],
   "source": [
    "fig = plt.figure(figsize=((8.5/2.54*2), (6/2.54*2)))\n",
    "ax0 = plt.subplot()\n",
    "\n",
    "ax0.spines['right'].set_visible(False)\n",
    "ax0.spines['left'].set_position(('outward', 5))\n",
    "ax0.spines['bottom'].set_position(('outward', 5))\n",
    "\n",
    "ax0.plot(pred_df.index, pred_df['label'], '-o', ms=5, mec='k', c=cmap[4])\n",
    "ax0.plot(pred_df.index, pred_df['pred'], 'o', ms=5, mec='k', c=cmap[0])\n",
    "\n",
    "\n",
    "fig.tight_layout()"
   ]
  },
  {
   "cell_type": "code",
   "execution_count": 30,
   "metadata": {},
   "outputs": [],
   "source": [
    "pred_df.to_csv('./results/model_output/convnet1d.csv')"
   ]
  }
 ],
 "metadata": {
  "kernelspec": {
   "display_name": "Environment (conda_tensorflow2_p36)",
   "language": "python",
   "name": "conda_tensorflow2_p36"
  },
  "language_info": {
   "codemirror_mode": {
    "name": "ipython",
    "version": 3
   },
   "file_extension": ".py",
   "mimetype": "text/x-python",
   "name": "python",
   "nbconvert_exporter": "python",
   "pygments_lexer": "ipython3",
   "version": "3.6.10"
  }
 },
 "nbformat": 4,
 "nbformat_minor": 4
}
