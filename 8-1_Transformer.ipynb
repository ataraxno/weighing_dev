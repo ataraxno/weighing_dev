{
 "cells": [
  {
   "cell_type": "code",
   "execution_count": 1,
   "metadata": {},
   "outputs": [
    {
     "data": {
      "text/plain": [
       "'2.3.0'"
      ]
     },
     "execution_count": 1,
     "metadata": {},
     "output_type": "execute_result"
    }
   ],
   "source": [
    "import pandas as pd\n",
    "import numpy as np\n",
    "np.set_printoptions(precision=6, suppress=True)\n",
    "from sklearn.utils import shuffle\n",
    "\n",
    "from tqdm import tqdm\n",
    "\n",
    "import tensorflow as tf\n",
    "from tensorflow.keras import *\n",
    "import tensorflow_addons as tfa\n",
    "tf.__version__"
   ]
  },
  {
   "cell_type": "code",
   "execution_count": 2,
   "metadata": {},
   "outputs": [],
   "source": [
    "import matplotlib\n",
    "import matplotlib.pyplot as plt\n",
    "import matplotlib.dates as mdates\n",
    "from matplotlib.ticker import (LinearLocator, MultipleLocator, FormatStrFormatter)\n",
    "from matplotlib.dates import MONDAY\n",
    "from matplotlib.dates import MonthLocator, WeekdayLocator, DateFormatter\n",
    "from matplotlib import gridspec\n",
    "from pandas.plotting import register_matplotlib_converters\n",
    "register_matplotlib_converters()\n",
    "%matplotlib inline"
   ]
  },
  {
   "cell_type": "code",
   "execution_count": 3,
   "metadata": {},
   "outputs": [],
   "source": [
    "plt.rcParams['figure.figsize'] = ((8/2.54), (6/2.54))\n",
    "plt.rcParams[\"font.family\"] = \"Arial\"\n",
    "plt.rcParams[\"mathtext.default\"] = \"rm\"\n",
    "plt.rcParams.update({'font.size': 11})\n",
    "MARKER_SIZE = 15\n",
    "cmap_m = [\"#f4a6ad\", \"#f6957e\", \"#fccfa2\", \"#8de7be\", \"#86d6f2\", \"#24a9e4\", \"#b586e0\", \"#d7f293\"]\n",
    "cmap = [\"#e94d5b\", \"#ef4d28\", \"#f9a54f\", \"#25b575\", \"#1bb1e7\", \"#1477a2\", \"#a662e5\", \"#c2f442\"]\n",
    "\n",
    "plt.rcParams['axes.spines.top'] = False\n",
    "# plt.rcParams['axes.edgecolor'] = \n",
    "plt.rcParams['axes.linewidth'] = 1\n",
    "plt.rcParams['lines.linewidth'] = 1.5\n",
    "plt.rcParams['xtick.major.width'] = 1\n",
    "plt.rcParams['xtick.minor.width'] = 1\n",
    "plt.rcParams['ytick.major.width'] = 1\n",
    "plt.rcParams['ytick.minor.width'] = 1"
   ]
  },
  {
   "cell_type": "code",
   "execution_count": 4,
   "metadata": {},
   "outputs": [
    {
     "data": {
      "text/plain": [
       "[PhysicalDevice(name='/physical_device:GPU:0', device_type='GPU')]"
      ]
     },
     "execution_count": 4,
     "metadata": {},
     "output_type": "execute_result"
    }
   ],
   "source": [
    "tf.config.list_physical_devices('GPU')"
   ]
  },
  {
   "cell_type": "code",
   "execution_count": 5,
   "metadata": {},
   "outputs": [
    {
     "name": "stdout",
     "output_type": "stream",
     "text": [
      "1 Physical GPUs, 1 Logical GPUs\n"
     ]
    }
   ],
   "source": [
    "gpus = tf.config.experimental.list_physical_devices('GPU')\n",
    "if gpus:\n",
    "    try:\n",
    "        for gpu in gpus:\n",
    "            tf.config.experimental.set_memory_growth(gpu, True)\n",
    "        logical_gpus = tf.config.experimental.list_logical_devices('GPU')\n",
    "        print(len(gpus), \"Physical GPUs,\", len(logical_gpus), \"Logical GPUs\")\n",
    "    except RuntimeError as e:\n",
    "        print(e)"
   ]
  },
  {
   "cell_type": "code",
   "execution_count": 6,
   "metadata": {},
   "outputs": [
    {
     "name": "stdout",
     "output_type": "stream",
     "text": [
      "INFO:tensorflow:Using MirroredStrategy with devices ('/job:localhost/replica:0/task:0/device:GPU:0',)\n"
     ]
    }
   ],
   "source": [
    "strategy = tf.distribute.MirroredStrategy()"
   ]
  },
  {
   "cell_type": "markdown",
   "metadata": {},
   "source": [
    "# Hyperparameters"
   ]
  },
  {
   "cell_type": "code",
   "execution_count": 7,
   "metadata": {},
   "outputs": [],
   "source": [
    "BEST_PATH = './models/Transformer.h5'\n",
    "TRAINING_EPOCHS = 200\n",
    "LEARNING_RATE = 0.001\n",
    "EPSILON = 1e-10\n",
    "BATCH_SIZE = 8"
   ]
  },
  {
   "cell_type": "markdown",
   "metadata": {},
   "source": [
    "# Data loading"
   ]
  },
  {
   "cell_type": "code",
   "execution_count": 8,
   "metadata": {},
   "outputs": [],
   "source": [
    "l = np.load('./results/2020_S/fw_ct_dataset.npz', allow_pickle=True)\n",
    "data_indices = l['data_indices']\n",
    "input_data = l['input_data']\n",
    "output_label = l['output_label']\n",
    "INPUT_MAXS = l['INPUT_MAXS']\n",
    "INPUT_MINS = l['INPUT_MINS']\n",
    "OUTPUT_MAX = l['OUTPUT_MAX']\n",
    "OUTPUT_MIN = l['OUTPUT_MIN']"
   ]
  },
  {
   "cell_type": "code",
   "execution_count": 9,
   "metadata": {},
   "outputs": [],
   "source": [
    "input_data = input_data.astype('float32')\n",
    "output_label = output_label.astype('float32')"
   ]
  },
  {
   "cell_type": "code",
   "execution_count": 10,
   "metadata": {},
   "outputs": [
    {
     "name": "stdout",
     "output_type": "stream",
     "text": [
      "(363, 144, 1)\n",
      "(363, 1)\n"
     ]
    }
   ],
   "source": [
    "print(input_data.shape)\n",
    "print(output_label.shape)"
   ]
  },
  {
   "cell_type": "code",
   "execution_count": 11,
   "metadata": {},
   "outputs": [
    {
     "name": "stdout",
     "output_type": "stream",
     "text": [
      "[19.731]\n",
      "[11.000128]\n"
     ]
    }
   ],
   "source": [
    "print(INPUT_MAXS)\n",
    "print(INPUT_MINS)"
   ]
  },
  {
   "cell_type": "code",
   "execution_count": 12,
   "metadata": {},
   "outputs": [
    {
     "name": "stdout",
     "output_type": "stream",
     "text": [
      "2.5180414673761202\n",
      "0.15073025551954564\n"
     ]
    }
   ],
   "source": [
    "print(OUTPUT_MAX)\n",
    "print(OUTPUT_MIN)"
   ]
  },
  {
   "cell_type": "code",
   "execution_count": 13,
   "metadata": {},
   "outputs": [],
   "source": [
    "data_indices, input_data, output_label = shuffle(data_indices, input_data, output_label, random_state=3101)"
   ]
  },
  {
   "cell_type": "code",
   "execution_count": 14,
   "metadata": {},
   "outputs": [],
   "source": [
    "N_TRAIN = int(input_data.shape[0]*.7)\n",
    "train_input = input_data[:N_TRAIN, ...]\n",
    "train_label = output_label[:N_TRAIN, ...]\n",
    "train_indices = data_indices[:N_TRAIN]\n",
    "val_input = input_data[N_TRAIN:, ...]\n",
    "val_label = output_label[N_TRAIN:, ...]\n",
    "val_indices = data_indices[N_TRAIN:]"
   ]
  },
  {
   "cell_type": "code",
   "execution_count": 15,
   "metadata": {},
   "outputs": [
    {
     "name": "stdout",
     "output_type": "stream",
     "text": [
      "number of training set: 254\n",
      "number of validation set: 109\n"
     ]
    }
   ],
   "source": [
    "print(f'number of training set: {train_input.shape[0]}')\n",
    "print(f'number of validation set: {val_input.shape[0]}')"
   ]
  },
  {
   "cell_type": "code",
   "execution_count": 16,
   "metadata": {},
   "outputs": [],
   "source": [
    "with strategy.scope():\n",
    "    train_dataset = tf.data.Dataset.from_tensor_slices((train_input, train_label))\n",
    "    train_dataset = train_dataset.cache().shuffle(BATCH_SIZE*10).batch(BATCH_SIZE, drop_remainder=False)\n",
    "    val_dataset = tf.data.Dataset.from_tensor_slices((val_input, val_label))\n",
    "    val_dataset = val_dataset.cache().shuffle(BATCH_SIZE*10).batch(BATCH_SIZE, drop_remainder=False)"
   ]
  },
  {
   "cell_type": "markdown",
   "metadata": {},
   "source": [
    "# Model construction"
   ]
  },
  {
   "cell_type": "code",
   "execution_count": 17,
   "metadata": {},
   "outputs": [],
   "source": [
    "class EmbeddingLayer(layers.Layer):\n",
    "    def __init__(self, num_nodes):\n",
    "        super(EmbeddingLayer, self).__init__()\n",
    "        self.n = num_nodes\n",
    "        \n",
    "        self.dense = layers.Dense(self.n)\n",
    "        self.norm = layers.LayerNormalization(epsilon=1e-6)\n",
    "        \n",
    "    def call(self, inp, is_train=True, **kwargs):\n",
    "        \n",
    "        inp = self.dense(inp)\n",
    "        inp = self.norm(inp, training=is_train)\n",
    "\n",
    "        return inp"
   ]
  },
  {
   "cell_type": "code",
   "execution_count": 18,
   "metadata": {},
   "outputs": [],
   "source": [
    "class EncoderBlock(layers.Layer):\n",
    "    def __init__(self, num_nodes, num_heads):\n",
    "        super(EncoderBlock, self).__init__()\n",
    "        self.n = num_nodes\n",
    "        self.h = num_heads\n",
    "        self.d = self.n // self.h\n",
    "        \n",
    "        self.wq = layers.Dense(self.n)\n",
    "        self.wk = layers.Dense(self.n)\n",
    "        self.wv = layers.Dense(self.n)\n",
    "        \n",
    "        self.dropout = layers.Dropout(0.1)\n",
    "        self.norm1 = layers.LayerNormalization(epsilon=1e-6)\n",
    "        \n",
    "        self.dense1 = layers.Dense(self.n, activation=tf.nn.relu)\n",
    "        self.dense2 = layers.Dense(self.n)\n",
    "        self.norm2 = layers.LayerNormalization(epsilon=1e-6)\n",
    "        \n",
    "    def head_maker(self, x, axis_1=2, axis_2=0):\n",
    "        x = tf.concat(tf.split(x, self.h, axis=axis_1), axis=axis_2)\n",
    "        \n",
    "        return x\n",
    "    \n",
    "    def call(self, inp, is_train=True, **kwargs):\n",
    "        Q = self.head_maker(self.wq(inp))\n",
    "        K = self.head_maker(self.wk(inp))\n",
    "        V = self.head_maker(self.wv(inp))\n",
    "        \n",
    "        oup = tf.matmul(Q, tf.transpose(K, (0, 2, 1)))\n",
    "        oup = oup / tf.math.sqrt(tf.cast(K.shape[-1], tf.float32))\n",
    "        oup = tf.nn.softmax(oup)\n",
    "        oup = self.dropout(oup, training=is_train)\n",
    "        oup = tf.matmul(oup, V)\n",
    "        oup = self.head_maker(oup, 0, 2)\n",
    "        oup += inp\n",
    "        oup = self.norm1(oup, training=is_train)\n",
    "        \n",
    "        oup_ffnn = self.dense1(oup)\n",
    "        oup_ffnn = self.dense2(oup_ffnn)\n",
    "        oup += oup_ffnn\n",
    "        oup = self.norm2(oup, training=is_train)\n",
    "        \n",
    "        return oup"
   ]
  },
  {
   "cell_type": "code",
   "execution_count": 19,
   "metadata": {},
   "outputs": [],
   "source": [
    "class TransformerLike(Model):\n",
    "    def __init__(self, num_nodes, num_heads, num_layers):\n",
    "        super(TransformerLike, self).__init__()\n",
    "        self.n = num_nodes\n",
    "        self.h = num_heads\n",
    "        self.l = num_layers\n",
    "        \n",
    "        self.emb = EmbeddingLayer(self.n)\n",
    "        self.encs = [EncoderBlock(self.n, self.h) for _ in range(self.l)]\n",
    "        \n",
    "        self.dense1 = layers.Dense(self.n, activation=tf.nn.relu)\n",
    "        self.dense2 = layers.Dense(self.n, activation=tf.nn.relu)\n",
    "        self.dense3 = layers.Dense(self.n, activation=tf.nn.relu)\n",
    "        self.flatten = layers.Flatten()\n",
    "        self.outdense1 = layers.Dense(32)\n",
    "        self.outdense2 = layers.Dense(1)\n",
    "        \n",
    "    def call(self, inp, is_train=True, **kwargs):\n",
    "        \n",
    "        inp = self.emb(inp)\n",
    "        for i in range(self.l):\n",
    "            inp = self.encs[i](inp, training=is_train)\n",
    "            \n",
    "        inp = self.dense1(inp)\n",
    "        inp = self.dense2(inp)\n",
    "        inp = self.dense3(inp)\n",
    "        inp = self.outdense1(self.flatten(inp))\n",
    "        inp = self.outdense2(inp)\n",
    "        \n",
    "        return inp"
   ]
  },
  {
   "cell_type": "code",
   "execution_count": 20,
   "metadata": {},
   "outputs": [],
   "source": [
    "with strategy.scope():\n",
    "    model = TransformerLike(128, 4, 2)"
   ]
  },
  {
   "cell_type": "code",
   "execution_count": 21,
   "metadata": {},
   "outputs": [],
   "source": [
    "cbs = callbacks.ReduceLROnPlateau(\n",
    "    monitor='val_loss', factor=.1, patience=15, verbose=0, mode='auto',\n",
    "    min_delta=0.0001, cooldown=0, min_lr=0)\n",
    "\n",
    "save = callbacks.ModelCheckpoint(\n",
    "    BEST_PATH, monitor='val_loss', verbose=0,\n",
    "    save_best_only=True, save_weights_only=True, mode='min', save_freq='epoch')\n",
    "\n",
    "early_stop = callbacks.EarlyStopping(monitor='val_loss', min_delta=0.0001, patience=30) "
   ]
  },
  {
   "cell_type": "code",
   "execution_count": 22,
   "metadata": {
    "scrolled": true
   },
   "outputs": [
    {
     "name": "stdout",
     "output_type": "stream",
     "text": [
      "Epoch 1/200\n",
      "WARNING:tensorflow:From /home/ubuntu/anaconda3/envs/tensorflow2_p36/lib/python3.6/site-packages/tensorflow/python/data/ops/multi_device_iterator_ops.py:601: get_next_as_optional (from tensorflow.python.data.ops.iterator_ops) is deprecated and will be removed in a future version.\n",
      "Instructions for updating:\n",
      "Use `tf.data.Iterator.get_next_as_optional()` instead.\n",
      "INFO:tensorflow:Reduce to /job:localhost/replica:0/task:0/device:CPU:0 then broadcast to ('/job:localhost/replica:0/task:0/device:CPU:0',).\n",
      "INFO:tensorflow:Reduce to /job:localhost/replica:0/task:0/device:CPU:0 then broadcast to ('/job:localhost/replica:0/task:0/device:CPU:0',).\n",
      "INFO:tensorflow:Reduce to /job:localhost/replica:0/task:0/device:CPU:0 then broadcast to ('/job:localhost/replica:0/task:0/device:CPU:0',).\n",
      "INFO:tensorflow:Reduce to /job:localhost/replica:0/task:0/device:CPU:0 then broadcast to ('/job:localhost/replica:0/task:0/device:CPU:0',).\n",
      "30/32 [===========================>..] - ETA: 0s - loss: 3.6880INFO:tensorflow:Reduce to /job:localhost/replica:0/task:0/device:CPU:0 then broadcast to ('/job:localhost/replica:0/task:0/device:CPU:0',).\n",
      "INFO:tensorflow:Reduce to /job:localhost/replica:0/task:0/device:CPU:0 then broadcast to ('/job:localhost/replica:0/task:0/device:CPU:0',).\n",
      "INFO:tensorflow:Reduce to /job:localhost/replica:0/task:0/device:CPU:0 then broadcast to ('/job:localhost/replica:0/task:0/device:CPU:0',).\n",
      "INFO:tensorflow:Reduce to /job:localhost/replica:0/task:0/device:CPU:0 then broadcast to ('/job:localhost/replica:0/task:0/device:CPU:0',).\n",
      "32/32 [==============================] - 2s 67ms/step - loss: 3.5975 - val_loss: 2.4097\n",
      "INFO:tensorflow:Reduce to /job:localhost/replica:0/task:0/device:CPU:0 then broadcast to ('/job:localhost/replica:0/task:0/device:CPU:0',).\n",
      "INFO:tensorflow:Reduce to /job:localhost/replica:0/task:0/device:CPU:0 then broadcast to ('/job:localhost/replica:0/task:0/device:CPU:0',).\n",
      "Epoch 2/200\n",
      "32/32 [==============================] - 1s 16ms/step - loss: 0.9445 - val_loss: 0.4960\n",
      "Epoch 3/200\n",
      "32/32 [==============================] - 0s 15ms/step - loss: 0.3077 - val_loss: 0.1876\n",
      "Epoch 4/200\n",
      "32/32 [==============================] - 1s 17ms/step - loss: 0.2100 - val_loss: 0.2892\n",
      "Epoch 5/200\n",
      "32/32 [==============================] - 1s 20ms/step - loss: 0.1606 - val_loss: 0.0844\n",
      "Epoch 6/200\n",
      "32/32 [==============================] - 1s 21ms/step - loss: 0.1369 - val_loss: 0.0843\n",
      "Epoch 7/200\n",
      "32/32 [==============================] - 1s 19ms/step - loss: 0.0783 - val_loss: 0.0735\n",
      "Epoch 8/200\n",
      "32/32 [==============================] - 1s 17ms/step - loss: 0.0892 - val_loss: 0.1575\n",
      "Epoch 9/200\n",
      "32/32 [==============================] - 1s 18ms/step - loss: 0.1319 - val_loss: 0.1464\n",
      "Epoch 10/200\n",
      "32/32 [==============================] - 1s 16ms/step - loss: 0.1246 - val_loss: 0.1154\n",
      "Epoch 11/200\n",
      "32/32 [==============================] - 1s 17ms/step - loss: 0.1077 - val_loss: 0.1480\n",
      "Epoch 12/200\n",
      "32/32 [==============================] - 1s 17ms/step - loss: 0.0979 - val_loss: 0.1201\n",
      "Epoch 13/200\n",
      "32/32 [==============================] - 1s 17ms/step - loss: 0.0834 - val_loss: 0.0530\n",
      "Epoch 14/200\n",
      "32/32 [==============================] - 1s 17ms/step - loss: 0.0799 - val_loss: 0.1575\n",
      "Epoch 15/200\n",
      "32/32 [==============================] - 1s 17ms/step - loss: 0.0995 - val_loss: 0.0645\n",
      "Epoch 16/200\n",
      "32/32 [==============================] - 1s 18ms/step - loss: 0.0727 - val_loss: 0.0507\n",
      "Epoch 17/200\n",
      "32/32 [==============================] - 1s 17ms/step - loss: 0.0751 - val_loss: 0.0623\n",
      "Epoch 18/200\n",
      "32/32 [==============================] - 1s 17ms/step - loss: 0.0882 - val_loss: 0.0948\n",
      "Epoch 19/200\n",
      "32/32 [==============================] - 1s 17ms/step - loss: 0.1015 - val_loss: 0.1342\n",
      "Epoch 20/200\n",
      "32/32 [==============================] - 1s 17ms/step - loss: 0.0703 - val_loss: 0.0564\n",
      "Epoch 21/200\n",
      "32/32 [==============================] - 1s 16ms/step - loss: 0.0651 - val_loss: 0.0786\n",
      "Epoch 22/200\n",
      "32/32 [==============================] - 1s 18ms/step - loss: 0.0644 - val_loss: 0.0482\n",
      "Epoch 23/200\n",
      "32/32 [==============================] - 1s 17ms/step - loss: 0.0977 - val_loss: 0.1288\n",
      "Epoch 24/200\n",
      "32/32 [==============================] - 1s 18ms/step - loss: 0.0742 - val_loss: 0.0670\n",
      "Epoch 25/200\n",
      "32/32 [==============================] - 1s 18ms/step - loss: 0.0600 - val_loss: 0.1288\n",
      "Epoch 26/200\n",
      "32/32 [==============================] - 1s 19ms/step - loss: 0.0680 - val_loss: 0.0678\n",
      "Epoch 27/200\n",
      "32/32 [==============================] - 1s 18ms/step - loss: 0.0767 - val_loss: 0.0741\n",
      "Epoch 28/200\n",
      "32/32 [==============================] - 1s 17ms/step - loss: 0.0666 - val_loss: 0.0698\n",
      "Epoch 29/200\n",
      "32/32 [==============================] - 1s 16ms/step - loss: 0.0686 - val_loss: 0.0891\n",
      "Epoch 30/200\n",
      "32/32 [==============================] - 0s 16ms/step - loss: 0.0758 - val_loss: 0.0566\n",
      "Epoch 31/200\n",
      "32/32 [==============================] - 1s 18ms/step - loss: 0.0545 - val_loss: 0.0458\n",
      "Epoch 32/200\n",
      "32/32 [==============================] - 1s 16ms/step - loss: 0.0440 - val_loss: 0.0466\n",
      "Epoch 33/200\n",
      "32/32 [==============================] - 1s 17ms/step - loss: 0.0485 - val_loss: 0.0505\n",
      "Epoch 34/200\n",
      "32/32 [==============================] - 1s 18ms/step - loss: 0.0639 - val_loss: 0.0424\n",
      "Epoch 35/200\n",
      "32/32 [==============================] - 1s 18ms/step - loss: 0.0525 - val_loss: 0.0397\n",
      "Epoch 36/200\n",
      "32/32 [==============================] - 1s 17ms/step - loss: 0.0551 - val_loss: 0.0850\n",
      "Epoch 37/200\n",
      "32/32 [==============================] - 1s 17ms/step - loss: 0.0553 - val_loss: 0.0872\n",
      "Epoch 38/200\n",
      "32/32 [==============================] - 1s 16ms/step - loss: 0.0734 - val_loss: 0.0614\n",
      "Epoch 39/200\n",
      "32/32 [==============================] - 0s 15ms/step - loss: 0.0453 - val_loss: 0.0432\n",
      "Epoch 40/200\n",
      "32/32 [==============================] - 1s 16ms/step - loss: 0.0667 - val_loss: 0.1383\n",
      "Epoch 41/200\n",
      "32/32 [==============================] - 1s 17ms/step - loss: 0.0612 - val_loss: 0.0424\n",
      "Epoch 42/200\n",
      "32/32 [==============================] - 1s 19ms/step - loss: 0.0709 - val_loss: 0.0602\n",
      "Epoch 43/200\n",
      "32/32 [==============================] - 1s 17ms/step - loss: 0.0525 - val_loss: 0.0494\n",
      "Epoch 44/200\n",
      "32/32 [==============================] - 1s 16ms/step - loss: 0.0722 - val_loss: 0.1113\n",
      "Epoch 45/200\n",
      "32/32 [==============================] - 1s 17ms/step - loss: 0.0928 - val_loss: 0.0513\n",
      "Epoch 46/200\n",
      "32/32 [==============================] - 1s 17ms/step - loss: 0.0535 - val_loss: 0.0444\n",
      "Epoch 47/200\n",
      "32/32 [==============================] - 1s 18ms/step - loss: 0.0566 - val_loss: 0.0452\n",
      "Epoch 48/200\n",
      "32/32 [==============================] - 1s 19ms/step - loss: 0.0519 - val_loss: 0.0392\n",
      "Epoch 49/200\n",
      "32/32 [==============================] - 1s 17ms/step - loss: 0.0602 - val_loss: 0.0388\n",
      "Epoch 50/200\n",
      "32/32 [==============================] - 1s 18ms/step - loss: 0.0523 - val_loss: 0.0393\n",
      "Epoch 51/200\n",
      "32/32 [==============================] - 1s 17ms/step - loss: 0.0543 - val_loss: 0.0421\n",
      "Epoch 52/200\n",
      "32/32 [==============================] - 0s 15ms/step - loss: 0.0514 - val_loss: 0.0700\n",
      "Epoch 53/200\n",
      "32/32 [==============================] - 1s 17ms/step - loss: 0.0485 - val_loss: 0.0435\n",
      "Epoch 54/200\n",
      "32/32 [==============================] - 1s 16ms/step - loss: 0.0555 - val_loss: 0.0474\n",
      "Epoch 55/200\n",
      "32/32 [==============================] - 1s 16ms/step - loss: 0.0489 - val_loss: 0.0398\n",
      "Epoch 56/200\n",
      "32/32 [==============================] - 1s 16ms/step - loss: 0.0651 - val_loss: 0.0773\n",
      "Epoch 57/200\n",
      "32/32 [==============================] - 1s 18ms/step - loss: 0.0581 - val_loss: 0.0385\n",
      "Epoch 58/200\n",
      "32/32 [==============================] - 1s 16ms/step - loss: 0.0557 - val_loss: 0.0513\n",
      "Epoch 59/200\n",
      "32/32 [==============================] - 1s 17ms/step - loss: 0.0645 - val_loss: 0.0606\n",
      "Epoch 60/200\n",
      "32/32 [==============================] - 0s 16ms/step - loss: 0.0537 - val_loss: 0.0713\n",
      "Epoch 61/200\n",
      "32/32 [==============================] - 0s 14ms/step - loss: 0.0772 - val_loss: 0.0895\n",
      "Epoch 62/200\n",
      "32/32 [==============================] - 0s 14ms/step - loss: 0.0592 - val_loss: 0.0542\n",
      "Epoch 63/200\n",
      "32/32 [==============================] - 0s 13ms/step - loss: 0.0602 - val_loss: 0.0427\n",
      "Epoch 64/200\n",
      "32/32 [==============================] - 0s 13ms/step - loss: 0.0560 - val_loss: 0.0509\n",
      "Epoch 65/200\n",
      "32/32 [==============================] - 1s 16ms/step - loss: 0.0475 - val_loss: 0.0439\n",
      "Epoch 66/200\n",
      "32/32 [==============================] - 0s 14ms/step - loss: 0.0471 - val_loss: 0.0503\n",
      "Epoch 67/200\n",
      "32/32 [==============================] - 0s 14ms/step - loss: 0.0517 - val_loss: 0.0461\n",
      "Epoch 68/200\n",
      "32/32 [==============================] - 0s 14ms/step - loss: 0.0675 - val_loss: 0.0422\n",
      "Epoch 69/200\n",
      "32/32 [==============================] - 0s 14ms/step - loss: 0.0693 - val_loss: 0.0449\n",
      "Epoch 70/200\n",
      "32/32 [==============================] - 0s 14ms/step - loss: 0.0460 - val_loss: 0.0397\n",
      "Epoch 71/200\n",
      "32/32 [==============================] - 0s 13ms/step - loss: 0.0453 - val_loss: 0.0604\n",
      "Epoch 72/200\n",
      "32/32 [==============================] - 0s 13ms/step - loss: 0.0581 - val_loss: 0.0418\n",
      "Epoch 73/200\n",
      "32/32 [==============================] - 0s 15ms/step - loss: 0.0385 - val_loss: 0.0370\n",
      "Epoch 74/200\n",
      "32/32 [==============================] - 0s 15ms/step - loss: 0.0376 - val_loss: 0.0358\n",
      "Epoch 75/200\n",
      "32/32 [==============================] - 0s 13ms/step - loss: 0.0370 - val_loss: 0.0369\n",
      "Epoch 76/200\n",
      "32/32 [==============================] - 0s 13ms/step - loss: 0.0369 - val_loss: 0.0362\n",
      "Epoch 77/200\n",
      "32/32 [==============================] - 0s 13ms/step - loss: 0.0364 - val_loss: 0.0371\n",
      "Epoch 78/200\n",
      "32/32 [==============================] - 0s 13ms/step - loss: 0.0376 - val_loss: 0.0370\n",
      "Epoch 79/200\n",
      "32/32 [==============================] - 0s 13ms/step - loss: 0.0374 - val_loss: 0.0360\n",
      "Epoch 80/200\n",
      "32/32 [==============================] - 0s 15ms/step - loss: 0.0374 - val_loss: 0.0358\n",
      "Epoch 81/200\n",
      "32/32 [==============================] - 0s 14ms/step - loss: 0.0362 - val_loss: 0.0372\n",
      "Epoch 82/200\n",
      "32/32 [==============================] - 0s 13ms/step - loss: 0.0397 - val_loss: 0.0368\n",
      "Epoch 83/200\n",
      "32/32 [==============================] - 0s 13ms/step - loss: 0.0361 - val_loss: 0.0370\n",
      "Epoch 84/200\n",
      "32/32 [==============================] - 0s 13ms/step - loss: 0.0363 - val_loss: 0.0413\n",
      "Epoch 85/200\n",
      "32/32 [==============================] - 0s 13ms/step - loss: 0.0378 - val_loss: 0.0363\n",
      "Epoch 86/200\n",
      "32/32 [==============================] - 0s 13ms/step - loss: 0.0352 - val_loss: 0.0361\n",
      "Epoch 87/200\n",
      "32/32 [==============================] - 0s 15ms/step - loss: 0.0368 - val_loss: 0.0350\n",
      "Epoch 88/200\n",
      "32/32 [==============================] - 0s 13ms/step - loss: 0.0367 - val_loss: 0.0358\n",
      "Epoch 89/200\n",
      "32/32 [==============================] - 0s 14ms/step - loss: 0.0361 - val_loss: 0.0358\n",
      "Epoch 90/200\n",
      "32/32 [==============================] - 0s 15ms/step - loss: 0.0357 - val_loss: 0.0349\n",
      "Epoch 91/200\n",
      "32/32 [==============================] - 0s 14ms/step - loss: 0.0353 - val_loss: 0.0351\n",
      "Epoch 92/200\n",
      "32/32 [==============================] - 0s 14ms/step - loss: 0.0358 - val_loss: 0.0394\n",
      "Epoch 93/200\n",
      "32/32 [==============================] - 0s 13ms/step - loss: 0.0390 - val_loss: 0.0379\n",
      "Epoch 94/200\n",
      "32/32 [==============================] - 0s 14ms/step - loss: 0.0371 - val_loss: 0.0357\n",
      "Epoch 95/200\n",
      "32/32 [==============================] - 0s 13ms/step - loss: 0.0369 - val_loss: 0.0374\n",
      "Epoch 96/200\n",
      "32/32 [==============================] - 0s 13ms/step - loss: 0.0364 - val_loss: 0.0379\n",
      "Epoch 97/200\n",
      "32/32 [==============================] - 0s 13ms/step - loss: 0.0367 - val_loss: 0.0367\n",
      "Epoch 98/200\n",
      "32/32 [==============================] - 0s 13ms/step - loss: 0.0374 - val_loss: 0.0382\n",
      "Epoch 99/200\n",
      "32/32 [==============================] - 0s 13ms/step - loss: 0.0373 - val_loss: 0.0362\n",
      "Epoch 100/200\n",
      "32/32 [==============================] - 0s 13ms/step - loss: 0.0367 - val_loss: 0.0358\n",
      "Epoch 101/200\n",
      "32/32 [==============================] - 0s 14ms/step - loss: 0.0370 - val_loss: 0.0392\n",
      "Epoch 102/200\n",
      "32/32 [==============================] - 0s 14ms/step - loss: 0.0373 - val_loss: 0.0374\n",
      "Epoch 103/200\n",
      "32/32 [==============================] - 0s 14ms/step - loss: 0.0380 - val_loss: 0.0354\n",
      "Epoch 104/200\n",
      "32/32 [==============================] - 0s 13ms/step - loss: 0.0373 - val_loss: 0.0363\n",
      "Epoch 105/200\n",
      "32/32 [==============================] - 0s 13ms/step - loss: 0.0354 - val_loss: 0.0377\n",
      "Epoch 106/200\n",
      "32/32 [==============================] - 0s 13ms/step - loss: 0.0363 - val_loss: 0.0356\n",
      "Epoch 107/200\n",
      "32/32 [==============================] - 0s 13ms/step - loss: 0.0348 - val_loss: 0.0353\n",
      "Epoch 108/200\n",
      "32/32 [==============================] - 0s 13ms/step - loss: 0.0341 - val_loss: 0.0350\n",
      "Epoch 109/200\n",
      "32/32 [==============================] - 0s 13ms/step - loss: 0.0344 - val_loss: 0.0368\n",
      "Epoch 110/200\n",
      "32/32 [==============================] - 0s 13ms/step - loss: 0.0341 - val_loss: 0.0369\n",
      "Epoch 111/200\n",
      "32/32 [==============================] - 0s 13ms/step - loss: 0.0350 - val_loss: 0.0365\n",
      "Epoch 112/200\n",
      "32/32 [==============================] - 0s 13ms/step - loss: 0.0345 - val_loss: 0.0364\n",
      "Epoch 113/200\n",
      "32/32 [==============================] - 0s 13ms/step - loss: 0.0342 - val_loss: 0.0358\n",
      "Epoch 114/200\n",
      "32/32 [==============================] - 0s 13ms/step - loss: 0.0346 - val_loss: 0.0362\n",
      "Epoch 115/200\n",
      "32/32 [==============================] - 0s 13ms/step - loss: 0.0343 - val_loss: 0.0354\n",
      "Epoch 116/200\n",
      "32/32 [==============================] - 0s 13ms/step - loss: 0.0341 - val_loss: 0.0358\n",
      "Epoch 117/200\n",
      "32/32 [==============================] - 0s 14ms/step - loss: 0.0347 - val_loss: 0.0348\n",
      "Epoch 118/200\n",
      "32/32 [==============================] - 0s 13ms/step - loss: 0.0341 - val_loss: 0.0373\n",
      "Epoch 119/200\n",
      "32/32 [==============================] - 0s 13ms/step - loss: 0.0347 - val_loss: 0.0366\n",
      "Epoch 120/200\n",
      "32/32 [==============================] - 0s 13ms/step - loss: 0.0340 - val_loss: 0.0364\n"
     ]
    }
   ],
   "source": [
    "with strategy.scope():\n",
    "    opt = tf.keras.optimizers.Adam(learning_rate=LEARNING_RATE, epsilon=EPSILON)\n",
    "    model.compile(optimizer=opt, loss='mae')\n",
    "    history = model.fit(train_dataset, epochs=TRAINING_EPOCHS, validation_data=val_dataset,\n",
    "                        verbose=1, callbacks=[cbs, save, early_stop]) "
   ]
  },
  {
   "cell_type": "code",
   "execution_count": 23,
   "metadata": {},
   "outputs": [],
   "source": [
    "# model.summary()"
   ]
  },
  {
   "cell_type": "code",
   "execution_count": 24,
   "metadata": {},
   "outputs": [
    {
     "data": {
      "image/png": "[encoded data removed]",
      "text/plain": [
       "<Figure size 481.89x340.157 with 1 Axes>"
      ]
     },
     "metadata": {},
     "output_type": "display_data"
    }
   ],
   "source": [
    "loss = history.history['loss']\n",
    "val_loss = history.history['val_loss']\n",
    "\n",
    "epochs = range(len(loss))\n",
    "\n",
    "fig = plt.figure(figsize=((8.5/2.54*2), (6/2.54*2)))\n",
    "ax0 = plt.subplot()\n",
    "ax0.plot(epochs, loss, 'b', label = 'Training loss')\n",
    "ax0.plot(epochs, val_loss, 'r', label = 'Validation loss')\n",
    "ax0.legend()\n",
    "ax0.set_ybound([0, 1])\n",
    "\n",
    "plt.show()"
   ]
  },
  {
   "cell_type": "code",
   "execution_count": 25,
   "metadata": {},
   "outputs": [],
   "source": [
    "model.load_weights(BEST_PATH)"
   ]
  },
  {
   "cell_type": "code",
   "execution_count": 26,
   "metadata": {},
   "outputs": [
    {
     "name": "stdout",
     "output_type": "stream",
     "text": [
      "14/14 [==============================] - 0s 4ms/step - loss: 0.0364\n"
     ]
    },
    {
     "data": {
      "text/plain": [
       "0.03639496862888336"
      ]
     },
     "execution_count": 26,
     "metadata": {},
     "output_type": "execute_result"
    }
   ],
   "source": [
    "model.evaluate(val_dataset)"
   ]
  },
  {
   "cell_type": "markdown",
   "metadata": {},
   "source": [
    "0.03591643646359444"
   ]
  },
  {
   "cell_type": "code",
   "execution_count": 27,
   "metadata": {},
   "outputs": [],
   "source": [
    "pred_output = model.predict(val_input)"
   ]
  },
  {
   "cell_type": "code",
   "execution_count": 28,
   "metadata": {},
   "outputs": [],
   "source": [
    "pred_output = pred_output*(OUTPUT_MAX - OUTPUT_MIN) + OUTPUT_MIN\n",
    "val_label = val_label*(OUTPUT_MAX - OUTPUT_MIN) + OUTPUT_MIN"
   ]
  },
  {
   "cell_type": "code",
   "execution_count": 29,
   "metadata": {},
   "outputs": [
    {
     "data": {
      "image/png": "[encoded data removed]",
      "text/plain": [
       "<Figure size 481.89x340.157 with 1 Axes>"
      ]
     },
     "metadata": {},
     "output_type": "display_data"
    }
   ],
   "source": [
    "fig = plt.figure(figsize=((8.5/2.54*2), (6/2.54*2)))\n",
    "ax0 = plt.subplot()\n",
    "\n",
    "ax0.spines['right'].set_visible(False)\n",
    "ax0.spines['left'].set_position(('outward', 5))\n",
    "ax0.spines['bottom'].set_position(('outward', 5))\n",
    "\n",
    "ax0.plot(val_label, pred_output, 'o', ms=5, mec='k', c=cmap[0])\n",
    "\n",
    "\n",
    "fig.tight_layout()"
   ]
  },
  {
   "cell_type": "code",
   "execution_count": 30,
   "metadata": {},
   "outputs": [],
   "source": [
    "pred_df = pd.DataFrame(val_label, index=val_indices[:, 0], columns=['label'])\n",
    "pred_df['pred'] = pred_output\n",
    "pred_df.index = pd.DatetimeIndex(pred_df.index)\n",
    "pred_df = pred_df.sort_index()"
   ]
  },
  {
   "cell_type": "code",
   "execution_count": 31,
   "metadata": {},
   "outputs": [
    {
     "data": {
      "image/png": "[encoded data removed]",
      "text/plain": [
       "<Figure size 481.89x340.157 with 1 Axes>"
      ]
     },
     "metadata": {},
     "output_type": "display_data"
    }
   ],
   "source": [
    "fig = plt.figure(figsize=((8.5/2.54*2), (6/2.54*2)))\n",
    "ax0 = plt.subplot()\n",
    "\n",
    "ax0.spines['right'].set_visible(False)\n",
    "ax0.spines['left'].set_position(('outward', 5))\n",
    "ax0.spines['bottom'].set_position(('outward', 5))\n",
    "\n",
    "ax0.plot(pred_df.index, pred_df['label'], '-o', ms=5, mec='k', c=cmap[4])\n",
    "ax0.plot(pred_df.index, pred_df['pred'], 'o', ms=5, mec='k', c=cmap[0])\n",
    "\n",
    "\n",
    "fig.tight_layout()"
   ]
  },
  {
   "cell_type": "code",
   "execution_count": 32,
   "metadata": {},
   "outputs": [],
   "source": [
    "pred_df.to_csv('./results/model_output/transformer.csv')"
   ]
  }
 ],
 "metadata": {
  "kernelspec": {
   "display_name": "Environment (conda_tensorflow2_p36)",
   "language": "python",
   "name": "conda_tensorflow2_p36"
  },
  "language_info": {
   "codemirror_mode": {
    "name": "ipython",
    "version": 3
   },
   "file_extension": ".py",
   "mimetype": "text/x-python",
   "name": "python",
   "nbconvert_exporter": "python",
   "pygments_lexer": "ipython3",
   "version": "3.6.10"
  }
 },
 "nbformat": 4,
 "nbformat_minor": 4
}
