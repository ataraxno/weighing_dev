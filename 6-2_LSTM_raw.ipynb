{
 "cells": [
  {
   "cell_type": "code",
   "execution_count": 1,
   "metadata": {},
   "outputs": [
    {
     "data": {
      "text/plain": [
       "'2.3.0'"
      ]
     },
     "execution_count": 1,
     "metadata": {},
     "output_type": "execute_result"
    }
   ],
   "source": [
    "import pandas as pd\n",
    "import numpy as np\n",
    "np.set_printoptions(precision=6, suppress=True)\n",
    "from sklearn.model_selection import train_test_split\n",
    "\n",
    "from tqdm import tqdm\n",
    "\n",
    "import tensorflow as tf\n",
    "from tensorflow.keras import *\n",
    "import tensorflow_addons as tfa\n",
    "tf.__version__"
   ]
  },
  {
   "cell_type": "code",
   "execution_count": 2,
   "metadata": {},
   "outputs": [],
   "source": [
    "import matplotlib\n",
    "import matplotlib.pyplot as plt\n",
    "import matplotlib.dates as mdates\n",
    "from matplotlib.ticker import (LinearLocator, MultipleLocator, FormatStrFormatter)\n",
    "from matplotlib.dates import MONDAY\n",
    "from matplotlib.dates import MonthLocator, WeekdayLocator, DateFormatter\n",
    "from matplotlib import gridspec\n",
    "from pandas.plotting import register_matplotlib_converters\n",
    "register_matplotlib_converters()\n",
    "%matplotlib inline"
   ]
  },
  {
   "cell_type": "code",
   "execution_count": 3,
   "metadata": {},
   "outputs": [],
   "source": [
    "plt.rcParams['figure.figsize'] = ((8/2.54), (6/2.54))\n",
    "plt.rcParams[\"font.family\"] = \"Arial\"\n",
    "plt.rcParams[\"mathtext.default\"] = \"rm\"\n",
    "plt.rcParams.update({'font.size': 11})\n",
    "MARKER_SIZE = 15\n",
    "cmap_m = [\"#f4a6ad\", \"#f6957e\", \"#fccfa2\", \"#8de7be\", \"#86d6f2\", \"#24a9e4\", \"#b586e0\", \"#d7f293\"]\n",
    "cmap = [\"#e94d5b\", \"#ef4d28\", \"#f9a54f\", \"#25b575\", \"#1bb1e7\", \"#1477a2\", \"#a662e5\", \"#c2f442\"]\n",
    "\n",
    "plt.rcParams['axes.spines.top'] = False\n",
    "# plt.rcParams['axes.edgecolor'] = \n",
    "plt.rcParams['axes.linewidth'] = 1\n",
    "plt.rcParams['lines.linewidth'] = 1.5\n",
    "plt.rcParams['xtick.major.width'] = 1\n",
    "plt.rcParams['xtick.minor.width'] = 1\n",
    "plt.rcParams['ytick.major.width'] = 1\n",
    "plt.rcParams['ytick.minor.width'] = 1"
   ]
  },
  {
   "cell_type": "code",
   "execution_count": 4,
   "metadata": {},
   "outputs": [
    {
     "data": {
      "text/plain": [
       "[PhysicalDevice(name='/physical_device:GPU:0', device_type='GPU')]"
      ]
     },
     "execution_count": 4,
     "metadata": {},
     "output_type": "execute_result"
    }
   ],
   "source": [
    "tf.config.list_physical_devices('GPU')"
   ]
  },
  {
   "cell_type": "code",
   "execution_count": 5,
   "metadata": {},
   "outputs": [
    {
     "name": "stdout",
     "output_type": "stream",
     "text": [
      "1 Physical GPUs, 1 Logical GPUs\n"
     ]
    }
   ],
   "source": [
    "gpus = tf.config.experimental.list_physical_devices('GPU')\n",
    "if gpus:\n",
    "    try:\n",
    "        for gpu in gpus:\n",
    "            tf.config.experimental.set_memory_growth(gpu, True)\n",
    "        logical_gpus = tf.config.experimental.list_logical_devices('GPU')\n",
    "        print(len(gpus), \"Physical GPUs,\", len(logical_gpus), \"Logical GPUs\")\n",
    "    except RuntimeError as e:\n",
    "        print(e)"
   ]
  },
  {
   "cell_type": "markdown",
   "metadata": {},
   "source": [
    "# Hyperparameters"
   ]
  },
  {
   "cell_type": "code",
   "execution_count": 6,
   "metadata": {},
   "outputs": [],
   "source": [
    "BEST_PATH = './models/lstm_raw.h5'\n",
    "TRAINING_EPOCHS = 200\n",
    "LEARNING_RATE = 0.001\n",
    "EPSILON = 1e-08\n",
    "BATCH_SIZE = 16"
   ]
  },
  {
   "cell_type": "markdown",
   "metadata": {},
   "source": [
    "# Data loading"
   ]
  },
  {
   "cell_type": "code",
   "execution_count": 7,
   "metadata": {},
   "outputs": [],
   "source": [
    "l = np.load('./results/2020_W/fw_ct_dataset.npz', allow_pickle=True)\n",
    "data_indices = l['data_indices']\n",
    "input_data = l['input_data']\n",
    "output_label = l['output_label']\n",
    "INPUT_MAXS = l['INPUT_MAXS']\n",
    "INPUT_MINS = l['INPUT_MINS']\n",
    "OUTPUT_MAX = l['OUTPUT_MAX']\n",
    "OUTPUT_MIN = l['OUTPUT_MIN']"
   ]
  },
  {
   "cell_type": "code",
   "execution_count": 8,
   "metadata": {},
   "outputs": [],
   "source": [
    "input_data = input_data.astype('float32')\n",
    "output_label = output_label.astype('float32')"
   ]
  },
  {
   "cell_type": "code",
   "execution_count": 9,
   "metadata": {},
   "outputs": [
    {
     "name": "stdout",
     "output_type": "stream",
     "text": [
      "(456, 144, 9)\n",
      "(456, 1)\n"
     ]
    }
   ],
   "source": [
    "print(input_data.shape)\n",
    "print(output_label.shape)"
   ]
  },
  {
   "cell_type": "code",
   "execution_count": 10,
   "metadata": {},
   "outputs": [
    {
     "name": "stdout",
     "output_type": "stream",
     "text": [
      "[  42.31875   99.      1313.3       78.755     10.006      5.057\n",
      "   36.58      55.877     19.731  ]\n",
      "[11.5       4.4325   -0.5957   32.115     0.205     0.112    11.53\n",
      "  8.744    11.000128]\n"
     ]
    }
   ],
   "source": [
    "print(INPUT_MAXS)\n",
    "print(INPUT_MINS)"
   ]
  },
  {
   "cell_type": "code",
   "execution_count": 11,
   "metadata": {},
   "outputs": [
    {
     "name": "stdout",
     "output_type": "stream",
     "text": [
      "2.5180414673761202\n",
      "0.15073025551954564\n"
     ]
    }
   ],
   "source": [
    "print(OUTPUT_MAX)\n",
    "print(OUTPUT_MIN)"
   ]
  },
  {
   "cell_type": "code",
   "execution_count": 12,
   "metadata": {},
   "outputs": [],
   "source": [
    "N_TRAIN = int(input_data.shape[0]*.09)\n",
    "N_DEV = int(input_data.shape[0]/3)\n",
    "TRAIN_INDEX = [_ for _ in range(N_TRAIN)] + \\\n",
    "              [_ for _ in range(N_DEV, N_DEV+N_TRAIN)] + \\\n",
    "              [_ for _ in range(N_DEV*2, N_DEV*2+N_TRAIN)]\n",
    "TEST_INDEX = [_ for _ in range(input_data.shape[0]) if _ not in TRAIN_INDEX]\n",
    "train_input = input_data[TRAIN_INDEX, ...]\n",
    "train_label = output_label[TRAIN_INDEX, ...]\n",
    "train_indices = data_indices[TRAIN_INDEX]\n",
    "test_input = input_data[TEST_INDEX, ...]\n",
    "test_label = output_label[TEST_INDEX, ...]\n",
    "test_indices = data_indices[TEST_INDEX]"
   ]
  },
  {
   "cell_type": "code",
   "execution_count": 13,
   "metadata": {},
   "outputs": [],
   "source": [
    "train_indices, val_indices, train_input, val_input, train_label, val_label = train_test_split(train_indices, train_input, train_label, test_size=0.3, shuffle=True, random_state=3101)"
   ]
  },
  {
   "cell_type": "code",
   "execution_count": 14,
   "metadata": {},
   "outputs": [
    {
     "name": "stdout",
     "output_type": "stream",
     "text": [
      "number of data set: 456\n",
      "number of training set: 86\n",
      "number of validation set: 37\n",
      "number of test set: 333\n"
     ]
    }
   ],
   "source": [
    "print(f'number of data set: {input_data.shape[0]}')\n",
    "print(f'number of training set: {train_input.shape[0]}')\n",
    "print(f'number of validation set: {val_input.shape[0]}')\n",
    "print(f'number of test set: {test_input.shape[0]}')"
   ]
  },
  {
   "cell_type": "code",
   "execution_count": 15,
   "metadata": {},
   "outputs": [],
   "source": [
    "train_dataset = tf.data.Dataset.from_tensor_slices((train_input, train_label))\n",
    "train_dataset = train_dataset.cache().shuffle(BATCH_SIZE*10).batch(BATCH_SIZE, drop_remainder=False)\n",
    "val_dataset = tf.data.Dataset.from_tensor_slices((val_input, val_label))\n",
    "val_dataset = val_dataset.cache().shuffle(BATCH_SIZE*10).batch(BATCH_SIZE, drop_remainder=False)"
   ]
  },
  {
   "cell_type": "markdown",
   "metadata": {},
   "source": [
    "# Model construction"
   ]
  },
  {
   "cell_type": "code",
   "execution_count": 16,
   "metadata": {},
   "outputs": [],
   "source": [
    "model = models.Sequential([\n",
    "    layers.Bidirectional(layers.LSTM(256)),\n",
    "    layers.LayerNormalization(),\n",
    "    layers.Dense(32),\n",
    "    layers.Dense(1)\n",
    "])"
   ]
  },
  {
   "cell_type": "code",
   "execution_count": 17,
   "metadata": {},
   "outputs": [],
   "source": [
    "cbs = callbacks.ReduceLROnPlateau(\n",
    "    monitor='val_loss', factor=.1, patience=5, verbose=0, mode='auto',\n",
    "    min_delta=0.0001, cooldown=0, min_lr=0)\n",
    "\n",
    "save = callbacks.ModelCheckpoint(\n",
    "    BEST_PATH, monitor='val_loss', verbose=0,\n",
    "    save_best_only=True, save_weights_only=True, mode='min', save_freq='epoch')\n",
    "\n",
    "early_stop = callbacks.EarlyStopping(monitor='val_loss', min_delta=0.0001, patience=20)"
   ]
  },
  {
   "cell_type": "code",
   "execution_count": 18,
   "metadata": {
    "scrolled": true
   },
   "outputs": [
    {
     "name": "stdout",
     "output_type": "stream",
     "text": [
      "Epoch 1/200\n",
      "6/6 [==============================] - 1s 145ms/step - loss: 3.5533 - val_loss: 5.1798\n",
      "Epoch 2/200\n",
      "6/6 [==============================] - 0s 28ms/step - loss: 3.2859 - val_loss: 0.5976\n",
      "Epoch 3/200\n",
      "6/6 [==============================] - 0s 34ms/step - loss: 2.1978 - val_loss: 0.1307\n",
      "Epoch 4/200\n",
      "6/6 [==============================] - 0s 19ms/step - loss: 0.7661 - val_loss: 1.2343\n",
      "Epoch 5/200\n",
      "6/6 [==============================] - 0s 18ms/step - loss: 0.8966 - val_loss: 1.3106\n",
      "Epoch 6/200\n",
      "6/6 [==============================] - 0s 24ms/step - loss: 0.8750 - val_loss: 0.8813\n",
      "Epoch 7/200\n",
      "6/6 [==============================] - 0s 32ms/step - loss: 0.6859 - val_loss: 0.1130\n",
      "Epoch 8/200\n",
      "6/6 [==============================] - 0s 32ms/step - loss: 0.7424 - val_loss: 0.3362\n",
      "Epoch 9/200\n",
      "6/6 [==============================] - 0s 22ms/step - loss: 0.4647 - val_loss: 0.6834\n",
      "Epoch 10/200\n",
      "6/6 [==============================] - 0s 21ms/step - loss: 0.4747 - val_loss: 0.2088\n",
      "Epoch 11/200\n",
      "6/6 [==============================] - 0s 29ms/step - loss: 0.3313 - val_loss: 0.6121\n",
      "Epoch 12/200\n",
      "6/6 [==============================] - 0s 31ms/step - loss: 0.4056 - val_loss: 0.0866\n",
      "Epoch 13/200\n",
      "6/6 [==============================] - 0s 23ms/step - loss: 0.3431 - val_loss: 0.4717\n",
      "Epoch 14/200\n",
      "6/6 [==============================] - 0s 28ms/step - loss: 0.4079 - val_loss: 0.2728\n",
      "Epoch 15/200\n",
      "6/6 [==============================] - 0s 30ms/step - loss: 0.2719 - val_loss: 0.4513\n",
      "Epoch 16/200\n",
      "6/6 [==============================] - 0s 22ms/step - loss: 0.2456 - val_loss: 0.2913\n",
      "Epoch 17/200\n",
      "6/6 [==============================] - 0s 27ms/step - loss: 0.2784 - val_loss: 0.0575\n",
      "Epoch 18/200\n",
      "6/6 [==============================] - 0s 29ms/step - loss: 0.2317 - val_loss: 0.1738\n",
      "Epoch 19/200\n",
      "6/6 [==============================] - 0s 29ms/step - loss: 0.1638 - val_loss: 0.0630\n",
      "Epoch 20/200\n",
      "6/6 [==============================] - 0s 22ms/step - loss: 0.2034 - val_loss: 0.2010\n",
      "Epoch 21/200\n",
      "6/6 [==============================] - 0s 28ms/step - loss: 0.1698 - val_loss: 0.0988\n",
      "Epoch 22/200\n",
      "6/6 [==============================] - 0s 32ms/step - loss: 0.2172 - val_loss: 0.0774\n",
      "Epoch 23/200\n",
      "6/6 [==============================] - 0s 20ms/step - loss: 0.0672 - val_loss: 0.0624\n",
      "Epoch 24/200\n",
      "6/6 [==============================] - 0s 26ms/step - loss: 0.0452 - val_loss: 0.0414\n",
      "Epoch 25/200\n",
      "6/6 [==============================] - 0s 29ms/step - loss: 0.0401 - val_loss: 0.0448\n",
      "Epoch 26/200\n",
      "6/6 [==============================] - 0s 33ms/step - loss: 0.0387 - val_loss: 0.0380\n",
      "Epoch 27/200\n",
      "6/6 [==============================] - 0s 22ms/step - loss: 0.0375 - val_loss: 0.0455\n",
      "Epoch 28/200\n",
      "6/6 [==============================] - 0s 29ms/step - loss: 0.0393 - val_loss: 0.0326\n",
      "Epoch 29/200\n",
      "6/6 [==============================] - 0s 32ms/step - loss: 0.0386 - val_loss: 0.0322\n",
      "Epoch 30/200\n",
      "6/6 [==============================] - 0s 20ms/step - loss: 0.0351 - val_loss: 0.0392\n",
      "Epoch 31/200\n",
      "6/6 [==============================] - 0s 25ms/step - loss: 0.0329 - val_loss: 0.0281\n",
      "Epoch 32/200\n",
      "6/6 [==============================] - 0s 30ms/step - loss: 0.0269 - val_loss: 0.0518\n",
      "Epoch 33/200\n",
      "6/6 [==============================] - 0s 30ms/step - loss: 0.0360 - val_loss: 0.0265\n",
      "Epoch 34/200\n",
      "6/6 [==============================] - 0s 23ms/step - loss: 0.0264 - val_loss: 0.0286\n",
      "Epoch 35/200\n",
      "6/6 [==============================] - 0s 30ms/step - loss: 0.0268 - val_loss: 0.0238\n",
      "Epoch 36/200\n",
      "6/6 [==============================] - 0s 34ms/step - loss: 0.0216 - val_loss: 0.0237\n",
      "Epoch 37/200\n",
      "6/6 [==============================] - 0s 23ms/step - loss: 0.0240 - val_loss: 0.0233\n",
      "Epoch 38/200\n",
      "6/6 [==============================] - 0s 20ms/step - loss: 0.0241 - val_loss: 0.0306\n",
      "Epoch 39/200\n",
      "6/6 [==============================] - 0s 29ms/step - loss: 0.0289 - val_loss: 0.0463\n",
      "Epoch 40/200\n",
      "6/6 [==============================] - 0s 30ms/step - loss: 0.0401 - val_loss: 0.0196\n",
      "Epoch 41/200\n",
      "6/6 [==============================] - 0s 24ms/step - loss: 0.0224 - val_loss: 0.0234\n",
      "Epoch 42/200\n",
      "6/6 [==============================] - 0s 30ms/step - loss: 0.0238 - val_loss: 0.0194\n",
      "Epoch 43/200\n",
      "6/6 [==============================] - 0s 34ms/step - loss: 0.0186 - val_loss: 0.0165\n",
      "Epoch 44/200\n",
      "6/6 [==============================] - 0s 20ms/step - loss: 0.0142 - val_loss: 0.0170\n",
      "Epoch 45/200\n",
      "6/6 [==============================] - 0s 23ms/step - loss: 0.0172 - val_loss: 0.0170\n",
      "Epoch 46/200\n",
      "6/6 [==============================] - 0s 32ms/step - loss: 0.0160 - val_loss: 0.0262\n",
      "Epoch 47/200\n",
      "6/6 [==============================] - 0s 25ms/step - loss: 0.0243 - val_loss: 0.0240\n",
      "Epoch 48/200\n",
      "6/6 [==============================] - 0s 23ms/step - loss: 0.0231 - val_loss: 0.0225\n",
      "Epoch 49/200\n",
      "6/6 [==============================] - 0s 26ms/step - loss: 0.0164 - val_loss: 0.0167\n",
      "Epoch 50/200\n",
      "6/6 [==============================] - 0s 33ms/step - loss: 0.0140 - val_loss: 0.0144\n",
      "Epoch 51/200\n",
      "6/6 [==============================] - 0s 23ms/step - loss: 0.0129 - val_loss: 0.0136\n",
      "Epoch 52/200\n",
      "6/6 [==============================] - 0s 22ms/step - loss: 0.0104 - val_loss: 0.0139\n",
      "Epoch 53/200\n",
      "6/6 [==============================] - 0s 32ms/step - loss: 0.0097 - val_loss: 0.0135\n",
      "Epoch 54/200\n",
      "6/6 [==============================] - 0s 31ms/step - loss: 0.0106 - val_loss: 0.0130\n",
      "Epoch 55/200\n",
      "6/6 [==============================] - 0s 26ms/step - loss: 0.0100 - val_loss: 0.0128\n",
      "Epoch 56/200\n",
      "6/6 [==============================] - 0s 33ms/step - loss: 0.0095 - val_loss: 0.0127\n",
      "Epoch 57/200\n",
      "6/6 [==============================] - 0s 33ms/step - loss: 0.0095 - val_loss: 0.0125\n",
      "Epoch 58/200\n",
      "6/6 [==============================] - 0s 21ms/step - loss: 0.0096 - val_loss: 0.0126\n",
      "Epoch 59/200\n",
      "6/6 [==============================] - 0s 25ms/step - loss: 0.0102 - val_loss: 0.0125\n",
      "Epoch 60/200\n",
      "6/6 [==============================] - 0s 35ms/step - loss: 0.0095 - val_loss: 0.0121\n",
      "Epoch 61/200\n",
      "6/6 [==============================] - 0s 28ms/step - loss: 0.0092 - val_loss: 0.0121\n",
      "Epoch 62/200\n",
      "6/6 [==============================] - 0s 22ms/step - loss: 0.0093 - val_loss: 0.0121\n",
      "Epoch 63/200\n",
      "6/6 [==============================] - 0s 33ms/step - loss: 0.0093 - val_loss: 0.0120\n",
      "Epoch 64/200\n",
      "6/6 [==============================] - 0s 30ms/step - loss: 0.0098 - val_loss: 0.0121\n",
      "Epoch 65/200\n",
      "6/6 [==============================] - 0s 23ms/step - loss: 0.0095 - val_loss: 0.0119\n",
      "Epoch 66/200\n",
      "6/6 [==============================] - 0s 22ms/step - loss: 0.0093 - val_loss: 0.0123\n",
      "Epoch 67/200\n",
      "6/6 [==============================] - 0s 32ms/step - loss: 0.0101 - val_loss: 0.0124\n",
      "Epoch 68/200\n",
      "6/6 [==============================] - 0s 29ms/step - loss: 0.0096 - val_loss: 0.0117\n",
      "Epoch 69/200\n",
      "6/6 [==============================] - 0s 26ms/step - loss: 0.0096 - val_loss: 0.0115\n",
      "Epoch 70/200\n",
      "6/6 [==============================] - 0s 31ms/step - loss: 0.0091 - val_loss: 0.0116\n",
      "Epoch 71/200\n",
      "6/6 [==============================] - 0s 32ms/step - loss: 0.0105 - val_loss: 0.0119\n",
      "Epoch 72/200\n",
      "6/6 [==============================] - 0s 20ms/step - loss: 0.0107 - val_loss: 0.0120\n",
      "Epoch 73/200\n",
      "6/6 [==============================] - 0s 24ms/step - loss: 0.0097 - val_loss: 0.0114\n",
      "Epoch 74/200\n",
      "6/6 [==============================] - 0s 33ms/step - loss: 0.0091 - val_loss: 0.0112\n",
      "Epoch 75/200\n",
      "6/6 [==============================] - 0s 27ms/step - loss: 0.0085 - val_loss: 0.0116\n",
      "Epoch 76/200\n",
      "6/6 [==============================] - 0s 26ms/step - loss: 0.0089 - val_loss: 0.0111\n",
      "Epoch 77/200\n",
      "6/6 [==============================] - 0s 35ms/step - loss: 0.0096 - val_loss: 0.0108\n",
      "Epoch 78/200\n",
      "6/6 [==============================] - 0s 32ms/step - loss: 0.0087 - val_loss: 0.0106\n",
      "Epoch 79/200\n",
      "6/6 [==============================] - 0s 24ms/step - loss: 0.0084 - val_loss: 0.0106\n",
      "Epoch 80/200\n",
      "6/6 [==============================] - 0s 26ms/step - loss: 0.0087 - val_loss: 0.0111\n",
      "Epoch 81/200\n",
      "6/6 [==============================] - 0s 30ms/step - loss: 0.0104 - val_loss: 0.0113\n",
      "Epoch 82/200\n",
      "6/6 [==============================] - 0s 24ms/step - loss: 0.0090 - val_loss: 0.0119\n",
      "Epoch 83/200\n",
      "6/6 [==============================] - 0s 24ms/step - loss: 0.0099 - val_loss: 0.0114\n",
      "Epoch 84/200\n",
      "6/6 [==============================] - 0s 30ms/step - loss: 0.0092 - val_loss: 0.0106\n",
      "Epoch 85/200\n",
      "6/6 [==============================] - 0s 29ms/step - loss: 0.0080 - val_loss: 0.0108\n",
      "Epoch 86/200\n",
      "6/6 [==============================] - 0s 20ms/step - loss: 0.0086 - val_loss: 0.0108\n",
      "Epoch 87/200\n",
      "6/6 [==============================] - 0s 26ms/step - loss: 0.0083 - val_loss: 0.0105\n",
      "Epoch 88/200\n",
      "6/6 [==============================] - 0s 33ms/step - loss: 0.0082 - val_loss: 0.0105\n",
      "Epoch 89/200\n",
      "6/6 [==============================] - 0s 29ms/step - loss: 0.0083 - val_loss: 0.0105\n",
      "Epoch 90/200\n",
      "6/6 [==============================] - 0s 25ms/step - loss: 0.0082 - val_loss: 0.0105\n",
      "Epoch 91/200\n",
      "6/6 [==============================] - 0s 34ms/step - loss: 0.0082 - val_loss: 0.0105\n",
      "Epoch 92/200\n",
      "6/6 [==============================] - 0s 31ms/step - loss: 0.0082 - val_loss: 0.0105\n",
      "Epoch 93/200\n",
      "6/6 [==============================] - 0s 21ms/step - loss: 0.0082 - val_loss: 0.0105\n",
      "Epoch 94/200\n",
      "6/6 [==============================] - 0s 23ms/step - loss: 0.0081 - val_loss: 0.0105\n",
      "Epoch 95/200\n",
      "6/6 [==============================] - 0s 30ms/step - loss: 0.0081 - val_loss: 0.0106\n",
      "Epoch 96/200\n",
      "6/6 [==============================] - 0s 26ms/step - loss: 0.0081 - val_loss: 0.0106\n",
      "Epoch 97/200\n",
      "6/6 [==============================] - 0s 22ms/step - loss: 0.0081 - val_loss: 0.0106\n",
      "Epoch 98/200\n",
      "6/6 [==============================] - 0s 24ms/step - loss: 0.0081 - val_loss: 0.0106\n",
      "Epoch 99/200\n",
      "6/6 [==============================] - 0s 32ms/step - loss: 0.0081 - val_loss: 0.0106\n",
      "Epoch 100/200\n",
      "6/6 [==============================] - 0s 23ms/step - loss: 0.0081 - val_loss: 0.0106\n",
      "Epoch 101/200\n",
      "6/6 [==============================] - 0s 24ms/step - loss: 0.0081 - val_loss: 0.0106\n",
      "Epoch 102/200\n",
      "6/6 [==============================] - 0s 32ms/step - loss: 0.0081 - val_loss: 0.0106\n",
      "Epoch 103/200\n",
      "6/6 [==============================] - 0s 31ms/step - loss: 0.0081 - val_loss: 0.0106\n",
      "Epoch 104/200\n",
      "6/6 [==============================] - 0s 20ms/step - loss: 0.0081 - val_loss: 0.0106\n",
      "Epoch 105/200\n",
      "6/6 [==============================] - 0s 21ms/step - loss: 0.0081 - val_loss: 0.0106\n",
      "Epoch 106/200\n",
      "6/6 [==============================] - 0s 29ms/step - loss: 0.0081 - val_loss: 0.0106\n",
      "Epoch 107/200\n",
      "6/6 [==============================] - 0s 27ms/step - loss: 0.0081 - val_loss: 0.0106\n",
      "Epoch 108/200\n",
      "6/6 [==============================] - 0s 23ms/step - loss: 0.0081 - val_loss: 0.0106\n",
      "Epoch 109/200\n",
      "6/6 [==============================] - 0s 26ms/step - loss: 0.0081 - val_loss: 0.0106\n",
      "Epoch 110/200\n",
      "6/6 [==============================] - 0s 32ms/step - loss: 0.0081 - val_loss: 0.0106\n"
     ]
    },
    {
     "data": {
      "text/plain": [
       "<tensorflow.python.keras.callbacks.History at 0x7f871010b160>"
      ]
     },
     "execution_count": 18,
     "metadata": {},
     "output_type": "execute_result"
    }
   ],
   "source": [
    "opt = optimizers.Adam(learning_rate=LEARNING_RATE, epsilon=EPSILON)\n",
    "model.compile(optimizer=opt, loss='mae')\n",
    "model.fit(train_dataset, epochs=TRAINING_EPOCHS, validation_data=val_dataset,\n",
    "              verbose=1, callbacks=[cbs, save, early_stop]) "
   ]
  },
  {
   "cell_type": "code",
   "execution_count": 19,
   "metadata": {},
   "outputs": [],
   "source": [
    "model.load_weights(BEST_PATH)"
   ]
  },
  {
   "cell_type": "code",
   "execution_count": 20,
   "metadata": {},
   "outputs": [
    {
     "name": "stdout",
     "output_type": "stream",
     "text": [
      "3/3 [==============================] - 0s 5ms/step - loss: 0.0105\n"
     ]
    },
    {
     "data": {
      "text/plain": [
       "0.010497333481907845"
      ]
     },
     "execution_count": 20,
     "metadata": {},
     "output_type": "execute_result"
    }
   ],
   "source": [
    "model.evaluate(val_dataset)"
   ]
  },
  {
   "cell_type": "code",
   "execution_count": 21,
   "metadata": {},
   "outputs": [],
   "source": [
    "pred_output = model.predict(test_input)"
   ]
  },
  {
   "cell_type": "code",
   "execution_count": 22,
   "metadata": {},
   "outputs": [],
   "source": [
    "pred_output = pred_output*(OUTPUT_MAX - OUTPUT_MIN) + OUTPUT_MIN\n",
    "test_label = test_label*(OUTPUT_MAX - OUTPUT_MIN) + OUTPUT_MIN"
   ]
  },
  {
   "cell_type": "code",
   "execution_count": 23,
   "metadata": {},
   "outputs": [
    {
     "data": {
      "image/png": "[encoded data removed]",
      "text/plain": [
       "<Figure size 481.89x340.157 with 1 Axes>"
      ]
     },
     "metadata": {},
     "output_type": "display_data"
    }
   ],
   "source": [
    "fig = plt.figure(figsize=((8.5/2.54*2), (6/2.54*2)))\n",
    "ax0 = plt.subplot()\n",
    "\n",
    "ax0.spines['right'].set_visible(False)\n",
    "ax0.spines['left'].set_position(('outward', 5))\n",
    "ax0.spines['bottom'].set_position(('outward', 5))\n",
    "\n",
    "ax0.plot(test_label, pred_output, 'o', ms=5, mec='k', c=cmap[0])\n",
    "\n",
    "\n",
    "fig.tight_layout()"
   ]
  },
  {
   "cell_type": "code",
   "execution_count": 24,
   "metadata": {},
   "outputs": [],
   "source": [
    "pred_df = pd.DataFrame(test_label, index=test_indices[:, 0], columns=['label'])\n",
    "pred_df['pred'] = pred_output\n",
    "pred_df.index = pd.DatetimeIndex(pred_df.index)"
   ]
  },
  {
   "cell_type": "code",
   "execution_count": 25,
   "metadata": {},
   "outputs": [
    {
     "data": {
      "image/png": "[encoded data removed]",
      "text/plain": [
       "<Figure size 481.89x340.157 with 1 Axes>"
      ]
     },
     "metadata": {},
     "output_type": "display_data"
    }
   ],
   "source": [
    "fig = plt.figure(figsize=((8.5/2.54*2), (6/2.54*2)))\n",
    "ax0 = plt.subplot()\n",
    "\n",
    "ax0.spines['right'].set_visible(False)\n",
    "ax0.spines['left'].set_position(('outward', 5))\n",
    "ax0.spines['bottom'].set_position(('outward', 5))\n",
    "\n",
    "ax0.plot(pred_df.index, pred_df['label'], '-o', ms=5, mec='k', c=cmap[4])\n",
    "ax0.plot(pred_df.index, pred_df['pred'], 'o', ms=5, mec='k', c=cmap[0])\n",
    "\n",
    "\n",
    "fig.tight_layout()"
   ]
  },
  {
   "cell_type": "code",
   "execution_count": 26,
   "metadata": {},
   "outputs": [],
   "source": [
    "pred_df.to_csv('./results/model_output/lstm_raw.csv')"
   ]
  }
 ],
 "metadata": {
  "kernelspec": {
   "display_name": "Environment (conda_tensorflow2_p36)",
   "language": "python",
   "name": "conda_tensorflow2_p36"
  },
  "language_info": {
   "codemirror_mode": {
    "name": "ipython",
    "version": 3
   },
   "file_extension": ".py",
   "mimetype": "text/x-python",
   "name": "python",
   "nbconvert_exporter": "python",
   "pygments_lexer": "ipython3",
   "version": "3.6.10"
  }
 },
 "nbformat": 4,
 "nbformat_minor": 4
}
