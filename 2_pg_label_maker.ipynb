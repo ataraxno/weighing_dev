{
 "cells": [
  {
   "cell_type": "code",
   "execution_count": 1,
   "metadata": {},
   "outputs": [
    {
     "name": "stdout",
     "output_type": "stream",
     "text": [
      "Package is ready.\n"
     ]
    }
   ],
   "source": [
    "import os\n",
    "\n",
    "import numpy as np\n",
    "np.set_printoptions(suppress=True)\n",
    "import pandas as pd\n",
    "\n",
    "from scipy.optimize import curve_fit\n",
    "from sklearn.metrics import r2_score\n",
    "\n",
    "print(\"Package is ready.\")"
   ]
  },
  {
   "cell_type": "markdown",
   "metadata": {},
   "source": [
    "# 2020 Summer"
   ]
  },
  {
   "cell_type": "code",
   "execution_count": 2,
   "metadata": {},
   "outputs": [],
   "source": [
    "pg_df = []"
   ]
  },
  {
   "cell_type": "code",
   "execution_count": 3,
   "metadata": {},
   "outputs": [],
   "source": [
    "temp_df = pd.read_csv('./results/2020_S/node_length.csv', index_col='Unnamed: 0')\n",
    "temp_df.columns = temp_df.columns.astype('int64')\n",
    "\n",
    "last_day = pd.concat([temp_df.loc['2020-07-07'].dropna(),\n",
    "                      temp_df.loc['2020-07-08'].dropna(),\n",
    "                      temp_df.loc['2020-07-09'].dropna()]).reset_index().drop('index', axis=1)\n",
    "last_day.index = list(last_day.index)\n",
    "\n",
    "temp_index = temp_df.index\n",
    "temp_df = pd.concat([temp_df.loc[:'2020-06-17'], last_day.T])\n",
    "temp_df.index = list(temp_index[:-3]) + ['2020-07-03']\n",
    "temp_df.index = pd.DatetimeIndex(temp_df.index)\n",
    "\n",
    "l = []\n",
    "l_i = []\n",
    "for _ in range(temp_df.shape[0]):\n",
    "    ll = temp_df.iloc[_].dropna()\n",
    "    l.extend(ll.values)\n",
    "    l_i.extend([temp_df.index[_]]*ll.shape[0])\n",
    "temp_df = pd.DataFrame(l, index=l_i, columns=['node_len'])\n",
    "\n",
    "pg_df.append(temp_df)"
   ]
  },
  {
   "cell_type": "code",
   "execution_count": 4,
   "metadata": {},
   "outputs": [],
   "source": [
    "temp_df = pd.read_csv('./results/2020_S/node_diameter.csv', index_col='Unnamed: 0')\n",
    "temp_df.columns = temp_df.columns.astype('int64')\n",
    "\n",
    "last_day = pd.concat([temp_df.loc['2020-07-07'].dropna(),\n",
    "                      temp_df.loc['2020-07-08'].dropna(),\n",
    "                      temp_df.loc['2020-07-09'].dropna()]).reset_index().drop('index', axis=1)\n",
    "last_day.index = list(last_day.index)\n",
    "\n",
    "temp_index = temp_df.index\n",
    "temp_df = pd.concat([temp_df.loc[:'2020-06-17'], last_day.T])\n",
    "temp_df.index = list(temp_index[:-3]) + ['2020-07-03']\n",
    "temp_df.index = pd.DatetimeIndex(temp_df.index)\n",
    "\n",
    "l = []\n",
    "l_i = []\n",
    "for _ in range(temp_df.shape[0]):\n",
    "    ll = temp_df.iloc[_].dropna()\n",
    "    l.extend(ll.values)\n",
    "    l_i.extend([temp_df.index[_]]*ll.shape[0])\n",
    "temp_df = pd.DataFrame(l, index=l_i, columns=['node_dia'])\n",
    "\n",
    "pg_df.append(temp_df)"
   ]
  },
  {
   "cell_type": "code",
   "execution_count": 5,
   "metadata": {},
   "outputs": [],
   "source": [
    "temp_df = pd.read_csv('./results/2020_S/plant_height.csv', index_col='Unnamed: 0')\n",
    "temp_df.columns = temp_df.columns.astype('int64')\n",
    "\n",
    "last_day = pd.concat([temp_df.loc['2020-07-07'].dropna(),\n",
    "                      temp_df.loc['2020-07-08'].dropna(),\n",
    "                      temp_df.loc['2020-07-09'].dropna()]).reset_index().drop('index', axis=1)\n",
    "last_day.index = list(last_day.index)\n",
    "\n",
    "temp_index = temp_df.index\n",
    "temp_df = pd.concat([temp_df.loc[:'2020-06-17'], last_day.T])\n",
    "temp_df.index = list(temp_index[:-3]) + ['2020-07-03']\n",
    "temp_df.index = pd.DatetimeIndex(temp_df.index)\n",
    "\n",
    "l = []\n",
    "l_i = []\n",
    "for _ in range(temp_df.shape[0]):\n",
    "    ll = temp_df.iloc[_].dropna()\n",
    "    l.extend(ll.values)\n",
    "    l_i.extend([temp_df.index[_]]*ll.shape[0])\n",
    "temp_df = pd.DataFrame(l, index=l_i, columns=['plant_h'])\n",
    "\n",
    "pg_df.append(temp_df)"
   ]
  },
  {
   "cell_type": "code",
   "execution_count": 6,
   "metadata": {},
   "outputs": [],
   "source": [
    "temp_df = pd.read_csv('./results/2020_S/leaf_area.csv', index_col='Unnamed: 0')\n",
    "temp_df.columns = temp_df.columns.astype('int64')\n",
    "\n",
    "last_day = pd.concat([temp_df.loc['2020-07-07'].dropna(),\n",
    "                      temp_df.loc['2020-07-08'].dropna(),\n",
    "                      temp_df.loc['2020-07-09'].dropna()]).reset_index().drop('index', axis=1)\n",
    "last_day.index = list(last_day.index)\n",
    "\n",
    "temp_index = temp_df.index\n",
    "temp_df = pd.concat([temp_df.loc[:'2020-06-17'], last_day.T])/10000\n",
    "temp_df.index = list(temp_index[:-3]) + ['2020-07-03']\n",
    "temp_df.index = pd.DatetimeIndex(temp_df.index)\n",
    "\n",
    "l = []\n",
    "l_i = []\n",
    "for _ in range(temp_df.shape[0]):\n",
    "    ll = temp_df.iloc[_].dropna()\n",
    "    l.extend(ll.values)\n",
    "    l_i.extend([temp_df.index[_]]*ll.shape[0])\n",
    "temp_df = pd.DataFrame(l, index=l_i, columns=['leaf_area'])\n",
    "\n",
    "pg_df.append(temp_df)"
   ]
  },
  {
   "cell_type": "code",
   "execution_count": 7,
   "metadata": {},
   "outputs": [],
   "source": [
    "pg_df = pd.concat(pg_df, axis=1)\n",
    "pg_df['DAT'] = [27]*3 + [55]*3 + [86]*3 + [112]*4 + [128]*20\n",
    "pg_df['date'] = pg_df.index\n",
    "pg_df = pg_df.set_index(['DAT'])"
   ]
  },
  {
   "cell_type": "code",
   "execution_count": 8,
   "metadata": {},
   "outputs": [],
   "source": [
    "pg_reg_df = []\n",
    "plot_x = [_ for _ in range(14, 129)]\n",
    "date_x = pd.date_range('2020-03-11', '2020-07-03', freq='1d')"
   ]
  },
  {
   "cell_type": "code",
   "execution_count": 9,
   "metadata": {},
   "outputs": [],
   "source": [
    "def sigmoid(x, L, k, x0, b):\n",
    "    return L / (b + np.exp(-k*(x-x0)))"
   ]
  },
  {
   "cell_type": "code",
   "execution_count": 10,
   "metadata": {},
   "outputs": [],
   "source": [
    "pg_df.iloc[-2, 0] = np.nan\n",
    "pg_df = pg_df.dropna()"
   ]
  },
  {
   "cell_type": "code",
   "execution_count": 11,
   "metadata": {},
   "outputs": [
    {
     "name": "stdout",
     "output_type": "stream",
     "text": [
      "0.7337787626348378\n"
     ]
    }
   ],
   "source": [
    "x = pg_df.index\n",
    "y = pg_df['node_len']*10\n",
    "popt, pcov = curve_fit(sigmoid, x, y, method='trf')\n",
    "print(r2_score(y, sigmoid(x, *popt)))\n",
    "\n",
    "plot_y = sigmoid(plot_x, *popt)\n",
    "pg_reg_df.append(plot_y/10)"
   ]
  },
  {
   "cell_type": "code",
   "execution_count": 12,
   "metadata": {},
   "outputs": [
    {
     "data": {
      "text/plain": [
       "array([ 0.59661865,  0.0073863 , -0.92500701,  0.00846438])"
      ]
     },
     "execution_count": 12,
     "metadata": {},
     "output_type": "execute_result"
    }
   ],
   "source": [
    "popt/10"
   ]
  },
  {
   "cell_type": "code",
   "execution_count": 13,
   "metadata": {},
   "outputs": [
    {
     "name": "stdout",
     "output_type": "stream",
     "text": [
      "0.7443034188067668\n"
     ]
    }
   ],
   "source": [
    "x = pg_df.index\n",
    "y = pg_df['node_dia']*10\n",
    "popt, pcov = curve_fit(sigmoid, x, y, method='trf')\n",
    "print(r2_score(y, sigmoid(x, *popt)))\n",
    "\n",
    "plot_y = sigmoid(plot_x, *popt)\n",
    "pg_reg_df.append(plot_y/10)"
   ]
  },
  {
   "cell_type": "code",
   "execution_count": 14,
   "metadata": {},
   "outputs": [
    {
     "data": {
      "text/plain": [
       "array([ 7.47478561,  0.00109355, -7.54560529,  0.05322828])"
      ]
     },
     "execution_count": 14,
     "metadata": {},
     "output_type": "execute_result"
    }
   ],
   "source": [
    "popt/10"
   ]
  },
  {
   "cell_type": "code",
   "execution_count": 15,
   "metadata": {},
   "outputs": [
    {
     "name": "stdout",
     "output_type": "stream",
     "text": [
      "0.9575512554908094\n"
     ]
    }
   ],
   "source": [
    "x = pg_df.index\n",
    "y = pg_df['plant_h']\n",
    "popt, pcov = curve_fit(sigmoid, x, y, method='trf')\n",
    "print(r2_score(y, sigmoid(x, *popt)))\n",
    "\n",
    "plot_y = sigmoid(plot_x, *popt)\n",
    "pg_reg_df.append(plot_y)"
   ]
  },
  {
   "cell_type": "code",
   "execution_count": 16,
   "metadata": {},
   "outputs": [
    {
     "data": {
      "text/plain": [
       "array([ 9.93984683,  0.05597845, -8.06299981,  0.04879123])"
      ]
     },
     "execution_count": 16,
     "metadata": {},
     "output_type": "execute_result"
    }
   ],
   "source": [
    "popt"
   ]
  },
  {
   "cell_type": "code",
   "execution_count": 17,
   "metadata": {},
   "outputs": [
    {
     "name": "stdout",
     "output_type": "stream",
     "text": [
      "0.8682718888154193\n"
     ]
    }
   ],
   "source": [
    "x = pg_df.index\n",
    "y = pg_df['leaf_area']*1000\n",
    "popt, pcov = curve_fit(sigmoid, x, y, method='trf')\n",
    "print(r2_score(y, sigmoid(x, *popt)))\n",
    "\n",
    "plot_y = sigmoid(plot_x, *popt)\n",
    "pg_reg_df.append(plot_y/1000)"
   ]
  },
  {
   "cell_type": "code",
   "execution_count": 18,
   "metadata": {},
   "outputs": [
    {
     "data": {
      "text/plain": [
       "array([ 0.01011061,  0.00008134, -0.00939906,  0.00000785])"
      ]
     },
     "execution_count": 18,
     "metadata": {},
     "output_type": "execute_result"
    }
   ],
   "source": [
    "popt/1000"
   ]
  },
  {
   "cell_type": "code",
   "execution_count": 19,
   "metadata": {},
   "outputs": [
    {
     "data": {
      "text/plain": [
       "array([10.11061262,  0.0813352 , -9.39905756,  0.00785195])"
      ]
     },
     "execution_count": 19,
     "metadata": {},
     "output_type": "execute_result"
    }
   ],
   "source": [
    "popt"
   ]
  },
  {
   "cell_type": "code",
   "execution_count": 20,
   "metadata": {},
   "outputs": [],
   "source": [
    "pg_reg_df = pd.DataFrame(pg_reg_df).T\n",
    "pg_reg_df.columns = ['node_len', 'node_dia', 'plant_h', 'leaf_area']\n",
    "pg_reg_df.index = date_x"
   ]
  },
  {
   "cell_type": "code",
   "execution_count": 21,
   "metadata": {},
   "outputs": [],
   "source": [
    "pg_reg_df.to_csv('./results/2020_S/pg_reg_result.csv')"
   ]
  },
  {
   "cell_type": "markdown",
   "metadata": {},
   "source": [
    "# 2020 Winter"
   ]
  },
  {
   "cell_type": "code",
   "execution_count": 22,
   "metadata": {},
   "outputs": [],
   "source": [
    "pg_df = []"
   ]
  },
  {
   "cell_type": "code",
   "execution_count": 23,
   "metadata": {},
   "outputs": [],
   "source": [
    "temp_df = pd.read_csv('./results/2020_W/node_length.csv', index_col='Unnamed: 0')\n",
    "temp_df.columns = temp_df.columns.astype('int64')\n",
    "\n",
    "temp_index = temp_df.index\n",
    "temp_df.index = pd.DatetimeIndex(temp_df.index)\n",
    "\n",
    "l = []\n",
    "l_i = []\n",
    "for _ in range(temp_df.shape[0]):\n",
    "    ll = temp_df.iloc[_].dropna()\n",
    "    l.extend(ll.values)\n",
    "    l_i.extend([temp_df.index[_]]*ll.shape[0])\n",
    "temp_df = pd.DataFrame(l, index=l_i, columns=['node_len'])\n",
    "\n",
    "pg_df.append(temp_df)"
   ]
  },
  {
   "cell_type": "code",
   "execution_count": 24,
   "metadata": {},
   "outputs": [],
   "source": [
    "temp_df = pd.read_csv('./results/2020_W/node_diameter.csv', index_col='Unnamed: 0')\n",
    "temp_df.columns = temp_df.columns.astype('int64')\n",
    "\n",
    "temp_index = temp_df.index\n",
    "temp_df.index = pd.DatetimeIndex(temp_df.index)\n",
    "\n",
    "l = []\n",
    "l_i = []\n",
    "for _ in range(temp_df.shape[0]):\n",
    "    ll = temp_df.iloc[_].dropna()\n",
    "    l.extend(ll.values)\n",
    "    l_i.extend([temp_df.index[_]]*ll.shape[0])\n",
    "temp_df = pd.DataFrame(l, index=l_i, columns=['node_dia'])\n",
    "\n",
    "pg_df.append(temp_df)"
   ]
  },
  {
   "cell_type": "code",
   "execution_count": 25,
   "metadata": {},
   "outputs": [],
   "source": [
    "temp_df = pd.read_csv('./results/2020_W/plant_height.csv', index_col='Unnamed: 0')\n",
    "temp_df.columns = temp_df.columns.astype('int64')\n",
    "\n",
    "temp_index = temp_df.index\n",
    "temp_df.index = pd.DatetimeIndex(temp_df.index)\n",
    "\n",
    "l = []\n",
    "l_i = []\n",
    "for _ in range(temp_df.shape[0]):\n",
    "    ll = temp_df.iloc[_].dropna()\n",
    "    l.extend(ll.values)\n",
    "    l_i.extend([temp_df.index[_]]*ll.shape[0])\n",
    "temp_df = pd.DataFrame(l, index=l_i, columns=['plant_h'])\n",
    "\n",
    "pg_df.append(temp_df)"
   ]
  },
  {
   "cell_type": "code",
   "execution_count": 26,
   "metadata": {},
   "outputs": [],
   "source": [
    "temp_df = pd.read_csv('./results/2020_W/leaf_area.csv', index_col='Unnamed: 0')/10000\n",
    "temp_index = temp_df.index\n",
    "temp_df.index = pd.DatetimeIndex(temp_df.index)\n",
    "pg_df.append(temp_df)"
   ]
  },
  {
   "cell_type": "code",
   "execution_count": 27,
   "metadata": {},
   "outputs": [],
   "source": [
    "pg_df = pd.concat(pg_df, axis=1)\n",
    "pg_df['DAT'] = [15]*3 + [50]*6 + [80]*6 + [108]*3 + [153]*15\n",
    "pg_df['date'] = pg_df.index\n",
    "pg_df = pg_df.set_index(['DAT'])"
   ]
  },
  {
   "cell_type": "code",
   "execution_count": 28,
   "metadata": {},
   "outputs": [],
   "source": [
    "pg_reg_df = []\n",
    "plot_x = [_ for _ in range(10, 155)]\n",
    "date_x = pd.date_range('2020-09-04', '2021-01-26', freq='1d')"
   ]
  },
  {
   "cell_type": "code",
   "execution_count": 29,
   "metadata": {},
   "outputs": [],
   "source": [
    "def sigmoid(x, L, k, x0, b):\n",
    "    return L / (b + np.exp(-k*(x-x0)))"
   ]
  },
  {
   "cell_type": "code",
   "execution_count": 30,
   "metadata": {},
   "outputs": [
    {
     "name": "stdout",
     "output_type": "stream",
     "text": [
      "0.7788081343700927\n"
     ]
    }
   ],
   "source": [
    "x = pg_df.index\n",
    "y = pg_df['node_len']*10\n",
    "popt, pcov = curve_fit(sigmoid, x, y, method='trf')\n",
    "print(r2_score(y, sigmoid(x, *popt)))\n",
    "\n",
    "plot_y = sigmoid(plot_x, *popt)\n",
    "pg_reg_df.append(plot_y/10)"
   ]
  },
  {
   "cell_type": "code",
   "execution_count": 31,
   "metadata": {},
   "outputs": [
    {
     "data": {
      "text/plain": [
       "array([ 1.20495757,  0.00618571, -1.00452556,  0.01740569])"
      ]
     },
     "execution_count": 31,
     "metadata": {},
     "output_type": "execute_result"
    }
   ],
   "source": [
    "popt/10"
   ]
  },
  {
   "cell_type": "code",
   "execution_count": 32,
   "metadata": {},
   "outputs": [
    {
     "name": "stdout",
     "output_type": "stream",
     "text": [
      "0.7232712835466515\n"
     ]
    }
   ],
   "source": [
    "x = pg_df.index\n",
    "y = pg_df['node_dia']*10\n",
    "popt, pcov = curve_fit(sigmoid, x, y, method='trf')\n",
    "print(r2_score(y, sigmoid(x, *popt)))\n",
    "\n",
    "plot_y = sigmoid(plot_x, *popt)\n",
    "pg_reg_df.append(plot_y/10)"
   ]
  },
  {
   "cell_type": "code",
   "execution_count": 33,
   "metadata": {},
   "outputs": [
    {
     "data": {
      "text/plain": [
       "array([ 1.6877    ,  0.00681597, -1.98352737,  0.01631145])"
      ]
     },
     "execution_count": 33,
     "metadata": {},
     "output_type": "execute_result"
    }
   ],
   "source": [
    "popt/10"
   ]
  },
  {
   "cell_type": "code",
   "execution_count": 34,
   "metadata": {},
   "outputs": [
    {
     "name": "stdout",
     "output_type": "stream",
     "text": [
      "0.8865414462388654\n"
     ]
    }
   ],
   "source": [
    "x = pg_df.index\n",
    "y = pg_df['plant_h']\n",
    "popt, pcov = curve_fit(sigmoid, x, y, method='trf')\n",
    "print(r2_score(y, sigmoid(x, *popt)))\n",
    "\n",
    "plot_y = sigmoid(plot_x, *popt)\n",
    "pg_reg_df.append(plot_y)"
   ]
  },
  {
   "cell_type": "code",
   "execution_count": 35,
   "metadata": {},
   "outputs": [
    {
     "data": {
      "text/plain": [
       "array([ 8.77736248,  0.05966823, -8.29386925,  0.04664242])"
      ]
     },
     "execution_count": 35,
     "metadata": {},
     "output_type": "execute_result"
    }
   ],
   "source": [
    "popt"
   ]
  },
  {
   "cell_type": "code",
   "execution_count": 36,
   "metadata": {},
   "outputs": [
    {
     "name": "stdout",
     "output_type": "stream",
     "text": [
      "0.9060999514242548\n"
     ]
    }
   ],
   "source": [
    "x = pg_df.index\n",
    "y = pg_df['leaf_area']*1000\n",
    "popt, pcov = curve_fit(sigmoid, x, y, method='trf')\n",
    "print(r2_score(y, sigmoid(x, *popt)))\n",
    "\n",
    "plot_y = sigmoid(plot_x, *popt)\n",
    "pg_reg_df.append(plot_y/1000)"
   ]
  },
  {
   "cell_type": "code",
   "execution_count": 37,
   "metadata": {},
   "outputs": [
    {
     "data": {
      "text/plain": [
       "array([ 0.00967164,  0.00008634, -0.00603754,  0.00000735])"
      ]
     },
     "execution_count": 37,
     "metadata": {},
     "output_type": "execute_result"
    }
   ],
   "source": [
    "popt/1000"
   ]
  },
  {
   "cell_type": "code",
   "execution_count": 38,
   "metadata": {},
   "outputs": [
    {
     "data": {
      "text/plain": [
       "array([ 9.67163573,  0.08633687, -6.03753779,  0.00735251])"
      ]
     },
     "execution_count": 38,
     "metadata": {},
     "output_type": "execute_result"
    }
   ],
   "source": [
    "popt"
   ]
  },
  {
   "cell_type": "code",
   "execution_count": 39,
   "metadata": {},
   "outputs": [],
   "source": [
    "pg_reg_df = pd.DataFrame(pg_reg_df).T\n",
    "pg_reg_df.columns = ['node_len', 'node_dia', 'plant_h', 'leaf_area']\n",
    "pg_reg_df.index = date_x"
   ]
  },
  {
   "cell_type": "code",
   "execution_count": 40,
   "metadata": {},
   "outputs": [],
   "source": [
    "pg_reg_df.to_csv('./results/2020_W/pg_reg_result.csv')"
   ]
  }
 ],
 "metadata": {
  "kernelspec": {
   "display_name": "Environment (conda_tensorflow2_p36)",
   "language": "python",
   "name": "conda_tensorflow2_p36"
  },
  "language_info": {
   "codemirror_mode": {
    "name": "ipython",
    "version": 3
   },
   "file_extension": ".py",
   "mimetype": "text/x-python",
   "name": "python",
   "nbconvert_exporter": "python",
   "pygments_lexer": "ipython3",
   "version": "3.6.10"
  }
 },
 "nbformat": 4,
 "nbformat_minor": 4
}
