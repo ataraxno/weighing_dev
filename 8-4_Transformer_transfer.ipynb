{
 "cells": [
  {
   "cell_type": "code",
   "execution_count": 1,
   "metadata": {},
   "outputs": [
    {
     "data": {
      "text/plain": [
       "'2.3.0'"
      ]
     },
     "execution_count": 1,
     "metadata": {},
     "output_type": "execute_result"
    }
   ],
   "source": [
    "import pandas as pd\n",
    "import numpy as np\n",
    "np.set_printoptions(precision=6, suppress=True)\n",
    "from sklearn.model_selection import train_test_split\n",
    "\n",
    "from tqdm import tqdm\n",
    "\n",
    "import tensorflow as tf\n",
    "from tensorflow.keras import *\n",
    "import tensorflow_addons as tfa\n",
    "tf.__version__"
   ]
  },
  {
   "cell_type": "code",
   "execution_count": 2,
   "metadata": {},
   "outputs": [],
   "source": [
    "import matplotlib\n",
    "import matplotlib.pyplot as plt\n",
    "import matplotlib.dates as mdates\n",
    "from matplotlib.ticker import (LinearLocator, MultipleLocator, FormatStrFormatter)\n",
    "from matplotlib.dates import MONDAY\n",
    "from matplotlib.dates import MonthLocator, WeekdayLocator, DateFormatter\n",
    "from matplotlib import gridspec\n",
    "from pandas.plotting import register_matplotlib_converters\n",
    "register_matplotlib_converters()\n",
    "%matplotlib inline"
   ]
  },
  {
   "cell_type": "code",
   "execution_count": 3,
   "metadata": {},
   "outputs": [],
   "source": [
    "plt.rcParams['figure.figsize'] = ((8/2.54), (6/2.54))\n",
    "plt.rcParams[\"font.family\"] = \"Arial\"\n",
    "plt.rcParams[\"mathtext.default\"] = \"rm\"\n",
    "plt.rcParams.update({'font.size': 11})\n",
    "MARKER_SIZE = 15\n",
    "cmap_m = [\"#f4a6ad\", \"#f6957e\", \"#fccfa2\", \"#8de7be\", \"#86d6f2\", \"#24a9e4\", \"#b586e0\", \"#d7f293\"]\n",
    "cmap = [\"#e94d5b\", \"#ef4d28\", \"#f9a54f\", \"#25b575\", \"#1bb1e7\", \"#1477a2\", \"#a662e5\", \"#c2f442\"]\n",
    "\n",
    "plt.rcParams['axes.spines.top'] = False\n",
    "# plt.rcParams['axes.edgecolor'] = \n",
    "plt.rcParams['axes.linewidth'] = 1\n",
    "plt.rcParams['lines.linewidth'] = 1.5\n",
    "plt.rcParams['xtick.major.width'] = 1\n",
    "plt.rcParams['xtick.minor.width'] = 1\n",
    "plt.rcParams['ytick.major.width'] = 1\n",
    "plt.rcParams['ytick.minor.width'] = 1"
   ]
  },
  {
   "cell_type": "code",
   "execution_count": 4,
   "metadata": {},
   "outputs": [
    {
     "data": {
      "text/plain": [
       "[PhysicalDevice(name='/physical_device:GPU:0', device_type='GPU')]"
      ]
     },
     "execution_count": 4,
     "metadata": {},
     "output_type": "execute_result"
    }
   ],
   "source": [
    "tf.config.list_physical_devices('GPU')"
   ]
  },
  {
   "cell_type": "code",
   "execution_count": 5,
   "metadata": {},
   "outputs": [
    {
     "name": "stdout",
     "output_type": "stream",
     "text": [
      "1 Physical GPUs, 1 Logical GPUs\n"
     ]
    }
   ],
   "source": [
    "gpus = tf.config.experimental.list_physical_devices('GPU')\n",
    "if gpus:\n",
    "    try:\n",
    "        for gpu in gpus:\n",
    "            tf.config.experimental.set_memory_growth(gpu, True)\n",
    "        logical_gpus = tf.config.experimental.list_logical_devices('GPU')\n",
    "        print(len(gpus), \"Physical GPUs,\", len(logical_gpus), \"Logical GPUs\")\n",
    "    except RuntimeError as e:\n",
    "        print(e)"
   ]
  },
  {
   "cell_type": "code",
   "execution_count": 6,
   "metadata": {},
   "outputs": [
    {
     "name": "stdout",
     "output_type": "stream",
     "text": [
      "INFO:tensorflow:Using MirroredStrategy with devices ('/job:localhost/replica:0/task:0/device:GPU:0',)\n"
     ]
    }
   ],
   "source": [
    "strategy = tf.distribute.MirroredStrategy()"
   ]
  },
  {
   "cell_type": "markdown",
   "metadata": {},
   "source": [
    "# Hyperparameters"
   ]
  },
  {
   "cell_type": "code",
   "execution_count": 7,
   "metadata": {},
   "outputs": [],
   "source": [
    "PRE_TRAINED = './models/Transformer.h5'\n",
    "BEST_PATH = './models/Transformer_transfer.h5'\n",
    "TRAINING_EPOCHS = 200\n",
    "LEARNING_RATE = 0.0008\n",
    "EPSILON = 1e-10\n",
    "BATCH_SIZE = 8"
   ]
  },
  {
   "cell_type": "markdown",
   "metadata": {},
   "source": [
    "# Data loading"
   ]
  },
  {
   "cell_type": "code",
   "execution_count": 8,
   "metadata": {},
   "outputs": [],
   "source": [
    "l = np.load('./results/2020_W/fw_ct_dataset.npz', allow_pickle=True)\n",
    "data_indices = l['data_indices']\n",
    "input_data = l['input_data']\n",
    "output_label = l['output_label']\n",
    "INPUT_MAXS = l['INPUT_MAXS']\n",
    "INPUT_MINS = l['INPUT_MINS']\n",
    "OUTPUT_MAX = l['OUTPUT_MAX']\n",
    "OUTPUT_MIN = l['OUTPUT_MIN']"
   ]
  },
  {
   "cell_type": "code",
   "execution_count": 9,
   "metadata": {},
   "outputs": [],
   "source": [
    "input_data = input_data.astype('float32')\n",
    "output_label = output_label.astype('float32')"
   ]
  },
  {
   "cell_type": "code",
   "execution_count": 10,
   "metadata": {},
   "outputs": [
    {
     "name": "stdout",
     "output_type": "stream",
     "text": [
      "(456, 144, 1)\n",
      "(456, 1)\n"
     ]
    }
   ],
   "source": [
    "print(input_data.shape)\n",
    "print(output_label.shape)"
   ]
  },
  {
   "cell_type": "code",
   "execution_count": 11,
   "metadata": {},
   "outputs": [
    {
     "name": "stdout",
     "output_type": "stream",
     "text": [
      "[19.731]\n",
      "[11.000128]\n"
     ]
    }
   ],
   "source": [
    "print(INPUT_MAXS)\n",
    "print(INPUT_MINS)"
   ]
  },
  {
   "cell_type": "code",
   "execution_count": 12,
   "metadata": {},
   "outputs": [
    {
     "name": "stdout",
     "output_type": "stream",
     "text": [
      "2.5180414673761202\n",
      "0.15073025551954564\n"
     ]
    }
   ],
   "source": [
    "print(OUTPUT_MAX)\n",
    "print(OUTPUT_MIN)"
   ]
  },
  {
   "cell_type": "code",
   "execution_count": 13,
   "metadata": {},
   "outputs": [],
   "source": [
    "N_TRAIN = int(input_data.shape[0]*.09)\n",
    "N_DEV = int(input_data.shape[0]/3)\n",
    "TRAIN_INDEX = [_ for _ in range(N_TRAIN)] + \\\n",
    "              [_ for _ in range(N_DEV, N_DEV+N_TRAIN)] + \\\n",
    "              [_ for _ in range(N_DEV*2, N_DEV*2+N_TRAIN)]\n",
    "TEST_INDEX = [_ for _ in range(input_data.shape[0]) if _ not in TRAIN_INDEX]\n",
    "train_input = input_data[TRAIN_INDEX, ...]\n",
    "train_label = output_label[TRAIN_INDEX, ...]\n",
    "train_indices = data_indices[TRAIN_INDEX]\n",
    "test_input = input_data[TEST_INDEX, ...]\n",
    "test_label = output_label[TEST_INDEX, ...]\n",
    "test_indices = data_indices[TEST_INDEX]"
   ]
  },
  {
   "cell_type": "code",
   "execution_count": 14,
   "metadata": {},
   "outputs": [],
   "source": [
    "train_indices, val_indices, train_input, val_input, train_label, val_label = train_test_split(train_indices, train_input, train_label, test_size=0.3, shuffle=True, random_state=3101)"
   ]
  },
  {
   "cell_type": "code",
   "execution_count": 15,
   "metadata": {},
   "outputs": [
    {
     "name": "stdout",
     "output_type": "stream",
     "text": [
      "number of data set: 456\n",
      "number of training set: 86\n",
      "number of validation set: 37\n",
      "number of test set: 333\n"
     ]
    }
   ],
   "source": [
    "print(f'number of data set: {input_data.shape[0]}')\n",
    "print(f'number of training set: {train_input.shape[0]}')\n",
    "print(f'number of validation set: {val_input.shape[0]}')\n",
    "print(f'number of test set: {test_input.shape[0]}')"
   ]
  },
  {
   "cell_type": "code",
   "execution_count": 16,
   "metadata": {},
   "outputs": [],
   "source": [
    "with strategy.scope():\n",
    "    train_dataset = tf.data.Dataset.from_tensor_slices((train_input, train_label))\n",
    "    train_dataset = train_dataset.cache().shuffle(BATCH_SIZE*10).batch(BATCH_SIZE, drop_remainder=False)\n",
    "    val_dataset = tf.data.Dataset.from_tensor_slices((val_input, val_label))\n",
    "    val_dataset = val_dataset.cache().shuffle(BATCH_SIZE*10).batch(BATCH_SIZE, drop_remainder=False)"
   ]
  },
  {
   "cell_type": "markdown",
   "metadata": {},
   "source": [
    "# Model construction"
   ]
  },
  {
   "cell_type": "code",
   "execution_count": 17,
   "metadata": {},
   "outputs": [],
   "source": [
    "class EmbeddingLayer(layers.Layer):\n",
    "    def __init__(self, num_nodes):\n",
    "        super(EmbeddingLayer, self).__init__()\n",
    "        self.n = num_nodes\n",
    "        \n",
    "        self.dense = layers.Dense(self.n)\n",
    "        self.norm = layers.LayerNormalization(epsilon=1e-6)\n",
    "        \n",
    "    def call(self, inp, is_train=True, **kwargs):\n",
    "        \n",
    "        inp = self.dense(inp)\n",
    "        inp = self.norm(inp, training=is_train)\n",
    "\n",
    "        return inp"
   ]
  },
  {
   "cell_type": "code",
   "execution_count": 18,
   "metadata": {},
   "outputs": [],
   "source": [
    "class EncoderBlock(layers.Layer):\n",
    "    def __init__(self, num_nodes, num_heads):\n",
    "        super(EncoderBlock, self).__init__()\n",
    "        self.n = num_nodes\n",
    "        self.h = num_heads\n",
    "        self.d = self.n // self.h\n",
    "        \n",
    "        self.wq = layers.Dense(self.n)\n",
    "        self.wk = layers.Dense(self.n)\n",
    "        self.wv = layers.Dense(self.n)\n",
    "        \n",
    "        self.dropout = layers.Dropout(0.1)\n",
    "        self.norm1 = layers.LayerNormalization(epsilon=1e-6)\n",
    "        \n",
    "        self.dense1 = layers.Dense(self.n, activation=tf.nn.relu)\n",
    "        self.dense2 = layers.Dense(self.n)\n",
    "        self.norm2 = layers.LayerNormalization(epsilon=1e-6)\n",
    "        \n",
    "    def head_maker(self, x, axis_1=2, axis_2=0):\n",
    "        x = tf.concat(tf.split(x, self.h, axis=axis_1), axis=axis_2)\n",
    "        \n",
    "        return x\n",
    "    \n",
    "    def call(self, inp, is_train=True, **kwargs):\n",
    "        Q = self.head_maker(self.wq(inp))\n",
    "        K = self.head_maker(self.wk(inp))\n",
    "        V = self.head_maker(self.wv(inp))\n",
    "        \n",
    "        oup = tf.matmul(Q, tf.transpose(K, (0, 2, 1)))\n",
    "        oup = oup / tf.math.sqrt(tf.cast(K.shape[-1], tf.float32))\n",
    "        oup = tf.nn.softmax(oup)\n",
    "        oup = self.dropout(oup, training=is_train)\n",
    "        oup = tf.matmul(oup, V)\n",
    "        oup = self.head_maker(oup, 0, 2)\n",
    "        oup += inp\n",
    "        oup = self.norm1(oup, training=is_train)\n",
    "        \n",
    "        oup_ffnn = self.dense1(oup)\n",
    "        oup_ffnn = self.dense2(oup_ffnn)\n",
    "        oup += oup_ffnn\n",
    "        oup = self.norm2(oup, training=is_train)\n",
    "        \n",
    "        return oup"
   ]
  },
  {
   "cell_type": "code",
   "execution_count": 19,
   "metadata": {},
   "outputs": [],
   "source": [
    "class TransformerLike(Model):\n",
    "    def __init__(self, num_nodes, num_heads, num_layers):\n",
    "        super(TransformerLike, self).__init__()\n",
    "        self.n = num_nodes\n",
    "        self.h = num_heads\n",
    "        self.l = num_layers\n",
    "        \n",
    "        self.emb = EmbeddingLayer(self.n)\n",
    "        self.encs = [EncoderBlock(self.n, self.h) for _ in range(self.l)]\n",
    "        \n",
    "        self.dense1 = layers.Dense(self.n, activation=tf.nn.relu)\n",
    "        self.dense2 = layers.Dense(self.n, activation=tf.nn.relu)\n",
    "        self.dense3 = layers.Dense(self.n, activation=tf.nn.relu)\n",
    "        self.flatten = layers.Flatten()\n",
    "        self.outdense1 = layers.Dense(32)\n",
    "        self.outdense2 = layers.Dense(1)\n",
    "        \n",
    "    def call(self, inp, is_train=True, **kwargs):\n",
    "        \n",
    "        inp = self.emb(inp)\n",
    "        for i in range(self.l):\n",
    "            inp = self.encs[i](inp, training=is_train)\n",
    "            \n",
    "        inp = self.dense1(inp)\n",
    "        inp = self.dense2(inp)\n",
    "        inp = self.dense3(inp)\n",
    "        inp = self.outdense1(self.flatten(inp))\n",
    "        inp = self.outdense2(inp)\n",
    "        \n",
    "        return inp"
   ]
  },
  {
   "cell_type": "code",
   "execution_count": 20,
   "metadata": {},
   "outputs": [],
   "source": [
    "with strategy.scope():\n",
    "    model = TransformerLike(128, 4, 2)"
   ]
  },
  {
   "cell_type": "code",
   "execution_count": 21,
   "metadata": {},
   "outputs": [],
   "source": [
    "cbs = callbacks.ReduceLROnPlateau(\n",
    "    monitor='val_loss', factor=.1, patience=15, verbose=0, mode='auto',\n",
    "    min_delta=0.0001, cooldown=0, min_lr=0)\n",
    "\n",
    "save = callbacks.ModelCheckpoint(\n",
    "    BEST_PATH, monitor='val_loss', verbose=0,\n",
    "    save_best_only=True, save_weights_only=True, mode='min', save_freq='epoch')\n",
    "\n",
    "early_stop = callbacks.EarlyStopping(monitor='val_loss', min_delta=0.0001, patience=30)"
   ]
  },
  {
   "cell_type": "code",
   "execution_count": 22,
   "metadata": {},
   "outputs": [
    {
     "name": "stdout",
     "output_type": "stream",
     "text": [
      "WARNING:tensorflow:From /home/ubuntu/anaconda3/envs/tensorflow2_p36/lib/python3.6/site-packages/tensorflow/python/data/ops/multi_device_iterator_ops.py:601: get_next_as_optional (from tensorflow.python.data.ops.iterator_ops) is deprecated and will be removed in a future version.\n",
      "Instructions for updating:\n",
      "Use `tf.data.Iterator.get_next_as_optional()` instead.\n"
     ]
    }
   ],
   "source": [
    "with strategy.scope():\n",
    "    opt = optimizers.Adam(learning_rate=LEARNING_RATE, epsilon=EPSILON)\n",
    "    model.compile(optimizer=opt, loss='mae')\n",
    "    model.predict(val_dataset)\n",
    "    model.load_weights(PRE_TRAINED)\n",
    "    model.save_weights(BEST_PATH) # For deep copy\n",
    "    model.load_weights(BEST_PATH)"
   ]
  },
  {
   "cell_type": "code",
   "execution_count": 23,
   "metadata": {},
   "outputs": [],
   "source": [
    "with strategy.scope():\n",
    "    base_model1 = Sequential(model.layers[0])\n",
    "    prediction_layer1 = EncoderBlock(128, 4)\n",
    "    base_model2 = Sequential(model.layers[2:-2])\n",
    "    prediction_layer2 = layers.Dense(32)\n",
    "    prediction_layer3 = layers.Dense(1)"
   ]
  },
  {
   "cell_type": "code",
   "execution_count": 24,
   "metadata": {},
   "outputs": [],
   "source": [
    "# with strategy.scope():\n",
    "#     base_model = Sequential(model.layers[:-2])\n",
    "#     prediction_layer1 = layers.Dense(32)\n",
    "#     prediction_layer2 = layers.Dense(1)"
   ]
  },
  {
   "cell_type": "code",
   "execution_count": 25,
   "metadata": {},
   "outputs": [],
   "source": [
    "base_model1.trainable = False\n",
    "base_model2.trainable = False"
   ]
  },
  {
   "cell_type": "code",
   "execution_count": 26,
   "metadata": {},
   "outputs": [],
   "source": [
    "# with strategy.scope():\n",
    "#     new_model = Sequential([\n",
    "#         base_model,\n",
    "#         prediction_layer1,\n",
    "#         prediction_layer2\n",
    "#     ])"
   ]
  },
  {
   "cell_type": "code",
   "execution_count": 27,
   "metadata": {},
   "outputs": [],
   "source": [
    "with strategy.scope():\n",
    "    new_model = Sequential([\n",
    "        base_model1,\n",
    "        prediction_layer1,\n",
    "        base_model2,\n",
    "        prediction_layer2,\n",
    "        prediction_layer3\n",
    "    ])"
   ]
  },
  {
   "cell_type": "code",
   "execution_count": 28,
   "metadata": {
    "scrolled": true
   },
   "outputs": [
    {
     "name": "stdout",
     "output_type": "stream",
     "text": [
      "Epoch 1/200\n",
      "INFO:tensorflow:Reduce to /job:localhost/replica:0/task:0/device:CPU:0 then broadcast to ('/job:localhost/replica:0/task:0/device:CPU:0',).\n",
      "INFO:tensorflow:Reduce to /job:localhost/replica:0/task:0/device:CPU:0 then broadcast to ('/job:localhost/replica:0/task:0/device:CPU:0',).\n",
      "INFO:tensorflow:Reduce to /job:localhost/replica:0/task:0/device:CPU:0 then broadcast to ('/job:localhost/replica:0/task:0/device:CPU:0',).\n",
      "INFO:tensorflow:Reduce to /job:localhost/replica:0/task:0/device:CPU:0 then broadcast to ('/job:localhost/replica:0/task:0/device:CPU:0',).\n",
      " 7/11 [==================>...........] - ETA: 0s - loss: 0.3699INFO:tensorflow:Reduce to /job:localhost/replica:0/task:0/device:CPU:0 then broadcast to ('/job:localhost/replica:0/task:0/device:CPU:0',).\n",
      "INFO:tensorflow:Reduce to /job:localhost/replica:0/task:0/device:CPU:0 then broadcast to ('/job:localhost/replica:0/task:0/device:CPU:0',).\n",
      "INFO:tensorflow:Reduce to /job:localhost/replica:0/task:0/device:CPU:0 then broadcast to ('/job:localhost/replica:0/task:0/device:CPU:0',).\n",
      "INFO:tensorflow:Reduce to /job:localhost/replica:0/task:0/device:CPU:0 then broadcast to ('/job:localhost/replica:0/task:0/device:CPU:0',).\n",
      "11/11 [==============================] - 2s 172ms/step - loss: 0.3129 - val_loss: 0.0984\n",
      "INFO:tensorflow:Reduce to /job:localhost/replica:0/task:0/device:CPU:0 then broadcast to ('/job:localhost/replica:0/task:0/device:CPU:0',).\n",
      "INFO:tensorflow:Reduce to /job:localhost/replica:0/task:0/device:CPU:0 then broadcast to ('/job:localhost/replica:0/task:0/device:CPU:0',).\n",
      "Epoch 2/200\n",
      "11/11 [==============================] - 0s 22ms/step - loss: 0.1095 - val_loss: 0.0842\n",
      "Epoch 3/200\n",
      "11/11 [==============================] - 0s 22ms/step - loss: 0.0585 - val_loss: 0.0335\n",
      "Epoch 4/200\n",
      "11/11 [==============================] - 0s 18ms/step - loss: 0.0380 - val_loss: 0.0417\n",
      "Epoch 5/200\n",
      "11/11 [==============================] - 0s 18ms/step - loss: 0.0462 - val_loss: 0.0498\n",
      "Epoch 6/200\n",
      "11/11 [==============================] - 0s 21ms/step - loss: 0.0365 - val_loss: 0.0307\n",
      "Epoch 7/200\n",
      "11/11 [==============================] - 0s 18ms/step - loss: 0.0363 - val_loss: 0.0743\n",
      "Epoch 8/200\n",
      "11/11 [==============================] - 0s 17ms/step - loss: 0.0689 - val_loss: 0.0924\n",
      "Epoch 9/200\n",
      "11/11 [==============================] - 0s 17ms/step - loss: 0.0478 - val_loss: 0.0432\n",
      "Epoch 10/200\n",
      "11/11 [==============================] - 0s 22ms/step - loss: 0.0359 - val_loss: 0.0279\n",
      "Epoch 11/200\n",
      "11/11 [==============================] - 0s 17ms/step - loss: 0.0603 - val_loss: 0.0914\n",
      "Epoch 12/200\n",
      "11/11 [==============================] - 0s 18ms/step - loss: 0.0721 - val_loss: 0.0529\n",
      "Epoch 13/200\n",
      "11/11 [==============================] - 0s 22ms/step - loss: 0.0454 - val_loss: 0.0274\n",
      "Epoch 14/200\n",
      "11/11 [==============================] - 0s 18ms/step - loss: 0.0339 - val_loss: 0.0519\n",
      "Epoch 15/200\n",
      "11/11 [==============================] - 0s 19ms/step - loss: 0.0421 - val_loss: 0.0510\n",
      "Epoch 16/200\n",
      "11/11 [==============================] - 0s 19ms/step - loss: 0.0410 - val_loss: 0.0483\n",
      "Epoch 17/200\n",
      "11/11 [==============================] - 0s 23ms/step - loss: 0.0348 - val_loss: 0.0231\n",
      "Epoch 18/200\n",
      "11/11 [==============================] - 0s 23ms/step - loss: 0.0287 - val_loss: 0.0219\n",
      "Epoch 19/200\n",
      "11/11 [==============================] - 0s 19ms/step - loss: 0.0289 - val_loss: 0.0344\n",
      "Epoch 20/200\n",
      "11/11 [==============================] - 0s 19ms/step - loss: 0.0399 - val_loss: 0.0239\n",
      "Epoch 21/200\n",
      "11/11 [==============================] - 0s 18ms/step - loss: 0.0220 - val_loss: 0.0307\n",
      "Epoch 22/200\n",
      "11/11 [==============================] - 0s 19ms/step - loss: 0.0222 - val_loss: 0.0433\n",
      "Epoch 23/200\n",
      "11/11 [==============================] - 0s 18ms/step - loss: 0.0270 - val_loss: 0.0264\n",
      "Epoch 24/200\n",
      "11/11 [==============================] - 0s 19ms/step - loss: 0.0172 - val_loss: 0.0342\n",
      "Epoch 25/200\n",
      "11/11 [==============================] - 0s 19ms/step - loss: 0.0229 - val_loss: 0.0358\n",
      "Epoch 26/200\n",
      "11/11 [==============================] - 0s 19ms/step - loss: 0.0302 - val_loss: 0.0618\n",
      "Epoch 27/200\n",
      "11/11 [==============================] - 0s 18ms/step - loss: 0.0269 - val_loss: 0.0291\n",
      "Epoch 28/200\n",
      "11/11 [==============================] - 0s 24ms/step - loss: 0.0263 - val_loss: 0.0210\n",
      "Epoch 29/200\n",
      "11/11 [==============================] - 0s 19ms/step - loss: 0.0156 - val_loss: 0.0224\n",
      "Epoch 30/200\n",
      "11/11 [==============================] - 0s 19ms/step - loss: 0.0250 - val_loss: 0.0271\n",
      "Epoch 31/200\n",
      "11/11 [==============================] - 0s 20ms/step - loss: 0.0218 - val_loss: 0.0215\n",
      "Epoch 32/200\n",
      "11/11 [==============================] - 0s 19ms/step - loss: 0.0229 - val_loss: 0.0255\n",
      "Epoch 33/200\n",
      "11/11 [==============================] - 0s 19ms/step - loss: 0.0255 - val_loss: 0.0260\n",
      "Epoch 34/200\n",
      "11/11 [==============================] - 0s 19ms/step - loss: 0.0282 - val_loss: 0.0640\n",
      "Epoch 35/200\n",
      "11/11 [==============================] - 0s 18ms/step - loss: 0.0594 - val_loss: 0.0373\n",
      "Epoch 36/200\n",
      "11/11 [==============================] - 0s 19ms/step - loss: 0.0315 - val_loss: 0.0419\n",
      "Epoch 37/200\n",
      "11/11 [==============================] - 0s 20ms/step - loss: 0.0272 - val_loss: 0.0507\n",
      "Epoch 38/200\n",
      "11/11 [==============================] - 0s 18ms/step - loss: 0.0345 - val_loss: 0.0393\n",
      "Epoch 39/200\n",
      "11/11 [==============================] - 0s 18ms/step - loss: 0.0299 - val_loss: 0.0565\n",
      "Epoch 40/200\n",
      "11/11 [==============================] - 0s 19ms/step - loss: 0.0408 - val_loss: 0.0558\n",
      "Epoch 41/200\n",
      "11/11 [==============================] - 0s 17ms/step - loss: 0.0283 - val_loss: 0.0218\n",
      "Epoch 42/200\n",
      "11/11 [==============================] - 0s 17ms/step - loss: 0.0214 - val_loss: 0.0250\n",
      "Epoch 43/200\n",
      "11/11 [==============================] - 0s 18ms/step - loss: 0.0212 - val_loss: 0.0382\n",
      "Epoch 44/200\n",
      "11/11 [==============================] - 0s 18ms/step - loss: 0.0209 - val_loss: 0.0264\n",
      "Epoch 45/200\n",
      "11/11 [==============================] - 0s 18ms/step - loss: 0.0200 - val_loss: 0.0231\n",
      "Epoch 46/200\n",
      "11/11 [==============================] - 0s 19ms/step - loss: 0.0197 - val_loss: 0.0266\n",
      "Epoch 47/200\n",
      "11/11 [==============================] - 0s 18ms/step - loss: 0.0207 - val_loss: 0.0220\n",
      "Epoch 48/200\n",
      "11/11 [==============================] - 0s 22ms/step - loss: 0.0179 - val_loss: 0.0210\n",
      "Epoch 49/200\n",
      "11/11 [==============================] - 0s 18ms/step - loss: 0.0160 - val_loss: 0.0214\n",
      "Epoch 50/200\n",
      "11/11 [==============================] - 0s 22ms/step - loss: 0.0155 - val_loss: 0.0200\n",
      "Epoch 51/200\n",
      "11/11 [==============================] - 0s 17ms/step - loss: 0.0151 - val_loss: 0.0206\n",
      "Epoch 52/200\n",
      "11/11 [==============================] - 0s 18ms/step - loss: 0.0151 - val_loss: 0.0213\n",
      "Epoch 53/200\n",
      "11/11 [==============================] - 0s 17ms/step - loss: 0.0151 - val_loss: 0.0207\n",
      "Epoch 54/200\n",
      "11/11 [==============================] - 0s 17ms/step - loss: 0.0151 - val_loss: 0.0214\n",
      "Epoch 55/200\n",
      "11/11 [==============================] - 0s 18ms/step - loss: 0.0165 - val_loss: 0.0213\n",
      "Epoch 56/200\n",
      "11/11 [==============================] - 0s 16ms/step - loss: 0.0159 - val_loss: 0.0224\n",
      "Epoch 57/200\n",
      "11/11 [==============================] - 0s 17ms/step - loss: 0.0149 - val_loss: 0.0211\n",
      "Epoch 58/200\n",
      "11/11 [==============================] - 0s 17ms/step - loss: 0.0152 - val_loss: 0.0215\n",
      "Epoch 59/200\n",
      "11/11 [==============================] - 0s 17ms/step - loss: 0.0147 - val_loss: 0.0205\n",
      "Epoch 60/200\n",
      "11/11 [==============================] - 0s 17ms/step - loss: 0.0146 - val_loss: 0.0208\n",
      "Epoch 61/200\n",
      "11/11 [==============================] - 0s 18ms/step - loss: 0.0145 - val_loss: 0.0202\n",
      "Epoch 62/200\n",
      "11/11 [==============================] - 0s 18ms/step - loss: 0.0149 - val_loss: 0.0211\n",
      "Epoch 63/200\n",
      "11/11 [==============================] - 0s 17ms/step - loss: 0.0163 - val_loss: 0.0203\n",
      "Epoch 64/200\n",
      "11/11 [==============================] - 0s 18ms/step - loss: 0.0170 - val_loss: 0.0230\n",
      "Epoch 65/200\n",
      "11/11 [==============================] - 0s 18ms/step - loss: 0.0158 - val_loss: 0.0210\n",
      "Epoch 66/200\n",
      "11/11 [==============================] - 0s 22ms/step - loss: 0.0141 - val_loss: 0.0198\n",
      "Epoch 67/200\n",
      "11/11 [==============================] - 0s 22ms/step - loss: 0.0137 - val_loss: 0.0196\n",
      "Epoch 68/200\n",
      "11/11 [==============================] - 0s 18ms/step - loss: 0.0140 - val_loss: 0.0200\n",
      "Epoch 69/200\n",
      "11/11 [==============================] - 0s 18ms/step - loss: 0.0139 - val_loss: 0.0199\n",
      "Epoch 70/200\n",
      "11/11 [==============================] - 0s 18ms/step - loss: 0.0138 - val_loss: 0.0198\n",
      "Epoch 71/200\n",
      "11/11 [==============================] - 0s 17ms/step - loss: 0.0137 - val_loss: 0.0200\n",
      "Epoch 72/200\n",
      "11/11 [==============================] - 0s 17ms/step - loss: 0.0137 - val_loss: 0.0201\n",
      "Epoch 73/200\n",
      "11/11 [==============================] - 0s 18ms/step - loss: 0.0135 - val_loss: 0.0200\n",
      "Epoch 74/200\n",
      "11/11 [==============================] - 0s 17ms/step - loss: 0.0138 - val_loss: 0.0200\n",
      "Epoch 75/200\n",
      "11/11 [==============================] - 0s 17ms/step - loss: 0.0138 - val_loss: 0.0199\n",
      "Epoch 76/200\n",
      "11/11 [==============================] - 0s 17ms/step - loss: 0.0138 - val_loss: 0.0198\n",
      "Epoch 77/200\n",
      "11/11 [==============================] - 0s 17ms/step - loss: 0.0138 - val_loss: 0.0203\n",
      "Epoch 78/200\n",
      "11/11 [==============================] - 0s 17ms/step - loss: 0.0136 - val_loss: 0.0196\n",
      "Epoch 79/200\n",
      "11/11 [==============================] - 0s 18ms/step - loss: 0.0139 - val_loss: 0.0204\n",
      "Epoch 80/200\n",
      "11/11 [==============================] - 0s 18ms/step - loss: 0.0137 - val_loss: 0.0203\n",
      "Epoch 81/200\n",
      "11/11 [==============================] - 0s 18ms/step - loss: 0.0141 - val_loss: 0.0198\n",
      "Epoch 82/200\n",
      "11/11 [==============================] - 0s 19ms/step - loss: 0.0138 - val_loss: 0.0206\n",
      "Epoch 83/200\n",
      "11/11 [==============================] - 0s 19ms/step - loss: 0.0138 - val_loss: 0.0206\n",
      "Epoch 84/200\n",
      "11/11 [==============================] - 0s 18ms/step - loss: 0.0137 - val_loss: 0.0199\n",
      "Epoch 85/200\n",
      "11/11 [==============================] - 0s 19ms/step - loss: 0.0135 - val_loss: 0.0204\n",
      "Epoch 86/200\n",
      "11/11 [==============================] - 0s 19ms/step - loss: 0.0135 - val_loss: 0.0200\n",
      "Epoch 87/200\n",
      "11/11 [==============================] - 0s 18ms/step - loss: 0.0137 - val_loss: 0.0198\n",
      "Epoch 88/200\n",
      "11/11 [==============================] - 0s 19ms/step - loss: 0.0137 - val_loss: 0.0197\n",
      "Epoch 89/200\n",
      "11/11 [==============================] - 0s 17ms/step - loss: 0.0136 - val_loss: 0.0200\n",
      "Epoch 90/200\n",
      "11/11 [==============================] - 0s 18ms/step - loss: 0.0137 - val_loss: 0.0199\n",
      "Epoch 91/200\n",
      "11/11 [==============================] - 0s 18ms/step - loss: 0.0135 - val_loss: 0.0201\n",
      "Epoch 92/200\n",
      "11/11 [==============================] - 0s 18ms/step - loss: 0.0138 - val_loss: 0.0197\n",
      "Epoch 93/200\n",
      "11/11 [==============================] - 0s 18ms/step - loss: 0.0138 - val_loss: 0.0200\n",
      "Epoch 94/200\n",
      "11/11 [==============================] - 0s 19ms/step - loss: 0.0135 - val_loss: 0.0200\n",
      "Epoch 95/200\n",
      "11/11 [==============================] - 0s 18ms/step - loss: 0.0136 - val_loss: 0.0197\n",
      "Epoch 96/200\n",
      "11/11 [==============================] - 0s 18ms/step - loss: 0.0136 - val_loss: 0.0197\n",
      "Epoch 97/200\n",
      "11/11 [==============================] - 0s 19ms/step - loss: 0.0134 - val_loss: 0.0197\n"
     ]
    }
   ],
   "source": [
    "with strategy.scope():\n",
    "    opt = optimizers.Adam(learning_rate=LEARNING_RATE, epsilon=EPSILON)\n",
    "    new_model.compile(optimizer=opt, loss='mae')\n",
    "    history = new_model.fit(train_dataset, epochs=TRAINING_EPOCHS, validation_data=val_dataset,\n",
    "                            verbose=1, callbacks=[cbs, save, early_stop]) "
   ]
  },
  {
   "cell_type": "code",
   "execution_count": 29,
   "metadata": {},
   "outputs": [],
   "source": [
    "new_model.load_weights(BEST_PATH)"
   ]
  },
  {
   "cell_type": "code",
   "execution_count": 30,
   "metadata": {},
   "outputs": [
    {
     "data": {
      "image/png": "[encoded data removed]",
      "text/plain": [
       "<Figure size 481.89x340.157 with 1 Axes>"
      ]
     },
     "metadata": {},
     "output_type": "display_data"
    }
   ],
   "source": [
    "loss = history.history['loss']\n",
    "val_loss = history.history['val_loss']\n",
    "\n",
    "epochs = range(len(loss))\n",
    "\n",
    "fig = plt.figure(figsize=((8.5/2.54*2), (6/2.54*2)))\n",
    "ax0 = plt.subplot()\n",
    "ax0.plot(epochs, loss, 'b', label = 'Training loss')\n",
    "ax0.plot(epochs, val_loss, 'r', label = 'Validation loss')\n",
    "ax0.legend()\n",
    "ax0.set_ybound([0,0.51])\n",
    "\n",
    "plt.show()"
   ]
  },
  {
   "cell_type": "code",
   "execution_count": 31,
   "metadata": {},
   "outputs": [
    {
     "name": "stdout",
     "output_type": "stream",
     "text": [
      "5/5 [==============================] - 0s 4ms/step - loss: 0.0200\n"
     ]
    },
    {
     "data": {
      "text/plain": [
       "0.02002222090959549"
      ]
     },
     "execution_count": 31,
     "metadata": {},
     "output_type": "execute_result"
    }
   ],
   "source": [
    "new_model.evaluate(val_dataset)"
   ]
  },
  {
   "cell_type": "markdown",
   "metadata": {},
   "source": [
    "0.01992788538336754"
   ]
  },
  {
   "cell_type": "code",
   "execution_count": 32,
   "metadata": {},
   "outputs": [],
   "source": [
    "pred_output = new_model.predict(test_input)"
   ]
  },
  {
   "cell_type": "code",
   "execution_count": 33,
   "metadata": {},
   "outputs": [],
   "source": [
    "pred_output = pred_output*(OUTPUT_MAX - OUTPUT_MIN) + OUTPUT_MIN\n",
    "test_label = test_label*(OUTPUT_MAX - OUTPUT_MIN) + OUTPUT_MIN"
   ]
  },
  {
   "cell_type": "code",
   "execution_count": 34,
   "metadata": {},
   "outputs": [
    {
     "data": {
      "image/png": "[encoded data removed]",
      "text/plain": [
       "<Figure size 481.89x340.157 with 1 Axes>"
      ]
     },
     "metadata": {},
     "output_type": "display_data"
    }
   ],
   "source": [
    "fig = plt.figure(figsize=((8.5/2.54*2), (6/2.54*2)))\n",
    "ax0 = plt.subplot()\n",
    "\n",
    "ax0.spines['right'].set_visible(False)\n",
    "ax0.spines['left'].set_position(('outward', 5))\n",
    "ax0.spines['bottom'].set_position(('outward', 5))\n",
    "\n",
    "ax0.plot(test_label, pred_output, 'o', ms=5, mec='k', c=cmap[0])\n",
    "\n",
    "\n",
    "fig.tight_layout()"
   ]
  },
  {
   "cell_type": "code",
   "execution_count": 35,
   "metadata": {},
   "outputs": [],
   "source": [
    "pred_df = pd.DataFrame(test_label, index=test_indices[:, 0], columns=['label'])\n",
    "pred_df['pred'] = pred_output\n",
    "pred_df.index = pd.DatetimeIndex(pred_df.index)"
   ]
  },
  {
   "cell_type": "code",
   "execution_count": 36,
   "metadata": {},
   "outputs": [
    {
     "data": {
      "image/png": "[encoded data removed]",
      "text/plain": [
       "<Figure size 481.89x340.157 with 1 Axes>"
      ]
     },
     "metadata": {},
     "output_type": "display_data"
    }
   ],
   "source": [
    "fig = plt.figure(figsize=((8.5/2.54*2), (6/2.54*2)))\n",
    "ax0 = plt.subplot()\n",
    "\n",
    "ax0.spines['right'].set_visible(False)\n",
    "ax0.spines['left'].set_position(('outward', 5))\n",
    "ax0.spines['bottom'].set_position(('outward', 5))\n",
    "\n",
    "ax0.plot(pred_df.index, pred_df['label'], '-o', ms=5, mec='k', c=cmap[4])\n",
    "ax0.plot(pred_df.index, pred_df['pred'], 'o', ms=5, mec='k', c=cmap[0])\n",
    "\n",
    "\n",
    "fig.tight_layout()"
   ]
  },
  {
   "cell_type": "code",
   "execution_count": 37,
   "metadata": {},
   "outputs": [],
   "source": [
    "pred_df.to_csv('./results/model_output/transformer_tf.csv')"
   ]
  }
 ],
 "metadata": {
  "kernelspec": {
   "display_name": "Environment (conda_tensorflow2_p36)",
   "language": "python",
   "name": "conda_tensorflow2_p36"
  },
  "language_info": {
   "codemirror_mode": {
    "name": "ipython",
    "version": 3
   },
   "file_extension": ".py",
   "mimetype": "text/x-python",
   "name": "python",
   "nbconvert_exporter": "python",
   "pygments_lexer": "ipython3",
   "version": "3.6.10"
  }
 },
 "nbformat": 4,
 "nbformat_minor": 4
}
