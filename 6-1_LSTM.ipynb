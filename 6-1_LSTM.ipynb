{
 "cells": [
  {
   "cell_type": "code",
   "execution_count": 1,
   "metadata": {},
   "outputs": [
    {
     "data": {
      "text/plain": [
       "'2.3.0'"
      ]
     },
     "execution_count": 1,
     "metadata": {},
     "output_type": "execute_result"
    }
   ],
   "source": [
    "import pandas as pd\n",
    "import numpy as np\n",
    "np.set_printoptions(precision=6, suppress=True)\n",
    "from sklearn.utils import shuffle\n",
    "\n",
    "from tqdm import tqdm\n",
    "\n",
    "import tensorflow as tf\n",
    "from tensorflow.keras import *\n",
    "import tensorflow_addons as tfa\n",
    "tf.__version__"
   ]
  },
  {
   "cell_type": "code",
   "execution_count": 2,
   "metadata": {},
   "outputs": [],
   "source": [
    "import matplotlib\n",
    "import matplotlib.pyplot as plt\n",
    "import matplotlib.dates as mdates\n",
    "from matplotlib.ticker import (LinearLocator, MultipleLocator, FormatStrFormatter)\n",
    "from matplotlib.dates import MONDAY\n",
    "from matplotlib.dates import MonthLocator, WeekdayLocator, DateFormatter\n",
    "from matplotlib import gridspec\n",
    "from pandas.plotting import register_matplotlib_converters\n",
    "register_matplotlib_converters()\n",
    "%matplotlib inline"
   ]
  },
  {
   "cell_type": "code",
   "execution_count": 3,
   "metadata": {},
   "outputs": [],
   "source": [
    "plt.rcParams['figure.figsize'] = ((8/2.54), (6/2.54))\n",
    "plt.rcParams[\"font.family\"] = \"Arial\"\n",
    "plt.rcParams[\"mathtext.default\"] = \"rm\"\n",
    "plt.rcParams.update({'font.size': 11})\n",
    "MARKER_SIZE = 15\n",
    "cmap_m = [\"#f4a6ad\", \"#f6957e\", \"#fccfa2\", \"#8de7be\", \"#86d6f2\", \"#24a9e4\", \"#b586e0\", \"#d7f293\"]\n",
    "cmap = [\"#e94d5b\", \"#ef4d28\", \"#f9a54f\", \"#25b575\", \"#1bb1e7\", \"#1477a2\", \"#a662e5\", \"#c2f442\"]\n",
    "\n",
    "plt.rcParams['axes.spines.top'] = False\n",
    "# plt.rcParams['axes.edgecolor'] = \n",
    "plt.rcParams['axes.linewidth'] = 1\n",
    "plt.rcParams['lines.linewidth'] = 1.5\n",
    "plt.rcParams['xtick.major.width'] = 1\n",
    "plt.rcParams['xtick.minor.width'] = 1\n",
    "plt.rcParams['ytick.major.width'] = 1\n",
    "plt.rcParams['ytick.minor.width'] = 1"
   ]
  },
  {
   "cell_type": "code",
   "execution_count": 4,
   "metadata": {},
   "outputs": [
    {
     "data": {
      "text/plain": [
       "[PhysicalDevice(name='/physical_device:GPU:0', device_type='GPU')]"
      ]
     },
     "execution_count": 4,
     "metadata": {},
     "output_type": "execute_result"
    }
   ],
   "source": [
    "tf.config.list_physical_devices('GPU')"
   ]
  },
  {
   "cell_type": "code",
   "execution_count": 5,
   "metadata": {},
   "outputs": [
    {
     "name": "stdout",
     "output_type": "stream",
     "text": [
      "1 Physical GPUs, 1 Logical GPUs\n"
     ]
    }
   ],
   "source": [
    "gpus = tf.config.experimental.list_physical_devices('GPU')\n",
    "if gpus:\n",
    "    try:\n",
    "        for gpu in gpus:\n",
    "            tf.config.experimental.set_memory_growth(gpu, True)\n",
    "        logical_gpus = tf.config.experimental.list_logical_devices('GPU')\n",
    "        print(len(gpus), \"Physical GPUs,\", len(logical_gpus), \"Logical GPUs\")\n",
    "    except RuntimeError as e:\n",
    "        print(e)"
   ]
  },
  {
   "cell_type": "code",
   "execution_count": 6,
   "metadata": {},
   "outputs": [
    {
     "name": "stdout",
     "output_type": "stream",
     "text": [
      "INFO:tensorflow:Using MirroredStrategy with devices ('/job:localhost/replica:0/task:0/device:GPU:0',)\n"
     ]
    }
   ],
   "source": [
    "strategy = tf.distribute.MirroredStrategy()"
   ]
  },
  {
   "cell_type": "markdown",
   "metadata": {},
   "source": [
    "# Hyperparameters"
   ]
  },
  {
   "cell_type": "code",
   "execution_count": 7,
   "metadata": {},
   "outputs": [],
   "source": [
    "BEST_PATH = './models/lstm.h5'\n",
    "TRAINING_EPOCHS = 200\n",
    "LEARNING_RATE = 0.001\n",
    "EPSILON = 1e-08\n",
    "BATCH_SIZE = 16"
   ]
  },
  {
   "cell_type": "markdown",
   "metadata": {},
   "source": [
    "# Data loading"
   ]
  },
  {
   "cell_type": "code",
   "execution_count": 8,
   "metadata": {},
   "outputs": [],
   "source": [
    "l = np.load('./results/2020_S/fw_dataset.npz', allow_pickle=True)\n",
    "data_indices = l['data_indices']\n",
    "input_data = l['input_data']\n",
    "output_label = l['output_label']\n",
    "INPUT_MAXS = l['INPUT_MAXS']\n",
    "INPUT_MINS = l['INPUT_MINS']\n",
    "OUTPUT_MAX = l['OUTPUT_MAX']\n",
    "OUTPUT_MIN = l['OUTPUT_MIN']"
   ]
  },
  {
   "cell_type": "code",
   "execution_count": 9,
   "metadata": {},
   "outputs": [],
   "source": [
    "input_data = input_data.astype('float32')\n",
    "output_label = output_label.astype('float32')"
   ]
  },
  {
   "cell_type": "code",
   "execution_count": 10,
   "metadata": {},
   "outputs": [
    {
     "name": "stdout",
     "output_type": "stream",
     "text": [
      "(363, 144, 9)\n",
      "(363, 1)\n"
     ]
    }
   ],
   "source": [
    "print(input_data.shape)\n",
    "print(output_label.shape)"
   ]
  },
  {
   "cell_type": "code",
   "execution_count": 11,
   "metadata": {},
   "outputs": [
    {
     "name": "stdout",
     "output_type": "stream",
     "text": [
      "[ 42.31875  90.9425  330.1      73.335    10.006     5.057    36.58\n",
      "  50.264    19.731  ]\n",
      "[15.83875  4.4325  -0.5957  32.115    2.296    0.579   15.7      8.744\n",
      " 11.393  ]\n"
     ]
    }
   ],
   "source": [
    "print(INPUT_MAXS)\n",
    "print(INPUT_MINS)"
   ]
  },
  {
   "cell_type": "code",
   "execution_count": 12,
   "metadata": {},
   "outputs": [
    {
     "name": "stdout",
     "output_type": "stream",
     "text": [
      "2.470441467376113\n",
      "0.40038664002968494\n"
     ]
    }
   ],
   "source": [
    "print(OUTPUT_MAX)\n",
    "print(OUTPUT_MIN)"
   ]
  },
  {
   "cell_type": "code",
   "execution_count": 13,
   "metadata": {},
   "outputs": [],
   "source": [
    "data_indices, input_data, output_label = shuffle(data_indices, input_data, output_label, random_state=3101)"
   ]
  },
  {
   "cell_type": "code",
   "execution_count": 14,
   "metadata": {},
   "outputs": [],
   "source": [
    "N_TRAIN = int(input_data.shape[0]*.7)\n",
    "train_input = input_data[:N_TRAIN, ...]\n",
    "train_label = output_label[:N_TRAIN, ...]\n",
    "train_indices = data_indices[:N_TRAIN]\n",
    "val_input = input_data[N_TRAIN:, ...]\n",
    "val_label = output_label[N_TRAIN:, ...]\n",
    "val_indices = data_indices[N_TRAIN:]"
   ]
  },
  {
   "cell_type": "code",
   "execution_count": 15,
   "metadata": {},
   "outputs": [
    {
     "name": "stdout",
     "output_type": "stream",
     "text": [
      "number of training set: 254\n",
      "number of validation set: 109\n"
     ]
    }
   ],
   "source": [
    "print(f'number of training set: {train_input.shape[0]}')\n",
    "print(f'number of validation set: {val_input.shape[0]}')"
   ]
  },
  {
   "cell_type": "code",
   "execution_count": 16,
   "metadata": {},
   "outputs": [],
   "source": [
    "with strategy.scope():\n",
    "    train_dataset = tf.data.Dataset.from_tensor_slices((train_input, train_label))\n",
    "    train_dataset = train_dataset.cache().shuffle(BATCH_SIZE*10).batch(BATCH_SIZE, drop_remainder=False)\n",
    "    val_dataset = tf.data.Dataset.from_tensor_slices((val_input, val_label))\n",
    "    val_dataset = val_dataset.cache().shuffle(BATCH_SIZE*10).batch(BATCH_SIZE, drop_remainder=False)"
   ]
  },
  {
   "cell_type": "markdown",
   "metadata": {},
   "source": [
    "# Model construction"
   ]
  },
  {
   "cell_type": "code",
   "execution_count": 17,
   "metadata": {},
   "outputs": [],
   "source": [
    "with strategy.scope():\n",
    "    model = models.Sequential([\n",
    "        layers.Bidirectional(layers.LSTM(256)),\n",
    "        layers.LayerNormalization(),\n",
    "        layers.Dense(32),\n",
    "        layers.Dense(1)\n",
    "    ])"
   ]
  },
  {
   "cell_type": "code",
   "execution_count": 18,
   "metadata": {},
   "outputs": [],
   "source": [
    "cbs = callbacks.ReduceLROnPlateau(\n",
    "    monitor='val_loss', factor=.1, patience=5, verbose=0, mode='auto',\n",
    "    min_delta=0.0001, cooldown=0, min_lr=0)\n",
    "\n",
    "save = callbacks.ModelCheckpoint(\n",
    "    BEST_PATH, monitor='val_loss', verbose=0,\n",
    "    save_best_only=True, save_weights_only=True, mode='min', save_freq='epoch')\n",
    "\n",
    "early_stop = callbacks.EarlyStopping(monitor='val_loss', min_delta=0.0001, patience=20) "
   ]
  },
  {
   "cell_type": "code",
   "execution_count": 19,
   "metadata": {
    "scrolled": true
   },
   "outputs": [
    {
     "name": "stdout",
     "output_type": "stream",
     "text": [
      "Epoch 1/200\n",
      "WARNING:tensorflow:From /home/ubuntu/anaconda3/envs/tensorflow2_p36/lib/python3.6/site-packages/tensorflow/python/data/ops/multi_device_iterator_ops.py:601: get_next_as_optional (from tensorflow.python.data.ops.iterator_ops) is deprecated and will be removed in a future version.\n",
      "Instructions for updating:\n",
      "Use `tf.data.Iterator.get_next_as_optional()` instead.\n",
      "INFO:tensorflow:Reduce to /job:localhost/replica:0/task:0/device:CPU:0 then broadcast to ('/job:localhost/replica:0/task:0/device:CPU:0',).\n",
      "INFO:tensorflow:Reduce to /job:localhost/replica:0/task:0/device:CPU:0 then broadcast to ('/job:localhost/replica:0/task:0/device:CPU:0',).\n",
      "INFO:tensorflow:Reduce to /job:localhost/replica:0/task:0/device:CPU:0 then broadcast to ('/job:localhost/replica:0/task:0/device:CPU:0',).\n",
      "INFO:tensorflow:Reduce to /job:localhost/replica:0/task:0/device:CPU:0 then broadcast to ('/job:localhost/replica:0/task:0/device:CPU:0',).\n",
      "16/16 [==============================] - ETA: 0s - loss: 1.8676INFO:tensorflow:Reduce to /job:localhost/replica:0/task:0/device:CPU:0 then broadcast to ('/job:localhost/replica:0/task:0/device:CPU:0',).\n",
      "INFO:tensorflow:Reduce to /job:localhost/replica:0/task:0/device:CPU:0 then broadcast to ('/job:localhost/replica:0/task:0/device:CPU:0',).\n",
      "INFO:tensorflow:Reduce to /job:localhost/replica:0/task:0/device:CPU:0 then broadcast to ('/job:localhost/replica:0/task:0/device:CPU:0',).\n",
      "INFO:tensorflow:Reduce to /job:localhost/replica:0/task:0/device:CPU:0 then broadcast to ('/job:localhost/replica:0/task:0/device:CPU:0',).\n",
      "16/16 [==============================] - 2s 136ms/step - loss: 1.8676 - val_loss: 0.9343\n",
      "INFO:tensorflow:Reduce to /job:localhost/replica:0/task:0/device:CPU:0 then broadcast to ('/job:localhost/replica:0/task:0/device:CPU:0',).\n",
      "INFO:tensorflow:Reduce to /job:localhost/replica:0/task:0/device:CPU:0 then broadcast to ('/job:localhost/replica:0/task:0/device:CPU:0',).\n",
      "Epoch 2/200\n",
      "16/16 [==============================] - 1s 32ms/step - loss: 0.3232 - val_loss: 0.0785\n",
      "Epoch 3/200\n",
      "16/16 [==============================] - 0s 23ms/step - loss: 0.2531 - val_loss: 0.1737\n",
      "Epoch 4/200\n",
      "16/16 [==============================] - 0s 23ms/step - loss: 0.1238 - val_loss: 0.1492\n",
      "Epoch 5/200\n",
      "16/16 [==============================] - 0s 25ms/step - loss: 0.2764 - val_loss: 0.0772\n",
      "Epoch 6/200\n",
      "16/16 [==============================] - 0s 23ms/step - loss: 0.2024 - val_loss: 0.1332\n",
      "Epoch 7/200\n",
      "16/16 [==============================] - 0s 24ms/step - loss: 0.1917 - val_loss: 0.0602\n",
      "Epoch 8/200\n",
      "16/16 [==============================] - 0s 23ms/step - loss: 0.1679 - val_loss: 0.3516\n",
      "Epoch 9/200\n",
      "16/16 [==============================] - 0s 23ms/step - loss: 0.2431 - val_loss: 0.2668\n",
      "Epoch 10/200\n",
      "16/16 [==============================] - 0s 23ms/step - loss: 0.2155 - val_loss: 0.0779\n",
      "Epoch 11/200\n",
      "16/16 [==============================] - 0s 23ms/step - loss: 0.0904 - val_loss: 0.0716\n",
      "Epoch 12/200\n",
      "16/16 [==============================] - 0s 24ms/step - loss: 0.0740 - val_loss: 0.0525\n",
      "Epoch 13/200\n",
      "16/16 [==============================] - 0s 23ms/step - loss: 0.2441 - val_loss: 0.2983\n",
      "Epoch 14/200\n",
      "16/16 [==============================] - 0s 23ms/step - loss: 0.1682 - val_loss: 0.2010\n",
      "Epoch 15/200\n",
      "16/16 [==============================] - 0s 23ms/step - loss: 0.1660 - val_loss: 0.2065\n",
      "Epoch 16/200\n",
      "16/16 [==============================] - 0s 23ms/step - loss: 0.2293 - val_loss: 0.1041\n",
      "Epoch 17/200\n",
      "16/16 [==============================] - 0s 25ms/step - loss: 0.0931 - val_loss: 0.0322\n",
      "Epoch 18/200\n",
      "16/16 [==============================] - 0s 25ms/step - loss: 0.1366 - val_loss: 0.1697\n",
      "Epoch 19/200\n",
      "16/16 [==============================] - 0s 24ms/step - loss: 0.1600 - val_loss: 0.4753\n",
      "Epoch 20/200\n",
      "16/16 [==============================] - 0s 24ms/step - loss: 0.2315 - val_loss: 0.0659\n",
      "Epoch 21/200\n",
      "16/16 [==============================] - 0s 23ms/step - loss: 0.2300 - val_loss: 0.0883\n",
      "Epoch 22/200\n",
      "16/16 [==============================] - 0s 24ms/step - loss: 0.1884 - val_loss: 0.2340\n",
      "Epoch 23/200\n",
      "16/16 [==============================] - 0s 23ms/step - loss: 0.1227 - val_loss: 0.1062\n",
      "Epoch 24/200\n",
      "16/16 [==============================] - 0s 24ms/step - loss: 0.0623 - val_loss: 0.0290\n",
      "Epoch 25/200\n",
      "16/16 [==============================] - 0s 23ms/step - loss: 0.0298 - val_loss: 0.0370\n",
      "Epoch 26/200\n",
      "16/16 [==============================] - 0s 24ms/step - loss: 0.0226 - val_loss: 0.0146\n",
      "Epoch 27/200\n",
      "16/16 [==============================] - 0s 23ms/step - loss: 0.0202 - val_loss: 0.0285\n",
      "Epoch 28/200\n",
      "16/16 [==============================] - 0s 23ms/step - loss: 0.0212 - val_loss: 0.0185\n",
      "Epoch 29/200\n",
      "16/16 [==============================] - 0s 25ms/step - loss: 0.0208 - val_loss: 0.0128\n",
      "Epoch 30/200\n",
      "16/16 [==============================] - 0s 23ms/step - loss: 0.0201 - val_loss: 0.0232\n",
      "Epoch 31/200\n",
      "16/16 [==============================] - 0s 23ms/step - loss: 0.0221 - val_loss: 0.0139\n",
      "Epoch 32/200\n",
      "16/16 [==============================] - 0s 24ms/step - loss: 0.0144 - val_loss: 0.0150\n",
      "Epoch 33/200\n",
      "16/16 [==============================] - 0s 24ms/step - loss: 0.0142 - val_loss: 0.0108\n",
      "Epoch 34/200\n",
      "16/16 [==============================] - 0s 23ms/step - loss: 0.0143 - val_loss: 0.0121\n",
      "Epoch 35/200\n",
      "16/16 [==============================] - 0s 23ms/step - loss: 0.0130 - val_loss: 0.0122\n",
      "Epoch 36/200\n",
      "16/16 [==============================] - 0s 23ms/step - loss: 0.0144 - val_loss: 0.0150\n",
      "Epoch 37/200\n",
      "16/16 [==============================] - 0s 23ms/step - loss: 0.0147 - val_loss: 0.0150\n",
      "Epoch 38/200\n",
      "16/16 [==============================] - 0s 25ms/step - loss: 0.0122 - val_loss: 0.0108\n",
      "Epoch 39/200\n",
      "16/16 [==============================] - 0s 24ms/step - loss: 0.0103 - val_loss: 0.0099\n",
      "Epoch 40/200\n",
      "16/16 [==============================] - 0s 23ms/step - loss: 0.0104 - val_loss: 0.0125\n",
      "Epoch 41/200\n",
      "16/16 [==============================] - 0s 23ms/step - loss: 0.0116 - val_loss: 0.0108\n",
      "Epoch 42/200\n",
      "16/16 [==============================] - 0s 24ms/step - loss: 0.0096 - val_loss: 0.0093\n",
      "Epoch 43/200\n",
      "16/16 [==============================] - 0s 24ms/step - loss: 0.0095 - val_loss: 0.0092\n",
      "Epoch 44/200\n",
      "16/16 [==============================] - 0s 24ms/step - loss: 0.0095 - val_loss: 0.0094\n",
      "Epoch 45/200\n",
      "16/16 [==============================] - 0s 24ms/step - loss: 0.0095 - val_loss: 0.0091\n",
      "Epoch 46/200\n",
      "16/16 [==============================] - 0s 23ms/step - loss: 0.0093 - val_loss: 0.0092\n",
      "Epoch 47/200\n",
      "16/16 [==============================] - 0s 24ms/step - loss: 0.0096 - val_loss: 0.0091\n",
      "Epoch 48/200\n",
      "16/16 [==============================] - 0s 23ms/step - loss: 0.0094 - val_loss: 0.0105\n",
      "Epoch 49/200\n",
      "16/16 [==============================] - 0s 23ms/step - loss: 0.0093 - val_loss: 0.0093\n",
      "Epoch 50/200\n",
      "16/16 [==============================] - 0s 23ms/step - loss: 0.0092 - val_loss: 0.0109\n",
      "Epoch 51/200\n",
      "16/16 [==============================] - 0s 23ms/step - loss: 0.0100 - val_loss: 0.0094\n",
      "Epoch 52/200\n",
      "16/16 [==============================] - 0s 23ms/step - loss: 0.0096 - val_loss: 0.0091\n",
      "Epoch 53/200\n",
      "16/16 [==============================] - 0s 25ms/step - loss: 0.0091 - val_loss: 0.0090\n",
      "Epoch 54/200\n",
      "16/16 [==============================] - 0s 24ms/step - loss: 0.0091 - val_loss: 0.0090\n",
      "Epoch 55/200\n",
      "16/16 [==============================] - 0s 23ms/step - loss: 0.0091 - val_loss: 0.0090\n",
      "Epoch 56/200\n",
      "16/16 [==============================] - 0s 24ms/step - loss: 0.0090 - val_loss: 0.0090\n",
      "Epoch 57/200\n",
      "16/16 [==============================] - 0s 23ms/step - loss: 0.0090 - val_loss: 0.0090\n",
      "Epoch 58/200\n",
      "16/16 [==============================] - 0s 23ms/step - loss: 0.0090 - val_loss: 0.0090\n",
      "Epoch 59/200\n",
      "16/16 [==============================] - 0s 23ms/step - loss: 0.0090 - val_loss: 0.0090\n",
      "Epoch 60/200\n",
      "16/16 [==============================] - 0s 23ms/step - loss: 0.0090 - val_loss: 0.0090\n",
      "Epoch 61/200\n",
      "16/16 [==============================] - 0s 23ms/step - loss: 0.0090 - val_loss: 0.0090\n",
      "Epoch 62/200\n",
      "16/16 [==============================] - 0s 23ms/step - loss: 0.0090 - val_loss: 0.0090\n",
      "Epoch 63/200\n",
      "16/16 [==============================] - 0s 23ms/step - loss: 0.0090 - val_loss: 0.0090\n",
      "Epoch 64/200\n",
      "16/16 [==============================] - 0s 23ms/step - loss: 0.0090 - val_loss: 0.0090\n",
      "Epoch 65/200\n",
      "16/16 [==============================] - 0s 23ms/step - loss: 0.0090 - val_loss: 0.0090\n"
     ]
    }
   ],
   "source": [
    "with strategy.scope():\n",
    "    opt = optimizers.Adam(learning_rate=LEARNING_RATE, epsilon=EPSILON)\n",
    "    model.compile(optimizer=opt, loss='mae')\n",
    "    model.fit(train_dataset, epochs=TRAINING_EPOCHS, validation_data=val_dataset,\n",
    "                  verbose=1, callbacks=[cbs, save, early_stop]) "
   ]
  },
  {
   "cell_type": "code",
   "execution_count": 20,
   "metadata": {},
   "outputs": [],
   "source": [
    "# model.summary()"
   ]
  },
  {
   "cell_type": "code",
   "execution_count": 21,
   "metadata": {},
   "outputs": [],
   "source": [
    "model.load_weights(BEST_PATH)"
   ]
  },
  {
   "cell_type": "code",
   "execution_count": 22,
   "metadata": {},
   "outputs": [
    {
     "name": "stdout",
     "output_type": "stream",
     "text": [
      "7/7 [==============================] - 0s 7ms/step - loss: 1.6444e-04\n"
     ]
    },
    {
     "data": {
      "text/plain": [
       "0.000164437762578018"
      ]
     },
     "execution_count": 22,
     "metadata": {},
     "output_type": "execute_result"
    }
   ],
   "source": [
    "model.evaluate(val_dataset)"
   ]
  },
  {
   "cell_type": "code",
   "execution_count": 23,
   "metadata": {},
   "outputs": [],
   "source": [
    "pred_output = model.predict(val_input)"
   ]
  },
  {
   "cell_type": "code",
   "execution_count": 24,
   "metadata": {},
   "outputs": [],
   "source": [
    "pred_output = pred_output*(OUTPUT_MAX - OUTPUT_MIN) + OUTPUT_MIN\n",
    "val_label = val_label*(OUTPUT_MAX - OUTPUT_MIN) + OUTPUT_MIN"
   ]
  },
  {
   "cell_type": "code",
   "execution_count": 25,
   "metadata": {},
   "outputs": [
    {
     "data": {
      "image/png": "[encoded data removed]",
      "text/plain": [
       "<Figure size 481.89x340.157 with 1 Axes>"
      ]
     },
     "metadata": {},
     "output_type": "display_data"
    }
   ],
   "source": [
    "fig = plt.figure(figsize=((8.5/2.54*2), (6/2.54*2)))\n",
    "ax0 = plt.subplot()\n",
    "\n",
    "ax0.spines['right'].set_visible(False)\n",
    "ax0.spines['left'].set_position(('outward', 5))\n",
    "ax0.spines['bottom'].set_position(('outward', 5))\n",
    "\n",
    "ax0.plot(val_label, pred_output, 'o', ms=5, mec='k', c=cmap[0])\n",
    "\n",
    "\n",
    "fig.tight_layout()"
   ]
  },
  {
   "cell_type": "code",
   "execution_count": 26,
   "metadata": {},
   "outputs": [],
   "source": [
    "pred_df = pd.DataFrame(val_label, index=val_indices[:, 0], columns=['label'])\n",
    "pred_df['pred'] = pred_output\n",
    "pred_df.index = pd.DatetimeIndex(pred_df.index)\n",
    "pred_df = pred_df.sort_index()"
   ]
  },
  {
   "cell_type": "code",
   "execution_count": 27,
   "metadata": {},
   "outputs": [
    {
     "data": {
      "image/png": "[encoded data removed]",
      "text/plain": [
       "<Figure size 481.89x340.157 with 1 Axes>"
      ]
     },
     "metadata": {},
     "output_type": "display_data"
    }
   ],
   "source": [
    "fig = plt.figure(figsize=((8.5/2.54*2), (6/2.54*2)))\n",
    "ax0 = plt.subplot()\n",
    "\n",
    "ax0.spines['right'].set_visible(False)\n",
    "ax0.spines['left'].set_position(('outward', 5))\n",
    "ax0.spines['bottom'].set_position(('outward', 5))\n",
    "\n",
    "ax0.plot(pred_df.index, pred_df['label'], '-o', ms=5, mec='k', c=cmap[4])\n",
    "ax0.plot(pred_df.index, pred_df['pred'], 'o', ms=5, mec='k', c=cmap[0])\n",
    "\n",
    "\n",
    "fig.tight_layout()"
   ]
  },
  {
   "cell_type": "code",
   "execution_count": 28,
   "metadata": {},
   "outputs": [],
   "source": [
    "pred_df.to_csv('./results/model_output/lstm.csv')"
   ]
  }
 ],
 "metadata": {
  "kernelspec": {
   "display_name": "Environment (conda_tensorflow2_p36)",
   "language": "python",
   "name": "conda_tensorflow2_p36"
  },
  "language_info": {
   "codemirror_mode": {
    "name": "ipython",
    "version": 3
   },
   "file_extension": ".py",
   "mimetype": "text/x-python",
   "name": "python",
   "nbconvert_exporter": "python",
   "pygments_lexer": "ipython3",
   "version": "3.6.10"
  }
 },
 "nbformat": 4,
 "nbformat_minor": 4
}
