{
 "cells": [
  {
   "cell_type": "code",
   "execution_count": 1,
   "metadata": {},
   "outputs": [
    {
     "data": {
      "text/plain": [
       "'2.3.0'"
      ]
     },
     "execution_count": 1,
     "metadata": {},
     "output_type": "execute_result"
    }
   ],
   "source": [
    "import pandas as pd\n",
    "import numpy as np\n",
    "np.set_printoptions(precision=6, suppress=True)\n",
    "from sklearn.utils import shuffle\n",
    "\n",
    "from tqdm import tqdm\n",
    "\n",
    "import tensorflow as tf\n",
    "from tensorflow.keras import *\n",
    "import tensorflow_addons as tfa\n",
    "tf.__version__"
   ]
  },
  {
   "cell_type": "code",
   "execution_count": 2,
   "metadata": {},
   "outputs": [],
   "source": [
    "import matplotlib\n",
    "import matplotlib.pyplot as plt\n",
    "import matplotlib.dates as mdates\n",
    "from matplotlib.ticker import (LinearLocator, MultipleLocator, FormatStrFormatter)\n",
    "from matplotlib.dates import MONDAY\n",
    "from matplotlib.dates import MonthLocator, WeekdayLocator, DateFormatter\n",
    "from matplotlib import gridspec\n",
    "from pandas.plotting import register_matplotlib_converters\n",
    "register_matplotlib_converters()\n",
    "%matplotlib inline"
   ]
  },
  {
   "cell_type": "code",
   "execution_count": 3,
   "metadata": {},
   "outputs": [],
   "source": [
    "plt.rcParams['figure.figsize'] = ((8/2.54), (6/2.54))\n",
    "plt.rcParams[\"font.family\"] = \"Arial\"\n",
    "plt.rcParams[\"mathtext.default\"] = \"rm\"\n",
    "plt.rcParams.update({'font.size': 11})\n",
    "MARKER_SIZE = 15\n",
    "cmap_m = [\"#f4a6ad\", \"#f6957e\", \"#fccfa2\", \"#8de7be\", \"#86d6f2\", \"#24a9e4\", \"#b586e0\", \"#d7f293\"]\n",
    "cmap = [\"#e94d5b\", \"#ef4d28\", \"#f9a54f\", \"#25b575\", \"#1bb1e7\", \"#1477a2\", \"#a662e5\", \"#c2f442\"]\n",
    "\n",
    "plt.rcParams['axes.spines.top'] = False\n",
    "# plt.rcParams['axes.edgecolor'] = \n",
    "plt.rcParams['axes.linewidth'] = 1\n",
    "plt.rcParams['lines.linewidth'] = 1.5\n",
    "plt.rcParams['xtick.major.width'] = 1\n",
    "plt.rcParams['xtick.minor.width'] = 1\n",
    "plt.rcParams['ytick.major.width'] = 1\n",
    "plt.rcParams['ytick.minor.width'] = 1"
   ]
  },
  {
   "cell_type": "code",
   "execution_count": 4,
   "metadata": {},
   "outputs": [
    {
     "data": {
      "text/plain": [
       "[PhysicalDevice(name='/physical_device:GPU:0', device_type='GPU')]"
      ]
     },
     "execution_count": 4,
     "metadata": {},
     "output_type": "execute_result"
    }
   ],
   "source": [
    "tf.config.list_physical_devices('GPU')"
   ]
  },
  {
   "cell_type": "code",
   "execution_count": 5,
   "metadata": {},
   "outputs": [
    {
     "name": "stdout",
     "output_type": "stream",
     "text": [
      "1 Physical GPUs, 1 Logical GPUs\n"
     ]
    }
   ],
   "source": [
    "gpus = tf.config.experimental.list_physical_devices('GPU')\n",
    "if gpus:\n",
    "    try:\n",
    "        for gpu in gpus:\n",
    "            tf.config.experimental.set_memory_growth(gpu, True)\n",
    "        logical_gpus = tf.config.experimental.list_logical_devices('GPU')\n",
    "        print(len(gpus), \"Physical GPUs,\", len(logical_gpus), \"Logical GPUs\")\n",
    "    except RuntimeError as e:\n",
    "        print(e)"
   ]
  },
  {
   "cell_type": "code",
   "execution_count": 6,
   "metadata": {},
   "outputs": [
    {
     "name": "stdout",
     "output_type": "stream",
     "text": [
      "INFO:tensorflow:Using MirroredStrategy with devices ('/job:localhost/replica:0/task:0/device:GPU:0',)\n"
     ]
    }
   ],
   "source": [
    "strategy = tf.distribute.MirroredStrategy()"
   ]
  },
  {
   "cell_type": "markdown",
   "metadata": {},
   "source": [
    "# Hyperparameters"
   ]
  },
  {
   "cell_type": "code",
   "execution_count": 7,
   "metadata": {},
   "outputs": [],
   "source": [
    "BEST_PATH = './models/lstm.h5'\n",
    "TRAINING_EPOCHS = 200\n",
    "LEARNING_RATE = 0.001\n",
    "EPSILON = 1e-08\n",
    "BATCH_SIZE = 16"
   ]
  },
  {
   "cell_type": "markdown",
   "metadata": {},
   "source": [
    "# Data loading"
   ]
  },
  {
   "cell_type": "code",
   "execution_count": 8,
   "metadata": {},
   "outputs": [],
   "source": [
    "l = np.load('./results/2020_S/fw_dataset.npz', allow_pickle=True)\n",
    "data_indices = l['data_indices']\n",
    "input_data = l['input_data']\n",
    "output_label = l['output_label']\n",
    "INPUT_MAXS = l['INPUT_MAXS']\n",
    "INPUT_MINS = l['INPUT_MINS']\n",
    "OUTPUT_MAX = l['OUTPUT_MAX']\n",
    "OUTPUT_MIN = l['OUTPUT_MIN']"
   ]
  },
  {
   "cell_type": "code",
   "execution_count": 9,
   "metadata": {},
   "outputs": [],
   "source": [
    "input_data = input_data.astype('float32')\n",
    "output_label = output_label.astype('float32')"
   ]
  },
  {
   "cell_type": "code",
   "execution_count": 10,
   "metadata": {},
   "outputs": [
    {
     "name": "stdout",
     "output_type": "stream",
     "text": [
      "(363, 144, 9)\n",
      "(363, 1)\n"
     ]
    }
   ],
   "source": [
    "print(input_data.shape)\n",
    "print(output_label.shape)"
   ]
  },
  {
   "cell_type": "code",
   "execution_count": 11,
   "metadata": {},
   "outputs": [
    {
     "name": "stdout",
     "output_type": "stream",
     "text": [
      "[ 42.31875  90.9425  330.1      73.335    10.006     5.057    36.58\n",
      "  50.264    19.731  ]\n",
      "[15.83875  4.4325  -0.5957  32.115    2.296    0.579   15.7      8.744\n",
      " 11.393  ]\n"
     ]
    }
   ],
   "source": [
    "print(INPUT_MAXS)\n",
    "print(INPUT_MINS)"
   ]
  },
  {
   "cell_type": "code",
   "execution_count": 12,
   "metadata": {},
   "outputs": [
    {
     "name": "stdout",
     "output_type": "stream",
     "text": [
      "2.470441467376113\n",
      "0.40038664002968494\n"
     ]
    }
   ],
   "source": [
    "print(OUTPUT_MAX)\n",
    "print(OUTPUT_MIN)"
   ]
  },
  {
   "cell_type": "code",
   "execution_count": 13,
   "metadata": {},
   "outputs": [],
   "source": [
    "data_indices, input_data, output_label = shuffle(data_indices, input_data, output_label, random_state=3101)"
   ]
  },
  {
   "cell_type": "code",
   "execution_count": 14,
   "metadata": {},
   "outputs": [],
   "source": [
    "N_TRAIN = int(input_data.shape[0]*.7)\n",
    "train_input = input_data[:N_TRAIN, ...]\n",
    "train_label = output_label[:N_TRAIN, ...]\n",
    "train_indices = data_indices[:N_TRAIN]\n",
    "val_input = input_data[N_TRAIN:, ...]\n",
    "val_label = output_label[N_TRAIN:, ...]\n",
    "val_indices = data_indices[N_TRAIN:]"
   ]
  },
  {
   "cell_type": "code",
   "execution_count": 15,
   "metadata": {},
   "outputs": [
    {
     "name": "stdout",
     "output_type": "stream",
     "text": [
      "number of training set: 254\n",
      "number of validation set: 109\n"
     ]
    }
   ],
   "source": [
    "print(f'number of training set: {train_input.shape[0]}')\n",
    "print(f'number of validation set: {val_input.shape[0]}')"
   ]
  },
  {
   "cell_type": "code",
   "execution_count": 16,
   "metadata": {},
   "outputs": [],
   "source": [
    "with strategy.scope():\n",
    "    train_dataset = tf.data.Dataset.from_tensor_slices((train_input, train_label))\n",
    "    train_dataset = train_dataset.cache().shuffle(BATCH_SIZE*10).batch(BATCH_SIZE, drop_remainder=False)\n",
    "    val_dataset = tf.data.Dataset.from_tensor_slices((val_input, val_label))\n",
    "    val_dataset = val_dataset.cache().shuffle(BATCH_SIZE*10).batch(BATCH_SIZE, drop_remainder=False)"
   ]
  },
  {
   "cell_type": "markdown",
   "metadata": {},
   "source": [
    "# Model construction"
   ]
  },
  {
   "cell_type": "code",
   "execution_count": 17,
   "metadata": {},
   "outputs": [],
   "source": [
    "with strategy.scope():\n",
    "    model = models.Sequential([\n",
    "        layers.Bidirectional(layers.LSTM(256)),\n",
    "        layers.LayerNormalization(),\n",
    "        layers.Dense(32),\n",
    "        layers.Dense(1)\n",
    "    ])"
   ]
  },
  {
   "cell_type": "code",
   "execution_count": 18,
   "metadata": {},
   "outputs": [],
   "source": [
    "cbs = callbacks.ReduceLROnPlateau(\n",
    "    monitor='val_loss', factor=.1, patience=5, verbose=0, mode='auto',\n",
    "    min_delta=0.0001, cooldown=0, min_lr=0)\n",
    "\n",
    "save = callbacks.ModelCheckpoint(\n",
    "    BEST_PATH, monitor='val_loss', verbose=0,\n",
    "    save_best_only=True, save_weights_only=True, mode='min', save_freq='epoch')\n",
    "\n",
    "early_stop = callbacks.EarlyStopping(monitor='val_loss', min_delta=0.0001, patience=20) "
   ]
  },
  {
   "cell_type": "code",
   "execution_count": 19,
   "metadata": {
    "scrolled": true
   },
   "outputs": [
    {
     "name": "stdout",
     "output_type": "stream",
     "text": [
      "Epoch 1/200\n",
      "WARNING:tensorflow:From /home/ubuntu/anaconda3/envs/tensorflow2_p36/lib/python3.6/site-packages/tensorflow/python/data/ops/multi_device_iterator_ops.py:601: get_next_as_optional (from tensorflow.python.data.ops.iterator_ops) is deprecated and will be removed in a future version.\n",
      "Instructions for updating:\n",
      "Use `tf.data.Iterator.get_next_as_optional()` instead.\n",
      "INFO:tensorflow:Reduce to /job:localhost/replica:0/task:0/device:CPU:0 then broadcast to ('/job:localhost/replica:0/task:0/device:CPU:0',).\n",
      "INFO:tensorflow:Reduce to /job:localhost/replica:0/task:0/device:CPU:0 then broadcast to ('/job:localhost/replica:0/task:0/device:CPU:0',).\n",
      "INFO:tensorflow:Reduce to /job:localhost/replica:0/task:0/device:CPU:0 then broadcast to ('/job:localhost/replica:0/task:0/device:CPU:0',).\n",
      "INFO:tensorflow:Reduce to /job:localhost/replica:0/task:0/device:CPU:0 then broadcast to ('/job:localhost/replica:0/task:0/device:CPU:0',).\n",
      "16/16 [==============================] - ETA: 0s - loss: 3.9231INFO:tensorflow:Reduce to /job:localhost/replica:0/task:0/device:CPU:0 then broadcast to ('/job:localhost/replica:0/task:0/device:CPU:0',).\n",
      "INFO:tensorflow:Reduce to /job:localhost/replica:0/task:0/device:CPU:0 then broadcast to ('/job:localhost/replica:0/task:0/device:CPU:0',).\n",
      "INFO:tensorflow:Reduce to /job:localhost/replica:0/task:0/device:CPU:0 then broadcast to ('/job:localhost/replica:0/task:0/device:CPU:0',).\n",
      "INFO:tensorflow:Reduce to /job:localhost/replica:0/task:0/device:CPU:0 then broadcast to ('/job:localhost/replica:0/task:0/device:CPU:0',).\n",
      "16/16 [==============================] - 1s 78ms/step - loss: 3.9231 - val_loss: 1.2836\n",
      "INFO:tensorflow:Reduce to /job:localhost/replica:0/task:0/device:CPU:0 then broadcast to ('/job:localhost/replica:0/task:0/device:CPU:0',).\n",
      "INFO:tensorflow:Reduce to /job:localhost/replica:0/task:0/device:CPU:0 then broadcast to ('/job:localhost/replica:0/task:0/device:CPU:0',).\n",
      "Epoch 2/200\n",
      "16/16 [==============================] - 1s 47ms/step - loss: 0.6511 - val_loss: 0.5800\n",
      "Epoch 3/200\n",
      "16/16 [==============================] - 1s 37ms/step - loss: 0.2971 - val_loss: 0.2136\n",
      "Epoch 4/200\n",
      "16/16 [==============================] - 1s 39ms/step - loss: 0.2920 - val_loss: 0.0809\n",
      "Epoch 5/200\n",
      "16/16 [==============================] - 1s 37ms/step - loss: 0.2020 - val_loss: 0.1306\n",
      "Epoch 6/200\n",
      "16/16 [==============================] - 1s 36ms/step - loss: 0.1385 - val_loss: 0.0858\n",
      "Epoch 7/200\n",
      "16/16 [==============================] - 1s 38ms/step - loss: 0.2181 - val_loss: 0.1499\n",
      "Epoch 8/200\n",
      "16/16 [==============================] - 1s 39ms/step - loss: 0.1465 - val_loss: 0.2142\n",
      "Epoch 9/200\n",
      "16/16 [==============================] - 1s 36ms/step - loss: 0.3194 - val_loss: 0.1836\n",
      "Epoch 10/200\n",
      "16/16 [==============================] - 1s 37ms/step - loss: 0.0899 - val_loss: 0.0306\n",
      "Epoch 11/200\n",
      "16/16 [==============================] - 1s 36ms/step - loss: 0.0330 - val_loss: 0.0229\n",
      "Epoch 12/200\n",
      "16/16 [==============================] - 1s 38ms/step - loss: 0.0278 - val_loss: 0.0264\n",
      "Epoch 13/200\n",
      "16/16 [==============================] - 1s 35ms/step - loss: 0.0243 - val_loss: 0.0264\n",
      "Epoch 14/200\n",
      "16/16 [==============================] - 1s 38ms/step - loss: 0.0230 - val_loss: 0.0229\n",
      "Epoch 15/200\n",
      "16/16 [==============================] - 1s 37ms/step - loss: 0.0205 - val_loss: 0.0172\n",
      "Epoch 16/200\n",
      "16/16 [==============================] - 1s 37ms/step - loss: 0.0189 - val_loss: 0.0177\n",
      "Epoch 17/200\n",
      "16/16 [==============================] - 1s 38ms/step - loss: 0.0185 - val_loss: 0.0163\n",
      "Epoch 18/200\n",
      "16/16 [==============================] - 1s 39ms/step - loss: 0.0199 - val_loss: 0.0251\n",
      "Epoch 19/200\n",
      "16/16 [==============================] - 1s 34ms/step - loss: 0.0212 - val_loss: 0.0182\n",
      "Epoch 20/200\n",
      "16/16 [==============================] - 1s 39ms/step - loss: 0.0213 - val_loss: 0.0301\n",
      "Epoch 21/200\n",
      "16/16 [==============================] - 1s 38ms/step - loss: 0.0196 - val_loss: 0.0133\n",
      "Epoch 22/200\n",
      "16/16 [==============================] - 1s 37ms/step - loss: 0.0162 - val_loss: 0.0149\n",
      "Epoch 23/200\n",
      "16/16 [==============================] - 1s 36ms/step - loss: 0.0154 - val_loss: 0.0133\n",
      "Epoch 24/200\n",
      "16/16 [==============================] - 1s 39ms/step - loss: 0.0141 - val_loss: 0.0123\n",
      "Epoch 25/200\n",
      "16/16 [==============================] - 1s 37ms/step - loss: 0.0246 - val_loss: 0.0560\n",
      "Epoch 26/200\n",
      "16/16 [==============================] - 1s 37ms/step - loss: 0.0330 - val_loss: 0.0215\n",
      "Epoch 27/200\n",
      "16/16 [==============================] - 1s 36ms/step - loss: 0.0211 - val_loss: 0.0207\n",
      "Epoch 28/200\n",
      "16/16 [==============================] - 1s 38ms/step - loss: 0.0220 - val_loss: 0.0135\n",
      "Epoch 29/200\n",
      "16/16 [==============================] - 1s 38ms/step - loss: 0.0171 - val_loss: 0.0138\n",
      "Epoch 30/200\n",
      "16/16 [==============================] - 1s 37ms/step - loss: 0.0124 - val_loss: 0.0112\n",
      "Epoch 31/200\n",
      "16/16 [==============================] - 1s 37ms/step - loss: 0.0114 - val_loss: 0.0115\n",
      "Epoch 32/200\n",
      "16/16 [==============================] - 1s 32ms/step - loss: 0.0118 - val_loss: 0.0143\n",
      "Epoch 33/200\n",
      "16/16 [==============================] - 0s 23ms/step - loss: 0.0115 - val_loss: 0.0116\n",
      "Epoch 34/200\n",
      "16/16 [==============================] - 0s 29ms/step - loss: 0.0111 - val_loss: 0.0111\n",
      "Epoch 35/200\n",
      "16/16 [==============================] - 0s 23ms/step - loss: 0.0113 - val_loss: 0.0112\n",
      "Epoch 36/200\n",
      "16/16 [==============================] - 0s 23ms/step - loss: 0.0111 - val_loss: 0.0112\n",
      "Epoch 37/200\n",
      "16/16 [==============================] - 0s 23ms/step - loss: 0.0111 - val_loss: 0.0113\n",
      "Epoch 38/200\n",
      "16/16 [==============================] - 0s 24ms/step - loss: 0.0110 - val_loss: 0.0111\n",
      "Epoch 39/200\n",
      "16/16 [==============================] - 0s 23ms/step - loss: 0.0109 - val_loss: 0.0112\n",
      "Epoch 40/200\n",
      "16/16 [==============================] - 0s 25ms/step - loss: 0.0109 - val_loss: 0.0111\n",
      "Epoch 41/200\n",
      "16/16 [==============================] - 0s 24ms/step - loss: 0.0109 - val_loss: 0.0111\n",
      "Epoch 42/200\n",
      "16/16 [==============================] - 0s 23ms/step - loss: 0.0109 - val_loss: 0.0111\n",
      "Epoch 43/200\n",
      "16/16 [==============================] - 0s 23ms/step - loss: 0.0109 - val_loss: 0.0113\n",
      "Epoch 44/200\n",
      "16/16 [==============================] - 0s 23ms/step - loss: 0.0109 - val_loss: 0.0112\n",
      "Epoch 45/200\n",
      "16/16 [==============================] - 0s 23ms/step - loss: 0.0109 - val_loss: 0.0111\n",
      "Epoch 46/200\n",
      "16/16 [==============================] - 0s 23ms/step - loss: 0.0109 - val_loss: 0.0111\n",
      "Epoch 47/200\n",
      "16/16 [==============================] - 0s 24ms/step - loss: 0.0109 - val_loss: 0.0111\n",
      "Epoch 48/200\n",
      "16/16 [==============================] - 0s 23ms/step - loss: 0.0109 - val_loss: 0.0111\n",
      "Epoch 49/200\n",
      "16/16 [==============================] - 0s 23ms/step - loss: 0.0109 - val_loss: 0.0111\n",
      "Epoch 50/200\n",
      "16/16 [==============================] - 0s 23ms/step - loss: 0.0109 - val_loss: 0.0111\n",
      "Epoch 51/200\n",
      "16/16 [==============================] - 0s 26ms/step - loss: 0.0109 - val_loss: 0.0111\n",
      "Epoch 52/200\n",
      "16/16 [==============================] - 0s 24ms/step - loss: 0.0109 - val_loss: 0.0111\n",
      "Epoch 53/200\n",
      "16/16 [==============================] - 0s 25ms/step - loss: 0.0109 - val_loss: 0.0111\n",
      "Epoch 54/200\n",
      "16/16 [==============================] - 0s 23ms/step - loss: 0.0109 - val_loss: 0.0111\n",
      "Epoch 55/200\n",
      "16/16 [==============================] - 0s 23ms/step - loss: 0.0109 - val_loss: 0.0111\n",
      "Epoch 56/200\n",
      "16/16 [==============================] - 0s 23ms/step - loss: 0.0109 - val_loss: 0.0111\n",
      "Epoch 57/200\n",
      "16/16 [==============================] - 0s 23ms/step - loss: 0.0109 - val_loss: 0.0111\n",
      "Epoch 58/200\n",
      "16/16 [==============================] - 0s 23ms/step - loss: 0.0109 - val_loss: 0.0111\n"
     ]
    }
   ],
   "source": [
    "with strategy.scope():\n",
    "    opt = optimizers.Adam(learning_rate=LEARNING_RATE, epsilon=EPSILON)\n",
    "    model.compile(optimizer=opt, loss='mae')\n",
    "    model.fit(train_dataset, epochs=TRAINING_EPOCHS, validation_data=val_dataset,\n",
    "                  verbose=1, callbacks=[cbs, save, early_stop]) "
   ]
  },
  {
   "cell_type": "code",
   "execution_count": 20,
   "metadata": {},
   "outputs": [],
   "source": [
    "# model.summary()"
   ]
  },
  {
   "cell_type": "code",
   "execution_count": 21,
   "metadata": {},
   "outputs": [],
   "source": [
    "model.load_weights(BEST_PATH)"
   ]
  },
  {
   "cell_type": "code",
   "execution_count": 22,
   "metadata": {},
   "outputs": [
    {
     "name": "stdout",
     "output_type": "stream",
     "text": [
      "7/7 [==============================] - 0s 7ms/step - loss: 0.0111\n"
     ]
    },
    {
     "data": {
      "text/plain": [
       "0.011059164069592953"
      ]
     },
     "execution_count": 22,
     "metadata": {},
     "output_type": "execute_result"
    }
   ],
   "source": [
    "model.evaluate(val_dataset)"
   ]
  },
  {
   "cell_type": "code",
   "execution_count": 23,
   "metadata": {},
   "outputs": [],
   "source": [
    "pred_output = model.predict(val_input)"
   ]
  },
  {
   "cell_type": "code",
   "execution_count": 24,
   "metadata": {},
   "outputs": [],
   "source": [
    "pred_output = pred_output*(OUTPUT_MAX - OUTPUT_MIN) + OUTPUT_MIN\n",
    "val_label = val_label*(OUTPUT_MAX - OUTPUT_MIN) + OUTPUT_MIN"
   ]
  },
  {
   "cell_type": "code",
   "execution_count": 25,
   "metadata": {},
   "outputs": [
    {
     "data": {
      "image/png": "[encoded data removed]",
      "text/plain": [
       "<Figure size 481.89x340.157 with 1 Axes>"
      ]
     },
     "metadata": {},
     "output_type": "display_data"
    }
   ],
   "source": [
    "fig = plt.figure(figsize=((8.5/2.54*2), (6/2.54*2)))\n",
    "ax0 = plt.subplot()\n",
    "\n",
    "ax0.spines['right'].set_visible(False)\n",
    "ax0.spines['left'].set_position(('outward', 5))\n",
    "ax0.spines['bottom'].set_position(('outward', 5))\n",
    "\n",
    "ax0.plot(val_label, pred_output, 'o', ms=5, mec='k', c=cmap[0])\n",
    "\n",
    "\n",
    "fig.tight_layout()"
   ]
  },
  {
   "cell_type": "code",
   "execution_count": 26,
   "metadata": {},
   "outputs": [],
   "source": [
    "pred_df = pd.DataFrame(val_label, index=val_indices[:, 0], columns=['label'])\n",
    "pred_df['pred'] = pred_output\n",
    "pred_df.index = pd.DatetimeIndex(pred_df.index)\n",
    "pred_df = pred_df.sort_index()"
   ]
  },
  {
   "cell_type": "code",
   "execution_count": 27,
   "metadata": {},
   "outputs": [
    {
     "data": {
      "image/png": "[encoded data removed]",
      "text/plain": [
       "<Figure size 481.89x340.157 with 1 Axes>"
      ]
     },
     "metadata": {},
     "output_type": "display_data"
    }
   ],
   "source": [
    "fig = plt.figure(figsize=((8.5/2.54*2), (6/2.54*2)))\n",
    "ax0 = plt.subplot()\n",
    "\n",
    "ax0.spines['right'].set_visible(False)\n",
    "ax0.spines['left'].set_position(('outward', 5))\n",
    "ax0.spines['bottom'].set_position(('outward', 5))\n",
    "\n",
    "ax0.plot(pred_df.index, pred_df['label'], '-o', ms=5, mec='k', c=cmap[4])\n",
    "ax0.plot(pred_df.index, pred_df['pred'], 'o', ms=5, mec='k', c=cmap[0])\n",
    "\n",
    "\n",
    "fig.tight_layout()"
   ]
  },
  {
   "cell_type": "code",
   "execution_count": 28,
   "metadata": {},
   "outputs": [],
   "source": [
    "pred_df.to_csv('./results/model_output/lstm.csv')"
   ]
  }
 ],
 "metadata": {
  "kernelspec": {
   "display_name": "Environment (conda_tensorflow2_p36)",
   "language": "python",
   "name": "conda_tensorflow2_p36"
  },
  "language_info": {
   "codemirror_mode": {
    "name": "ipython",
    "version": 3
   },
   "file_extension": ".py",
   "mimetype": "text/x-python",
   "name": "python",
   "nbconvert_exporter": "python",
   "pygments_lexer": "ipython3",
   "version": "3.6.10"
  }
 },
 "nbformat": 4,
 "nbformat_minor": 4
}
