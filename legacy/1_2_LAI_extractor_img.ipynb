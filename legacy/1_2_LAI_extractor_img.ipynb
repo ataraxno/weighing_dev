{
 "cells": [
  {
   "cell_type": "code",
   "execution_count": 1,
   "metadata": {},
   "outputs": [],
   "source": [
    "import os\n",
    "import cv2\n",
    "\n",
    "import numpy as np\n",
    "import pandas as pd\n",
    "np.set_printoptions(suppress=True)\n",
    "\n",
    "import matplotlib\n",
    "import matplotlib.pyplot as plt\n",
    "from matplotlib.ticker import LinearLocator\n",
    "%matplotlib inline"
   ]
  },
  {
   "cell_type": "code",
   "execution_count": 2,
   "metadata": {},
   "outputs": [],
   "source": [
    "plt.rcParams['figure.figsize'] = ((8/2.54), (6/2.54))\n",
    "plt.rcParams[\"font.family\"] = \"Arial\"\n",
    "plt.rcParams[\"mathtext.default\"] = \"rm\"\n",
    "plt.rcParams.update({'font.size': 11})\n",
    "MARKER_SIZE = 15\n",
    "cmap_m = [\"#f4a6ad\", \"#f6957e\", \"#fccfa2\", \"#8de7be\", \"#86d6f2\", \"#24a9e4\", \"#b586e0\", \"#d7f293\"]\n",
    "cmap = [\"#e94d5b\", \"#ef4d28\", \"#f9a54f\", \"#25b575\", \"#1bb1e7\", \"#1477a2\", \"#a662e5\", \"#c2f442\"]\n",
    "\n",
    "plt.rcParams['axes.spines.top'] = False\n",
    "# plt.rcParams['axes.edgecolor'] = \n",
    "plt.rcParams['axes.linewidth'] = 1\n",
    "plt.rcParams['lines.linewidth'] = 1.5\n",
    "plt.rcParams['xtick.major.width'] = 1\n",
    "plt.rcParams['xtick.minor.width'] = 1\n",
    "plt.rcParams['ytick.major.width'] = 1\n",
    "plt.rcParams['ytick.minor.width'] = 1"
   ]
  },
  {
   "cell_type": "code",
   "execution_count": 3,
   "metadata": {},
   "outputs": [],
   "source": [
    "MASTER_DIRECTORY = './images/'\n",
    "file_list = os.listdir(MASTER_DIRECTORY)\n",
    "dir_list = [file for file in file_list if file.startswith('LAI2')]\n",
    "dir_list.sort()"
   ]
  },
  {
   "cell_type": "code",
   "execution_count": 6,
   "metadata": {},
   "outputs": [
    {
     "name": "stdout",
     "output_type": "stream",
     "text": [
      "LAI_OVER_20200406-0413\n",
      "frame_0010.jpg\n"
     ]
    }
   ],
   "source": [
    "green_value = []\n",
    "for DIRECTORY in dir_list:\n",
    "    print(DIRECTORY)\n",
    "    file_list = os.listdir(MASTER_DIRECTORY + DIRECTORY)\n",
    "    dataset_list = [file for file in file_list if file.endswith('.jpg')]\n",
    "    dataset_list.sort()\n",
    "    process = 0\n",
    "    for FILENAME in dataset_list:\n",
    "        if process % 500 == 0:\n",
    "            print(FILENAME)\n",
    "        process += 1\n",
    "        img = cv2.imread('%s/%s' % (MASTER_DIRECTORY + DIRECTORY, FILENAME), 1)\n",
    "        if type(img) == type(None):\n",
    "            break\n",
    "        img = cv2.cvtColor(img, cv2.COLOR_BGR2RGB)\n",
    "        hsv = cv2.cvtColor(img, cv2.COLOR_BGR2HSV)\n",
    "\n",
    "        lower_green = np.array([55, 80, 40])\n",
    "        upper_green = np.array([85, 255, 255])\n",
    "\n",
    "        mask = cv2.inRange(hsv, lower_green, upper_green)    \n",
    "        result = cv2.bitwise_and(img, img, mask=mask)  \n",
    "        green_value.append(result[result > 0].shape[0])"
   ]
  },
  {
   "cell_type": "code",
   "execution_count": null,
   "metadata": {},
   "outputs": [],
   "source": [
    "fig = plt.figure(figsize=((8/2.54*3.2), (6/2.54*1.2)))\n",
    "ax0 = plt.subplot()\n",
    "\n",
    "ax0.spines['right'].set_visible(False)\n",
    "ax0.spines['left'].set_position(('outward', 5))\n",
    "ax0.spines['bottom'].set_position(('outward', 5))\n",
    "\n",
    "ax0.plot(np.arange(len(green_value)), green_value, c=cmap[3])\n",
    "\n",
    "ax0.set_ybound(0, 3600000)\n",
    "ax0.set_xbound(0, len(green_value))\n",
    "\n",
    "ax0.xaxis.set_major_locator(LinearLocator(20))\n",
    "ax0.yaxis.set_major_locator(LinearLocator(5))\n",
    "ax0.yaxis.set_minor_locator(LinearLocator(13))\n",
    "\n",
    "fig.tight_layout()\n",
    "plt.show() "
   ]
  },
  {
   "cell_type": "code",
   "execution_count": null,
   "metadata": {},
   "outputs": [],
   "source": [
    "pd.Series(np.array(green_value)).to_csv('./results/green_pixels_lai2.csv')"
   ]
  }
 ],
 "metadata": {
  "kernelspec": {
   "display_name": "tf20",
   "language": "python",
   "name": "tf20"
  },
  "language_info": {
   "codemirror_mode": {
    "name": "ipython",
    "version": 3
   },
   "file_extension": ".py",
   "mimetype": "text/x-python",
   "name": "python",
   "nbconvert_exporter": "python",
   "pygments_lexer": "ipython3",
   "version": "3.6.9"
  }
 },
 "nbformat": 4,
 "nbformat_minor": 4
}
