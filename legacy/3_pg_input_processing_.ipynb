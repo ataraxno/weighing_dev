{
 "cells": [
  {
   "cell_type": "code",
   "execution_count": 1,
   "metadata": {},
   "outputs": [],
   "source": [
    "import os\n",
    "\n",
    "import numpy as np\n",
    "import pandas as pd"
   ]
  },
  {
   "cell_type": "markdown",
   "metadata": {},
   "source": [
    "# Plant growth"
   ]
  },
  {
   "cell_type": "markdown",
   "metadata": {},
   "source": [
    "### 2020 Summer"
   ]
  },
  {
   "cell_type": "code",
   "execution_count": 2,
   "metadata": {},
   "outputs": [],
   "source": [
    "output_df = pd.read_csv('./results/2020_S/pg_reg_result.csv', index_col='Unnamed: 0')\n",
    "output_label_2020S = output_df.values\n",
    "data_indices_2020S = output_df.index"
   ]
  },
  {
   "cell_type": "markdown",
   "metadata": {},
   "source": [
    "### 2020 Winter"
   ]
  },
  {
   "cell_type": "code",
   "execution_count": 3,
   "metadata": {},
   "outputs": [],
   "source": [
    "output_df = pd.read_csv('./results/2020_W/pg_reg_result.csv', index_col='Unnamed: 0')\n",
    "output_label_2020W = output_df.values\n",
    "data_indices_2020W = output_df.index"
   ]
  },
  {
   "cell_type": "code",
   "execution_count": 4,
   "metadata": {},
   "outputs": [],
   "source": [
    "OUTPUT_MAXS = np.concatenate([output_label_2020S, output_label_2020W], axis=0).max(axis=0)\n",
    "OUTPUT_MINS = np.concatenate([output_label_2020S, output_label_2020W], axis=0).min(axis=0)"
   ]
  },
  {
   "cell_type": "code",
   "execution_count": 5,
   "metadata": {},
   "outputs": [],
   "source": [
    "output_label_2020S = (output_label_2020S - OUTPUT_MINS)/(OUTPUT_MAXS - OUTPUT_MINS)\n",
    "output_label_2020W = (output_label_2020W - OUTPUT_MINS)/(OUTPUT_MAXS - OUTPUT_MINS)"
   ]
  },
  {
   "cell_type": "code",
   "execution_count": 6,
   "metadata": {},
   "outputs": [],
   "source": [
    "f = open('./results/pg_dataset.npz', 'wb')\n",
    "np.savez(f,\n",
    "         data_indices_2020S = data_indices_2020S,\n",
    "         data_indices_2020W = data_indices_2020W,\n",
    "         output_label_2020S = output_label_2020S,\n",
    "         output_label_2020W = output_label_2020W,\n",
    "         OUTPUT_MAXS = OUTPUT_MAXS,\n",
    "         OUTPUT_MINS = OUTPUT_MINS\n",
    "        )\n",
    "f.close()"
   ]
  },
  {
   "cell_type": "code",
   "execution_count": 7,
   "metadata": {},
   "outputs": [
    {
     "name": "stdout",
     "output_type": "stream",
     "text": [
      "(115, 4)\n",
      "(115,)\n",
      "(145, 4)\n",
      "(145,)\n"
     ]
    }
   ],
   "source": [
    "print(output_label_2020S.shape)\n",
    "print(data_indices_2020S.shape)\n",
    "print(output_label_2020W.shape)\n",
    "print(data_indices_2020W.shape)"
   ]
  }
 ],
 "metadata": {
  "kernelspec": {
   "display_name": "Environment (conda_tensorflow2_p36)",
   "language": "python",
   "name": "conda_tensorflow2_p36"
  },
  "language_info": {
   "codemirror_mode": {
    "name": "ipython",
    "version": 3
   },
   "file_extension": ".py",
   "mimetype": "text/x-python",
   "name": "python",
   "nbconvert_exporter": "python",
   "pygments_lexer": "ipython3",
   "version": "3.6.10"
  }
 },
 "nbformat": 4,
 "nbformat_minor": 4
}
