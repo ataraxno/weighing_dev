{
 "cells": [
  {
   "cell_type": "code",
   "execution_count": 1,
   "metadata": {},
   "outputs": [
    {
     "data": {
      "text/plain": [
       "'2.3.0'"
      ]
     },
     "execution_count": 1,
     "metadata": {},
     "output_type": "execute_result"
    }
   ],
   "source": [
    "import time\n",
    "import os\n",
    "import gc\n",
    "\n",
    "import pandas as pd\n",
    "import numpy as np\n",
    "from sklearn import linear_model\n",
    "from sklearn.utils import shuffle, resample\n",
    "from sklearn.metrics import mean_squared_error, r2_score\n",
    "np.set_printoptions(precision=6, suppress=True)\n",
    "\n",
    "import PIL\n",
    "from PIL import Image\n",
    "\n",
    "import tensorflow as tf\n",
    "from tensorflow.keras import *\n",
    "from tensorflow.keras.models import Sequential\n",
    "from tensorflow.keras.preprocessing.image import ImageDataGenerator, array_to_img, img_to_array, load_img\n",
    "tf.__version__"
   ]
  },
  {
   "cell_type": "code",
   "execution_count": 2,
   "metadata": {},
   "outputs": [
    {
     "name": "stdout",
     "output_type": "stream",
     "text": [
      "2 Physical GPUs, 2 Logical GPUs\n"
     ]
    }
   ],
   "source": [
    "gpus = tf.config.experimental.list_physical_devices('GPU')\n",
    "if gpus:\n",
    "    try:\n",
    "        for gpu in gpus:\n",
    "            tf.config.experimental.set_memory_growth(gpu, True)\n",
    "        logical_gpus = tf.config.experimental.list_logical_devices('GPU')\n",
    "        print(len(gpus), \"Physical GPUs,\", len(logical_gpus), \"Logical GPUs\")\n",
    "    except RuntimeError as e:\n",
    "        print(e)"
   ]
  },
  {
   "cell_type": "code",
   "execution_count": 3,
   "metadata": {},
   "outputs": [
    {
     "name": "stdout",
     "output_type": "stream",
     "text": [
      "INFO:tensorflow:Using MirroredStrategy with devices ('/job:localhost/replica:0/task:0/device:GPU:0', '/job:localhost/replica:0/task:0/device:GPU:1')\n"
     ]
    }
   ],
   "source": [
    "strategy = tf.distribute.MirroredStrategy()"
   ]
  },
  {
   "cell_type": "markdown",
   "metadata": {},
   "source": [
    "# Hyperparameters"
   ]
  },
  {
   "cell_type": "code",
   "execution_count": 4,
   "metadata": {},
   "outputs": [],
   "source": [
    "PRE_TRAINED = './models/pg_convnet.h5'\n",
    "BEST_PATH = './models/pg_cv_transfer.h5'\n",
    "TRAINING_EPOCHS = 200\n",
    "LEARNING_RATE = 0.0015\n",
    "EPSILON = 1e-08\n",
    "BATCH_SIZE = 32"
   ]
  },
  {
   "cell_type": "markdown",
   "metadata": {},
   "source": [
    "# Data preparation"
   ]
  },
  {
   "cell_type": "code",
   "execution_count": 5,
   "metadata": {},
   "outputs": [],
   "source": [
    "l = np.load('./results/pg_dataset.npz', allow_pickle=True)\n",
    "data_indices_2020S = l['data_indices_2020S']\n",
    "output_label_2020S = l['output_label_2020S']\n",
    "data_indices_2020W = l['data_indices_2020W']\n",
    "output_label_2020W = l['output_label_2020W']\n",
    "OUTPUT_MAXS = l['OUTPUT_MAXS']\n",
    "OUTPUT_MINS = l['OUTPUT_MINS']"
   ]
  },
  {
   "cell_type": "code",
   "execution_count": 6,
   "metadata": {},
   "outputs": [],
   "source": [
    "COLUMNS = ['node_len', 'node_dia', 'plant_h', 'leaf_area']"
   ]
  },
  {
   "cell_type": "code",
   "execution_count": 7,
   "metadata": {},
   "outputs": [],
   "source": [
    "output_2020S_df = pd.DataFrame(output_label_2020S, index=data_indices_2020S, columns=COLUMNS)\n",
    "output_2020W_df = pd.DataFrame(output_label_2020W, index=data_indices_2020W, columns=COLUMNS)"
   ]
  },
  {
   "cell_type": "code",
   "execution_count": 8,
   "metadata": {},
   "outputs": [],
   "source": [
    "DIRECTORY = './images/2020_W/'\n",
    "dir_list = os.listdir(DIRECTORY)\n",
    "dataset_list = [direc for direc in dir_list if direc.startswith('LAI_OVER') or direc.startswith('LAI2_OVER')]\n",
    "dataset_list.sort()"
   ]
  },
  {
   "cell_type": "code",
   "execution_count": 9,
   "metadata": {},
   "outputs": [],
   "source": [
    "data_indices = []\n",
    "input_images = []\n",
    "output_labels = []\n",
    "for DATE in output_2020W_df.index:\n",
    "    for DIRECTORY in dataset_list:\n",
    "        if DATE in DIRECTORY:\n",
    "            file_list = os.listdir(f'./images/2020_W/{DIRECTORY}')\n",
    "            file_list = [file for file in file_list if file.endswith('.jpg')]\n",
    "            for FILE in file_list:\n",
    "                image = Image.open(f'./images/2020_W/{DIRECTORY}/{FILE}')\n",
    "                data_indices.append(pd.Timestamp(DATE))\n",
    "                input_images.append(img_to_array(image))\n",
    "                output_labels.append(output_2020W_df.loc[DATE].values)"
   ]
  },
  {
   "cell_type": "code",
   "execution_count": 10,
   "metadata": {},
   "outputs": [],
   "source": [
    "input_images = np.stack(input_images, axis=0)\n",
    "output_labels = np.stack(output_labels, axis=0)\n",
    "data_indices = np.array(data_indices)"
   ]
  },
  {
   "cell_type": "code",
   "execution_count": 11,
   "metadata": {},
   "outputs": [
    {
     "name": "stdout",
     "output_type": "stream",
     "text": [
      "9335\n",
      "(9335, 128, 128, 3)\n",
      "(9335, 4)\n"
     ]
    }
   ],
   "source": [
    "print(len(data_indices))\n",
    "print(input_images.shape)\n",
    "print(output_labels.shape)"
   ]
  },
  {
   "cell_type": "code",
   "execution_count": 12,
   "metadata": {},
   "outputs": [],
   "source": [
    "# data_indices, input_images, output_labels = resample(data_indices, input_images, output_labels, n_samples=5000, replace=False, random_state=4574)"
   ]
  },
  {
   "cell_type": "code",
   "execution_count": 13,
   "metadata": {},
   "outputs": [
    {
     "name": "stdout",
     "output_type": "stream",
     "text": [
      "9335\n",
      "(9335, 128, 128, 3)\n",
      "(9335, 4)\n"
     ]
    }
   ],
   "source": [
    "print(len(data_indices))\n",
    "print(input_images.shape)\n",
    "print(output_labels.shape)"
   ]
  },
  {
   "cell_type": "code",
   "execution_count": 14,
   "metadata": {},
   "outputs": [
    {
     "data": {
      "text/plain": [
       "22"
      ]
     },
     "execution_count": 14,
     "metadata": {},
     "output_type": "execute_result"
    }
   ],
   "source": [
    "gc.collect()"
   ]
  },
  {
   "cell_type": "code",
   "execution_count": 15,
   "metadata": {},
   "outputs": [],
   "source": [
    "data_indices, input_images, output_labels = shuffle(data_indices, input_images, output_labels, random_state=4574)"
   ]
  },
  {
   "cell_type": "code",
   "execution_count": 16,
   "metadata": {},
   "outputs": [],
   "source": [
    "N_TRAIN = int(output_labels.shape[0]*.3)\n",
    "train_input = input_images[:N_TRAIN, ...]\n",
    "train_label = output_labels[:N_TRAIN, ...]\n",
    "train_index = data_indices[:N_TRAIN]\n",
    "test_input = input_images[N_TRAIN:, ...]\n",
    "test_label = output_labels[N_TRAIN:, ...]\n",
    "test_index = data_indices[N_TRAIN:]"
   ]
  },
  {
   "cell_type": "code",
   "execution_count": 17,
   "metadata": {},
   "outputs": [],
   "source": [
    "datagen = ImageDataGenerator(\n",
    "    rescale=1/255,\n",
    "    width_shift_range=0.2,\n",
    "    height_shift_range=0.2,\n",
    "    shear_range=0.2,\n",
    "    zoom_range=0.2,\n",
    "    horizontal_flip=True,\n",
    "    fill_mode='nearest')"
   ]
  },
  {
   "cell_type": "code",
   "execution_count": 18,
   "metadata": {},
   "outputs": [],
   "source": [
    "train_iterator = datagen.flow(train_input, train_label, batch_size=BATCH_SIZE)\n",
    "test_iterator = datagen.flow(test_input, test_label, batch_size=BATCH_SIZE)"
   ]
  },
  {
   "cell_type": "code",
   "execution_count": 19,
   "metadata": {},
   "outputs": [
    {
     "data": {
      "text/plain": [
       "0"
      ]
     },
     "execution_count": 19,
     "metadata": {},
     "output_type": "execute_result"
    }
   ],
   "source": [
    "gc.collect()"
   ]
  },
  {
   "cell_type": "markdown",
   "metadata": {},
   "source": [
    "# Model construction"
   ]
  },
  {
   "cell_type": "code",
   "execution_count": 20,
   "metadata": {
    "scrolled": true
   },
   "outputs": [],
   "source": [
    "with strategy.scope():\n",
    "    model = Sequential([\n",
    "        layers.Conv2D(32, 2, padding='same', activation='relu', input_shape=(128, 128, 3)),\n",
    "        layers.MaxPooling2D(),\n",
    "        layers.Conv2D(64, 2, padding='same', activation='relu'),\n",
    "        layers.MaxPooling2D(),\n",
    "        layers.Conv2D(128, 2, padding='same', activation='relu'),\n",
    "        layers.MaxPooling2D(),\n",
    "        layers.Conv2D(128, 3, padding='same', activation='relu'),\n",
    "        layers.MaxPooling2D(),\n",
    "        layers.Conv2D(256, 3, padding='same', activation='relu'),\n",
    "        layers.MaxPooling2D(),\n",
    "        layers.Conv2D(512, 3, padding='same', activation='relu'),\n",
    "        layers.MaxPooling2D(),\n",
    "        layers.Conv2D(1024, 3, padding='same', activation='relu'),\n",
    "        layers.MaxPooling2D(),\n",
    "        layers.Flatten(),\n",
    "        layers.Dense(128, activation='relu'),\n",
    "        layers.Dense(4, activation='sigmoid')\n",
    "        ])"
   ]
  },
  {
   "cell_type": "code",
   "execution_count": 21,
   "metadata": {},
   "outputs": [],
   "source": [
    "cbs = callbacks.ReduceLROnPlateau(\n",
    "    monitor='val_loss', factor=.5, patience=2, verbose=0, mode='min',\n",
    "    min_delta=0.0001, cooldown=0, min_lr=0)\n",
    "\n",
    "save = callbacks.ModelCheckpoint(\n",
    "    BEST_PATH, monitor='val_loss', verbose=0,\n",
    "    save_best_only=True, save_weights_only=True, mode='min', save_freq='epoch')\n",
    "\n",
    "early_stop = callbacks.EarlyStopping(monitor='val_loss', min_delta=0.0001, patience=20) "
   ]
  },
  {
   "cell_type": "code",
   "execution_count": 22,
   "metadata": {
    "scrolled": true
   },
   "outputs": [
    {
     "name": "stdout",
     "output_type": "stream",
     "text": [
      "WARNING:tensorflow:From /home/phil/.virtualenvs/tf20/lib/python3.6/site-packages/tensorflow/python/data/ops/multi_device_iterator_ops.py:601: get_next_as_optional (from tensorflow.python.data.ops.iterator_ops) is deprecated and will be removed in a future version.\n",
      "Instructions for updating:\n",
      "Use `tf.data.Iterator.get_next_as_optional()` instead.\n"
     ]
    }
   ],
   "source": [
    "with strategy.scope():\n",
    "    opt = optimizers.Adam(learning_rate=LEARNING_RATE, epsilon=EPSILON)\n",
    "    model.compile(optimizer=opt, loss='mae')\n",
    "    model.predict(test_iterator)\n",
    "    model.load_weights(PRE_TRAINED)"
   ]
  },
  {
   "cell_type": "code",
   "execution_count": 23,
   "metadata": {},
   "outputs": [],
   "source": [
    "model.trainable = False"
   ]
  },
  {
   "cell_type": "code",
   "execution_count": 24,
   "metadata": {},
   "outputs": [],
   "source": [
    "with strategy.scope():\n",
    "    base_model = Sequential(model.layers[:-2])\n",
    "    prediction_layer1 = layers.Dense(128, activation='relu')\n",
    "    prediction_layer2 = layers.Dense(4, activation='sigmoid')"
   ]
  },
  {
   "cell_type": "code",
   "execution_count": 25,
   "metadata": {},
   "outputs": [],
   "source": [
    "with strategy.scope():\n",
    "    new_model = Sequential([\n",
    "        base_model,\n",
    "        prediction_layer1,\n",
    "        prediction_layer2\n",
    "    ])"
   ]
  },
  {
   "cell_type": "code",
   "execution_count": 26,
   "metadata": {},
   "outputs": [
    {
     "data": {
      "text/plain": [
       "2500"
      ]
     },
     "execution_count": 26,
     "metadata": {},
     "output_type": "execute_result"
    }
   ],
   "source": [
    "gc.collect()"
   ]
  },
  {
   "cell_type": "code",
   "execution_count": 27,
   "metadata": {
    "scrolled": true
   },
   "outputs": [
    {
     "name": "stdout",
     "output_type": "stream",
     "text": [
      "Epoch 1/200\n",
      "INFO:tensorflow:batch_all_reduce: 4 all-reduces with algorithm = nccl, num_packs = 1\n",
      "INFO:tensorflow:Reduce to /job:localhost/replica:0/task:0/device:CPU:0 then broadcast to ('/job:localhost/replica:0/task:0/device:CPU:0',).\n",
      "INFO:tensorflow:Reduce to /job:localhost/replica:0/task:0/device:CPU:0 then broadcast to ('/job:localhost/replica:0/task:0/device:CPU:0',).\n",
      "INFO:tensorflow:batch_all_reduce: 4 all-reduces with algorithm = nccl, num_packs = 1\n",
      "INFO:tensorflow:Reduce to /job:localhost/replica:0/task:0/device:CPU:0 then broadcast to ('/job:localhost/replica:0/task:0/device:CPU:0',).\n",
      "INFO:tensorflow:Reduce to /job:localhost/replica:0/task:0/device:CPU:0 then broadcast to ('/job:localhost/replica:0/task:0/device:CPU:0',).\n",
      "88/88 [==============================] - ETA: 0s - loss: 0.1020INFO:tensorflow:Reduce to /job:localhost/replica:0/task:0/device:CPU:0 then broadcast to ('/job:localhost/replica:0/task:0/device:CPU:0',).\n",
      "INFO:tensorflow:Reduce to /job:localhost/replica:0/task:0/device:CPU:0 then broadcast to ('/job:localhost/replica:0/task:0/device:CPU:0',).\n",
      "INFO:tensorflow:Reduce to /job:localhost/replica:0/task:0/device:CPU:0 then broadcast to ('/job:localhost/replica:0/task:0/device:CPU:0',).\n",
      "INFO:tensorflow:Reduce to /job:localhost/replica:0/task:0/device:CPU:0 then broadcast to ('/job:localhost/replica:0/task:0/device:CPU:0',).\n",
      "88/88 [==============================] - 33s 375ms/step - loss: 0.1020 - val_loss: 0.0703\n",
      "INFO:tensorflow:Reduce to /job:localhost/replica:0/task:0/device:CPU:0 then broadcast to ('/job:localhost/replica:0/task:0/device:CPU:0',).\n",
      "INFO:tensorflow:Reduce to /job:localhost/replica:0/task:0/device:CPU:0 then broadcast to ('/job:localhost/replica:0/task:0/device:CPU:0',).\n",
      "Epoch 2/200\n",
      "88/88 [==============================] - 31s 358ms/step - loss: 0.0645 - val_loss: 0.0613\n",
      "Epoch 3/200\n",
      "88/88 [==============================] - 32s 359ms/step - loss: 0.0598 - val_loss: 0.0558\n",
      "Epoch 4/200\n",
      "88/88 [==============================] - 31s 356ms/step - loss: 0.0543 - val_loss: 0.0531\n",
      "Epoch 5/200\n",
      "88/88 [==============================] - 31s 357ms/step - loss: 0.0520 - val_loss: 0.0502\n",
      "Epoch 6/200\n",
      "88/88 [==============================] - 32s 359ms/step - loss: 0.0488 - val_loss: 0.0464\n",
      "Epoch 7/200\n",
      "88/88 [==============================] - 31s 354ms/step - loss: 0.0463 - val_loss: 0.0470\n",
      "Epoch 8/200\n",
      "88/88 [==============================] - 31s 358ms/step - loss: 0.0472 - val_loss: 0.0448\n",
      "Epoch 9/200\n",
      "88/88 [==============================] - 31s 356ms/step - loss: 0.0456 - val_loss: 0.0467\n",
      "Epoch 10/200\n",
      "88/88 [==============================] - 32s 358ms/step - loss: 0.0446 - val_loss: 0.0474\n",
      "Epoch 11/200\n",
      "88/88 [==============================] - 31s 355ms/step - loss: 0.0426 - val_loss: 0.0424\n",
      "Epoch 12/200\n",
      "88/88 [==============================] - 31s 355ms/step - loss: 0.0407 - val_loss: 0.0424\n",
      "Epoch 13/200\n",
      "88/88 [==============================] - 31s 355ms/step - loss: 0.0418 - val_loss: 0.0427\n",
      "Epoch 14/200\n",
      "88/88 [==============================] - 32s 359ms/step - loss: 0.0411 - val_loss: 0.0419\n",
      "Epoch 15/200\n",
      "88/88 [==============================] - 31s 357ms/step - loss: 0.0415 - val_loss: 0.0416\n",
      "Epoch 16/200\n",
      "88/88 [==============================] - 31s 357ms/step - loss: 0.0398 - val_loss: 0.0418\n",
      "Epoch 17/200\n",
      "88/88 [==============================] - 32s 359ms/step - loss: 0.0412 - val_loss: 0.0409\n",
      "Epoch 18/200\n",
      "88/88 [==============================] - 31s 356ms/step - loss: 0.0409 - val_loss: 0.0410\n",
      "Epoch 19/200\n",
      "88/88 [==============================] - 31s 357ms/step - loss: 0.0397 - val_loss: 0.0405\n",
      "Epoch 20/200\n",
      "88/88 [==============================] - 31s 358ms/step - loss: 0.0403 - val_loss: 0.0405\n",
      "Epoch 21/200\n",
      "88/88 [==============================] - 32s 361ms/step - loss: 0.0398 - val_loss: 0.0404\n",
      "Epoch 22/200\n",
      "88/88 [==============================] - 32s 358ms/step - loss: 0.0396 - val_loss: 0.0401\n",
      "Epoch 23/200\n",
      "88/88 [==============================] - 32s 358ms/step - loss: 0.0392 - val_loss: 0.0390\n",
      "Epoch 24/200\n",
      "88/88 [==============================] - 31s 356ms/step - loss: 0.0382 - val_loss: 0.0398\n",
      "Epoch 25/200\n",
      "88/88 [==============================] - 31s 358ms/step - loss: 0.0400 - val_loss: 0.0398\n",
      "Epoch 26/200\n",
      "88/88 [==============================] - 32s 359ms/step - loss: 0.0388 - val_loss: 0.0392\n",
      "Epoch 27/200\n",
      "88/88 [==============================] - 31s 356ms/step - loss: 0.0396 - val_loss: 0.0393\n",
      "Epoch 28/200\n",
      "88/88 [==============================] - 31s 357ms/step - loss: 0.0390 - val_loss: 0.0401\n",
      "Epoch 29/200\n",
      "88/88 [==============================] - 31s 356ms/step - loss: 0.0401 - val_loss: 0.0396\n",
      "Epoch 30/200\n",
      "88/88 [==============================] - 31s 356ms/step - loss: 0.0392 - val_loss: 0.0397\n",
      "Epoch 31/200\n",
      "88/88 [==============================] - 31s 358ms/step - loss: 0.0388 - val_loss: 0.0394\n",
      "Epoch 32/200\n",
      "88/88 [==============================] - 32s 358ms/step - loss: 0.0392 - val_loss: 0.0399\n",
      "Epoch 33/200\n",
      "88/88 [==============================] - 31s 358ms/step - loss: 0.0388 - val_loss: 0.0400\n",
      "Epoch 34/200\n",
      "88/88 [==============================] - 32s 358ms/step - loss: 0.0382 - val_loss: 0.0389\n",
      "Epoch 35/200\n",
      "88/88 [==============================] - 31s 357ms/step - loss: 0.0385 - val_loss: 0.0398\n",
      "Epoch 36/200\n",
      "88/88 [==============================] - 31s 357ms/step - loss: 0.0389 - val_loss: 0.0399\n",
      "Epoch 37/200\n",
      "88/88 [==============================] - 32s 359ms/step - loss: 0.0388 - val_loss: 0.0389\n",
      "Epoch 38/200\n",
      "88/88 [==============================] - 31s 358ms/step - loss: 0.0404 - val_loss: 0.0399\n",
      "Epoch 39/200\n",
      "88/88 [==============================] - 31s 356ms/step - loss: 0.0382 - val_loss: 0.0389\n",
      "Epoch 40/200\n",
      "88/88 [==============================] - 32s 359ms/step - loss: 0.0399 - val_loss: 0.0395\n",
      "Epoch 41/200\n",
      "88/88 [==============================] - 32s 359ms/step - loss: 0.0392 - val_loss: 0.0394\n",
      "Epoch 42/200\n",
      "88/88 [==============================] - 31s 355ms/step - loss: 0.0397 - val_loss: 0.0397\n",
      "Epoch 43/200\n",
      "88/88 [==============================] - 31s 356ms/step - loss: 0.0396 - val_loss: 0.0395\n",
      "Epoch 44/200\n",
      "88/88 [==============================] - 31s 355ms/step - loss: 0.0391 - val_loss: 0.0393\n",
      "Epoch 45/200\n",
      "88/88 [==============================] - 31s 358ms/step - loss: 0.0393 - val_loss: 0.0392\n",
      "Epoch 46/200\n",
      "88/88 [==============================] - 32s 359ms/step - loss: 0.0393 - val_loss: 0.0391\n",
      "Epoch 47/200\n",
      "88/88 [==============================] - 31s 358ms/step - loss: 0.0398 - val_loss: 0.0388\n",
      "Epoch 48/200\n",
      "88/88 [==============================] - 31s 357ms/step - loss: 0.0400 - val_loss: 0.0394\n",
      "Epoch 49/200\n",
      "88/88 [==============================] - 31s 358ms/step - loss: 0.0391 - val_loss: 0.0390\n",
      "Epoch 50/200\n",
      "88/88 [==============================] - 31s 355ms/step - loss: 0.0391 - val_loss: 0.0395\n",
      "Epoch 51/200\n",
      "88/88 [==============================] - 31s 357ms/step - loss: 0.0386 - val_loss: 0.0394\n",
      "Epoch 52/200\n",
      "88/88 [==============================] - 31s 356ms/step - loss: 0.0393 - val_loss: 0.0388\n",
      "Epoch 53/200\n",
      "88/88 [==============================] - 31s 356ms/step - loss: 0.0386 - val_loss: 0.0392\n",
      "Epoch 54/200\n",
      "88/88 [==============================] - 32s 359ms/step - loss: 0.0397 - val_loss: 0.0391\n",
      "Epoch 55/200\n",
      "88/88 [==============================] - 31s 356ms/step - loss: 0.0392 - val_loss: 0.0388\n",
      "Epoch 56/200\n",
      "88/88 [==============================] - 31s 356ms/step - loss: 0.0383 - val_loss: 0.0389\n",
      "Epoch 57/200\n",
      "88/88 [==============================] - 31s 358ms/step - loss: 0.0394 - val_loss: 0.0407\n"
     ]
    }
   ],
   "source": [
    "with strategy.scope():\n",
    "    opt = optimizers.Adam(learning_rate=LEARNING_RATE, epsilon=EPSILON)\n",
    "    new_model.compile(optimizer=opt, loss='mae')\n",
    "    new_model.fit(train_iterator, epochs=TRAINING_EPOCHS, validation_data=test_iterator,\n",
    "                  verbose=1, callbacks=[cbs, save, early_stop]) "
   ]
  },
  {
   "cell_type": "code",
   "execution_count": 28,
   "metadata": {},
   "outputs": [],
   "source": [
    "new_model.load_weights(BEST_PATH)"
   ]
  },
  {
   "cell_type": "code",
   "execution_count": 29,
   "metadata": {},
   "outputs": [],
   "source": [
    "pred_result = model.predict(test_input/255)"
   ]
  },
  {
   "cell_type": "code",
   "execution_count": 30,
   "metadata": {},
   "outputs": [],
   "source": [
    "test_label = (OUTPUT_MAXS - OUTPUT_MINS)*test_label + OUTPUT_MINS\n",
    "pred_result = (OUTPUT_MAXS - OUTPUT_MINS)*pred_result + OUTPUT_MINS"
   ]
  },
  {
   "cell_type": "code",
   "execution_count": 31,
   "metadata": {},
   "outputs": [],
   "source": [
    "pred_df = pd.DataFrame(np.concatenate([test_label, pred_result], axis=1), index=test_index)\n",
    "pred_df.columns = ['label_node_len', 'label_node_dia', 'label_plant_h', 'label_leaf_area', 'pred_node_len', 'pred_node_dia', 'pred_plant_h', 'pred_leaf_area']"
   ]
  },
  {
   "cell_type": "code",
   "execution_count": 32,
   "metadata": {},
   "outputs": [],
   "source": [
    "pred_df.to_csv('./results/model_output/pg_transfer_pred_result.csv')"
   ]
  }
 ],
 "metadata": {
  "kernelspec": {
   "display_name": "tf20",
   "language": "python",
   "name": "tf20"
  },
  "language_info": {
   "codemirror_mode": {
    "name": "ipython",
    "version": 3
   },
   "file_extension": ".py",
   "mimetype": "text/x-python",
   "name": "python",
   "nbconvert_exporter": "python",
   "pygments_lexer": "ipython3",
   "version": "3.6.9"
  }
 },
 "nbformat": 4,
 "nbformat_minor": 4
}
