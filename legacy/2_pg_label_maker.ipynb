{
 "cells": [
  {
   "cell_type": "code",
   "execution_count": 2,
   "metadata": {},
   "outputs": [
    {
     "name": "stdout",
     "output_type": "stream",
     "text": [
      "Package is ready.\n"
     ]
    }
   ],
   "source": [
    "import os\n",
    "\n",
    "import numpy as np\n",
    "np.set_printoptions(suppress=True)\n",
    "import pandas as pd\n",
    "\n",
    "from scipy.optimize import curve_fit\n",
    "from sklearn.metrics import r2_score\n",
    "\n",
    "print(\"Package is ready.\")"
   ]
  },
  {
   "cell_type": "markdown",
   "metadata": {},
   "source": [
    "# 2020 Summer"
   ]
  },
  {
   "cell_type": "code",
   "execution_count": 3,
   "metadata": {},
   "outputs": [],
   "source": [
    "pg_df = []"
   ]
  },
  {
   "cell_type": "code",
   "execution_count": 4,
   "metadata": {},
   "outputs": [],
   "source": [
    "temp_df = pd.read_csv('./results/2020_S/node_length.csv', index_col='Unnamed: 0')\n",
    "temp_df.columns = temp_df.columns.astype('int64')\n",
    "\n",
    "last_day = pd.concat([temp_df.loc['2020-07-07'].dropna(),\n",
    "                      temp_df.loc['2020-07-08'].dropna(),\n",
    "                      temp_df.loc['2020-07-09'].dropna()]).reset_index().drop('index', axis=1)\n",
    "last_day.index = list(last_day.index)\n",
    "\n",
    "temp_index = temp_df.index\n",
    "temp_df = pd.concat([temp_df.loc[:'2020-06-17'], last_day.T])\n",
    "temp_df.index = list(temp_index[:-3]) + ['2020-07-03']\n",
    "temp_df.index = pd.DatetimeIndex(temp_df.index)\n",
    "\n",
    "l = []\n",
    "l_i = []\n",
    "for _ in range(temp_df.shape[0]):\n",
    "    ll = temp_df.iloc[_].dropna()\n",
    "    l.extend(ll.values)\n",
    "    l_i.extend([temp_df.index[_]]*ll.shape[0])\n",
    "temp_df = pd.DataFrame(l, index=l_i, columns=['node_len'])\n",
    "\n",
    "pg_df.append(temp_df)"
   ]
  },
  {
   "cell_type": "code",
   "execution_count": 5,
   "metadata": {},
   "outputs": [],
   "source": [
    "temp_df = pd.read_csv('./results/2020_S/node_diameter.csv', index_col='Unnamed: 0')\n",
    "temp_df.columns = temp_df.columns.astype('int64')\n",
    "\n",
    "last_day = pd.concat([temp_df.loc['2020-07-07'].dropna(),\n",
    "                      temp_df.loc['2020-07-08'].dropna(),\n",
    "                      temp_df.loc['2020-07-09'].dropna()]).reset_index().drop('index', axis=1)\n",
    "last_day.index = list(last_day.index)\n",
    "\n",
    "temp_index = temp_df.index\n",
    "temp_df = pd.concat([temp_df.loc[:'2020-06-17'], last_day.T])\n",
    "temp_df.index = list(temp_index[:-3]) + ['2020-07-03']\n",
    "temp_df.index = pd.DatetimeIndex(temp_df.index)\n",
    "\n",
    "l = []\n",
    "l_i = []\n",
    "for _ in range(temp_df.shape[0]):\n",
    "    ll = temp_df.iloc[_].dropna()\n",
    "    l.extend(ll.values)\n",
    "    l_i.extend([temp_df.index[_]]*ll.shape[0])\n",
    "temp_df = pd.DataFrame(l, index=l_i, columns=['node_dia'])\n",
    "\n",
    "pg_df.append(temp_df)"
   ]
  },
  {
   "cell_type": "code",
   "execution_count": 6,
   "metadata": {},
   "outputs": [],
   "source": [
    "temp_df = pd.read_csv('./results/2020_S/plant_height.csv', index_col='Unnamed: 0')\n",
    "temp_df.columns = temp_df.columns.astype('int64')\n",
    "\n",
    "last_day = pd.concat([temp_df.loc['2020-07-07'].dropna(),\n",
    "                      temp_df.loc['2020-07-08'].dropna(),\n",
    "                      temp_df.loc['2020-07-09'].dropna()]).reset_index().drop('index', axis=1)\n",
    "last_day.index = list(last_day.index)\n",
    "\n",
    "temp_index = temp_df.index\n",
    "temp_df = pd.concat([temp_df.loc[:'2020-06-17'], last_day.T])\n",
    "temp_df.index = list(temp_index[:-3]) + ['2020-07-03']\n",
    "temp_df.index = pd.DatetimeIndex(temp_df.index)\n",
    "\n",
    "l = []\n",
    "l_i = []\n",
    "for _ in range(temp_df.shape[0]):\n",
    "    ll = temp_df.iloc[_].dropna()\n",
    "    l.extend(ll.values)\n",
    "    l_i.extend([temp_df.index[_]]*ll.shape[0])\n",
    "temp_df = pd.DataFrame(l, index=l_i, columns=['plant_h'])\n",
    "\n",
    "pg_df.append(temp_df)"
   ]
  },
  {
   "cell_type": "code",
   "execution_count": 7,
   "metadata": {},
   "outputs": [],
   "source": [
    "temp_df = pd.read_csv('./results/2020_S/leaf_area.csv', index_col='Unnamed: 0')\n",
    "temp_df.columns = temp_df.columns.astype('int64')\n",
    "\n",
    "last_day = pd.concat([temp_df.loc['2020-07-07'].dropna(),\n",
    "                      temp_df.loc['2020-07-08'].dropna(),\n",
    "                      temp_df.loc['2020-07-09'].dropna()]).reset_index().drop('index', axis=1)\n",
    "last_day.index = list(last_day.index)\n",
    "\n",
    "temp_index = temp_df.index\n",
    "temp_df = pd.concat([temp_df.loc[:'2020-06-17'], last_day.T])/10000\n",
    "temp_df.index = list(temp_index[:-3]) + ['2020-07-03']\n",
    "temp_df.index = pd.DatetimeIndex(temp_df.index)\n",
    "\n",
    "l = []\n",
    "l_i = []\n",
    "for _ in range(temp_df.shape[0]):\n",
    "    ll = temp_df.iloc[_].dropna()\n",
    "    l.extend(ll.values)\n",
    "    l_i.extend([temp_df.index[_]]*ll.shape[0])\n",
    "temp_df = pd.DataFrame(l, index=l_i, columns=['leaf_area'])\n",
    "\n",
    "pg_df.append(temp_df)"
   ]
  },
  {
   "cell_type": "code",
   "execution_count": 8,
   "metadata": {},
   "outputs": [],
   "source": [
    "pg_df = pd.concat(pg_df, axis=1)\n",
    "pg_df['DAT'] = [27]*3 + [55]*3 + [86]*3 + [112]*4 + [128]*20\n",
    "pg_df['date'] = pg_df.index\n",
    "pg_df = pg_df.set_index(['DAT'])"
   ]
  },
  {
   "cell_type": "code",
   "execution_count": 9,
   "metadata": {},
   "outputs": [],
   "source": [
    "pg_reg_df = []\n",
    "plot_x = [_ for _ in range(14, 129)]\n",
    "date_x = pd.date_range('2020-03-11', '2020-07-03', freq='1d')"
   ]
  },
  {
   "cell_type": "code",
   "execution_count": 10,
   "metadata": {},
   "outputs": [],
   "source": [
    "def sigmoid(x, L, k, x0, b):\n",
    "    return L / (b + np.exp(-k*(x-x0)))"
   ]
  },
  {
   "cell_type": "code",
   "execution_count": 11,
   "metadata": {},
   "outputs": [],
   "source": [
    "pg_df.iloc[-18, 0] = np.nan\n",
    "pg_df.iloc[-2, 1] = np.nan\n",
    "pg_df.iloc[-6, 1] = np.nan\n",
    "pg_df.iloc[-21, 0] -= 3\n",
    "pg_df = pg_df.dropna()"
   ]
  },
  {
   "cell_type": "code",
   "execution_count": 12,
   "metadata": {},
   "outputs": [
    {
     "name": "stdout",
     "output_type": "stream",
     "text": [
      "0.7185346190241422\n"
     ]
    }
   ],
   "source": [
    "x = pg_df.index\n",
    "y = pg_df['node_len']\n",
    "polreg = np.poly1d(np.polyfit(x,y,3))\n",
    "print(r2_score(y, polreg(x)))\n",
    "\n",
    "plot_y = polreg(plot_x)\n",
    "pg_reg_df.append(plot_y)"
   ]
  },
  {
   "cell_type": "code",
   "execution_count": 13,
   "metadata": {},
   "outputs": [
    {
     "data": {
      "text/plain": [
       "array([ 0.00002078, -0.00446117,  0.28968234, -1.87530395])"
      ]
     },
     "execution_count": 13,
     "metadata": {},
     "output_type": "execute_result"
    }
   ],
   "source": [
    "polreg.c"
   ]
  },
  {
   "cell_type": "code",
   "execution_count": 14,
   "metadata": {},
   "outputs": [
    {
     "name": "stdout",
     "output_type": "stream",
     "text": [
      "0.8822503506478436\n"
     ]
    }
   ],
   "source": [
    "x = pg_df.index\n",
    "y = pg_df['node_dia']\n",
    "polreg = np.poly1d(np.polyfit(x,y,3))\n",
    "print(r2_score(y, polreg(x)))\n",
    "\n",
    "plot_y = polreg(plot_x)\n",
    "pg_reg_df.append(plot_y)"
   ]
  },
  {
   "cell_type": "code",
   "execution_count": 15,
   "metadata": {},
   "outputs": [
    {
     "data": {
      "text/plain": [
       "array([ 0.00001451, -0.00276196,  0.16731076,  1.47825226])"
      ]
     },
     "execution_count": 15,
     "metadata": {},
     "output_type": "execute_result"
    }
   ],
   "source": [
    "polreg.c"
   ]
  },
  {
   "cell_type": "code",
   "execution_count": 16,
   "metadata": {},
   "outputs": [
    {
     "name": "stdout",
     "output_type": "stream",
     "text": [
      "0.9037982257172344\n"
     ]
    }
   ],
   "source": [
    "x = pg_df.index\n",
    "y = pg_df['plant_h']\n",
    "popt, pcov = curve_fit(sigmoid, x, y, method='trf')\n",
    "print(r2_score(y, sigmoid(x, *popt)))\n",
    "\n",
    "plot_y = sigmoid(plot_x, *popt)\n",
    "pg_reg_df.append(plot_y)"
   ]
  },
  {
   "cell_type": "code",
   "execution_count": 17,
   "metadata": {},
   "outputs": [
    {
     "data": {
      "text/plain": [
       "array([ 6.60628375,  0.07970437, -3.30204321,  0.03302972])"
      ]
     },
     "execution_count": 17,
     "metadata": {},
     "output_type": "execute_result"
    }
   ],
   "source": [
    "popt"
   ]
  },
  {
   "cell_type": "code",
   "execution_count": 18,
   "metadata": {},
   "outputs": [
    {
     "name": "stdout",
     "output_type": "stream",
     "text": [
      "0.8882709607841659\n"
     ]
    }
   ],
   "source": [
    "x = pg_df.index\n",
    "y = pg_df['leaf_area']*1000\n",
    "popt, pcov = curve_fit(sigmoid, x, y, method='trf')\n",
    "print(r2_score(y, sigmoid(x, *popt)))\n",
    "\n",
    "plot_y = sigmoid(plot_x, *popt)\n",
    "pg_reg_df.append(plot_y/1000)"
   ]
  },
  {
   "cell_type": "code",
   "execution_count": 25,
   "metadata": {},
   "outputs": [
    {
     "data": {
      "text/plain": [
       "array([ 0.01394857,  0.00007984, -0.00623317,  0.00001069])"
      ]
     },
     "execution_count": 25,
     "metadata": {},
     "output_type": "execute_result"
    }
   ],
   "source": [
    "popt/1000"
   ]
  },
  {
   "cell_type": "code",
   "execution_count": 22,
   "metadata": {},
   "outputs": [
    {
     "data": {
      "text/plain": [
       "array([13.94856502,  0.07983658, -6.23317329,  0.01069047])"
      ]
     },
     "execution_count": 22,
     "metadata": {},
     "output_type": "execute_result"
    }
   ],
   "source": [
    "popt"
   ]
  },
  {
   "cell_type": "code",
   "execution_count": 20,
   "metadata": {},
   "outputs": [],
   "source": [
    "pg_reg_df = pd.DataFrame(pg_reg_df).T\n",
    "pg_reg_df.columns = ['node_len', 'node_dia', 'plant_h', 'leaf_area']\n",
    "pg_reg_df.index = date_x"
   ]
  },
  {
   "cell_type": "code",
   "execution_count": 21,
   "metadata": {},
   "outputs": [],
   "source": [
    "pg_reg_df.to_csv('./results/2020_S/pg_reg_result.csv')"
   ]
  }
 ],
 "metadata": {
  "kernelspec": {
   "display_name": "tf20",
   "language": "python",
   "name": "tf20"
  },
  "language_info": {
   "codemirror_mode": {
    "name": "ipython",
    "version": 3
   },
   "file_extension": ".py",
   "mimetype": "text/x-python",
   "name": "python",
   "nbconvert_exporter": "python",
   "pygments_lexer": "ipython3",
   "version": "3.6.9"
  }
 },
 "nbformat": 4,
 "nbformat_minor": 4
}
