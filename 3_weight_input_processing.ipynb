{
 "cells": [
  {
   "cell_type": "code",
   "execution_count": 1,
   "metadata": {},
   "outputs": [],
   "source": [
    "import os\n",
    "\n",
    "import numpy as np\n",
    "import pandas as pd"
   ]
  },
  {
   "cell_type": "markdown",
   "metadata": {},
   "source": [
    "# Fresh weights"
   ]
  },
  {
   "cell_type": "markdown",
   "metadata": {},
   "source": [
    "### 2020 Summer"
   ]
  },
  {
   "cell_type": "code",
   "execution_count": 2,
   "metadata": {},
   "outputs": [],
   "source": [
    "input_df = pd.read_csv('./results/2020_S/SW2_greenhouse.csv', index_col='Unnamed: 0').interpolate()\n",
    "input_df.index = pd.DatetimeIndex(input_df.index)"
   ]
  },
  {
   "cell_type": "code",
   "execution_count": 3,
   "metadata": {},
   "outputs": [],
   "source": [
    "input_df = input_df.resample('10 min').mean()"
   ]
  },
  {
   "cell_type": "code",
   "execution_count": 4,
   "metadata": {},
   "outputs": [],
   "source": [
    "output_df = pd.read_csv('./results/2020_S/ct_fw_labels.csv', index_col='Unnamed: 0')"
   ]
  },
  {
   "cell_type": "code",
   "execution_count": 5,
   "metadata": {},
   "outputs": [],
   "source": [
    "input_data_2020S_CT = [pd.concat([input_df.loc[:, :'permit'], input_df.loc[:, 'loadcell_1']], axis=1).values,\n",
    "                       pd.concat([input_df.loc[:, :'permit'], input_df.loc[:, 'loadcell_2']], axis=1).values,\n",
    "                       pd.concat([input_df.loc[:, :'permit'], input_df.loc[:, 'loadcell_3']], axis=1).values]"
   ]
  },
  {
   "cell_type": "code",
   "execution_count": 6,
   "metadata": {},
   "outputs": [],
   "source": [
    "data_indices_2020S_CT = [np.array(output_df['CT_1'].index),\n",
    "                         np.array(output_df['CT_2'].index),\n",
    "                         np.array(output_df['CT_3'].index)]"
   ]
  },
  {
   "cell_type": "code",
   "execution_count": 7,
   "metadata": {},
   "outputs": [],
   "source": [
    "output_label_2020S_CT = [output_df['CT_1'].values,\n",
    "                         output_df['CT_2'].values,\n",
    "                         output_df['CT_3'].values]"
   ]
  },
  {
   "cell_type": "code",
   "execution_count": 8,
   "metadata": {},
   "outputs": [],
   "source": [
    "input_data_2020S = np.concatenate(input_data_2020S_CT)\n",
    "data_indices_2020S = np.concatenate(data_indices_2020S_CT).reshape(-1, 1)\n",
    "output_label_2020S = np.concatenate(output_label_2020S_CT).reshape(-1, 1)"
   ]
  },
  {
   "cell_type": "markdown",
   "metadata": {},
   "source": [
    "### 2020 Winter"
   ]
  },
  {
   "cell_type": "code",
   "execution_count": 9,
   "metadata": {},
   "outputs": [],
   "source": [
    "input_df = pd.read_csv('./results/2020_W/SW_CT_greenhouse.csv', index_col='Unnamed: 0').interpolate()\n",
    "input_df.index = pd.DatetimeIndex(input_df.index)"
   ]
  },
  {
   "cell_type": "code",
   "execution_count": 10,
   "metadata": {},
   "outputs": [],
   "source": [
    "input_df = input_df.resample('10 min').mean()"
   ]
  },
  {
   "cell_type": "code",
   "execution_count": 11,
   "metadata": {},
   "outputs": [],
   "source": [
    "input_df.loc[:, 'loadcell_1'] = input_df.loc[:, 'loadcell_1'] - 0.8\n",
    "input_df.loc[:, 'loadcell_2'] = input_df.loc[:, 'loadcell_2'] - 0.5\n",
    "input_df.loc[:, 'loadcell_3'] = input_df.loc[:, 'loadcell_3'] - 0.8"
   ]
  },
  {
   "cell_type": "code",
   "execution_count": 12,
   "metadata": {},
   "outputs": [],
   "source": [
    "output_df = pd.read_csv('./results/2020_W/ct_fw_labels.csv', index_col='Unnamed: 0')"
   ]
  },
  {
   "cell_type": "code",
   "execution_count": 13,
   "metadata": {},
   "outputs": [],
   "source": [
    "input_df = input_df.interpolate()"
   ]
  },
  {
   "cell_type": "code",
   "execution_count": 14,
   "metadata": {},
   "outputs": [],
   "source": [
    "input_data_2020W_CT = [pd.concat([input_df.loc[:, :'permit'], input_df.loc[:, 'loadcell_1']], axis=1).values,\n",
    "                       pd.concat([input_df.loc[:, :'permit'], input_df.loc[:, 'loadcell_2']], axis=1).values,\n",
    "                       pd.concat([input_df.loc[:, :'permit'], input_df.loc[:, 'loadcell_3']], axis=1).values]"
   ]
  },
  {
   "cell_type": "code",
   "execution_count": 15,
   "metadata": {},
   "outputs": [],
   "source": [
    "data_indices_2020W_CT = [np.array(output_df['CT_1'].index),\n",
    "                         np.array(output_df['CT_2'].index),\n",
    "                         np.array(output_df['CT_3'].index)]"
   ]
  },
  {
   "cell_type": "code",
   "execution_count": 16,
   "metadata": {},
   "outputs": [],
   "source": [
    "output_label_2020W_CT = [output_df['CT_1'].values,\n",
    "                         output_df['CT_2'].values,\n",
    "                         output_df['CT_3'].values]"
   ]
  },
  {
   "cell_type": "code",
   "execution_count": 17,
   "metadata": {},
   "outputs": [],
   "source": [
    "input_data_2020W = np.concatenate(input_data_2020W_CT)\n",
    "data_indices_2020W = np.concatenate(data_indices_2020W_CT).reshape(-1, 1)\n",
    "output_label_2020W = np.concatenate(output_label_2020W_CT).reshape(-1, 1)"
   ]
  },
  {
   "cell_type": "markdown",
   "metadata": {},
   "source": [
    "### Data minmax"
   ]
  },
  {
   "cell_type": "code",
   "execution_count": 18,
   "metadata": {},
   "outputs": [],
   "source": [
    "cal_input_minmax = np.concatenate([input_data_2020S, input_data_2020W])\n",
    "cal_output_minmax = np.concatenate([output_label_2020S, output_label_2020W])"
   ]
  },
  {
   "cell_type": "code",
   "execution_count": 19,
   "metadata": {},
   "outputs": [],
   "source": [
    "INPUT_MAXS = cal_input_minmax.reshape(-1, 9).max(axis=0)\n",
    "INPUT_MINS = cal_input_minmax.reshape(-1, 9).min(axis=0)\n",
    "OUTPUT_MAX = cal_output_minmax.max()\n",
    "OUTPUT_MIN = cal_output_minmax.min()"
   ]
  },
  {
   "cell_type": "markdown",
   "metadata": {},
   "source": [
    "### Data save"
   ]
  },
  {
   "cell_type": "code",
   "execution_count": 20,
   "metadata": {},
   "outputs": [],
   "source": [
    "input_data = np.concatenate(input_data_2020S_CT)\n",
    "data_indices = np.concatenate(data_indices_2020S_CT).reshape(-1, 1)\n",
    "output_label = np.concatenate(output_label_2020S_CT).reshape(-1, 1)"
   ]
  },
  {
   "cell_type": "code",
   "execution_count": 21,
   "metadata": {},
   "outputs": [],
   "source": [
    "input_data = (input_data - INPUT_MINS)/(INPUT_MAXS - INPUT_MINS)\n",
    "input_data = input_data.reshape(-1, 144, 9)\n",
    "output_label = (output_label - OUTPUT_MIN)/(OUTPUT_MAX - OUTPUT_MIN)"
   ]
  },
  {
   "cell_type": "code",
   "execution_count": 22,
   "metadata": {},
   "outputs": [],
   "source": [
    "f = open('./results/2020_S/fw_ct_dataset.npz', 'wb')\n",
    "np.savez(f,\n",
    "         data_indices = data_indices,\n",
    "         input_data = input_data,\n",
    "         output_label = output_label,\n",
    "         INPUT_MAXS = INPUT_MAXS,\n",
    "         INPUT_MINS = INPUT_MINS,\n",
    "         OUTPUT_MAX = OUTPUT_MAX,\n",
    "         OUTPUT_MIN = OUTPUT_MIN\n",
    "        )\n",
    "f.close()"
   ]
  },
  {
   "cell_type": "code",
   "execution_count": 23,
   "metadata": {},
   "outputs": [
    {
     "name": "stdout",
     "output_type": "stream",
     "text": [
      "(363, 144, 9)\n",
      "(363, 1)\n",
      "(363, 1)\n"
     ]
    }
   ],
   "source": [
    "print(input_data.shape)\n",
    "print(output_label.shape)\n",
    "print(data_indices.shape)"
   ]
  },
  {
   "cell_type": "code",
   "execution_count": 24,
   "metadata": {},
   "outputs": [],
   "source": [
    "input_data = np.concatenate(input_data_2020W_CT)\n",
    "data_indices = np.concatenate(data_indices_2020W_CT).reshape(-1, 1)\n",
    "output_label = np.concatenate(output_label_2020W_CT).reshape(-1, 1)"
   ]
  },
  {
   "cell_type": "code",
   "execution_count": 25,
   "metadata": {},
   "outputs": [],
   "source": [
    "input_data = (input_data - INPUT_MINS)/(INPUT_MAXS - INPUT_MINS)\n",
    "input_data = input_data.reshape(-1, 144, 9)\n",
    "output_label = (output_label - OUTPUT_MIN)/(OUTPUT_MAX - OUTPUT_MIN)"
   ]
  },
  {
   "cell_type": "code",
   "execution_count": 26,
   "metadata": {},
   "outputs": [],
   "source": [
    "f = open('./results/2020_W/fw_ct_dataset.npz', 'wb')\n",
    "np.savez(f,\n",
    "         data_indices = data_indices,\n",
    "         input_data = input_data,\n",
    "         output_label = output_label,\n",
    "         INPUT_MAXS = INPUT_MAXS,\n",
    "         INPUT_MINS = INPUT_MINS,\n",
    "         OUTPUT_MAX = OUTPUT_MAX,\n",
    "         OUTPUT_MIN = OUTPUT_MIN\n",
    "        )\n",
    "f.close()"
   ]
  },
  {
   "cell_type": "code",
   "execution_count": 27,
   "metadata": {},
   "outputs": [
    {
     "name": "stdout",
     "output_type": "stream",
     "text": [
      "(456, 144, 9)\n",
      "(456, 1)\n",
      "(456, 1)\n"
     ]
    }
   ],
   "source": [
    "print(input_data.shape)\n",
    "print(output_label.shape)\n",
    "print(data_indices.shape)"
   ]
  }
 ],
 "metadata": {
  "kernelspec": {
   "display_name": "Environment (conda_tensorflow2_p36)",
   "language": "python",
   "name": "conda_tensorflow2_p36"
  },
  "language_info": {
   "codemirror_mode": {
    "name": "ipython",
    "version": 3
   },
   "file_extension": ".py",
   "mimetype": "text/x-python",
   "name": "python",
   "nbconvert_exporter": "python",
   "pygments_lexer": "ipython3",
   "version": "3.6.10"
  }
 },
 "nbformat": 4,
 "nbformat_minor": 4
}
