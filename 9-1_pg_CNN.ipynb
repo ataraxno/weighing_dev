{
 "cells": [
  {
   "cell_type": "code",
   "execution_count": 1,
   "metadata": {},
   "outputs": [
    {
     "data": {
      "text/plain": [
       "'2.3.0'"
      ]
     },
     "execution_count": 1,
     "metadata": {},
     "output_type": "execute_result"
    }
   ],
   "source": [
    "import time\n",
    "import os\n",
    "import gc\n",
    "\n",
    "import pandas as pd\n",
    "import numpy as np\n",
    "from sklearn import linear_model\n",
    "from sklearn.utils import shuffle, resample\n",
    "from sklearn.metrics import mean_squared_error, r2_score\n",
    "np.set_printoptions(precision=6, suppress=True)\n",
    "\n",
    "import PIL\n",
    "from PIL import Image\n",
    "\n",
    "import tensorflow as tf\n",
    "from tensorflow.keras import *\n",
    "from tensorflow.keras.preprocessing.image import ImageDataGenerator, array_to_img, img_to_array, load_img\n",
    "tf.__version__"
   ]
  },
  {
   "cell_type": "code",
   "execution_count": 2,
   "metadata": {},
   "outputs": [],
   "source": [
    "import matplotlib\n",
    "import matplotlib.pyplot as plt\n",
    "import matplotlib.dates as mdates\n",
    "from matplotlib.ticker import (LinearLocator, MultipleLocator, FormatStrFormatter)\n",
    "from matplotlib.dates import MonthLocator, WeekdayLocator, DateFormatter\n",
    "from matplotlib import gridspec\n",
    "from pandas.plotting import register_matplotlib_converters\n",
    "register_matplotlib_converters()\n",
    "%matplotlib inline"
   ]
  },
  {
   "cell_type": "code",
   "execution_count": 3,
   "metadata": {},
   "outputs": [],
   "source": [
    "plt.rcParams['figure.figsize'] = ((8/2.54), (6/2.54))\n",
    "plt.rcParams[\"font.family\"] = \"Arial\"\n",
    "plt.rcParams[\"mathtext.default\"] = \"rm\"\n",
    "plt.rcParams.update({'font.size': 11})\n",
    "MARKER_SIZE = 15\n",
    "cmap_m = [\"#f4a6ad\", \"#f6957e\", \"#fccfa2\", \"#8de7be\", \"#86d6f2\", \"#24a9e4\", \"#b586e0\", \"#d7f293\"]\n",
    "cmap = [\"#e94d5b\", \"#ef4d28\", \"#f9a54f\", \"#25b575\", \"#1bb1e7\", \"#1477a2\", \"#a662e5\", \"#c2f442\"]\n",
    "\n",
    "plt.rcParams['axes.spines.top'] = False\n",
    "# plt.rcParams['axes.edgecolor'] = \n",
    "plt.rcParams['axes.linewidth'] = 1\n",
    "plt.rcParams['lines.linewidth'] = 1.5\n",
    "plt.rcParams['xtick.major.width'] = 1\n",
    "plt.rcParams['xtick.minor.width'] = 1\n",
    "plt.rcParams['ytick.major.width'] = 1\n",
    "plt.rcParams['ytick.minor.width'] = 1"
   ]
  },
  {
   "cell_type": "code",
   "execution_count": 4,
   "metadata": {},
   "outputs": [
    {
     "name": "stdout",
     "output_type": "stream",
     "text": [
      "1 Physical GPUs, 1 Logical GPUs\n"
     ]
    }
   ],
   "source": [
    "gpus = tf.config.experimental.list_physical_devices('GPU')\n",
    "if gpus:\n",
    "    try:\n",
    "        for gpu in gpus:\n",
    "            tf.config.experimental.set_memory_growth(gpu, True)\n",
    "        logical_gpus = tf.config.experimental.list_logical_devices('GPU')\n",
    "        print(len(gpus), \"Physical GPUs,\", len(logical_gpus), \"Logical GPUs\")\n",
    "    except RuntimeError as e:\n",
    "        print(e)"
   ]
  },
  {
   "cell_type": "markdown",
   "metadata": {},
   "source": [
    "# Hyperparameters"
   ]
  },
  {
   "cell_type": "code",
   "execution_count": 5,
   "metadata": {},
   "outputs": [],
   "source": [
    "# BEST_PATH = './models/pg_convnet.h5'\n",
    "BEST_PATH = './models/pg_convnet' WHOLEMODEL\n",
    "TRAINING_EPOCHS = 200\n",
    "LEARNING_RATE = 0.001\n",
    "EPSILON = 1e-06\n",
    "BATCH_SIZE = 32"
   ]
  },
  {
   "cell_type": "markdown",
   "metadata": {},
   "source": [
    "# Data preparation"
   ]
  },
  {
   "cell_type": "code",
   "execution_count": 6,
   "metadata": {},
   "outputs": [],
   "source": [
    "l = np.load('./results/pg_dataset.npz', allow_pickle=True)\n",
    "data_indices_2020S = l['data_indices_2020S']\n",
    "output_label_2020S = l['output_label_2020S']\n",
    "data_indices_2020W = l['data_indices_2020W']\n",
    "output_label_2020W = l['output_label_2020W']\n",
    "OUTPUT_MAXS = l['OUTPUT_MAXS']\n",
    "OUTPUT_MINS = l['OUTPUT_MINS']"
   ]
  },
  {
   "cell_type": "code",
   "execution_count": 7,
   "metadata": {},
   "outputs": [],
   "source": [
    "COLUMNS = ['node_len', 'node_dia', 'plant_h', 'leaf_area']"
   ]
  },
  {
   "cell_type": "code",
   "execution_count": 8,
   "metadata": {},
   "outputs": [],
   "source": [
    "output_2020S_df = pd.DataFrame(output_label_2020S, index=data_indices_2020S, columns=COLUMNS)\n",
    "output_2020W_df = pd.DataFrame(output_label_2020W, index=data_indices_2020W, columns=COLUMNS)"
   ]
  },
  {
   "cell_type": "code",
   "execution_count": 9,
   "metadata": {},
   "outputs": [],
   "source": [
    "DIRECTORY = './images/2020_S/'\n",
    "dir_list = os.listdir(DIRECTORY)\n",
    "dataset_list = [direc for direc in dir_list if direc.startswith('LAI_OVER') or direc.startswith('LAI2_OVER')]\n",
    "dataset_list.sort()"
   ]
  },
  {
   "cell_type": "code",
   "execution_count": 10,
   "metadata": {},
   "outputs": [],
   "source": [
    "data_indices = []\n",
    "input_images = []\n",
    "output_labels = []\n",
    "for DATE in output_2020S_df.index:\n",
    "    for DIRECTORY in dataset_list:\n",
    "        if DATE in DIRECTORY:\n",
    "            file_list = os.listdir(f'./images/2020_S/{DIRECTORY}')\n",
    "            file_list = [file for file in file_list if file.endswith('.jpg')]\n",
    "            for FILE in file_list:\n",
    "                TIME = pd.Timedelta(FILE.split()[-1].split('.')[0])\n",
    "                if TIME >= pd.Timedelta('08:00:00') and TIME <= pd.Timedelta('16:00:00'):\n",
    "                    image = Image.open(f'./images/2020_S/{DIRECTORY}/{FILE}')\n",
    "                    data_indices.append(pd.Timestamp(DATE))\n",
    "                    input_images.append(img_to_array(image))\n",
    "                    output_labels.append(output_2020S_df.loc[DATE].values)"
   ]
  },
  {
   "cell_type": "code",
   "execution_count": 11,
   "metadata": {},
   "outputs": [],
   "source": [
    "input_images = np.stack(input_images, axis=0)\n",
    "output_labels = np.stack(output_labels, axis=0)\n",
    "data_indices = np.array(data_indices)"
   ]
  },
  {
   "cell_type": "code",
   "execution_count": 12,
   "metadata": {},
   "outputs": [
    {
     "name": "stdout",
     "output_type": "stream",
     "text": [
      "6392\n",
      "(6392, 256, 256, 3)\n",
      "(6392, 4)\n"
     ]
    }
   ],
   "source": [
    "print(len(data_indices))\n",
    "print(input_images.shape)\n",
    "print(output_labels.shape)"
   ]
  },
  {
   "cell_type": "code",
   "execution_count": 13,
   "metadata": {},
   "outputs": [
    {
     "data": {
      "text/plain": [
       "15"
      ]
     },
     "execution_count": 13,
     "metadata": {},
     "output_type": "execute_result"
    }
   ],
   "source": [
    "gc.collect()"
   ]
  },
  {
   "cell_type": "code",
   "execution_count": 14,
   "metadata": {},
   "outputs": [],
   "source": [
    "data_indices, input_images, output_labels = shuffle(data_indices, input_images, output_labels, random_state=4574)"
   ]
  },
  {
   "cell_type": "code",
   "execution_count": 15,
   "metadata": {},
   "outputs": [],
   "source": [
    "N_TRAIN = int(input_images.shape[0]*.7)\n",
    "train_input = input_images[:N_TRAIN, ...]\n",
    "train_label = output_labels[:N_TRAIN, ...]\n",
    "train_index = data_indices[:N_TRAIN]\n",
    "val_input = input_images[N_TRAIN:, ...]\n",
    "val_label = output_labels[N_TRAIN:, ...]\n",
    "val_index = data_indices[N_TRAIN:]"
   ]
  },
  {
   "cell_type": "code",
   "execution_count": 16,
   "metadata": {},
   "outputs": [],
   "source": [
    "datagen = ImageDataGenerator(\n",
    "    rescale=1/255,\n",
    "    width_shift_range=0.1,\n",
    "    height_shift_range=0.1,\n",
    "    horizontal_flip=True,\n",
    "    fill_mode='nearest')"
   ]
  },
  {
   "cell_type": "code",
   "execution_count": 17,
   "metadata": {},
   "outputs": [],
   "source": [
    "train_iterator = datagen.flow(train_input, train_label, batch_size=BATCH_SIZE)\n",
    "val_iterator = datagen.flow(val_input, val_label, batch_size=BATCH_SIZE)"
   ]
  },
  {
   "cell_type": "code",
   "execution_count": 18,
   "metadata": {},
   "outputs": [
    {
     "name": "stdout",
     "output_type": "stream",
     "text": [
      "number of training set: 4474\n",
      "number of validation set: 1918\n"
     ]
    }
   ],
   "source": [
    "print(f'number of training set: {train_input.shape[0]}')\n",
    "print(f'number of validation set: {val_input.shape[0]}')"
   ]
  },
  {
   "cell_type": "code",
   "execution_count": 19,
   "metadata": {},
   "outputs": [
    {
     "data": {
      "text/plain": [
       "0"
      ]
     },
     "execution_count": 19,
     "metadata": {},
     "output_type": "execute_result"
    }
   ],
   "source": [
    "gc.collect()"
   ]
  },
  {
   "cell_type": "markdown",
   "metadata": {},
   "source": [
    "# Model construction"
   ]
  },
  {
   "cell_type": "code",
   "execution_count": 20,
   "metadata": {},
   "outputs": [],
   "source": [
    "class ResidualBlock(layers.Layer):\n",
    "    def __init__(self, num_filter, stride=1):\n",
    "        super(ResidualBlock, self).__init__()\n",
    "        self.n = num_filter\n",
    "        self.s = stride\n",
    "        \n",
    "        self.conv1 = layers.Conv2D(filters=self.n, kernel_size=1, strides=1, kernel_initializer='glorot_normal', padding='same')\n",
    "        self.norm1 = layers.BatchNormalization()\n",
    "        self.act1 = layers.Activation(activations.relu)\n",
    "        self.conv2 = layers.Conv2D(filters=self.n, kernel_size=3, strides=stride, kernel_initializer='glorot_normal', padding='same')\n",
    "        self.norm2 = layers.BatchNormalization()\n",
    "        self.act2 = layers.Activation(activations.relu)\n",
    "        self.conv3 = layers.Conv2D(filters=self.n*4, kernel_size=1, strides=1, kernel_initializer='glorot_normal', padding='same')\n",
    "        self.norm3 = layers.BatchNormalization()\n",
    "        self.act3 = layers.Activation(activations.relu)\n",
    "\n",
    "        self.downsample = Sequential()\n",
    "        self.downsample.add(layers.Conv2D(filters=self.n*4, kernel_size=1, strides=stride, kernel_initializer='glorot_normal'))\n",
    "        self.downsample.add(layers.BatchNormalization())\n",
    "\n",
    "    def call(self, inp, training=None, **kwargs):\n",
    "        shortcut = self.downsample(inp)\n",
    "\n",
    "        inp = self.act1(self.norm1(self.conv1(inp), training=training))\n",
    "        inp = self.act2(self.norm2(self.conv2(inp), training=training))\n",
    "        inp = self.norm3(self.conv3(inp), training=training)\n",
    "\n",
    "        oup = self.act3(layers.add([shortcut, inp]))\n",
    "\n",
    "        return oup"
   ]
  },
  {
   "cell_type": "code",
   "execution_count": 21,
   "metadata": {},
   "outputs": [],
   "source": [
    "def block_maker(num_filter, num_blocks, stride=1):\n",
    "    res_block = tf.keras.Sequential()\n",
    "    res_block.add(ResidualBlock(num_filter, stride=stride))\n",
    "\n",
    "    for _ in range(1, num_blocks):\n",
    "        res_block.add(ResidualBlock(num_filter, stride=1))\n",
    "\n",
    "    return res_block"
   ]
  },
  {
   "cell_type": "code",
   "execution_count": 22,
   "metadata": {},
   "outputs": [],
   "source": [
    "class ResNet2D(Model):\n",
    "    def __init__(self, layer_params):\n",
    "        super(ResNet2D, self).__init__()\n",
    "        self.conv1 = layers.Conv2D(filters=64, kernel_size=7, strides=2, kernel_initializer='glorot_normal', padding=\"same\")\n",
    "        self.norm1 = layers.BatchNormalization()\n",
    "        self.act1 = layers.Activation(activations.relu)\n",
    "        self.pool1 = layers.MaxPool2D(pool_size=(3, 3), strides=2, padding=\"same\")\n",
    "\n",
    "        self.layer1 = block_maker(num_filter=64, num_blocks=layer_params[0])\n",
    "        self.layer2 = block_maker(num_filter=128, num_blocks=layer_params[1], stride=2)\n",
    "        self.layer3 = block_maker(num_filter=256, num_blocks=layer_params[2], stride=2)\n",
    "        self.layer4 = block_maker(num_filter=512, num_blocks=layer_params[3], stride=2)\n",
    "\n",
    "#         self.flat = layers.Flatten()\n",
    "        self.avgpool = layers.GlobalAveragePooling2D()\n",
    "        self.out_norm1 = layers.BatchNormalization()\n",
    "        self.dropout = layers.Dropout(0.2)\n",
    "        self.dense1 = layers.Dense(512)\n",
    "        self.out_norm2 = layers.BatchNormalization()\n",
    "        self.dense2 = layers.Dense(128)\n",
    "        self.out_norm3 = layers.BatchNormalization()\n",
    "        self.fc = layers.Dense(4)\n",
    "\n",
    "\n",
    "    def call(self, inp, training=None, mask=None):\n",
    "        inp = self.conv1(inp)\n",
    "        inp = self.norm1(inp, training=training)\n",
    "        inp = self.act1(inp)\n",
    "        inp = self.pool1(inp)\n",
    "        inp = self.layer1(inp, training=training)\n",
    "        inp = self.layer2(inp, training=training)\n",
    "        inp = self.layer3(inp, training=training)\n",
    "        inp = self.layer4(inp, training=training)\n",
    "        \n",
    "#         inp = self.dense1(self.flat(inp))\n",
    "        inp = self.avgpool(inp)\n",
    "        inp = self.out_norm1(inp)\n",
    "        inp = self.dropout(inp)\n",
    "        inp = self.dense1(inp)\n",
    "        inp = self.out_norm2(inp)\n",
    "        inp = self.dense2(inp)\n",
    "        inp = self.out_norm3(inp)\n",
    "        output = self.fc(inp)\n",
    "\n",
    "        return output"
   ]
  },
  {
   "cell_type": "code",
   "execution_count": 23,
   "metadata": {},
   "outputs": [],
   "source": [
    "model = ResNet2D(layer_params=[2, 3, 2, 1])"
   ]
  },
  {
   "cell_type": "code",
   "execution_count": 24,
   "metadata": {},
   "outputs": [],
   "source": [
    "cbs = callbacks.ReduceLROnPlateau(\n",
    "    monitor='val_loss', factor=.2, patience=5, verbose=0, mode='auto',\n",
    "    min_delta=0.0001, cooldown=0, min_lr=0)\n",
    "\n",
    "sv = callbacks.ModelCheckpoint(\n",
    "    BEST_PATH, monitor='val_loss', verbose=1,\n",
    "    save_best_only=True, save_weights_only=True, mode='min', save_freq='epoch')\n",
    "\n",
    "es = callbacks.EarlyStopping(monitor='val_loss', min_delta=0.0001, patience=5) "
   ]
  },
  {
   "cell_type": "code",
   "execution_count": 25,
   "metadata": {
    "scrolled": true
   },
   "outputs": [
    {
     "name": "stdout",
     "output_type": "stream",
     "text": [
      "Epoch 1/200\n",
      "140/140 [==============================] - ETA: 0s - loss: 0.3234\n",
      "Epoch 00001: val_loss improved from inf to 0.27964, saving model to ./models/pg_convnet.h5\n",
      "140/140 [==============================] - 83s 596ms/step - loss: 0.3234 - val_loss: 0.2796\n",
      "Epoch 2/200\n",
      "140/140 [==============================] - ETA: 0s - loss: 0.0639\n",
      "Epoch 00002: val_loss improved from 0.27964 to 0.21874, saving model to ./models/pg_convnet.h5\n",
      "140/140 [==============================] - 81s 581ms/step - loss: 0.0639 - val_loss: 0.2187\n",
      "Epoch 3/200\n",
      "140/140 [==============================] - ETA: 0s - loss: 0.0616\n",
      "Epoch 00003: val_loss did not improve from 0.21874\n",
      "140/140 [==============================] - 81s 581ms/step - loss: 0.0616 - val_loss: 0.2394\n",
      "Epoch 4/200\n",
      "140/140 [==============================] - ETA: 0s - loss: 0.0576\n",
      "Epoch 00004: val_loss improved from 0.21874 to 0.05092, saving model to ./models/pg_convnet.h5\n",
      "140/140 [==============================] - 81s 579ms/step - loss: 0.0576 - val_loss: 0.0509\n",
      "Epoch 5/200\n",
      "140/140 [==============================] - ETA: 0s - loss: 0.0581\n",
      "Epoch 00005: val_loss did not improve from 0.05092\n",
      "140/140 [==============================] - 81s 580ms/step - loss: 0.0581 - val_loss: 0.0620\n",
      "Epoch 6/200\n",
      "140/140 [==============================] - ETA: 0s - loss: 0.0529\n",
      "Epoch 00006: val_loss did not improve from 0.05092\n",
      "140/140 [==============================] - 81s 577ms/step - loss: 0.0529 - val_loss: 0.0842\n",
      "Epoch 7/200\n",
      "140/140 [==============================] - ETA: 0s - loss: 0.0535\n",
      "Epoch 00007: val_loss did not improve from 0.05092\n",
      "140/140 [==============================] - 81s 579ms/step - loss: 0.0535 - val_loss: 0.0771\n",
      "Epoch 8/200\n",
      "140/140 [==============================] - ETA: 0s - loss: 0.0532\n",
      "Epoch 00008: val_loss improved from 0.05092 to 0.03601, saving model to ./models/pg_convnet.h5\n",
      "140/140 [==============================] - 82s 585ms/step - loss: 0.0532 - val_loss: 0.0360\n",
      "Epoch 9/200\n",
      "140/140 [==============================] - ETA: 0s - loss: 0.0517\n",
      "Epoch 00009: val_loss did not improve from 0.03601\n",
      "140/140 [==============================] - 81s 582ms/step - loss: 0.0517 - val_loss: 0.0485\n",
      "Epoch 10/200\n",
      "140/140 [==============================] - ETA: 0s - loss: 0.0540\n",
      "Epoch 00010: val_loss did not improve from 0.03601\n",
      "140/140 [==============================] - 81s 581ms/step - loss: 0.0540 - val_loss: 0.0615\n",
      "Epoch 11/200\n",
      "140/140 [==============================] - ETA: 0s - loss: 0.0537\n",
      "Epoch 00011: val_loss did not improve from 0.03601\n",
      "140/140 [==============================] - 82s 583ms/step - loss: 0.0537 - val_loss: 0.1929\n",
      "Epoch 12/200\n",
      "140/140 [==============================] - ETA: 0s - loss: 0.0492\n",
      "Epoch 00012: val_loss did not improve from 0.03601\n",
      "140/140 [==============================] - 81s 581ms/step - loss: 0.0492 - val_loss: 0.1109\n",
      "Epoch 13/200\n",
      "140/140 [==============================] - ETA: 0s - loss: 0.0528\n",
      "Epoch 00013: val_loss did not improve from 0.03601\n",
      "140/140 [==============================] - 81s 582ms/step - loss: 0.0528 - val_loss: 0.0861\n"
     ]
    },
    {
     "data": {
      "text/plain": [
       "<tensorflow.python.keras.callbacks.History at 0x7fb49bd8bdd8>"
      ]
     },
     "execution_count": 25,
     "metadata": {},
     "output_type": "execute_result"
    }
   ],
   "source": [
    "opt = optimizers.Adam(learning_rate=LEARNING_RATE, epsilon=EPSILON)\n",
    "model.compile(optimizer=opt, loss='mae')\n",
    "model.fit(train_iterator, epochs=TRAINING_EPOCHS, validation_data=val_iterator,\n",
    "              verbose=1, callbacks=[cbs, sv, es]) "
   ]
  },
  {
   "cell_type": "code",
   "execution_count": 26,
   "metadata": {},
   "outputs": [],
   "source": [
    "model.load_weights(BEST_PATH)"
   ]
  },
  {
   "cell_type": "code",
   "execution_count": 27,
   "metadata": {},
   "outputs": [
    {
     "name": "stdout",
     "output_type": "stream",
     "text": [
      "60/60 [==============================] - 24s 406ms/step - loss: 0.0360\n"
     ]
    },
    {
     "data": {
      "text/plain": [
       "0.03597453609108925"
      ]
     },
     "execution_count": 27,
     "metadata": {},
     "output_type": "execute_result"
    }
   ],
   "source": [
    "model.evaluate(val_iterator)"
   ]
  },
  {
   "cell_type": "code",
   "execution_count": 28,
   "metadata": {},
   "outputs": [],
   "source": [
    "del(train_index)\n",
    "del(train_input)\n",
    "del(train_iterator)\n",
    "del(train_label)"
   ]
  },
  {
   "cell_type": "code",
   "execution_count": 29,
   "metadata": {},
   "outputs": [
    {
     "data": {
      "text/plain": [
       "8"
      ]
     },
     "execution_count": 29,
     "metadata": {},
     "output_type": "execute_result"
    }
   ],
   "source": [
    "gc.collect()"
   ]
  },
  {
   "cell_type": "code",
   "execution_count": 30,
   "metadata": {},
   "outputs": [],
   "source": [
    "pred_result = model.predict(val_input/255)"
   ]
  },
  {
   "cell_type": "code",
   "execution_count": 31,
   "metadata": {},
   "outputs": [
    {
     "name": "stdout",
     "output_type": "stream",
     "text": [
      "(1918, 4)\n",
      "(1918, 4)\n"
     ]
    }
   ],
   "source": [
    "print(pred_result.shape)\n",
    "print(val_label.shape)"
   ]
  },
  {
   "cell_type": "code",
   "execution_count": 32,
   "metadata": {},
   "outputs": [],
   "source": [
    "val_label = (OUTPUT_MAXS - OUTPUT_MINS)*val_label + OUTPUT_MINS\n",
    "pred_result = (OUTPUT_MAXS - OUTPUT_MINS)*pred_result + OUTPUT_MINS"
   ]
  },
  {
   "cell_type": "code",
   "execution_count": 33,
   "metadata": {},
   "outputs": [],
   "source": [
    "pred_df = pd.DataFrame(np.concatenate([val_label, pred_result], axis=1), index=val_index)\n",
    "pred_df.columns = ['label_node_len', 'label_node_dia', 'label_plant_h', 'label_leaf_area', 'pred_node_len', 'pred_node_dia', 'pred_plant_h', 'pred_leaf_area']"
   ]
  },
  {
   "cell_type": "code",
   "execution_count": 34,
   "metadata": {},
   "outputs": [],
   "source": [
    "pred_df.to_csv('./results/model_output/pg_pred_result.csv')"
   ]
  },
  {
   "cell_type": "code",
   "execution_count": 35,
   "metadata": {
    "jupyter": {
     "source_hidden": true
    },
    "tags": []
   },
   "outputs": [
    {
     "data": {
      "image/png": "[encoded data removed]",
      "text/plain": [
       "<Figure size 498.898x374.173 with 4 Axes>"
      ]
     },
     "metadata": {},
     "output_type": "display_data"
    }
   ],
   "source": [
    "fig = plt.figure(figsize=((8/2.54*2.2), (6/2.54*2.2)))\n",
    "grid = plt.GridSpec(2, 2)\n",
    "\n",
    "ax0 = plt.subplot(grid[0])\n",
    "ax1 = plt.subplot(grid[1])\n",
    "ax2 = plt.subplot(grid[2])\n",
    "ax3 = plt.subplot(grid[3])\n",
    "\n",
    "ax0.spines['right'].set_visible(False)\n",
    "ax0.spines['left'].set_position(('outward', 10))\n",
    "ax0.spines['bottom'].set_position(('outward', 5))\n",
    "ax1.spines['right'].set_visible(False)\n",
    "ax1.spines['left'].set_position(('outward', 10))\n",
    "ax1.spines['bottom'].set_position(('outward', 5))\n",
    "ax2.spines['right'].set_visible(False)\n",
    "ax2.spines['left'].set_position(('outward', 10))\n",
    "ax2.spines['bottom'].set_position(('outward', 5))\n",
    "ax3.spines['right'].set_visible(False)\n",
    "ax3.spines['left'].set_position(('outward', 10))\n",
    "ax3.spines['bottom'].set_position(('outward', 5))\n",
    "\n",
    "ax0.plot(pred_df['label_node_len'], pred_df['pred_node_len'], 'o', ms=5, mec='k', c=cmap[3])\n",
    "ax1.plot(pred_df['label_node_dia'], pred_df['pred_node_dia'], 'o', ms=5, mec='k', c=cmap[3])\n",
    "ax2.plot(pred_df['label_plant_h'], pred_df['pred_plant_h'], 'o', ms=5, mec='k', c=cmap[3])\n",
    "ax3.plot(pred_df['label_leaf_area'], pred_df['pred_leaf_area'], 'o', ms=5, mec='k', c=cmap[3])\n",
    "\n",
    "ax0.xaxis.set_major_locator(LinearLocator(8))\n",
    "ax0.xaxis.set_minor_locator(LinearLocator(15))\n",
    "ax0.yaxis.set_major_locator(LinearLocator(8))\n",
    "ax0.yaxis.set_minor_locator(LinearLocator(15))\n",
    "ax0.set_xbound(1, 8)\n",
    "ax0.set_ybound(1, 8)\n",
    "ax1.xaxis.set_major_locator(LinearLocator(8))\n",
    "ax1.xaxis.set_minor_locator(LinearLocator(15))\n",
    "ax1.yaxis.set_major_locator(LinearLocator(8))\n",
    "ax1.yaxis.set_minor_locator(LinearLocator(15))\n",
    "ax1.set_xbound(6, 13)\n",
    "ax1.set_ybound(6, 13)\n",
    "ax2.xaxis.set_major_locator(LinearLocator(7))\n",
    "ax2.xaxis.set_minor_locator(LinearLocator(13))\n",
    "ax2.yaxis.set_major_locator(LinearLocator(7))\n",
    "ax2.yaxis.set_minor_locator(LinearLocator(13))\n",
    "ax2.set_xbound(0, 240)\n",
    "ax2.set_ybound(0, 240)\n",
    "ax3.xaxis.set_major_locator(LinearLocator(6))\n",
    "ax3.xaxis.set_minor_locator(LinearLocator(16))\n",
    "ax3.yaxis.set_major_locator(LinearLocator(6))\n",
    "ax3.yaxis.set_minor_locator(LinearLocator(16))\n",
    "ax3.set_xbound(0, 1.5)\n",
    "ax3.set_ybound(0, 1.5)\n",
    "\n",
    "ax0.set_xlabel('Measured node length (cm)')\n",
    "ax0.set_ylabel('Estimated node length (cm)')\n",
    "ax1.set_xlabel('Measured node diameter (mm)')\n",
    "ax1.set_ylabel('Estimated node diameter (mm)')\n",
    "ax2.set_xlabel('Measured plant height (cm)')\n",
    "ax2.set_ylabel('Estimated plant height (cm)')\n",
    "ax3.set_xlabel('Measured leaf area ($m^2$)')\n",
    "ax3.set_ylabel('Estimated leaf area ($m^2$)')\n",
    "\n",
    "fig.tight_layout()\n",
    "plt.show()"
   ]
  }
 ],
 "metadata": {
  "kernelspec": {
   "display_name": "Environment (conda_tensorflow2_p36)",
   "language": "python",
   "name": "conda_tensorflow2_p36"
  },
  "language_info": {
   "codemirror_mode": {
    "name": "ipython",
    "version": 3
   },
   "file_extension": ".py",
   "mimetype": "text/x-python",
   "name": "python",
   "nbconvert_exporter": "python",
   "pygments_lexer": "ipython3",
   "version": "3.6.10"
  }
 },
 "nbformat": 4,
 "nbformat_minor": 4
}
