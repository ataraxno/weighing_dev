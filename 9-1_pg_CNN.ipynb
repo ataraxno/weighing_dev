{
 "cells": [
  {
   "cell_type": "code",
   "execution_count": 1,
   "metadata": {},
   "outputs": [
    {
     "data": {
      "text/plain": [
       "'2.3.0'"
      ]
     },
     "execution_count": 1,
     "metadata": {},
     "output_type": "execute_result"
    }
   ],
   "source": [
    "import time\n",
    "import os\n",
    "import gc\n",
    "\n",
    "import pandas as pd\n",
    "import numpy as np\n",
    "from sklearn import linear_model\n",
    "from sklearn.utils import shuffle, resample\n",
    "from sklearn.metrics import mean_squared_error, r2_score\n",
    "np.set_printoptions(precision=6, suppress=True)\n",
    "\n",
    "import PIL\n",
    "from PIL import Image\n",
    "\n",
    "import tensorflow as tf\n",
    "from tensorflow.keras import *\n",
    "from tensorflow.keras.preprocessing.image import ImageDataGenerator, array_to_img, img_to_array, load_img\n",
    "tf.__version__"
   ]
  },
  {
   "cell_type": "code",
   "execution_count": 2,
   "metadata": {},
   "outputs": [
    {
     "name": "stdout",
     "output_type": "stream",
     "text": [
      "1 Physical GPUs, 1 Logical GPUs\n"
     ]
    }
   ],
   "source": [
    "gpus = tf.config.experimental.list_physical_devices('GPU')\n",
    "if gpus:\n",
    "    try:\n",
    "        for gpu in gpus:\n",
    "            tf.config.experimental.set_memory_growth(gpu, True)\n",
    "        logical_gpus = tf.config.experimental.list_logical_devices('GPU')\n",
    "        print(len(gpus), \"Physical GPUs,\", len(logical_gpus), \"Logical GPUs\")\n",
    "    except RuntimeError as e:\n",
    "        print(e)"
   ]
  },
  {
   "cell_type": "code",
   "execution_count": 3,
   "metadata": {},
   "outputs": [
    {
     "name": "stdout",
     "output_type": "stream",
     "text": [
      "INFO:tensorflow:Using MirroredStrategy with devices ('/job:localhost/replica:0/task:0/device:GPU:0',)\n"
     ]
    }
   ],
   "source": [
    "strategy = tf.distribute.MirroredStrategy()"
   ]
  },
  {
   "cell_type": "markdown",
   "metadata": {},
   "source": [
    "# Hyperparameters"
   ]
  },
  {
   "cell_type": "code",
   "execution_count": 4,
   "metadata": {},
   "outputs": [],
   "source": [
    "BEST_PATH = './models/pg_convnet.h5'\n",
    "TRAINING_EPOCHS = 200\n",
    "LEARNING_RATE = 0.001\n",
    "EPSILON = 1e-08\n",
    "BATCH_SIZE = 128"
   ]
  },
  {
   "cell_type": "markdown",
   "metadata": {},
   "source": [
    "# Data preparation"
   ]
  },
  {
   "cell_type": "code",
   "execution_count": 5,
   "metadata": {},
   "outputs": [],
   "source": [
    "l = np.load('./results/pg_dataset.npz', allow_pickle=True)\n",
    "data_indices_2020S = l['data_indices_2020S']\n",
    "output_label_2020S = l['output_label_2020S']\n",
    "data_indices_2020W = l['data_indices_2020W']\n",
    "output_label_2020W = l['output_label_2020W']\n",
    "OUTPUT_MAXS = l['OUTPUT_MAXS']\n",
    "OUTPUT_MINS = l['OUTPUT_MINS']"
   ]
  },
  {
   "cell_type": "code",
   "execution_count": 6,
   "metadata": {},
   "outputs": [],
   "source": [
    "COLUMNS = ['node_len', 'node_dia', 'plant_h', 'leaf_area']"
   ]
  },
  {
   "cell_type": "code",
   "execution_count": 7,
   "metadata": {},
   "outputs": [],
   "source": [
    "output_2020S_df = pd.DataFrame(output_label_2020S, index=data_indices_2020S, columns=COLUMNS)\n",
    "output_2020W_df = pd.DataFrame(output_label_2020W, index=data_indices_2020W, columns=COLUMNS)"
   ]
  },
  {
   "cell_type": "code",
   "execution_count": 8,
   "metadata": {},
   "outputs": [],
   "source": [
    "DIRECTORY = './images/2020_S/'\n",
    "dir_list = os.listdir(DIRECTORY)\n",
    "dataset_list = [direc for direc in dir_list if direc.startswith('LAI_OVER') or direc.startswith('LAI2_OVER')]\n",
    "dataset_list.sort()"
   ]
  },
  {
   "cell_type": "code",
   "execution_count": 9,
   "metadata": {},
   "outputs": [],
   "source": [
    "data_indices = []\n",
    "input_images = []\n",
    "output_labels = []\n",
    "for DATE in output_2020S_df.index:\n",
    "    for DIRECTORY in dataset_list:\n",
    "        if DATE in DIRECTORY:\n",
    "            file_list = os.listdir(f'./images/2020_S/{DIRECTORY}')\n",
    "            file_list = [file for file in file_list if file.endswith('.jpg')]\n",
    "            for FILE in file_list:\n",
    "                TIME = pd.Timedelta(FILE.split()[-1].split('.')[0])\n",
    "                if TIME >= pd.Timedelta('08:00:00') and TIME <= pd.Timedelta('16:00:00'):\n",
    "                    image = Image.open(f'./images/2020_S/{DIRECTORY}/{FILE}')\n",
    "                    data_indices.append(pd.Timestamp(DATE))\n",
    "                    input_images.append(img_to_array(image))\n",
    "                    output_labels.append(output_2020S_df.loc[DATE].values)"
   ]
  },
  {
   "cell_type": "code",
   "execution_count": 10,
   "metadata": {},
   "outputs": [],
   "source": [
    "input_images = np.stack(input_images, axis=0)\n",
    "output_labels = np.stack(output_labels, axis=0)\n",
    "data_indices = np.array(data_indices)"
   ]
  },
  {
   "cell_type": "code",
   "execution_count": 11,
   "metadata": {},
   "outputs": [
    {
     "name": "stdout",
     "output_type": "stream",
     "text": [
      "6392\n",
      "(6392, 256, 256, 3)\n",
      "(6392, 4)\n"
     ]
    }
   ],
   "source": [
    "print(len(data_indices))\n",
    "print(input_images.shape)\n",
    "print(output_labels.shape)"
   ]
  },
  {
   "cell_type": "code",
   "execution_count": 12,
   "metadata": {},
   "outputs": [
    {
     "data": {
      "text/plain": [
       "22"
      ]
     },
     "execution_count": 12,
     "metadata": {},
     "output_type": "execute_result"
    }
   ],
   "source": [
    "gc.collect()"
   ]
  },
  {
   "cell_type": "code",
   "execution_count": 13,
   "metadata": {},
   "outputs": [],
   "source": [
    "data_indices, input_images, output_labels = shuffle(data_indices, input_images, output_labels, random_state=4574)"
   ]
  },
  {
   "cell_type": "code",
   "execution_count": 14,
   "metadata": {},
   "outputs": [],
   "source": [
    "N_TRAIN = int(input_images.shape[0]*.7)\n",
    "train_input = input_images[:N_TRAIN, ...]\n",
    "train_label = output_labels[:N_TRAIN, ...]\n",
    "train_index = data_indices[:N_TRAIN]\n",
    "val_input = input_images[N_TRAIN:, ...]\n",
    "val_label = output_labels[N_TRAIN:, ...]\n",
    "val_index = data_indices[N_TRAIN:]"
   ]
  },
  {
   "cell_type": "code",
   "execution_count": 15,
   "metadata": {},
   "outputs": [],
   "source": [
    "datagen = ImageDataGenerator(\n",
    "    rescale=1/255,\n",
    "    width_shift_range=0.1,\n",
    "    height_shift_range=0.1,\n",
    "    horizontal_flip=True,\n",
    "    fill_mode='nearest')"
   ]
  },
  {
   "cell_type": "code",
   "execution_count": 16,
   "metadata": {},
   "outputs": [],
   "source": [
    "train_iterator = datagen.flow(train_input, train_label, batch_size=BATCH_SIZE)\n",
    "val_iterator = datagen.flow(val_input, val_label, batch_size=BATCH_SIZE)"
   ]
  },
  {
   "cell_type": "code",
   "execution_count": 17,
   "metadata": {},
   "outputs": [
    {
     "name": "stdout",
     "output_type": "stream",
     "text": [
      "number of training set: 6392\n",
      "number of validation set: 1918\n"
     ]
    }
   ],
   "source": [
    "print(f'number of training set: {input_images.shape[0]}')\n",
    "print(f'number of validation set: {val_input.shape[0]}')"
   ]
  },
  {
   "cell_type": "code",
   "execution_count": 18,
   "metadata": {},
   "outputs": [
    {
     "data": {
      "text/plain": [
       "0"
      ]
     },
     "execution_count": 18,
     "metadata": {},
     "output_type": "execute_result"
    }
   ],
   "source": [
    "gc.collect()"
   ]
  },
  {
   "cell_type": "markdown",
   "metadata": {},
   "source": [
    "# Model construction"
   ]
  },
  {
   "cell_type": "code",
   "execution_count": 19,
   "metadata": {},
   "outputs": [],
   "source": [
    "class ResidualBlock(layers.Layer):\n",
    "    def __init__(self, num_filter, stride=1):\n",
    "        super(ResidualBlock, self).__init__()\n",
    "        self.n = num_filter\n",
    "        self.s = stride\n",
    "        \n",
    "        self.conv1 = layers.Conv2D(filters=self.n, kernel_size=1, strides=1, kernel_initializer='glorot_normal', padding='same')\n",
    "        self.norm1 = layers.BatchNormalization()\n",
    "        self.act1 = layers.Activation(activations.relu)\n",
    "        self.conv2 = layers.Conv2D(filters=self.n, kernel_size=3, strides=stride, kernel_initializer='glorot_normal', padding='same')\n",
    "        self.norm2 = layers.BatchNormalization()\n",
    "        self.act2 = layers.Activation(activations.relu)\n",
    "        self.conv3 = layers.Conv2D(filters=self.n*4, kernel_size=1, strides=1, kernel_initializer='glorot_normal', padding='same')\n",
    "        self.norm3 = layers.BatchNormalization()\n",
    "        self.act3 = layers.Activation(activations.relu)\n",
    "\n",
    "        self.downsample = Sequential()\n",
    "        self.downsample.add(layers.Conv2D(filters=self.n*4, kernel_size=1, strides=stride, kernel_initializer='glorot_normal'))\n",
    "        self.downsample.add(layers.BatchNormalization())\n",
    "\n",
    "    def call(self, inp, training=None, **kwargs):\n",
    "        shortcut = self.downsample(inp)\n",
    "\n",
    "        inp = self.act1(self.norm1(self.conv1(inp), training=training))\n",
    "        inp = self.act2(self.norm2(self.conv2(inp), training=training))\n",
    "        inp = self.norm3(self.conv3(inp), training=training)\n",
    "\n",
    "        oup = self.act3(layers.add([shortcut, inp]))\n",
    "\n",
    "        return oup"
   ]
  },
  {
   "cell_type": "code",
   "execution_count": 20,
   "metadata": {},
   "outputs": [],
   "source": [
    "def block_maker(num_filter, num_blocks, stride=1):\n",
    "    res_block = tf.keras.Sequential()\n",
    "    res_block.add(ResidualBlock(num_filter, stride=stride))\n",
    "\n",
    "    for _ in range(1, num_blocks):\n",
    "        res_block.add(ResidualBlock(num_filter, stride=1))\n",
    "\n",
    "    return res_block"
   ]
  },
  {
   "cell_type": "code",
   "execution_count": 21,
   "metadata": {},
   "outputs": [],
   "source": [
    "class ResNet2D(Model):\n",
    "    def __init__(self, layer_params):\n",
    "        super(ResNet2D, self).__init__()\n",
    "        self.conv1 = layers.Conv2D(filters=64, kernel_size=7, strides=2, kernel_initializer='glorot_normal', padding=\"same\")\n",
    "        self.norm1 = layers.BatchNormalization()\n",
    "        self.act1 = layers.Activation(activations.relu)\n",
    "        self.pool1 = layers.MaxPool2D(pool_size=(3, 3), strides=2, padding=\"same\")\n",
    "\n",
    "        self.layer1 = block_maker(num_filter=64, num_blocks=layer_params[0])\n",
    "        self.layer2 = block_maker(num_filter=128, num_blocks=layer_params[1], stride=2)\n",
    "        self.layer3 = block_maker(num_filter=256, num_blocks=layer_params[2], stride=2)\n",
    "        self.layer4 = block_maker(num_filter=512, num_blocks=layer_params[3], stride=2)\n",
    "\n",
    "        self.flat = layers.Flatten()\n",
    "        self.dense1 = layers.Dense(units=512, activation='relu')\n",
    "        self.dense2 = layers.Dense(units=128, activation='relu')\n",
    "        self.fc = layers.Dense(units=4)\n",
    "\n",
    "    def call(self, inp, training=None, mask=None):\n",
    "        inp = self.conv1(inp)\n",
    "        inp = self.norm1(inp, training=training)\n",
    "        inp = self.act1(inp)\n",
    "        inp = self.pool1(inp)\n",
    "        inp = self.layer1(inp, training=training)\n",
    "        inp = self.layer2(inp, training=training)\n",
    "        inp = self.layer3(inp, training=training)\n",
    "        inp = self.layer4(inp, training=training)\n",
    "        inp = self.dense1(self.flat(inp))\n",
    "        inp = self.dense2(inp)\n",
    "        output = self.fc(inp)\n",
    "\n",
    "        return output"
   ]
  },
  {
   "cell_type": "code",
   "execution_count": 22,
   "metadata": {},
   "outputs": [],
   "source": [
    "with strategy.scope():\n",
    "    model = ResNet2D(layer_params=[2, 3, 2, 1])"
   ]
  },
  {
   "cell_type": "code",
   "execution_count": 23,
   "metadata": {},
   "outputs": [],
   "source": [
    "cbs = callbacks.ReduceLROnPlateau(\n",
    "    monitor='val_loss', factor=.1, patience=5, verbose=0, mode='auto',\n",
    "    min_delta=0.0001, cooldown=0, min_lr=0)\n",
    "\n",
    "save = callbacks.ModelCheckpoint(\n",
    "    BEST_PATH, monitor='val_loss', verbose=0,\n",
    "    save_best_only=True, save_weights_only=True, mode='min', save_freq='epoch')\n",
    "\n",
    "early_stop = callbacks.EarlyStopping(monitor='val_loss', min_delta=0.0001, patience=20) "
   ]
  },
  {
   "cell_type": "code",
   "execution_count": 24,
   "metadata": {
    "scrolled": true
   },
   "outputs": [
    {
     "name": "stdout",
     "output_type": "stream",
     "text": [
      "WARNING:tensorflow:Using MirroredStrategy eagerly has significant overhead currently. We will be working on improving this in the future, but for now please wrap `call_for_each_replica` or `experimental_run` or `experimental_run_v2` inside a tf.function to get the best performance.\n",
      "Epoch 1/200\n",
      "WARNING:tensorflow:From /home/ubuntu/anaconda3/envs/tensorflow2_p36/lib/python3.6/site-packages/tensorflow/python/data/ops/multi_device_iterator_ops.py:601: get_next_as_optional (from tensorflow.python.data.ops.iterator_ops) is deprecated and will be removed in a future version.\n",
      "Instructions for updating:\n",
      "Use `tf.data.Iterator.get_next_as_optional()` instead.\n",
      "INFO:tensorflow:Reduce to /job:localhost/replica:0/task:0/device:CPU:0 then broadcast to ('/job:localhost/replica:0/task:0/device:CPU:0',).\n",
      "INFO:tensorflow:Reduce to /job:localhost/replica:0/task:0/device:CPU:0 then broadcast to ('/job:localhost/replica:0/task:0/device:CPU:0',).\n",
      "INFO:tensorflow:Reduce to /job:localhost/replica:0/task:0/device:CPU:0 then broadcast to ('/job:localhost/replica:0/task:0/device:CPU:0',).\n",
      "INFO:tensorflow:Reduce to /job:localhost/replica:0/task:0/device:CPU:0 then broadcast to ('/job:localhost/replica:0/task:0/device:CPU:0',).\n",
      " 2/35 [>.............................] - ETA: 10s - loss: 110.2651WARNING:tensorflow:Callbacks method `on_train_batch_end` is slow compared to the batch time (batch time: 0.2187s vs `on_train_batch_end` time: 0.4324s). Check your callbacks.\n",
      "35/35 [==============================] - ETA: 0s - loss: 10.2821INFO:tensorflow:Reduce to /job:localhost/replica:0/task:0/device:CPU:0 then broadcast to ('/job:localhost/replica:0/task:0/device:CPU:0',).\n",
      "INFO:tensorflow:Reduce to /job:localhost/replica:0/task:0/device:CPU:0 then broadcast to ('/job:localhost/replica:0/task:0/device:CPU:0',).\n",
      "INFO:tensorflow:Reduce to /job:localhost/replica:0/task:0/device:CPU:0 then broadcast to ('/job:localhost/replica:0/task:0/device:CPU:0',).\n",
      "INFO:tensorflow:Reduce to /job:localhost/replica:0/task:0/device:CPU:0 then broadcast to ('/job:localhost/replica:0/task:0/device:CPU:0',).\n",
      "INFO:tensorflow:Reduce to /job:localhost/replica:0/task:0/device:CPU:0 then broadcast to ('/job:localhost/replica:0/task:0/device:CPU:0',).\n",
      "INFO:tensorflow:Reduce to /job:localhost/replica:0/task:0/device:CPU:0 then broadcast to ('/job:localhost/replica:0/task:0/device:CPU:0',).\n",
      "35/35 [==============================] - 92s 3s/step - loss: 10.2821 - val_loss: 0.4167\n",
      "Epoch 2/200\n",
      "35/35 [==============================] - 90s 3s/step - loss: 0.2381 - val_loss: 0.2780\n",
      "Epoch 3/200\n",
      "35/35 [==============================] - 88s 3s/step - loss: 0.1915 - val_loss: 0.2168\n",
      "Epoch 4/200\n",
      "35/35 [==============================] - 88s 3s/step - loss: 0.1805 - val_loss: 0.2103\n",
      "Epoch 5/200\n",
      "35/35 [==============================] - 88s 3s/step - loss: 0.1533 - val_loss: 0.2056\n",
      "Epoch 6/200\n",
      "35/35 [==============================] - 88s 3s/step - loss: 0.1348 - val_loss: 0.1842\n",
      "Epoch 7/200\n",
      "35/35 [==============================] - 87s 2s/step - loss: 0.1112 - val_loss: 0.1998\n",
      "Epoch 8/200\n",
      "35/35 [==============================] - 88s 3s/step - loss: 0.1082 - val_loss: 0.1835\n",
      "Epoch 9/200\n",
      "35/35 [==============================] - 87s 2s/step - loss: 0.0893 - val_loss: 0.1971\n",
      "Epoch 10/200\n",
      "35/35 [==============================] - 88s 3s/step - loss: 0.0986 - val_loss: 0.1378\n",
      "Epoch 11/200\n",
      "35/35 [==============================] - 87s 2s/step - loss: 0.0799 - val_loss: 0.1796\n",
      "Epoch 12/200\n",
      "35/35 [==============================] - 87s 2s/step - loss: 0.0772 - val_loss: 0.1747\n",
      "Epoch 13/200\n",
      "35/35 [==============================] - 88s 3s/step - loss: 0.0728 - val_loss: 0.1339\n",
      "Epoch 14/200\n",
      "35/35 [==============================] - 89s 3s/step - loss: 0.0630 - val_loss: 0.1217\n",
      "Epoch 15/200\n",
      "35/35 [==============================] - 87s 2s/step - loss: 0.0645 - val_loss: 0.1285\n",
      "Epoch 16/200\n",
      "35/35 [==============================] - 87s 2s/step - loss: 0.0549 - val_loss: 0.0979\n",
      "Epoch 17/200\n",
      "35/35 [==============================] - 89s 3s/step - loss: 0.0662 - val_loss: 0.0730\n",
      "Epoch 18/200\n",
      "35/35 [==============================] - 88s 3s/step - loss: 0.0591 - val_loss: 0.0966\n",
      "Epoch 19/200\n",
      "35/35 [==============================] - 93s 3s/step - loss: 0.0501 - val_loss: 0.0524\n",
      "Epoch 20/200\n",
      "35/35 [==============================] - 88s 3s/step - loss: 0.0610 - val_loss: 0.0959\n",
      "Epoch 21/200\n",
      "35/35 [==============================] - 88s 3s/step - loss: 0.0549 - val_loss: 0.1211\n",
      "Epoch 22/200\n",
      "35/35 [==============================] - 88s 3s/step - loss: 0.0451 - val_loss: 0.0632\n",
      "Epoch 23/200\n",
      "35/35 [==============================] - 87s 2s/step - loss: 0.0362 - val_loss: 0.0726\n",
      "Epoch 24/200\n",
      "35/35 [==============================] - 88s 3s/step - loss: 0.0481 - val_loss: 0.0304\n",
      "Epoch 25/200\n",
      "35/35 [==============================] - 87s 2s/step - loss: 0.0454 - val_loss: 0.0877\n",
      "Epoch 26/200\n",
      "35/35 [==============================] - 87s 2s/step - loss: 0.0452 - val_loss: 0.0481\n",
      "Epoch 27/200\n",
      "35/35 [==============================] - 87s 2s/step - loss: 0.0421 - val_loss: 0.0434\n",
      "Epoch 28/200\n",
      "35/35 [==============================] - 87s 2s/step - loss: 0.0389 - val_loss: 0.1075\n",
      "Epoch 29/200\n",
      "35/35 [==============================] - 87s 2s/step - loss: 0.0416 - val_loss: 0.0656\n",
      "Epoch 30/200\n",
      "35/35 [==============================] - 87s 2s/step - loss: 0.0372 - val_loss: 0.0814\n",
      "Epoch 31/200\n",
      "35/35 [==============================] - 87s 2s/step - loss: 0.0283 - val_loss: 0.0347\n",
      "Epoch 32/200\n",
      "35/35 [==============================] - 88s 3s/step - loss: 0.0263 - val_loss: 0.0267\n",
      "Epoch 33/200\n",
      "35/35 [==============================] - 87s 2s/step - loss: 0.0282 - val_loss: 0.0333\n",
      "Epoch 34/200\n",
      "35/35 [==============================] - 88s 3s/step - loss: 0.0269 - val_loss: 0.0239\n",
      "Epoch 35/200\n",
      "35/35 [==============================] - 88s 3s/step - loss: 0.0241 - val_loss: 0.0254\n",
      "Epoch 36/200\n",
      "35/35 [==============================] - 88s 3s/step - loss: 0.0239 - val_loss: 0.0213\n",
      "Epoch 37/200\n",
      "35/35 [==============================] - 88s 3s/step - loss: 0.0239 - val_loss: 0.0214\n",
      "Epoch 38/200\n",
      "35/35 [==============================] - 87s 2s/step - loss: 0.0236 - val_loss: 0.0214\n",
      "Epoch 39/200\n",
      "35/35 [==============================] - 89s 3s/step - loss: 0.0245 - val_loss: 0.0196\n",
      "Epoch 40/200\n",
      "35/35 [==============================] - 87s 2s/step - loss: 0.0210 - val_loss: 0.0256\n",
      "Epoch 41/200\n",
      "35/35 [==============================] - 89s 3s/step - loss: 0.0231 - val_loss: 0.0193\n",
      "Epoch 42/200\n",
      "35/35 [==============================] - 89s 3s/step - loss: 0.0227 - val_loss: 0.0182\n",
      "Epoch 43/200\n",
      "35/35 [==============================] - 87s 2s/step - loss: 0.0235 - val_loss: 0.0203\n",
      "Epoch 44/200\n",
      "35/35 [==============================] - 87s 2s/step - loss: 0.0207 - val_loss: 0.0210\n",
      "Epoch 45/200\n",
      "35/35 [==============================] - 87s 2s/step - loss: 0.0212 - val_loss: 0.0220\n",
      "Epoch 46/200\n",
      "35/35 [==============================] - 88s 3s/step - loss: 0.0212 - val_loss: 0.0178\n",
      "Epoch 47/200\n",
      "35/35 [==============================] - 86s 2s/step - loss: 0.0223 - val_loss: 0.0192\n",
      "Epoch 48/200\n",
      "35/35 [==============================] - 88s 3s/step - loss: 0.0201 - val_loss: 0.0175\n",
      "Epoch 49/200\n",
      "35/35 [==============================] - 88s 3s/step - loss: 0.0198 - val_loss: 0.0162\n",
      "Epoch 50/200\n",
      "35/35 [==============================] - 87s 2s/step - loss: 0.0197 - val_loss: 0.0196\n",
      "Epoch 51/200\n",
      "35/35 [==============================] - 87s 2s/step - loss: 0.0205 - val_loss: 0.0221\n",
      "Epoch 52/200\n",
      "35/35 [==============================] - 87s 2s/step - loss: 0.0194 - val_loss: 0.0182\n",
      "Epoch 53/200\n",
      "35/35 [==============================] - 88s 3s/step - loss: 0.0195 - val_loss: 0.0161\n",
      "Epoch 54/200\n",
      "35/35 [==============================] - 88s 3s/step - loss: 0.0203 - val_loss: 0.0270\n",
      "Epoch 55/200\n",
      "35/35 [==============================] - 88s 3s/step - loss: 0.0180 - val_loss: 0.0188\n",
      "Epoch 56/200\n",
      "35/35 [==============================] - 87s 2s/step - loss: 0.0169 - val_loss: 0.0170\n",
      "Epoch 57/200\n",
      "35/35 [==============================] - 88s 3s/step - loss: 0.0170 - val_loss: 0.0164\n",
      "Epoch 58/200\n",
      "35/35 [==============================] - 89s 3s/step - loss: 0.0169 - val_loss: 0.0146\n",
      "Epoch 59/200\n",
      "35/35 [==============================] - 88s 3s/step - loss: 0.0166 - val_loss: 0.0141\n",
      "Epoch 60/200\n",
      "35/35 [==============================] - 88s 3s/step - loss: 0.0162 - val_loss: 0.0138\n",
      "Epoch 61/200\n",
      "35/35 [==============================] - 87s 2s/step - loss: 0.0172 - val_loss: 0.0138\n",
      "Epoch 62/200\n",
      "35/35 [==============================] - 88s 3s/step - loss: 0.0166 - val_loss: 0.0137\n",
      "Epoch 63/200\n",
      "35/35 [==============================] - 87s 2s/step - loss: 0.0162 - val_loss: 0.0141\n",
      "Epoch 64/200\n",
      "35/35 [==============================] - 89s 3s/step - loss: 0.0168 - val_loss: 0.0138\n",
      "Epoch 65/200\n",
      "35/35 [==============================] - 87s 2s/step - loss: 0.0163 - val_loss: 0.0141\n",
      "Epoch 66/200\n",
      "35/35 [==============================] - 88s 3s/step - loss: 0.0168 - val_loss: 0.0135\n",
      "Epoch 67/200\n",
      "35/35 [==============================] - 88s 3s/step - loss: 0.0166 - val_loss: 0.0133\n",
      "Epoch 68/200\n",
      "35/35 [==============================] - 87s 2s/step - loss: 0.0169 - val_loss: 0.0139\n",
      "Epoch 69/200\n",
      "35/35 [==============================] - 87s 2s/step - loss: 0.0174 - val_loss: 0.0142\n",
      "Epoch 70/200\n",
      "35/35 [==============================] - 87s 2s/step - loss: 0.0166 - val_loss: 0.0138\n",
      "Epoch 71/200\n",
      "35/35 [==============================] - 86s 2s/step - loss: 0.0160 - val_loss: 0.0138\n",
      "Epoch 72/200\n",
      "35/35 [==============================] - 87s 2s/step - loss: 0.0166 - val_loss: 0.0148\n",
      "Epoch 73/200\n",
      "35/35 [==============================] - 87s 2s/step - loss: 0.0164 - val_loss: 0.0138\n",
      "Epoch 74/200\n",
      "35/35 [==============================] - 87s 2s/step - loss: 0.0161 - val_loss: 0.0134\n",
      "Epoch 75/200\n",
      "35/35 [==============================] - 89s 3s/step - loss: 0.0156 - val_loss: 0.0130\n",
      "Epoch 76/200\n",
      "35/35 [==============================] - 87s 2s/step - loss: 0.0160 - val_loss: 0.0133\n",
      "Epoch 77/200\n",
      "35/35 [==============================] - 87s 2s/step - loss: 0.0163 - val_loss: 0.0135\n",
      "Epoch 78/200\n",
      "35/35 [==============================] - 87s 2s/step - loss: 0.0160 - val_loss: 0.0133\n",
      "Epoch 79/200\n",
      "35/35 [==============================] - 87s 2s/step - loss: 0.0164 - val_loss: 0.0131\n",
      "Epoch 80/200\n",
      "35/35 [==============================] - 88s 3s/step - loss: 0.0163 - val_loss: 0.0131\n",
      "Epoch 81/200\n",
      "35/35 [==============================] - 90s 3s/step - loss: 0.0161 - val_loss: 0.0132\n",
      "Epoch 82/200\n",
      "35/35 [==============================] - 88s 3s/step - loss: 0.0162 - val_loss: 0.0134\n",
      "Epoch 83/200\n",
      "35/35 [==============================] - 87s 2s/step - loss: 0.0155 - val_loss: 0.0134\n",
      "Epoch 84/200\n",
      "35/35 [==============================] - 87s 2s/step - loss: 0.0164 - val_loss: 0.0132\n",
      "Epoch 85/200\n",
      "35/35 [==============================] - 88s 3s/step - loss: 0.0156 - val_loss: 0.0132\n",
      "Epoch 86/200\n",
      "35/35 [==============================] - 89s 3s/step - loss: 0.0163 - val_loss: 0.0133\n",
      "Epoch 87/200\n",
      "35/35 [==============================] - 90s 3s/step - loss: 0.0155 - val_loss: 0.0134\n",
      "Epoch 88/200\n",
      "35/35 [==============================] - 89s 3s/step - loss: 0.0160 - val_loss: 0.0133\n",
      "Epoch 89/200\n",
      "35/35 [==============================] - 88s 3s/step - loss: 0.0158 - val_loss: 0.0133\n",
      "Epoch 90/200\n",
      "35/35 [==============================] - 88s 3s/step - loss: 0.0155 - val_loss: 0.0134\n",
      "Epoch 91/200\n",
      "35/35 [==============================] - 88s 3s/step - loss: 0.0161 - val_loss: 0.0134\n",
      "Epoch 92/200\n",
      "35/35 [==============================] - 87s 2s/step - loss: 0.0169 - val_loss: 0.0133\n",
      "Epoch 93/200\n",
      "35/35 [==============================] - 87s 2s/step - loss: 0.0158 - val_loss: 0.0132\n",
      "Epoch 94/200\n",
      "35/35 [==============================] - 88s 3s/step - loss: 0.0161 - val_loss: 0.0135\n",
      "Epoch 95/200\n",
      "35/35 [==============================] - 87s 2s/step - loss: 0.0152 - val_loss: 0.0134\n"
     ]
    }
   ],
   "source": [
    "with strategy.scope():\n",
    "    opt = optimizers.Adam(learning_rate=LEARNING_RATE, epsilon=EPSILON)\n",
    "    model.compile(optimizer=opt, loss='mae')\n",
    "    model.fit(train_iterator, epochs=TRAINING_EPOCHS, validation_data=val_iterator,\n",
    "                  verbose=1, callbacks=[cbs, save, early_stop]) "
   ]
  },
  {
   "cell_type": "code",
   "execution_count": 25,
   "metadata": {},
   "outputs": [],
   "source": [
    "# model.summary()"
   ]
  },
  {
   "cell_type": "code",
   "execution_count": 26,
   "metadata": {},
   "outputs": [],
   "source": [
    "model.load_weights(BEST_PATH)"
   ]
  },
  {
   "cell_type": "code",
   "execution_count": 27,
   "metadata": {},
   "outputs": [
    {
     "name": "stdout",
     "output_type": "stream",
     "text": [
      "15/15 [==============================] - 25s 2s/step - loss: 0.0136\n"
     ]
    },
    {
     "data": {
      "text/plain": [
       "0.013615048490464687"
      ]
     },
     "execution_count": 27,
     "metadata": {},
     "output_type": "execute_result"
    }
   ],
   "source": [
    "model.evaluate(val_iterator)"
   ]
  },
  {
   "cell_type": "code",
   "execution_count": 29,
   "metadata": {},
   "outputs": [],
   "source": [
    "del(train_index)\n",
    "del(train_input)\n",
    "del(train_iterator)\n",
    "del(train_label)"
   ]
  },
  {
   "cell_type": "code",
   "execution_count": 30,
   "metadata": {},
   "outputs": [
    {
     "data": {
      "text/plain": [
       "2925"
      ]
     },
     "execution_count": 30,
     "metadata": {},
     "output_type": "execute_result"
    }
   ],
   "source": [
    "gc.collect()"
   ]
  },
  {
   "cell_type": "code",
   "execution_count": 31,
   "metadata": {},
   "outputs": [],
   "source": [
    "pred_result = model.predict(val_input/255)"
   ]
  },
  {
   "cell_type": "code",
   "execution_count": 32,
   "metadata": {},
   "outputs": [
    {
     "name": "stdout",
     "output_type": "stream",
     "text": [
      "(1918, 4)\n",
      "(1918, 4)\n"
     ]
    }
   ],
   "source": [
    "print(pred_result.shape)\n",
    "print(val_label.shape)"
   ]
  },
  {
   "cell_type": "code",
   "execution_count": 33,
   "metadata": {},
   "outputs": [],
   "source": [
    "val_label = (OUTPUT_MAXS - OUTPUT_MINS)*val_label + OUTPUT_MINS\n",
    "pred_result = (OUTPUT_MAXS - OUTPUT_MINS)*pred_result + OUTPUT_MINS"
   ]
  },
  {
   "cell_type": "code",
   "execution_count": 34,
   "metadata": {},
   "outputs": [],
   "source": [
    "pred_df = pd.DataFrame(np.concatenate([val_label, pred_result], axis=1), index=val_index)\n",
    "pred_df.columns = ['label_node_len', 'label_node_dia', 'label_plant_h', 'label_leaf_area', 'pred_node_len', 'pred_node_dia', 'pred_plant_h', 'pred_leaf_area']"
   ]
  },
  {
   "cell_type": "code",
   "execution_count": 35,
   "metadata": {},
   "outputs": [],
   "source": [
    "pred_df.to_csv('./results/model_output/pg_pred_result.csv')"
   ]
  }
 ],
 "metadata": {
  "kernelspec": {
   "display_name": "Environment (conda_tensorflow2_p36)",
   "language": "python",
   "name": "conda_tensorflow2_p36"
  },
  "language_info": {
   "codemirror_mode": {
    "name": "ipython",
    "version": 3
   },
   "file_extension": ".py",
   "mimetype": "text/x-python",
   "name": "python",
   "nbconvert_exporter": "python",
   "pygments_lexer": "ipython3",
   "version": "3.6.10"
  }
 },
 "nbformat": 4,
 "nbformat_minor": 4
}
