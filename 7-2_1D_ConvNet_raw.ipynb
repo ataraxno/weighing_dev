{
 "cells": [
  {
   "cell_type": "code",
   "execution_count": 1,
   "metadata": {},
   "outputs": [
    {
     "data": {
      "text/plain": [
       "'2.3.0'"
      ]
     },
     "execution_count": 1,
     "metadata": {},
     "output_type": "execute_result"
    }
   ],
   "source": [
    "import pandas as pd\n",
    "import numpy as np\n",
    "np.set_printoptions(precision=6, suppress=True)\n",
    "from sklearn.model_selection import train_test_split\n",
    "\n",
    "from tqdm import tqdm\n",
    "\n",
    "import tensorflow as tf\n",
    "from tensorflow.keras import *\n",
    "import tensorflow_addons as tfa\n",
    "tf.__version__"
   ]
  },
  {
   "cell_type": "code",
   "execution_count": 2,
   "metadata": {},
   "outputs": [],
   "source": [
    "import matplotlib\n",
    "import matplotlib.pyplot as plt\n",
    "import matplotlib.dates as mdates\n",
    "from matplotlib.ticker import (LinearLocator, MultipleLocator, FormatStrFormatter)\n",
    "from matplotlib.dates import MONDAY\n",
    "from matplotlib.dates import MonthLocator, WeekdayLocator, DateFormatter\n",
    "from matplotlib import gridspec\n",
    "from pandas.plotting import register_matplotlib_converters\n",
    "register_matplotlib_converters()\n",
    "%matplotlib inline"
   ]
  },
  {
   "cell_type": "code",
   "execution_count": 3,
   "metadata": {},
   "outputs": [],
   "source": [
    "plt.rcParams['figure.figsize'] = ((8/2.54), (6/2.54))\n",
    "plt.rcParams[\"font.family\"] = \"Arial\"\n",
    "plt.rcParams[\"mathtext.default\"] = \"rm\"\n",
    "plt.rcParams.update({'font.size': 11})\n",
    "MARKER_SIZE = 15\n",
    "cmap_m = [\"#f4a6ad\", \"#f6957e\", \"#fccfa2\", \"#8de7be\", \"#86d6f2\", \"#24a9e4\", \"#b586e0\", \"#d7f293\"]\n",
    "cmap = [\"#e94d5b\", \"#ef4d28\", \"#f9a54f\", \"#25b575\", \"#1bb1e7\", \"#1477a2\", \"#a662e5\", \"#c2f442\"]\n",
    "\n",
    "plt.rcParams['axes.spines.top'] = False\n",
    "# plt.rcParams['axes.edgecolor'] = \n",
    "plt.rcParams['axes.linewidth'] = 1\n",
    "plt.rcParams['lines.linewidth'] = 1.5\n",
    "plt.rcParams['xtick.major.width'] = 1\n",
    "plt.rcParams['xtick.minor.width'] = 1\n",
    "plt.rcParams['ytick.major.width'] = 1\n",
    "plt.rcParams['ytick.minor.width'] = 1"
   ]
  },
  {
   "cell_type": "code",
   "execution_count": 4,
   "metadata": {},
   "outputs": [
    {
     "data": {
      "text/plain": [
       "[PhysicalDevice(name='/physical_device:GPU:0', device_type='GPU')]"
      ]
     },
     "execution_count": 4,
     "metadata": {},
     "output_type": "execute_result"
    }
   ],
   "source": [
    "tf.config.list_physical_devices('GPU')"
   ]
  },
  {
   "cell_type": "code",
   "execution_count": 5,
   "metadata": {},
   "outputs": [
    {
     "name": "stdout",
     "output_type": "stream",
     "text": [
      "1 Physical GPUs, 1 Logical GPUs\n"
     ]
    }
   ],
   "source": [
    "gpus = tf.config.experimental.list_physical_devices('GPU')\n",
    "if gpus:\n",
    "    try:\n",
    "        for gpu in gpus:\n",
    "            tf.config.experimental.set_memory_growth(gpu, True)\n",
    "        logical_gpus = tf.config.experimental.list_logical_devices('GPU')\n",
    "        print(len(gpus), \"Physical GPUs,\", len(logical_gpus), \"Logical GPUs\")\n",
    "    except RuntimeError as e:\n",
    "        print(e)"
   ]
  },
  {
   "cell_type": "code",
   "execution_count": 6,
   "metadata": {},
   "outputs": [
    {
     "name": "stdout",
     "output_type": "stream",
     "text": [
      "INFO:tensorflow:Using MirroredStrategy with devices ('/job:localhost/replica:0/task:0/device:GPU:0',)\n"
     ]
    }
   ],
   "source": [
    "strategy = tf.distribute.MirroredStrategy()"
   ]
  },
  {
   "cell_type": "markdown",
   "metadata": {},
   "source": [
    "# Hyperparameters"
   ]
  },
  {
   "cell_type": "code",
   "execution_count": 7,
   "metadata": {},
   "outputs": [],
   "source": [
    "BEST_PATH = './models/resnet_raw.h5'\n",
    "TRAINING_EPOCHS = 200\n",
    "LEARNING_RATE = 0.0015\n",
    "EPSILON = 1e-08\n",
    "BATCH_SIZE = 16"
   ]
  },
  {
   "cell_type": "markdown",
   "metadata": {},
   "source": [
    "# Data loading"
   ]
  },
  {
   "cell_type": "code",
   "execution_count": 8,
   "metadata": {},
   "outputs": [],
   "source": [
    "l = np.load('./results/2020_W/fw_ct_dataset.npz', allow_pickle=True)\n",
    "data_indices = l['data_indices']\n",
    "input_data = l['input_data']\n",
    "output_label = l['output_label']\n",
    "INPUT_MAXS = l['INPUT_MAXS']\n",
    "INPUT_MINS = l['INPUT_MINS']\n",
    "OUTPUT_MAX = l['OUTPUT_MAX']\n",
    "OUTPUT_MIN = l['OUTPUT_MIN']"
   ]
  },
  {
   "cell_type": "code",
   "execution_count": 9,
   "metadata": {},
   "outputs": [],
   "source": [
    "input_data = input_data.astype('float32')\n",
    "output_label = output_label.astype('float32')"
   ]
  },
  {
   "cell_type": "code",
   "execution_count": 10,
   "metadata": {},
   "outputs": [
    {
     "name": "stdout",
     "output_type": "stream",
     "text": [
      "(456, 144, 9)\n",
      "(456, 1)\n"
     ]
    }
   ],
   "source": [
    "print(input_data.shape)\n",
    "print(output_label.shape)"
   ]
  },
  {
   "cell_type": "code",
   "execution_count": 11,
   "metadata": {},
   "outputs": [
    {
     "name": "stdout",
     "output_type": "stream",
     "text": [
      "[  42.31875   99.      1313.3       78.755     10.006      5.057\n",
      "   36.58      55.877     19.731  ]\n",
      "[11.5     4.4325 -0.5957 32.115   0.205   0.112  11.53    8.744  11.393 ]\n"
     ]
    }
   ],
   "source": [
    "print(INPUT_MAXS)\n",
    "print(INPUT_MINS)"
   ]
  },
  {
   "cell_type": "code",
   "execution_count": 12,
   "metadata": {},
   "outputs": [
    {
     "name": "stdout",
     "output_type": "stream",
     "text": [
      "2.5180414673761202\n",
      "0.31621880464190666\n"
     ]
    }
   ],
   "source": [
    "print(OUTPUT_MAX)\n",
    "print(OUTPUT_MIN)"
   ]
  },
  {
   "cell_type": "code",
   "execution_count": 13,
   "metadata": {},
   "outputs": [],
   "source": [
    "N_TRAIN = int(input_data.shape[0]*.09)\n",
    "N_DEV = int(input_data.shape[0]/3)\n",
    "TRAIN_INDEX = [_ for _ in range(N_TRAIN)] + \\\n",
    "              [_ for _ in range(N_DEV, N_DEV+N_TRAIN)] + \\\n",
    "              [_ for _ in range(N_DEV*2, N_DEV*2+N_TRAIN)]\n",
    "TEST_INDEX = [_ for _ in range(input_data.shape[0]) if _ not in TRAIN_INDEX]\n",
    "train_input = input_data[TRAIN_INDEX, ...]\n",
    "train_label = output_label[TRAIN_INDEX, ...]\n",
    "train_indices = data_indices[TRAIN_INDEX]\n",
    "test_input = input_data[TEST_INDEX, ...]\n",
    "test_label = output_label[TEST_INDEX, ...]\n",
    "test_indices = data_indices[TEST_INDEX]"
   ]
  },
  {
   "cell_type": "code",
   "execution_count": 14,
   "metadata": {},
   "outputs": [],
   "source": [
    "train_indices, val_indices, train_input, val_input, train_label, val_label = train_test_split(train_indices, train_input, train_label, test_size=0.3, shuffle=True, random_state=3101)"
   ]
  },
  {
   "cell_type": "code",
   "execution_count": 15,
   "metadata": {},
   "outputs": [
    {
     "name": "stdout",
     "output_type": "stream",
     "text": [
      "number of data set: 456\n",
      "number of training set: 86\n",
      "number of validation set: 37\n",
      "number of test set: 333\n"
     ]
    }
   ],
   "source": [
    "print(f'number of data set: {input_data.shape[0]}')\n",
    "print(f'number of training set: {train_input.shape[0]}')\n",
    "print(f'number of validation set: {val_input.shape[0]}')\n",
    "print(f'number of test set: {test_input.shape[0]}')"
   ]
  },
  {
   "cell_type": "code",
   "execution_count": 16,
   "metadata": {},
   "outputs": [],
   "source": [
    "with strategy.scope():\n",
    "    train_dataset = tf.data.Dataset.from_tensor_slices((train_input, train_label))\n",
    "    train_dataset = train_dataset.cache().shuffle(BATCH_SIZE*10).batch(BATCH_SIZE, drop_remainder=False)\n",
    "    val_dataset = tf.data.Dataset.from_tensor_slices((val_input, val_label))\n",
    "    val_dataset = val_dataset.cache().shuffle(BATCH_SIZE*10).batch(BATCH_SIZE, drop_remainder=False)"
   ]
  },
  {
   "cell_type": "markdown",
   "metadata": {},
   "source": [
    "# Model construction"
   ]
  },
  {
   "cell_type": "code",
   "execution_count": 17,
   "metadata": {},
   "outputs": [],
   "source": [
    "class ResidualBlock(layers.Layer):\n",
    "    def __init__(self, num_filter, stride=1):\n",
    "        super(ResidualBlock, self).__init__()\n",
    "        self.n = num_filter\n",
    "        self.s = stride\n",
    "        \n",
    "        self.conv1 = layers.Conv1D(filters=self.n, kernel_size=1, strides=1, kernel_initializer='glorot_normal', padding='same')\n",
    "        self.norm1 = layers.BatchNormalization()\n",
    "        self.act1 = layers.Activation(activations.relu)\n",
    "        self.conv2 = layers.Conv1D(filters=self.n, kernel_size=3, strides=stride, kernel_initializer='glorot_normal', padding='same')\n",
    "        self.norm2 = layers.BatchNormalization()\n",
    "        self.act2 = layers.Activation(activations.relu)\n",
    "        self.conv3 = layers.Conv1D(filters=self.n*4, kernel_size=1, strides=1, kernel_initializer='glorot_normal', padding='same')\n",
    "        self.norm3 = layers.BatchNormalization()\n",
    "        self.act3 = layers.Activation(activations.relu)\n",
    "\n",
    "        self.downsample = Sequential()\n",
    "        self.downsample.add(layers.Conv1D(filters=self.n*4, kernel_size=1, strides=stride, kernel_initializer='glorot_normal'))\n",
    "        self.downsample.add(layers.BatchNormalization())\n",
    "\n",
    "    def call(self, inp, training=None, **kwargs):\n",
    "        shortcut = self.downsample(inp)\n",
    "\n",
    "        inp = self.act1(self.norm1(self.conv1(inp), training=training))\n",
    "        inp = self.act2(self.norm2(self.conv2(inp), training=training))\n",
    "        inp = self.norm3(self.conv3(inp), training=training)\n",
    "\n",
    "        oup = self.act3(layers.add([shortcut, inp]))\n",
    "\n",
    "        return oup"
   ]
  },
  {
   "cell_type": "code",
   "execution_count": 18,
   "metadata": {},
   "outputs": [],
   "source": [
    "def block_maker(num_filter, num_blocks, stride=1):\n",
    "    res_block = tf.keras.Sequential()\n",
    "    res_block.add(ResidualBlock(num_filter, stride=stride))\n",
    "\n",
    "    for _ in range(1, num_blocks):\n",
    "        res_block.add(ResidualBlock(num_filter, stride=1))\n",
    "\n",
    "    return res_block"
   ]
  },
  {
   "cell_type": "code",
   "execution_count": 19,
   "metadata": {},
   "outputs": [],
   "source": [
    "class ResNet1D(Model):\n",
    "    def __init__(self, layer_params):\n",
    "        super(ResNet1D, self).__init__()\n",
    "        self.conv1 = layers.Conv1D(filters=64, kernel_size=7, strides=2, kernel_initializer='glorot_normal', padding=\"same\")\n",
    "        self.norm1 = layers.BatchNormalization()\n",
    "        self.act1 = layers.Activation(activations.relu)\n",
    "        self.pool1 = layers.MaxPool1D(pool_size=3, strides=2, padding=\"same\")\n",
    "\n",
    "        self.layer1 = block_maker(num_filter=64, num_blocks=layer_params[0])\n",
    "        self.layer2 = block_maker(num_filter=128, num_blocks=layer_params[1], stride=2)\n",
    "        self.layer3 = block_maker(num_filter=256, num_blocks=layer_params[2], stride=2)\n",
    "        self.layer4 = block_maker(num_filter=512, num_blocks=layer_params[3], stride=2)\n",
    "\n",
    "#         self.avgpool = layers.GlobalAveragePooling1D()\n",
    "        self.flat = layers.Flatten()\n",
    "        self.dense1 = layers.Dense(units=512, activation='relu')\n",
    "        self.dense2 = layers.Dense(units=128, activation='relu')\n",
    "        self.fc = layers.Dense(units=1)\n",
    "\n",
    "    def call(self, inp, training=None, mask=None):\n",
    "        inp = self.conv1(inp)\n",
    "        inp = self.norm1(inp, training=training)\n",
    "        inp = self.act1(inp)\n",
    "        inp = self.pool1(inp)\n",
    "        inp = self.layer1(inp, training=training)\n",
    "        inp = self.layer2(inp, training=training)\n",
    "        inp = self.layer3(inp, training=training)\n",
    "        inp = self.layer4(inp, training=training)\n",
    "#         inp = self.avgpool(inp)\n",
    "        inp = self.dense1(self.flat(inp))\n",
    "        inp = self.dense2(inp)\n",
    "        output = self.fc(inp)\n",
    "\n",
    "        return output"
   ]
  },
  {
   "cell_type": "code",
   "execution_count": 20,
   "metadata": {},
   "outputs": [],
   "source": [
    "cbs = callbacks.ReduceLROnPlateau(\n",
    "    monitor='val_loss', factor=.1, patience=5, verbose=0, mode='auto',\n",
    "    min_delta=0.0001, cooldown=0, min_lr=0)\n",
    "\n",
    "save = callbacks.ModelCheckpoint(\n",
    "    BEST_PATH, monitor='val_loss', verbose=0,\n",
    "    save_best_only=True, save_weights_only=True, mode='min', save_freq='epoch')\n",
    "\n",
    "early_stop = callbacks.EarlyStopping(monitor='val_loss', min_delta=0.0001, patience=20)"
   ]
  },
  {
   "cell_type": "code",
   "execution_count": 21,
   "metadata": {
    "scrolled": true
   },
   "outputs": [
    {
     "name": "stdout",
     "output_type": "stream",
     "text": [
      "Epoch 1/200\n",
      "WARNING:tensorflow:From /home/ubuntu/anaconda3/envs/tensorflow2_p36/lib/python3.6/site-packages/tensorflow/python/data/ops/multi_device_iterator_ops.py:601: get_next_as_optional (from tensorflow.python.data.ops.iterator_ops) is deprecated and will be removed in a future version.\n",
      "Instructions for updating:\n",
      "Use `tf.data.Iterator.get_next_as_optional()` instead.\n",
      "INFO:tensorflow:Reduce to /job:localhost/replica:0/task:0/device:CPU:0 then broadcast to ('/job:localhost/replica:0/task:0/device:CPU:0',).\n",
      "INFO:tensorflow:Reduce to /job:localhost/replica:0/task:0/device:CPU:0 then broadcast to ('/job:localhost/replica:0/task:0/device:CPU:0',).\n",
      "INFO:tensorflow:Reduce to /job:localhost/replica:0/task:0/device:CPU:0 then broadcast to ('/job:localhost/replica:0/task:0/device:CPU:0',).\n",
      "INFO:tensorflow:Reduce to /job:localhost/replica:0/task:0/device:CPU:0 then broadcast to ('/job:localhost/replica:0/task:0/device:CPU:0',).\n",
      "6/6 [==============================] - ETA: 0s - loss: 11.7392INFO:tensorflow:Reduce to /job:localhost/replica:0/task:0/device:CPU:0 then broadcast to ('/job:localhost/replica:0/task:0/device:CPU:0',).\n",
      "INFO:tensorflow:Reduce to /job:localhost/replica:0/task:0/device:CPU:0 then broadcast to ('/job:localhost/replica:0/task:0/device:CPU:0',).\n",
      "INFO:tensorflow:Reduce to /job:localhost/replica:0/task:0/device:CPU:0 then broadcast to ('/job:localhost/replica:0/task:0/device:CPU:0',).\n",
      "INFO:tensorflow:Reduce to /job:localhost/replica:0/task:0/device:CPU:0 then broadcast to ('/job:localhost/replica:0/task:0/device:CPU:0',).\n",
      "INFO:tensorflow:Reduce to /job:localhost/replica:0/task:0/device:CPU:0 then broadcast to ('/job:localhost/replica:0/task:0/device:CPU:0',).\n",
      "INFO:tensorflow:Reduce to /job:localhost/replica:0/task:0/device:CPU:0 then broadcast to ('/job:localhost/replica:0/task:0/device:CPU:0',).\n",
      "6/6 [==============================] - 3s 427ms/step - loss: 11.7392 - val_loss: 0.3265\n",
      "Epoch 2/200\n",
      "6/6 [==============================] - 1s 99ms/step - loss: 1.7331 - val_loss: 0.2215\n",
      "Epoch 3/200\n",
      "6/6 [==============================] - 0s 35ms/step - loss: 1.4500 - val_loss: 0.2371\n",
      "Epoch 4/200\n",
      "6/6 [==============================] - 0s 36ms/step - loss: 0.9463 - val_loss: 0.4200\n",
      "Epoch 5/200\n",
      "6/6 [==============================] - 0s 36ms/step - loss: 0.5674 - val_loss: 0.2879\n",
      "Epoch 6/200\n",
      "6/6 [==============================] - 0s 68ms/step - loss: 0.4278 - val_loss: 0.1694\n",
      "Epoch 7/200\n",
      "6/6 [==============================] - 0s 68ms/step - loss: 0.2363 - val_loss: 0.1154\n",
      "Epoch 8/200\n",
      "6/6 [==============================] - 0s 37ms/step - loss: 0.2714 - val_loss: 0.1992\n",
      "Epoch 9/200\n",
      "6/6 [==============================] - 0s 36ms/step - loss: 0.1738 - val_loss: 0.1634\n",
      "Epoch 10/200\n",
      "6/6 [==============================] - 0s 68ms/step - loss: 0.1250 - val_loss: 0.1154\n",
      "Epoch 11/200\n",
      "6/6 [==============================] - 0s 36ms/step - loss: 0.1077 - val_loss: 0.1289\n",
      "Epoch 12/200\n",
      "6/6 [==============================] - 0s 36ms/step - loss: 0.0979 - val_loss: 0.1192\n",
      "Epoch 13/200\n",
      "6/6 [==============================] - 0s 36ms/step - loss: 0.0709 - val_loss: 0.1209\n",
      "Epoch 14/200\n",
      "6/6 [==============================] - 0s 36ms/step - loss: 0.0636 - val_loss: 0.1243\n",
      "Epoch 15/200\n",
      "6/6 [==============================] - 0s 35ms/step - loss: 0.0535 - val_loss: 0.1291\n",
      "Epoch 16/200\n",
      "6/6 [==============================] - 0s 36ms/step - loss: 0.0686 - val_loss: 0.1198\n",
      "Epoch 17/200\n",
      "6/6 [==============================] - 0s 36ms/step - loss: 0.0527 - val_loss: 0.1159\n",
      "Epoch 18/200\n",
      "6/6 [==============================] - 0s 69ms/step - loss: 0.0493 - val_loss: 0.1127\n",
      "Epoch 19/200\n",
      "6/6 [==============================] - 0s 68ms/step - loss: 0.0537 - val_loss: 0.1112\n",
      "Epoch 20/200\n",
      "6/6 [==============================] - 0s 69ms/step - loss: 0.0555 - val_loss: 0.1097\n",
      "Epoch 21/200\n",
      "6/6 [==============================] - 0s 69ms/step - loss: 0.0520 - val_loss: 0.1069\n",
      "Epoch 22/200\n",
      "6/6 [==============================] - 0s 68ms/step - loss: 0.0526 - val_loss: 0.1045\n",
      "Epoch 23/200\n",
      "6/6 [==============================] - 0s 70ms/step - loss: 0.0536 - val_loss: 0.1034\n",
      "Epoch 24/200\n",
      "6/6 [==============================] - 1s 102ms/step - loss: 0.0626 - val_loss: 0.1014\n",
      "Epoch 25/200\n",
      "6/6 [==============================] - 0s 36ms/step - loss: 0.0659 - val_loss: 0.1027\n",
      "Epoch 26/200\n",
      "6/6 [==============================] - 0s 36ms/step - loss: 0.0627 - val_loss: 0.1043\n",
      "Epoch 27/200\n",
      "6/6 [==============================] - 0s 35ms/step - loss: 0.0527 - val_loss: 0.1025\n",
      "Epoch 28/200\n",
      "6/6 [==============================] - 0s 68ms/step - loss: 0.0553 - val_loss: 0.0986\n",
      "Epoch 29/200\n",
      "6/6 [==============================] - 0s 71ms/step - loss: 0.0570 - val_loss: 0.0972\n",
      "Epoch 30/200\n",
      "6/6 [==============================] - 0s 36ms/step - loss: 0.0486 - val_loss: 0.0994\n",
      "Epoch 31/200\n",
      "6/6 [==============================] - 0s 36ms/step - loss: 0.0620 - val_loss: 0.0999\n",
      "Epoch 32/200\n",
      "6/6 [==============================] - 0s 36ms/step - loss: 0.0641 - val_loss: 0.0994\n",
      "Epoch 33/200\n",
      "6/6 [==============================] - 0s 36ms/step - loss: 0.0502 - val_loss: 0.0972\n",
      "Epoch 34/200\n",
      "6/6 [==============================] - 0s 69ms/step - loss: 0.0520 - val_loss: 0.0946\n",
      "Epoch 35/200\n",
      "6/6 [==============================] - 0s 69ms/step - loss: 0.0589 - val_loss: 0.0915\n",
      "Epoch 36/200\n",
      "6/6 [==============================] - 0s 36ms/step - loss: 0.0553 - val_loss: 0.0917\n",
      "Epoch 37/200\n",
      "6/6 [==============================] - 0s 36ms/step - loss: 0.0585 - val_loss: 0.0925\n",
      "Epoch 38/200\n",
      "6/6 [==============================] - 0s 36ms/step - loss: 0.0549 - val_loss: 0.0939\n",
      "Epoch 39/200\n",
      "6/6 [==============================] - 0s 37ms/step - loss: 0.0622 - val_loss: 0.0920\n",
      "Epoch 40/200\n",
      "6/6 [==============================] - 0s 37ms/step - loss: 0.0515 - val_loss: 0.0931\n",
      "Epoch 41/200\n",
      "6/6 [==============================] - 0s 36ms/step - loss: 0.0489 - val_loss: 0.0930\n",
      "Epoch 42/200\n",
      "6/6 [==============================] - 0s 35ms/step - loss: 0.0521 - val_loss: 0.0924\n",
      "Epoch 43/200\n",
      "6/6 [==============================] - 0s 68ms/step - loss: 0.0592 - val_loss: 0.0911\n",
      "Epoch 44/200\n",
      "6/6 [==============================] - 0s 68ms/step - loss: 0.0485 - val_loss: 0.0904\n",
      "Epoch 45/200\n",
      "6/6 [==============================] - 0s 69ms/step - loss: 0.0490 - val_loss: 0.0899\n",
      "Epoch 46/200\n",
      "6/6 [==============================] - 0s 37ms/step - loss: 0.0458 - val_loss: 0.0899\n",
      "Epoch 47/200\n",
      "6/6 [==============================] - 0s 70ms/step - loss: 0.0640 - val_loss: 0.0891\n",
      "Epoch 48/200\n",
      "6/6 [==============================] - 0s 70ms/step - loss: 0.0460 - val_loss: 0.0885\n",
      "Epoch 49/200\n",
      "6/6 [==============================] - 0s 68ms/step - loss: 0.0484 - val_loss: 0.0880\n",
      "Epoch 50/200\n",
      "6/6 [==============================] - 0s 69ms/step - loss: 0.0529 - val_loss: 0.0879\n",
      "Epoch 51/200\n",
      "6/6 [==============================] - 0s 68ms/step - loss: 0.0565 - val_loss: 0.0873\n",
      "Epoch 52/200\n",
      "6/6 [==============================] - 0s 68ms/step - loss: 0.0448 - val_loss: 0.0865\n",
      "Epoch 53/200\n",
      "6/6 [==============================] - 0s 69ms/step - loss: 0.0520 - val_loss: 0.0863\n",
      "Epoch 54/200\n",
      "6/6 [==============================] - 0s 68ms/step - loss: 0.0621 - val_loss: 0.0863\n",
      "Epoch 55/200\n",
      "6/6 [==============================] - 0s 69ms/step - loss: 0.0470 - val_loss: 0.0856\n",
      "Epoch 56/200\n",
      "6/6 [==============================] - 0s 69ms/step - loss: 0.0508 - val_loss: 0.0852\n",
      "Epoch 57/200\n",
      "6/6 [==============================] - 0s 68ms/step - loss: 0.0519 - val_loss: 0.0843\n",
      "Epoch 58/200\n",
      "6/6 [==============================] - 0s 68ms/step - loss: 0.0493 - val_loss: 0.0839\n",
      "Epoch 59/200\n",
      "6/6 [==============================] - 0s 75ms/step - loss: 0.0597 - val_loss: 0.0837\n",
      "Epoch 60/200\n",
      "6/6 [==============================] - 0s 70ms/step - loss: 0.0502 - val_loss: 0.0831\n",
      "Epoch 61/200\n",
      "6/6 [==============================] - 0s 69ms/step - loss: 0.0665 - val_loss: 0.0818\n",
      "Epoch 62/200\n",
      "6/6 [==============================] - 0s 77ms/step - loss: 0.0546 - val_loss: 0.0814\n",
      "Epoch 63/200\n",
      "6/6 [==============================] - 0s 70ms/step - loss: 0.0547 - val_loss: 0.0806\n",
      "Epoch 64/200\n",
      "6/6 [==============================] - 0s 71ms/step - loss: 0.0503 - val_loss: 0.0801\n",
      "Epoch 65/200\n",
      "6/6 [==============================] - 0s 71ms/step - loss: 0.0472 - val_loss: 0.0799\n",
      "Epoch 66/200\n",
      "6/6 [==============================] - 0s 68ms/step - loss: 0.0485 - val_loss: 0.0794\n",
      "Epoch 67/200\n",
      "6/6 [==============================] - 0s 70ms/step - loss: 0.0540 - val_loss: 0.0781\n",
      "Epoch 68/200\n",
      "6/6 [==============================] - 0s 71ms/step - loss: 0.0458 - val_loss: 0.0770\n",
      "Epoch 69/200\n",
      "6/6 [==============================] - 0s 69ms/step - loss: 0.0505 - val_loss: 0.0764\n",
      "Epoch 70/200\n",
      "6/6 [==============================] - 0s 68ms/step - loss: 0.0530 - val_loss: 0.0759\n",
      "Epoch 71/200\n",
      "6/6 [==============================] - 0s 70ms/step - loss: 0.0498 - val_loss: 0.0754\n",
      "Epoch 72/200\n",
      "6/6 [==============================] - 0s 37ms/step - loss: 0.0616 - val_loss: 0.0756\n",
      "Epoch 73/200\n",
      "6/6 [==============================] - 0s 36ms/step - loss: 0.0558 - val_loss: 0.0763\n",
      "Epoch 74/200\n",
      "6/6 [==============================] - 0s 36ms/step - loss: 0.0487 - val_loss: 0.0758\n",
      "Epoch 75/200\n",
      "6/6 [==============================] - 0s 69ms/step - loss: 0.0543 - val_loss: 0.0750\n",
      "Epoch 76/200\n",
      "6/6 [==============================] - 0s 68ms/step - loss: 0.0455 - val_loss: 0.0742\n",
      "Epoch 77/200\n",
      "6/6 [==============================] - 0s 69ms/step - loss: 0.0524 - val_loss: 0.0736\n",
      "Epoch 78/200\n",
      "6/6 [==============================] - 0s 69ms/step - loss: 0.0459 - val_loss: 0.0733\n",
      "Epoch 79/200\n",
      "6/6 [==============================] - 0s 69ms/step - loss: 0.0489 - val_loss: 0.0727\n",
      "Epoch 80/200\n",
      "6/6 [==============================] - 0s 70ms/step - loss: 0.0581 - val_loss: 0.0717\n",
      "Epoch 81/200\n",
      "6/6 [==============================] - 0s 68ms/step - loss: 0.0518 - val_loss: 0.0712\n",
      "Epoch 82/200\n",
      "6/6 [==============================] - 0s 70ms/step - loss: 0.0543 - val_loss: 0.0705\n",
      "Epoch 83/200\n",
      "6/6 [==============================] - 0s 70ms/step - loss: 0.0469 - val_loss: 0.0694\n",
      "Epoch 84/200\n",
      "6/6 [==============================] - 0s 69ms/step - loss: 0.0472 - val_loss: 0.0684\n",
      "Epoch 85/200\n",
      "6/6 [==============================] - 0s 69ms/step - loss: 0.0568 - val_loss: 0.0678\n",
      "Epoch 86/200\n",
      "6/6 [==============================] - 0s 70ms/step - loss: 0.0541 - val_loss: 0.0671\n",
      "Epoch 87/200\n",
      "6/6 [==============================] - 0s 69ms/step - loss: 0.0456 - val_loss: 0.0661\n",
      "Epoch 88/200\n",
      "6/6 [==============================] - 0s 68ms/step - loss: 0.0540 - val_loss: 0.0653\n",
      "Epoch 89/200\n",
      "6/6 [==============================] - 0s 70ms/step - loss: 0.0497 - val_loss: 0.0650\n",
      "Epoch 90/200\n",
      "6/6 [==============================] - 0s 68ms/step - loss: 0.0532 - val_loss: 0.0648\n",
      "Epoch 91/200\n",
      "6/6 [==============================] - 0s 71ms/step - loss: 0.0582 - val_loss: 0.0642\n",
      "Epoch 92/200\n",
      "6/6 [==============================] - 0s 71ms/step - loss: 0.0607 - val_loss: 0.0633\n",
      "Epoch 93/200\n",
      "6/6 [==============================] - 0s 72ms/step - loss: 0.0464 - val_loss: 0.0632\n",
      "Epoch 94/200\n",
      "6/6 [==============================] - 0s 68ms/step - loss: 0.0516 - val_loss: 0.0625\n",
      "Epoch 95/200\n",
      "6/6 [==============================] - 0s 68ms/step - loss: 0.0515 - val_loss: 0.0622\n",
      "Epoch 96/200\n",
      "6/6 [==============================] - 0s 69ms/step - loss: 0.0566 - val_loss: 0.0621\n",
      "Epoch 97/200\n",
      "6/6 [==============================] - 0s 36ms/step - loss: 0.0465 - val_loss: 0.0624\n",
      "Epoch 98/200\n",
      "6/6 [==============================] - 0s 37ms/step - loss: 0.0595 - val_loss: 0.0622\n",
      "Epoch 99/200\n",
      "6/6 [==============================] - 0s 36ms/step - loss: 0.0461 - val_loss: 0.0624\n",
      "Epoch 100/200\n",
      "6/6 [==============================] - 0s 68ms/step - loss: 0.0575 - val_loss: 0.0621\n",
      "Epoch 101/200\n",
      "6/6 [==============================] - 0s 36ms/step - loss: 0.0479 - val_loss: 0.0622\n",
      "Epoch 102/200\n",
      "6/6 [==============================] - 0s 36ms/step - loss: 0.0545 - val_loss: 0.0621\n",
      "Epoch 103/200\n",
      "6/6 [==============================] - 0s 37ms/step - loss: 0.0460 - val_loss: 0.0623\n",
      "Epoch 104/200\n",
      "6/6 [==============================] - 0s 39ms/step - loss: 0.0621 - val_loss: 0.0623\n",
      "Epoch 105/200\n",
      "6/6 [==============================] - 0s 38ms/step - loss: 0.0549 - val_loss: 0.0622\n",
      "Epoch 106/200\n",
      "6/6 [==============================] - 0s 70ms/step - loss: 0.0569 - val_loss: 0.0619\n",
      "Epoch 107/200\n",
      "6/6 [==============================] - 0s 71ms/step - loss: 0.0503 - val_loss: 0.0618\n",
      "Epoch 108/200\n",
      "6/6 [==============================] - 0s 69ms/step - loss: 0.0496 - val_loss: 0.0613\n",
      "Epoch 109/200\n",
      "6/6 [==============================] - 0s 36ms/step - loss: 0.0530 - val_loss: 0.0613\n",
      "Epoch 110/200\n",
      "6/6 [==============================] - 0s 38ms/step - loss: 0.0544 - val_loss: 0.0618\n",
      "Epoch 111/200\n",
      "6/6 [==============================] - 0s 36ms/step - loss: 0.0522 - val_loss: 0.0615\n",
      "Epoch 112/200\n",
      "6/6 [==============================] - 0s 36ms/step - loss: 0.0461 - val_loss: 0.0615\n",
      "Epoch 113/200\n",
      "6/6 [==============================] - 0s 69ms/step - loss: 0.0560 - val_loss: 0.0613\n",
      "Epoch 114/200\n",
      "6/6 [==============================] - 0s 70ms/step - loss: 0.0531 - val_loss: 0.0612\n",
      "Epoch 115/200\n",
      "6/6 [==============================] - 0s 36ms/step - loss: 0.0581 - val_loss: 0.0616\n",
      "Epoch 116/200\n",
      "6/6 [==============================] - 0s 37ms/step - loss: 0.0546 - val_loss: 0.0619\n",
      "Epoch 117/200\n",
      "6/6 [==============================] - 0s 38ms/step - loss: 0.0580 - val_loss: 0.0624\n",
      "Epoch 118/200\n",
      "6/6 [==============================] - 0s 37ms/step - loss: 0.0482 - val_loss: 0.0628\n",
      "Epoch 119/200\n",
      "6/6 [==============================] - 0s 38ms/step - loss: 0.0565 - val_loss: 0.0632\n",
      "Epoch 120/200\n",
      "6/6 [==============================] - 0s 39ms/step - loss: 0.0481 - val_loss: 0.0633\n",
      "Epoch 121/200\n",
      "6/6 [==============================] - 0s 38ms/step - loss: 0.0536 - val_loss: 0.0630\n",
      "Epoch 122/200\n",
      "6/6 [==============================] - 0s 38ms/step - loss: 0.0478 - val_loss: 0.0629\n",
      "Epoch 123/200\n",
      "6/6 [==============================] - 0s 39ms/step - loss: 0.0486 - val_loss: 0.0629\n",
      "Epoch 124/200\n",
      "6/6 [==============================] - 0s 38ms/step - loss: 0.0600 - val_loss: 0.0628\n",
      "Epoch 125/200\n",
      "6/6 [==============================] - 0s 38ms/step - loss: 0.0526 - val_loss: 0.0630\n",
      "Epoch 126/200\n",
      "6/6 [==============================] - 0s 40ms/step - loss: 0.0493 - val_loss: 0.0632\n",
      "Epoch 127/200\n",
      "6/6 [==============================] - 0s 39ms/step - loss: 0.0544 - val_loss: 0.0636\n",
      "Epoch 128/200\n",
      "6/6 [==============================] - 0s 49ms/step - loss: 0.0497 - val_loss: 0.0635\n"
     ]
    }
   ],
   "source": [
    "with strategy.scope():\n",
    "    opt = optimizers.Adam(learning_rate=LEARNING_RATE, epsilon=EPSILON)\n",
    "    model = ResNet1D(layer_params=[1, 2, 1, 1])\n",
    "    model.compile(optimizer=opt, loss='mae')\n",
    "    model.fit(train_dataset, epochs=TRAINING_EPOCHS, validation_data=val_dataset,\n",
    "                  verbose=1, callbacks=[cbs, save, early_stop]) "
   ]
  },
  {
   "cell_type": "code",
   "execution_count": 22,
   "metadata": {},
   "outputs": [],
   "source": [
    "model.load_weights(BEST_PATH)"
   ]
  },
  {
   "cell_type": "code",
   "execution_count": 23,
   "metadata": {},
   "outputs": [
    {
     "name": "stdout",
     "output_type": "stream",
     "text": [
      "3/3 [==============================] - 0s 4ms/step - loss: 0.0612\n"
     ]
    },
    {
     "data": {
      "text/plain": [
       "0.06123622506856918"
      ]
     },
     "execution_count": 23,
     "metadata": {},
     "output_type": "execute_result"
    }
   ],
   "source": [
    "model.evaluate(val_dataset)"
   ]
  },
  {
   "cell_type": "code",
   "execution_count": 24,
   "metadata": {},
   "outputs": [],
   "source": [
    "pred_output = model.predict(test_input)"
   ]
  },
  {
   "cell_type": "code",
   "execution_count": 25,
   "metadata": {},
   "outputs": [],
   "source": [
    "pred_output = pred_output*(OUTPUT_MAX - OUTPUT_MIN) + OUTPUT_MIN\n",
    "test_label = test_label*(OUTPUT_MAX - OUTPUT_MIN) + OUTPUT_MIN"
   ]
  },
  {
   "cell_type": "code",
   "execution_count": 26,
   "metadata": {},
   "outputs": [
    {
     "data": {
      "image/png": "[encoded data removed]",
      "text/plain": [
       "<Figure size 481.89x340.157 with 1 Axes>"
      ]
     },
     "metadata": {},
     "output_type": "display_data"
    }
   ],
   "source": [
    "fig = plt.figure(figsize=((8.5/2.54*2), (6/2.54*2)))\n",
    "ax0 = plt.subplot()\n",
    "\n",
    "ax0.spines['right'].set_visible(False)\n",
    "ax0.spines['left'].set_position(('outward', 5))\n",
    "ax0.spines['bottom'].set_position(('outward', 5))\n",
    "\n",
    "ax0.plot(test_label, pred_output, 'o', ms=5, mec='k', c=cmap[0])\n",
    "\n",
    "\n",
    "fig.tight_layout()"
   ]
  },
  {
   "cell_type": "code",
   "execution_count": 27,
   "metadata": {},
   "outputs": [],
   "source": [
    "pred_df = pd.DataFrame(test_label, index=test_indices[:, 0], columns=['label'])\n",
    "pred_df['pred'] = pred_output"
   ]
  },
  {
   "cell_type": "code",
   "execution_count": 28,
   "metadata": {},
   "outputs": [
    {
     "data": {
      "image/png": "[encoded data removed]",
      "text/plain": [
       "<Figure size 481.89x340.157 with 1 Axes>"
      ]
     },
     "metadata": {},
     "output_type": "display_data"
    }
   ],
   "source": [
    "fig = plt.figure(figsize=((8.5/2.54*2), (6/2.54*2)))\n",
    "ax0 = plt.subplot()\n",
    "\n",
    "ax0.spines['right'].set_visible(False)\n",
    "ax0.spines['left'].set_position(('outward', 5))\n",
    "ax0.spines['bottom'].set_position(('outward', 5))\n",
    "\n",
    "ax0.plot(pred_df.index, pred_df['label'], '-o', ms=5, mec='k', c=cmap[4])\n",
    "ax0.plot(pred_df.index, pred_df['pred'], 'o', ms=5, mec='k', c=cmap[0])\n",
    "\n",
    "\n",
    "fig.tight_layout()"
   ]
  },
  {
   "cell_type": "code",
   "execution_count": 29,
   "metadata": {},
   "outputs": [],
   "source": [
    "pred_df.to_csv('./results/model_output/convnet1d_raw.csv')"
   ]
  }
 ],
 "metadata": {
  "kernelspec": {
   "display_name": "Environment (conda_tensorflow2_p36)",
   "language": "python",
   "name": "conda_tensorflow2_p36"
  },
  "language_info": {
   "codemirror_mode": {
    "name": "ipython",
    "version": 3
   },
   "file_extension": ".py",
   "mimetype": "text/x-python",
   "name": "python",
   "nbconvert_exporter": "python",
   "pygments_lexer": "ipython3",
   "version": "3.6.10"
  }
 },
 "nbformat": 4,
 "nbformat_minor": 4
}
