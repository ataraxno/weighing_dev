{
 "cells": [
  {
   "cell_type": "code",
   "execution_count": 1,
   "metadata": {},
   "outputs": [
    {
     "data": {
      "text/plain": [
       "'2.3.0'"
      ]
     },
     "execution_count": 1,
     "metadata": {},
     "output_type": "execute_result"
    }
   ],
   "source": [
    "import time\n",
    "import os\n",
    "import gc\n",
    "\n",
    "import pandas as pd\n",
    "import numpy as np\n",
    "from sklearn import linear_model\n",
    "from sklearn.utils import resample\n",
    "from sklearn.model_selection import train_test_split\n",
    "from sklearn.metrics import mean_squared_error, r2_score\n",
    "np.set_printoptions(precision=6, suppress=True)\n",
    "\n",
    "import PIL\n",
    "from PIL import Image\n",
    "\n",
    "import tensorflow as tf\n",
    "from tensorflow.keras import *\n",
    "from tensorflow.keras.preprocessing.image import ImageDataGenerator, array_to_img, img_to_array, load_img\n",
    "tf.__version__"
   ]
  },
  {
   "cell_type": "code",
   "execution_count": 2,
   "metadata": {},
   "outputs": [],
   "source": [
    "import matplotlib\n",
    "import matplotlib.pyplot as plt\n",
    "import matplotlib.dates as mdates\n",
    "from matplotlib.ticker import (LinearLocator, MultipleLocator, FormatStrFormatter)\n",
    "from matplotlib.dates import MonthLocator, WeekdayLocator, DateFormatter\n",
    "from matplotlib import gridspec\n",
    "from pandas.plotting import register_matplotlib_converters\n",
    "register_matplotlib_converters()\n",
    "%matplotlib inline"
   ]
  },
  {
   "cell_type": "code",
   "execution_count": 3,
   "metadata": {},
   "outputs": [],
   "source": [
    "plt.rcParams['figure.figsize'] = ((8/2.54), (6/2.54))\n",
    "plt.rcParams[\"font.family\"] = \"Arial\"\n",
    "plt.rcParams[\"mathtext.default\"] = \"rm\"\n",
    "plt.rcParams.update({'font.size': 11})\n",
    "MARKER_SIZE = 15\n",
    "cmap_m = [\"#f4a6ad\", \"#f6957e\", \"#fccfa2\", \"#8de7be\", \"#86d6f2\", \"#24a9e4\", \"#b586e0\", \"#d7f293\"]\n",
    "cmap = [\"#e94d5b\", \"#ef4d28\", \"#f9a54f\", \"#25b575\", \"#1bb1e7\", \"#1477a2\", \"#a662e5\", \"#c2f442\"]\n",
    "\n",
    "plt.rcParams['axes.spines.top'] = False\n",
    "# plt.rcParams['axes.edgecolor'] = \n",
    "plt.rcParams['axes.linewidth'] = 1\n",
    "plt.rcParams['lines.linewidth'] = 1.5\n",
    "plt.rcParams['xtick.major.width'] = 1\n",
    "plt.rcParams['xtick.minor.width'] = 1\n",
    "plt.rcParams['ytick.major.width'] = 1\n",
    "plt.rcParams['ytick.minor.width'] = 1"
   ]
  },
  {
   "cell_type": "code",
   "execution_count": 4,
   "metadata": {},
   "outputs": [
    {
     "name": "stdout",
     "output_type": "stream",
     "text": [
      "1 Physical GPUs, 1 Logical GPUs\n"
     ]
    }
   ],
   "source": [
    "gpus = tf.config.experimental.list_physical_devices('GPU')\n",
    "if gpus:\n",
    "    try:\n",
    "        for gpu in gpus:\n",
    "            tf.config.experimental.set_memory_growth(gpu, True)\n",
    "        logical_gpus = tf.config.experimental.list_logical_devices('GPU')\n",
    "        print(len(gpus), \"Physical GPUs,\", len(logical_gpus), \"Logical GPUs\")\n",
    "    except RuntimeError as e:\n",
    "        print(e)"
   ]
  },
  {
   "cell_type": "markdown",
   "metadata": {},
   "source": [
    "# Hyperparameters"
   ]
  },
  {
   "cell_type": "code",
   "execution_count": 5,
   "metadata": {},
   "outputs": [],
   "source": [
    "PRE_TRAINED = './models/pg_convnet.h5'\n",
    "BEST_PATH = './models/pg_convnet_tf.h5'\n",
    "TRAINING_EPOCHS = 200\n",
    "LEARNING_RATE = 0.005\n",
    "EPSILON = 1e-08\n",
    "BATCH_SIZE = 32"
   ]
  },
  {
   "cell_type": "markdown",
   "metadata": {},
   "source": [
    "# Data preparation"
   ]
  },
  {
   "cell_type": "code",
   "execution_count": 6,
   "metadata": {},
   "outputs": [],
   "source": [
    "l = np.load('./results/pg_dataset.npz', allow_pickle=True)\n",
    "data_indices_2020S = l['data_indices_2020S']\n",
    "output_label_2020S = l['output_label_2020S']\n",
    "data_indices_2020W = l['data_indices_2020W']\n",
    "output_label_2020W = l['output_label_2020W']\n",
    "OUTPUT_MAXS = l['OUTPUT_MAXS']\n",
    "OUTPUT_MINS = l['OUTPUT_MINS']"
   ]
  },
  {
   "cell_type": "code",
   "execution_count": 7,
   "metadata": {},
   "outputs": [],
   "source": [
    "COLUMNS = ['node_len', 'node_dia', 'plant_h', 'leaf_area']"
   ]
  },
  {
   "cell_type": "code",
   "execution_count": 8,
   "metadata": {},
   "outputs": [],
   "source": [
    "output_2020S_df = pd.DataFrame(output_label_2020S, index=data_indices_2020S, columns=COLUMNS)\n",
    "output_2020W_df = pd.DataFrame(output_label_2020W, index=data_indices_2020W, columns=COLUMNS)"
   ]
  },
  {
   "cell_type": "code",
   "execution_count": 9,
   "metadata": {},
   "outputs": [],
   "source": [
    "DIRECTORY = './images/2020_W/'\n",
    "dir_list = os.listdir(DIRECTORY)\n",
    "dataset_list = [direc for direc in dir_list if direc.startswith('LAI_OVER') or direc.startswith('LAI2_OVER')]\n",
    "dataset_list.sort()"
   ]
  },
  {
   "cell_type": "code",
   "execution_count": 10,
   "metadata": {},
   "outputs": [],
   "source": [
    "data_indices = []\n",
    "input_images = []\n",
    "output_labels = []\n",
    "for DATE in output_2020W_df.index:\n",
    "    for DIRECTORY in dataset_list:\n",
    "        if DATE in DIRECTORY:\n",
    "            file_list = os.listdir(f'./images/2020_W/{DIRECTORY}')\n",
    "            file_list = [file for file in file_list if file.endswith('.jpg')]\n",
    "            for FILE in file_list:\n",
    "                TIME = pd.Timedelta(FILE.split()[-1].split('.')[0])\n",
    "                if TIME >= pd.Timedelta('08:00:00') and TIME <= pd.Timedelta('16:00:00'):\n",
    "                    image = Image.open(f'./images/2020_W/{DIRECTORY}/{FILE}')\n",
    "                    data_indices.append(pd.Timestamp(DATE))\n",
    "                    input_images.append(img_to_array(image))\n",
    "                    output_labels.append(output_2020W_df.loc[DATE].values)"
   ]
  },
  {
   "cell_type": "code",
   "execution_count": 11,
   "metadata": {},
   "outputs": [],
   "source": [
    "input_images = np.stack(input_images, axis=0)\n",
    "output_labels = np.stack(output_labels, axis=0)\n",
    "data_indices = np.array(data_indices)"
   ]
  },
  {
   "cell_type": "code",
   "execution_count": 12,
   "metadata": {},
   "outputs": [
    {
     "name": "stdout",
     "output_type": "stream",
     "text": [
      "6234\n",
      "(6234, 256, 256, 3)\n",
      "(6234, 4)\n"
     ]
    }
   ],
   "source": [
    "print(len(data_indices))\n",
    "print(input_images.shape)\n",
    "print(output_labels.shape)"
   ]
  },
  {
   "cell_type": "code",
   "execution_count": 13,
   "metadata": {},
   "outputs": [],
   "source": [
    "data_indices, input_images, output_labels = resample(data_indices, input_images, output_labels, n_samples=4000, replace=False, random_state=4574)"
   ]
  },
  {
   "cell_type": "code",
   "execution_count": 14,
   "metadata": {},
   "outputs": [
    {
     "name": "stdout",
     "output_type": "stream",
     "text": [
      "4000\n",
      "(4000, 256, 256, 3)\n",
      "(4000, 4)\n"
     ]
    }
   ],
   "source": [
    "print(len(data_indices))\n",
    "print(input_images.shape)\n",
    "print(output_labels.shape)"
   ]
  },
  {
   "cell_type": "code",
   "execution_count": 15,
   "metadata": {},
   "outputs": [
    {
     "data": {
      "text/plain": [
       "15"
      ]
     },
     "execution_count": 15,
     "metadata": {},
     "output_type": "execute_result"
    }
   ],
   "source": [
    "gc.collect()"
   ]
  },
  {
   "cell_type": "code",
   "execution_count": 16,
   "metadata": {},
   "outputs": [],
   "source": [
    "N_TRAIN = int(output_labels.shape[0]*.3)\n",
    "train_input = input_images[:N_TRAIN, ...]\n",
    "train_label = output_labels[:N_TRAIN, ...]\n",
    "train_index = data_indices[:N_TRAIN]\n",
    "test_input = input_images[N_TRAIN:, ...]\n",
    "test_label = output_labels[N_TRAIN:, ...]\n",
    "test_index = data_indices[N_TRAIN:]"
   ]
  },
  {
   "cell_type": "code",
   "execution_count": 17,
   "metadata": {},
   "outputs": [],
   "source": [
    "train_index, val_index, train_input, val_input, train_label, val_label = train_test_split(train_index, train_input, train_label, test_size=0.3, shuffle=True, random_state=3101)"
   ]
  },
  {
   "cell_type": "code",
   "execution_count": 18,
   "metadata": {},
   "outputs": [],
   "source": [
    "datagen = ImageDataGenerator(\n",
    "    rescale=1/255,\n",
    "    width_shift_range=0.1,\n",
    "    height_shift_range=0.1,\n",
    "    horizontal_flip=True,\n",
    "    fill_mode='nearest')"
   ]
  },
  {
   "cell_type": "code",
   "execution_count": 19,
   "metadata": {},
   "outputs": [],
   "source": [
    "train_iterator = datagen.flow(train_input, train_label, batch_size=BATCH_SIZE)\n",
    "val_iterator = datagen.flow(val_input, val_label, batch_size=BATCH_SIZE)\n",
    "test_iterator = datagen.flow(test_input, test_label, batch_size=BATCH_SIZE)"
   ]
  },
  {
   "cell_type": "code",
   "execution_count": 20,
   "metadata": {},
   "outputs": [
    {
     "name": "stdout",
     "output_type": "stream",
     "text": [
      "number of data set: 4000\n",
      "number of training set: 840\n",
      "number of validation set: 360\n",
      "number of test set: 2800\n"
     ]
    }
   ],
   "source": [
    "print(f'number of data set: {input_images.shape[0]}')\n",
    "print(f'number of training set: {train_input.shape[0]}')\n",
    "print(f'number of validation set: {val_input.shape[0]}')\n",
    "print(f'number of test set: {test_input.shape[0]}')"
   ]
  },
  {
   "cell_type": "code",
   "execution_count": 21,
   "metadata": {},
   "outputs": [
    {
     "data": {
      "text/plain": [
       "0"
      ]
     },
     "execution_count": 21,
     "metadata": {},
     "output_type": "execute_result"
    }
   ],
   "source": [
    "gc.collect()"
   ]
  },
  {
   "cell_type": "markdown",
   "metadata": {},
   "source": [
    "# Model construction"
   ]
  },
  {
   "cell_type": "code",
   "execution_count": 22,
   "metadata": {},
   "outputs": [],
   "source": [
    "class ResidualBlock(layers.Layer):\n",
    "    def __init__(self, num_filter, stride=1):\n",
    "        super(ResidualBlock, self).__init__()\n",
    "        self.n = num_filter\n",
    "        self.s = stride\n",
    "        \n",
    "        self.conv1 = layers.Conv2D(filters=self.n, kernel_size=1, strides=1, kernel_initializer='glorot_normal', padding='same')\n",
    "        self.norm1 = layers.BatchNormalization()\n",
    "        self.act1 = layers.Activation(activations.relu)\n",
    "        self.conv2 = layers.Conv2D(filters=self.n, kernel_size=3, strides=stride, kernel_initializer='glorot_normal', padding='same')\n",
    "        self.norm2 = layers.BatchNormalization()\n",
    "        self.act2 = layers.Activation(activations.relu)\n",
    "        self.conv3 = layers.Conv2D(filters=self.n*4, kernel_size=1, strides=1, kernel_initializer='glorot_normal', padding='same')\n",
    "        self.norm3 = layers.BatchNormalization()\n",
    "        self.act3 = layers.Activation(activations.relu)\n",
    "\n",
    "        self.downsample = Sequential()\n",
    "        self.downsample.add(layers.Conv2D(filters=self.n*4, kernel_size=1, strides=stride, kernel_initializer='glorot_normal'))\n",
    "        self.downsample.add(layers.BatchNormalization())\n",
    "\n",
    "    def call(self, inp, training=None, **kwargs):\n",
    "        shortcut = self.downsample(inp)\n",
    "\n",
    "        inp = self.act1(self.norm1(self.conv1(inp), training=training))\n",
    "        inp = self.act2(self.norm2(self.conv2(inp), training=training))\n",
    "        inp = self.norm3(self.conv3(inp), training=training)\n",
    "\n",
    "        oup = self.act3(layers.add([shortcut, inp]))\n",
    "\n",
    "        return oup"
   ]
  },
  {
   "cell_type": "code",
   "execution_count": 23,
   "metadata": {},
   "outputs": [],
   "source": [
    "def block_maker(num_filter, num_blocks, stride=1):\n",
    "    res_block = tf.keras.Sequential()\n",
    "    res_block.add(ResidualBlock(num_filter, stride=stride))\n",
    "\n",
    "    for _ in range(1, num_blocks):\n",
    "        res_block.add(ResidualBlock(num_filter, stride=1))\n",
    "\n",
    "    return res_block"
   ]
  },
  {
   "cell_type": "code",
   "execution_count": 24,
   "metadata": {},
   "outputs": [],
   "source": [
    "class ResNet2D(Model):\n",
    "    def __init__(self, layer_params):\n",
    "        super(ResNet2D, self).__init__()\n",
    "        self.conv1 = layers.Conv2D(filters=64, kernel_size=7, strides=2, kernel_initializer='glorot_normal', padding=\"same\")\n",
    "        self.norm1 = layers.BatchNormalization()\n",
    "        self.act1 = layers.Activation(activations.relu)\n",
    "        self.pool1 = layers.MaxPool2D(pool_size=(3, 3), strides=2, padding=\"same\")\n",
    "\n",
    "        self.layer1 = block_maker(num_filter=64, num_blocks=layer_params[0])\n",
    "        self.layer2 = block_maker(num_filter=128, num_blocks=layer_params[1], stride=2)\n",
    "        self.layer3 = block_maker(num_filter=256, num_blocks=layer_params[2], stride=2)\n",
    "        self.layer4 = block_maker(num_filter=512, num_blocks=layer_params[3], stride=2)\n",
    "\n",
    "#         self.flat = layers.Flatten()\n",
    "        self.avgpool = layers.GlobalAveragePooling2D()\n",
    "        self.out_norm1 = layers.BatchNormalization()\n",
    "        self.dropout = layers.Dropout(0.2)\n",
    "        self.dense1 = layers.Dense(512)\n",
    "        self.out_norm2 = layers.BatchNormalization()\n",
    "        self.dense2 = layers.Dense(128)\n",
    "        self.out_norm3 = layers.BatchNormalization()\n",
    "        self.fc = layers.Dense(4)\n",
    "\n",
    "\n",
    "    def call(self, inp, training=None, mask=None):\n",
    "        inp = self.conv1(inp)\n",
    "        inp = self.norm1(inp, training=training)\n",
    "        inp = self.act1(inp)\n",
    "        inp = self.pool1(inp)\n",
    "        inp = self.layer1(inp, training=training)\n",
    "        inp = self.layer2(inp, training=training)\n",
    "        inp = self.layer3(inp, training=training)\n",
    "        inp = self.layer4(inp, training=training)\n",
    "        \n",
    "#         inp = self.dense1(self.flat(inp))\n",
    "        inp = self.avgpool(inp)\n",
    "        inp = self.out_norm1(inp)\n",
    "        inp = self.dropout(inp)\n",
    "        inp = self.dense1(inp)\n",
    "        inp = self.out_norm2(inp)\n",
    "        inp = self.dense2(inp)\n",
    "        inp = self.out_norm3(inp)\n",
    "        output = self.fc(inp)\n",
    "\n",
    "        return output"
   ]
  },
  {
   "cell_type": "code",
   "execution_count": 25,
   "metadata": {},
   "outputs": [],
   "source": [
    "model = ResNet2D(layer_params=[2, 3, 2, 1])"
   ]
  },
  {
   "cell_type": "code",
   "execution_count": 26,
   "metadata": {
    "scrolled": true
   },
   "outputs": [],
   "source": [
    "opt = optimizers.Adam(learning_rate=LEARNING_RATE, epsilon=EPSILON)\n",
    "model.compile(optimizer=opt, loss='mae')\n",
    "model.predict(val_input[:5, ...]/255)\n",
    "model.load_weights(PRE_TRAINED)\n",
    "model.save_weights(BEST_PATH) # For deep copy\n",
    "model.load_weights(BEST_PATH)"
   ]
  },
  {
   "cell_type": "code",
   "execution_count": 28,
   "metadata": {},
   "outputs": [],
   "source": [
    "# prediction_layer1 = layers.Conv2D(filters=64, kernel_size=7, strides=2, kernel_initializer='glorot_normal', padding=\"same\")\n",
    "base_model = Sequential(model.layers[:-1])\n",
    "prediction_layer2 = layers.Dense(512)\n",
    "prediction_layer3 = layers.Dense(128)\n",
    "prediction_layer4 = layers.Dense(4)"
   ]
  },
  {
   "cell_type": "code",
   "execution_count": 29,
   "metadata": {},
   "outputs": [],
   "source": [
    "base_model.trainable = False"
   ]
  },
  {
   "cell_type": "code",
   "execution_count": 30,
   "metadata": {},
   "outputs": [],
   "source": [
    "new_model = Sequential([\n",
    "#     prediction_layer1,\n",
    "    base_model,\n",
    "    prediction_layer2,\n",
    "    prediction_layer3,\n",
    "    prediction_layer4\n",
    "])"
   ]
  },
  {
   "cell_type": "code",
   "execution_count": 31,
   "metadata": {},
   "outputs": [
    {
     "data": {
      "text/plain": [
       "744"
      ]
     },
     "execution_count": 31,
     "metadata": {},
     "output_type": "execute_result"
    }
   ],
   "source": [
    "gc.collect()"
   ]
  },
  {
   "cell_type": "code",
   "execution_count": 32,
   "metadata": {},
   "outputs": [],
   "source": [
    "cbs = callbacks.ReduceLROnPlateau(\n",
    "    monitor='val_loss', factor=.5, patience=5, verbose=0, mode='auto',\n",
    "    min_delta=0.0001, cooldown=0, min_lr=0)\n",
    "\n",
    "sv = callbacks.ModelCheckpoint(\n",
    "    BEST_PATH, monitor='val_loss', verbose=0,\n",
    "    save_best_only=True, save_weights_only=True, mode='min', save_freq='epoch')\n",
    "\n",
    "es = callbacks.EarlyStopping(monitor='val_loss', min_delta=0.0001, patience=20)"
   ]
  },
  {
   "cell_type": "code",
   "execution_count": 33,
   "metadata": {
    "scrolled": true
   },
   "outputs": [
    {
     "name": "stdout",
     "output_type": "stream",
     "text": [
      "Epoch 1/200\n",
      "27/27 [==============================] - 16s 602ms/step - loss: 1.3547 - val_loss: 0.3129\n",
      "Epoch 2/200\n",
      "27/27 [==============================] - 15s 573ms/step - loss: 0.2078 - val_loss: 0.2013\n",
      "Epoch 3/200\n",
      "27/27 [==============================] - 15s 559ms/step - loss: 0.1383 - val_loss: 0.0974\n",
      "Epoch 4/200\n",
      "27/27 [==============================] - 15s 570ms/step - loss: 0.0935 - val_loss: 0.0932\n",
      "Epoch 5/200\n",
      "27/27 [==============================] - 15s 558ms/step - loss: 0.0914 - val_loss: 0.0727\n",
      "Epoch 6/200\n",
      "27/27 [==============================] - 15s 551ms/step - loss: 0.0918 - val_loss: 0.0856\n",
      "Epoch 7/200\n",
      "27/27 [==============================] - 15s 556ms/step - loss: 0.0834 - val_loss: 0.0783\n",
      "Epoch 8/200\n",
      "27/27 [==============================] - 15s 565ms/step - loss: 0.0884 - val_loss: 0.0723\n",
      "Epoch 9/200\n",
      "27/27 [==============================] - 15s 552ms/step - loss: 0.0955 - val_loss: 0.0992\n",
      "Epoch 10/200\n",
      "27/27 [==============================] - 15s 552ms/step - loss: 0.0867 - val_loss: 0.0826\n",
      "Epoch 11/200\n",
      "27/27 [==============================] - 15s 552ms/step - loss: 0.0801 - val_loss: 0.0750\n",
      "Epoch 12/200\n",
      "27/27 [==============================] - 15s 545ms/step - loss: 0.0733 - val_loss: 0.0943\n",
      "Epoch 13/200\n",
      "27/27 [==============================] - 15s 552ms/step - loss: 0.0848 - val_loss: 0.0784\n",
      "Epoch 14/200\n",
      "27/27 [==============================] - 15s 557ms/step - loss: 0.0689 - val_loss: 0.0652\n",
      "Epoch 15/200\n",
      "27/27 [==============================] - 15s 553ms/step - loss: 0.0664 - val_loss: 0.0735\n",
      "Epoch 16/200\n",
      "27/27 [==============================] - 15s 549ms/step - loss: 0.0683 - val_loss: 0.0728\n",
      "Epoch 17/200\n",
      "27/27 [==============================] - 15s 549ms/step - loss: 0.0685 - val_loss: 0.0813\n",
      "Epoch 18/200\n",
      "27/27 [==============================] - 15s 565ms/step - loss: 0.0739 - val_loss: 0.0723\n",
      "Epoch 19/200\n",
      "27/27 [==============================] - 15s 551ms/step - loss: 0.0652 - val_loss: 0.0771\n",
      "Epoch 20/200\n",
      "27/27 [==============================] - 15s 551ms/step - loss: 0.0682 - val_loss: 0.0668\n",
      "Epoch 21/200\n",
      "27/27 [==============================] - 15s 546ms/step - loss: 0.0643 - val_loss: 0.0655\n",
      "Epoch 22/200\n",
      "27/27 [==============================] - 15s 552ms/step - loss: 0.0632 - val_loss: 0.0687\n",
      "Epoch 23/200\n",
      "27/27 [==============================] - 15s 555ms/step - loss: 0.0649 - val_loss: 0.0674\n",
      "Epoch 24/200\n",
      "27/27 [==============================] - 15s 552ms/step - loss: 0.0645 - val_loss: 0.0661\n",
      "Epoch 25/200\n",
      "27/27 [==============================] - 15s 561ms/step - loss: 0.0617 - val_loss: 0.0635\n",
      "Epoch 26/200\n",
      "27/27 [==============================] - 15s 551ms/step - loss: 0.0625 - val_loss: 0.0658\n",
      "Epoch 27/200\n",
      "27/27 [==============================] - 15s 559ms/step - loss: 0.0625 - val_loss: 0.0630\n",
      "Epoch 28/200\n",
      "27/27 [==============================] - 15s 548ms/step - loss: 0.0651 - val_loss: 0.0637\n",
      "Epoch 29/200\n",
      "27/27 [==============================] - 15s 555ms/step - loss: 0.0609 - val_loss: 0.0619\n",
      "Epoch 30/200\n",
      "27/27 [==============================] - 15s 558ms/step - loss: 0.0608 - val_loss: 0.0609\n",
      "Epoch 31/200\n",
      "27/27 [==============================] - 15s 548ms/step - loss: 0.0606 - val_loss: 0.0639\n",
      "Epoch 32/200\n",
      "27/27 [==============================] - 15s 551ms/step - loss: 0.0616 - val_loss: 0.0728\n",
      "Epoch 33/200\n",
      "27/27 [==============================] - 15s 551ms/step - loss: 0.0625 - val_loss: 0.0650\n",
      "Epoch 34/200\n",
      "27/27 [==============================] - 15s 562ms/step - loss: 0.0649 - val_loss: 0.0643\n",
      "Epoch 35/200\n",
      "27/27 [==============================] - 15s 551ms/step - loss: 0.0642 - val_loss: 0.0738\n",
      "Epoch 36/200\n",
      "27/27 [==============================] - 15s 551ms/step - loss: 0.0624 - val_loss: 0.0639\n",
      "Epoch 37/200\n",
      "27/27 [==============================] - 15s 557ms/step - loss: 0.0592 - val_loss: 0.0646\n",
      "Epoch 38/200\n",
      "27/27 [==============================] - 15s 560ms/step - loss: 0.0619 - val_loss: 0.0638\n",
      "Epoch 39/200\n",
      "27/27 [==============================] - 15s 556ms/step - loss: 0.0615 - val_loss: 0.0619\n",
      "Epoch 40/200\n",
      "27/27 [==============================] - 15s 562ms/step - loss: 0.0614 - val_loss: 0.0608\n",
      "Epoch 41/200\n",
      "27/27 [==============================] - 15s 569ms/step - loss: 0.0603 - val_loss: 0.0621\n",
      "Epoch 42/200\n",
      "27/27 [==============================] - 15s 554ms/step - loss: 0.0614 - val_loss: 0.0620\n",
      "Epoch 43/200\n",
      "27/27 [==============================] - 15s 555ms/step - loss: 0.0589 - val_loss: 0.0609\n",
      "Epoch 44/200\n",
      "27/27 [==============================] - 15s 565ms/step - loss: 0.0581 - val_loss: 0.0638\n",
      "Epoch 45/200\n",
      "27/27 [==============================] - 15s 552ms/step - loss: 0.0593 - val_loss: 0.0608\n",
      "Epoch 46/200\n",
      "27/27 [==============================] - 15s 549ms/step - loss: 0.0582 - val_loss: 0.0616\n",
      "Epoch 47/200\n",
      "27/27 [==============================] - 15s 557ms/step - loss: 0.0580 - val_loss: 0.0598\n",
      "Epoch 48/200\n",
      "27/27 [==============================] - 15s 548ms/step - loss: 0.0582 - val_loss: 0.0615\n",
      "Epoch 49/200\n",
      "27/27 [==============================] - 15s 544ms/step - loss: 0.0585 - val_loss: 0.0609\n",
      "Epoch 50/200\n",
      "27/27 [==============================] - 15s 552ms/step - loss: 0.0583 - val_loss: 0.0604\n",
      "Epoch 51/200\n",
      "27/27 [==============================] - 15s 556ms/step - loss: 0.0584 - val_loss: 0.0601\n",
      "Epoch 52/200\n",
      "27/27 [==============================] - 15s 551ms/step - loss: 0.0581 - val_loss: 0.0613\n",
      "Epoch 53/200\n",
      "27/27 [==============================] - 15s 558ms/step - loss: 0.0583 - val_loss: 0.0583\n",
      "Epoch 54/200\n",
      "27/27 [==============================] - 15s 561ms/step - loss: 0.0580 - val_loss: 0.0580\n",
      "Epoch 55/200\n",
      "27/27 [==============================] - 15s 552ms/step - loss: 0.0576 - val_loss: 0.0619\n",
      "Epoch 56/200\n",
      "27/27 [==============================] - 15s 549ms/step - loss: 0.0562 - val_loss: 0.0588\n",
      "Epoch 57/200\n",
      "27/27 [==============================] - 15s 552ms/step - loss: 0.0585 - val_loss: 0.0603\n",
      "Epoch 58/200\n",
      "27/27 [==============================] - 15s 548ms/step - loss: 0.0572 - val_loss: 0.0605\n",
      "Epoch 59/200\n",
      "27/27 [==============================] - 15s 550ms/step - loss: 0.0578 - val_loss: 0.0598\n",
      "Epoch 60/200\n",
      "27/27 [==============================] - 15s 554ms/step - loss: 0.0575 - val_loss: 0.0585\n",
      "Epoch 61/200\n",
      "27/27 [==============================] - 15s 553ms/step - loss: 0.0574 - val_loss: 0.0603\n",
      "Epoch 62/200\n",
      "27/27 [==============================] - 15s 547ms/step - loss: 0.0595 - val_loss: 0.0589\n",
      "Epoch 63/200\n",
      "27/27 [==============================] - 15s 549ms/step - loss: 0.0567 - val_loss: 0.0587\n",
      "Epoch 64/200\n",
      "27/27 [==============================] - 15s 553ms/step - loss: 0.0567 - val_loss: 0.0611\n",
      "Epoch 65/200\n",
      "27/27 [==============================] - 15s 548ms/step - loss: 0.0580 - val_loss: 0.0613\n",
      "Epoch 66/200\n",
      "27/27 [==============================] - 15s 548ms/step - loss: 0.0565 - val_loss: 0.0600\n",
      "Epoch 67/200\n",
      "27/27 [==============================] - 15s 550ms/step - loss: 0.0586 - val_loss: 0.0594\n",
      "Epoch 68/200\n",
      "27/27 [==============================] - 15s 548ms/step - loss: 0.0578 - val_loss: 0.0598\n",
      "Epoch 69/200\n",
      "27/27 [==============================] - 15s 546ms/step - loss: 0.0565 - val_loss: 0.0590\n",
      "Epoch 70/200\n",
      "27/27 [==============================] - 15s 553ms/step - loss: 0.0580 - val_loss: 0.0584\n",
      "Epoch 71/200\n",
      "27/27 [==============================] - 15s 550ms/step - loss: 0.0559 - val_loss: 0.0581\n",
      "Epoch 72/200\n",
      "27/27 [==============================] - 15s 543ms/step - loss: 0.0557 - val_loss: 0.0595\n",
      "Epoch 73/200\n",
      "27/27 [==============================] - 15s 550ms/step - loss: 0.0573 - val_loss: 0.0582\n",
      "Epoch 74/200\n",
      "27/27 [==============================] - 15s 544ms/step - loss: 0.0559 - val_loss: 0.0580\n"
     ]
    },
    {
     "data": {
      "text/plain": [
       "<tensorflow.python.keras.callbacks.History at 0x7efcb01bbf60>"
      ]
     },
     "execution_count": 33,
     "metadata": {},
     "output_type": "execute_result"
    }
   ],
   "source": [
    "opt = optimizers.Adam(learning_rate=LEARNING_RATE, epsilon=EPSILON)\n",
    "new_model.compile(optimizer=opt, loss='mae')\n",
    "new_model.fit(train_iterator, epochs=TRAINING_EPOCHS, validation_data=val_iterator,\n",
    "              verbose=1, callbacks=[cbs, sv, es]) "
   ]
  },
  {
   "cell_type": "code",
   "execution_count": 34,
   "metadata": {},
   "outputs": [],
   "source": [
    "pred_result_prev = new_model.predict(test_input/255)"
   ]
  },
  {
   "cell_type": "code",
   "execution_count": 35,
   "metadata": {},
   "outputs": [],
   "source": [
    "new_model.load_weights(BEST_PATH)"
   ]
  },
  {
   "cell_type": "code",
   "execution_count": 36,
   "metadata": {},
   "outputs": [
    {
     "name": "stdout",
     "output_type": "stream",
     "text": [
      "12/12 [==============================] - 4s 343ms/step - loss: 0.0600\n"
     ]
    },
    {
     "data": {
      "text/plain": [
       "0.05999937653541565"
      ]
     },
     "execution_count": 36,
     "metadata": {},
     "output_type": "execute_result"
    }
   ],
   "source": [
    "new_model.evaluate(val_iterator)"
   ]
  },
  {
   "cell_type": "code",
   "execution_count": 37,
   "metadata": {},
   "outputs": [],
   "source": [
    "del(train_index)\n",
    "del(train_input)\n",
    "del(train_iterator)\n",
    "del(train_label)\n",
    "del(val_index)\n",
    "del(val_input)\n",
    "del(val_iterator)\n",
    "del(val_label)"
   ]
  },
  {
   "cell_type": "code",
   "execution_count": 38,
   "metadata": {},
   "outputs": [
    {
     "data": {
      "text/plain": [
       "731"
      ]
     },
     "execution_count": 38,
     "metadata": {},
     "output_type": "execute_result"
    }
   ],
   "source": [
    "gc.collect()"
   ]
  },
  {
   "cell_type": "code",
   "execution_count": 39,
   "metadata": {},
   "outputs": [],
   "source": [
    "pred_result = new_model.predict(test_input/255)"
   ]
  },
  {
   "cell_type": "code",
   "execution_count": 40,
   "metadata": {},
   "outputs": [
    {
     "data": {
      "text/plain": [
       "0.046640888"
      ]
     },
     "execution_count": 40,
     "metadata": {},
     "output_type": "execute_result"
    }
   ],
   "source": [
    "abs(pred_result - pred_result_prev).max()"
   ]
  },
  {
   "cell_type": "code",
   "execution_count": 41,
   "metadata": {},
   "outputs": [
    {
     "name": "stdout",
     "output_type": "stream",
     "text": [
      "(2800, 4)\n",
      "(2800, 4)\n"
     ]
    }
   ],
   "source": [
    "print(pred_result.shape)\n",
    "print(test_label.shape)"
   ]
  },
  {
   "cell_type": "code",
   "execution_count": 42,
   "metadata": {},
   "outputs": [],
   "source": [
    "test_label = (OUTPUT_MAXS - OUTPUT_MINS)*test_label + OUTPUT_MINS\n",
    "pred_result = (OUTPUT_MAXS - OUTPUT_MINS)*pred_result + OUTPUT_MINS"
   ]
  },
  {
   "cell_type": "code",
   "execution_count": 43,
   "metadata": {
    "tags": []
   },
   "outputs": [],
   "source": [
    "pred_df = pd.DataFrame(np.concatenate([test_label, pred_result], axis=1), index=test_index)\n",
    "pred_df.columns = ['label_node_len', 'label_node_dia', 'label_plant_h', 'label_leaf_area', 'pred_node_len', 'pred_node_dia', 'pred_plant_h', 'pred_leaf_area']"
   ]
  },
  {
   "cell_type": "code",
   "execution_count": 44,
   "metadata": {},
   "outputs": [],
   "source": [
    "pred_df.to_csv('./results/model_output/pg_pred_result_tr.csv')"
   ]
  },
  {
   "cell_type": "code",
   "execution_count": 45,
   "metadata": {},
   "outputs": [],
   "source": [
    "pred_df = pred_df.sort_index()"
   ]
  },
  {
   "cell_type": "code",
   "execution_count": 46,
   "metadata": {},
   "outputs": [],
   "source": [
    "label_df = pred_df.loc[:, [col for col in pred_df.columns if col.startswith('label')]]\n",
    "pred_df = pred_df.loc[:, [col for col in pred_df.columns if col.startswith('pred')]]"
   ]
  },
  {
   "cell_type": "code",
   "execution_count": 47,
   "metadata": {},
   "outputs": [],
   "source": [
    "pred_max_df = pred_df.groupby(pred_df.index).max()\n",
    "pred_min_df = pred_df.groupby(pred_df.index).min()"
   ]
  },
  {
   "cell_type": "code",
   "execution_count": 48,
   "metadata": {},
   "outputs": [],
   "source": [
    "def is_outlier(s):\n",
    "    lower_limit = s.mean() - s.std()\n",
    "    upper_limit = s.mean() + s.std()\n",
    "    return ~s.between(lower_limit, upper_limit)"
   ]
  },
  {
   "cell_type": "code",
   "execution_count": 49,
   "metadata": {},
   "outputs": [],
   "source": [
    "tamp_df = []\n",
    "for _ in pred_df.columns:\n",
    "    tamp_s = pred_df.loc[~pred_df.groupby(pred_df.index)[_].apply(is_outlier)][_]\n",
    "    tamp_s = tamp_s.groupby(tamp_s.index).mean()\n",
    "    tamp_df.append(tamp_s)"
   ]
  },
  {
   "cell_type": "code",
   "execution_count": 50,
   "metadata": {
    "tags": []
   },
   "outputs": [],
   "source": [
    "label_df = label_df.groupby(label_df.index).mean()\n",
    "pred_df = pd.concat(tamp_df,axis=1)"
   ]
  },
  {
   "cell_type": "code",
   "execution_count": 51,
   "metadata": {
    "tags": []
   },
   "outputs": [
    {
     "data": {
      "image/png": "[encoded data removed]",
      "text/plain": [
       "<Figure size 498.898x374.173 with 4 Axes>"
      ]
     },
     "metadata": {},
     "output_type": "display_data"
    }
   ],
   "source": [
    "fig = plt.figure(figsize=((8/2.54*2.2), (6/2.54*2.2)))\n",
    "grid = plt.GridSpec(2, 2)\n",
    "\n",
    "ax0 = plt.subplot(grid[0])\n",
    "ax1 = plt.subplot(grid[1])\n",
    "ax2 = plt.subplot(grid[2])\n",
    "ax3 = plt.subplot(grid[3])\n",
    "\n",
    "ax0.spines['right'].set_visible(False)\n",
    "ax0.spines['left'].set_position(('outward', 10))\n",
    "ax0.spines['bottom'].set_position(('outward', 5))\n",
    "ax1.spines['right'].set_visible(False)\n",
    "ax1.spines['left'].set_position(('outward', 10))\n",
    "ax1.spines['bottom'].set_position(('outward', 5))\n",
    "ax2.spines['right'].set_visible(False)\n",
    "ax2.spines['left'].set_position(('outward', 10))\n",
    "ax2.spines['bottom'].set_position(('outward', 5))\n",
    "ax3.spines['right'].set_visible(False)\n",
    "ax3.spines['left'].set_position(('outward', 10))\n",
    "ax3.spines['bottom'].set_position(('outward', 5))\n",
    "\n",
    "ax0.plot(pred_df.index, pred_df['pred_node_len'], '-', c=cmap[3])\n",
    "ax1.plot(pred_df.index, pred_df['pred_node_dia'], '-', c=cmap[3])\n",
    "ax2.plot(pred_df.index, pred_df['pred_plant_h'], '-', c=cmap[3])\n",
    "ax3.plot(pred_df.index, pred_df['pred_leaf_area'], '-', c=cmap[3])\n",
    "\n",
    "ax0.fill_between(pred_df.index, pred_min_df['pred_node_len'], pred_max_df['pred_node_len'], color=cmap[3], alpha=0.5)\n",
    "ax1.fill_between(pred_df.index, pred_min_df['pred_node_dia'], pred_max_df['pred_node_dia'], color=cmap[3], alpha=0.5)\n",
    "ax2.fill_between(pred_df.index, pred_min_df['pred_plant_h'], pred_max_df['pred_plant_h'], color=cmap[3], alpha=0.5)\n",
    "ax3.fill_between(pred_df.index, pred_min_df['pred_leaf_area'], pred_max_df['pred_leaf_area'], color=cmap[3], alpha=0.5)\n",
    "\n",
    "ax0.plot(label_df.index, label_df['label_node_len'], '-', c='k')\n",
    "ax1.plot(label_df.index, label_df['label_node_dia'], '-', c='k')\n",
    "ax2.plot(label_df.index, label_df['label_plant_h'], '-', c='k')\n",
    "ax3.plot(label_df.index, label_df['label_leaf_area'], '-', c='k')\n",
    "\n",
    "ax0.set_xbound(pred_df.index[0], pred_df.index[-1])\n",
    "ax0.xaxis.set_major_formatter(mdates.DateFormatter('%m-%d'))\n",
    "ax0.xaxis.set_major_locator(LinearLocator(4))\n",
    "ax0.yaxis.set_major_locator(LinearLocator(4))\n",
    "ax0.yaxis.set_minor_locator(LinearLocator(7))\n",
    "ax0.set_ybound(2, 8)\n",
    "ax1.set_xbound(pred_df.index[0], pred_df.index[-1])\n",
    "ax1.xaxis.set_major_formatter(mdates.DateFormatter('%m-%d'))\n",
    "ax1.xaxis.set_major_locator(LinearLocator(4))\n",
    "ax1.yaxis.set_major_locator(LinearLocator(5))\n",
    "ax1.yaxis.set_minor_locator(LinearLocator(9))\n",
    "ax1.set_ybound(4, 12)\n",
    "ax2.set_xbound(pred_df.index[0], pred_df.index[-1])\n",
    "ax2.xaxis.set_major_formatter(mdates.DateFormatter('%m-%d'))\n",
    "ax2.xaxis.set_major_locator(LinearLocator(4))\n",
    "ax2.yaxis.set_major_locator(LinearLocator(5))\n",
    "ax2.yaxis.set_minor_locator(LinearLocator(13))\n",
    "ax2.set_ybound(0, 240)\n",
    "ax3.set_xbound(pred_df.index[0], pred_df.index[-1])\n",
    "ax3.xaxis.set_major_formatter(mdates.DateFormatter('%m-%d'))\n",
    "ax3.xaxis.set_major_locator(LinearLocator(4))\n",
    "ax3.yaxis.set_major_locator(LinearLocator(4))\n",
    "ax3.yaxis.set_minor_locator(LinearLocator(7))\n",
    "ax3.set_ybound(0, 1.5)\n",
    "\n",
    "ax0.set_ylabel('Internode length (cm)')\n",
    "ax1.set_ylabel('Internode diameter (mm)')\n",
    "ax2.set_xlabel('DAT')\n",
    "ax2.set_ylabel('Plant height (cm)')\n",
    "ax3.set_ylabel('Leaf area ($m^2$)')\n",
    "\n",
    "fig.tight_layout()\n",
    "plt.show()"
   ]
  }
 ],
 "metadata": {
  "kernelspec": {
   "display_name": "Environment (conda_tensorflow2_p36)",
   "language": "python",
   "name": "conda_tensorflow2_p36"
  },
  "language_info": {
   "codemirror_mode": {
    "name": "ipython",
    "version": 3
   },
   "file_extension": ".py",
   "mimetype": "text/x-python",
   "name": "python",
   "nbconvert_exporter": "python",
   "pygments_lexer": "ipython3",
   "version": "3.6.10"
  }
 },
 "nbformat": 4,
 "nbformat_minor": 4
}
