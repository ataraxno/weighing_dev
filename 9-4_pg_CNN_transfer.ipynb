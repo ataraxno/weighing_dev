{
 "cells": [
  {
   "cell_type": "code",
   "execution_count": 1,
   "metadata": {},
   "outputs": [
    {
     "data": {
      "text/plain": [
       "'2.3.0'"
      ]
     },
     "execution_count": 1,
     "metadata": {},
     "output_type": "execute_result"
    }
   ],
   "source": [
    "import time\n",
    "import os\n",
    "import gc\n",
    "\n",
    "import pandas as pd\n",
    "import numpy as np\n",
    "from sklearn import linear_model\n",
    "from sklearn.utils import resample\n",
    "from sklearn.model_selection import train_test_split\n",
    "from sklearn.metrics import mean_squared_error, r2_score\n",
    "np.set_printoptions(precision=6, suppress=True)\n",
    "\n",
    "import PIL\n",
    "from PIL import Image\n",
    "\n",
    "import tensorflow as tf\n",
    "from tensorflow.keras import *\n",
    "from tensorflow.keras.models import Sequential\n",
    "from tensorflow.keras.preprocessing.image import ImageDataGenerator, array_to_img, img_to_array, load_img\n",
    "tf.__version__"
   ]
  },
  {
   "cell_type": "code",
   "execution_count": 2,
   "metadata": {},
   "outputs": [
    {
     "data": {
      "text/plain": [
       "[PhysicalDevice(name='/physical_device:GPU:0', device_type='GPU')]"
      ]
     },
     "execution_count": 2,
     "metadata": {},
     "output_type": "execute_result"
    }
   ],
   "source": [
    "tf.config.list_physical_devices('GPU')"
   ]
  },
  {
   "cell_type": "code",
   "execution_count": 3,
   "metadata": {},
   "outputs": [
    {
     "name": "stdout",
     "output_type": "stream",
     "text": [
      "1 Physical GPUs, 1 Logical GPUs\n"
     ]
    }
   ],
   "source": [
    "gpus = tf.config.experimental.list_physical_devices('GPU')\n",
    "if gpus:\n",
    "    try:\n",
    "        for gpu in gpus:\n",
    "            tf.config.experimental.set_memory_growth(gpu, True)\n",
    "        logical_gpus = tf.config.experimental.list_logical_devices('GPU')\n",
    "        print(len(gpus), \"Physical GPUs,\", len(logical_gpus), \"Logical GPUs\")\n",
    "    except RuntimeError as e:\n",
    "        print(e)"
   ]
  },
  {
   "cell_type": "code",
   "execution_count": 4,
   "metadata": {},
   "outputs": [
    {
     "name": "stdout",
     "output_type": "stream",
     "text": [
      "INFO:tensorflow:Using MirroredStrategy with devices ('/job:localhost/replica:0/task:0/device:GPU:0',)\n"
     ]
    }
   ],
   "source": [
    "strategy = tf.distribute.MirroredStrategy()"
   ]
  },
  {
   "cell_type": "markdown",
   "metadata": {},
   "source": [
    "# Hyperparameters"
   ]
  },
  {
   "cell_type": "code",
   "execution_count": 5,
   "metadata": {},
   "outputs": [],
   "source": [
    "PRE_TRAINED = './models/pg_convnet.h5'\n",
    "BEST_PATH = './models/pg_cv_transfer.h5'\n",
    "TRAINING_EPOCHS = 200\n",
    "LEARNING_RATE = 0.002\n",
    "EPSILON = 1e-08\n",
    "BATCH_SIZE = 128"
   ]
  },
  {
   "cell_type": "markdown",
   "metadata": {},
   "source": [
    "# Data preparation"
   ]
  },
  {
   "cell_type": "code",
   "execution_count": 6,
   "metadata": {},
   "outputs": [],
   "source": [
    "l = np.load('./results/pg_dataset.npz', allow_pickle=True)\n",
    "data_indices_2020S = l['data_indices_2020S']\n",
    "output_label_2020S = l['output_label_2020S']\n",
    "data_indices_2020W = l['data_indices_2020W']\n",
    "output_label_2020W = l['output_label_2020W']\n",
    "OUTPUT_MAXS = l['OUTPUT_MAXS']\n",
    "OUTPUT_MINS = l['OUTPUT_MINS']"
   ]
  },
  {
   "cell_type": "code",
   "execution_count": 7,
   "metadata": {},
   "outputs": [],
   "source": [
    "COLUMNS = ['node_len', 'node_dia', 'plant_h', 'leaf_area']"
   ]
  },
  {
   "cell_type": "code",
   "execution_count": 8,
   "metadata": {},
   "outputs": [],
   "source": [
    "output_2020S_df = pd.DataFrame(output_label_2020S, index=data_indices_2020S, columns=COLUMNS)\n",
    "output_2020W_df = pd.DataFrame(output_label_2020W, index=data_indices_2020W, columns=COLUMNS)"
   ]
  },
  {
   "cell_type": "code",
   "execution_count": 9,
   "metadata": {},
   "outputs": [],
   "source": [
    "DIRECTORY = './images/2020_W/'\n",
    "dir_list = os.listdir(DIRECTORY)\n",
    "dataset_list = [direc for direc in dir_list if direc.startswith('LAI_OVER') or direc.startswith('LAI2_OVER')]\n",
    "dataset_list.sort()"
   ]
  },
  {
   "cell_type": "code",
   "execution_count": 10,
   "metadata": {},
   "outputs": [],
   "source": [
    "data_indices = []\n",
    "input_images = []\n",
    "output_labels = []\n",
    "for DATE in output_2020W_df.index:\n",
    "    for DIRECTORY in dataset_list:\n",
    "        if DATE in DIRECTORY:\n",
    "            file_list = os.listdir(f'./images/2020_W/{DIRECTORY}')\n",
    "            file_list = [file for file in file_list if file.endswith('.jpg')]\n",
    "            for FILE in file_list:\n",
    "                TIME = pd.Timedelta(FILE.split()[-1].split('.')[0])\n",
    "                if TIME >= pd.Timedelta('08:00:00') and TIME <= pd.Timedelta('16:00:00'):\n",
    "                    image = Image.open(f'./images/2020_W/{DIRECTORY}/{FILE}')\n",
    "                    data_indices.append(pd.Timestamp(DATE))\n",
    "                    input_images.append(img_to_array(image))\n",
    "                    output_labels.append(output_2020W_df.loc[DATE].values)"
   ]
  },
  {
   "cell_type": "code",
   "execution_count": 11,
   "metadata": {},
   "outputs": [],
   "source": [
    "input_images = np.stack(input_images, axis=0)\n",
    "output_labels = np.stack(output_labels, axis=0)\n",
    "data_indices = np.array(data_indices)"
   ]
  },
  {
   "cell_type": "code",
   "execution_count": 12,
   "metadata": {},
   "outputs": [
    {
     "name": "stdout",
     "output_type": "stream",
     "text": [
      "6505\n",
      "(6505, 256, 256, 3)\n",
      "(6505, 4)\n"
     ]
    }
   ],
   "source": [
    "print(len(data_indices))\n",
    "print(input_images.shape)\n",
    "print(output_labels.shape)"
   ]
  },
  {
   "cell_type": "code",
   "execution_count": 13,
   "metadata": {},
   "outputs": [],
   "source": [
    "data_indices, input_images, output_labels = resample(data_indices, input_images, output_labels, n_samples=3000, replace=False, random_state=4574)"
   ]
  },
  {
   "cell_type": "code",
   "execution_count": 14,
   "metadata": {},
   "outputs": [
    {
     "name": "stdout",
     "output_type": "stream",
     "text": [
      "3000\n",
      "(3000, 256, 256, 3)\n",
      "(3000, 4)\n"
     ]
    }
   ],
   "source": [
    "print(len(data_indices))\n",
    "print(input_images.shape)\n",
    "print(output_labels.shape)"
   ]
  },
  {
   "cell_type": "code",
   "execution_count": 15,
   "metadata": {},
   "outputs": [
    {
     "data": {
      "text/plain": [
       "22"
      ]
     },
     "execution_count": 15,
     "metadata": {},
     "output_type": "execute_result"
    }
   ],
   "source": [
    "gc.collect()"
   ]
  },
  {
   "cell_type": "code",
   "execution_count": 16,
   "metadata": {},
   "outputs": [],
   "source": [
    "N_TRAIN = int(output_labels.shape[0]*.3)\n",
    "train_input = input_images[:N_TRAIN, ...]\n",
    "train_label = output_labels[:N_TRAIN, ...]\n",
    "train_index = data_indices[:N_TRAIN]\n",
    "test_input = input_images[N_TRAIN:, ...]\n",
    "test_label = output_labels[N_TRAIN:, ...]\n",
    "test_index = data_indices[N_TRAIN:]"
   ]
  },
  {
   "cell_type": "code",
   "execution_count": 17,
   "metadata": {},
   "outputs": [],
   "source": [
    "train_index, val_index, train_input, val_input, train_label, val_label = train_test_split(train_index, train_input, train_label, test_size=0.3, shuffle=True, random_state=3101)"
   ]
  },
  {
   "cell_type": "code",
   "execution_count": 18,
   "metadata": {},
   "outputs": [],
   "source": [
    "datagen = ImageDataGenerator(\n",
    "    rescale=1/255,\n",
    "    width_shift_range=0.1,\n",
    "    height_shift_range=0.1,\n",
    "    horizontal_flip=True,\n",
    "    fill_mode='nearest')"
   ]
  },
  {
   "cell_type": "code",
   "execution_count": 19,
   "metadata": {},
   "outputs": [],
   "source": [
    "train_iterator = datagen.flow(train_input, train_label, batch_size=BATCH_SIZE)\n",
    "val_iterator = datagen.flow(val_input, val_label, batch_size=BATCH_SIZE)\n",
    "test_iterator = datagen.flow(test_input, test_label, batch_size=BATCH_SIZE)"
   ]
  },
  {
   "cell_type": "code",
   "execution_count": 20,
   "metadata": {},
   "outputs": [
    {
     "name": "stdout",
     "output_type": "stream",
     "text": [
      "number of data set: 3000\n",
      "number of training set: 630\n",
      "number of validation set: 270\n",
      "number of test set: 2100\n"
     ]
    }
   ],
   "source": [
    "print(f'number of data set: {input_images.shape[0]}')\n",
    "print(f'number of training set: {train_input.shape[0]}')\n",
    "print(f'number of validation set: {val_input.shape[0]}')\n",
    "print(f'number of test set: {test_input.shape[0]}')"
   ]
  },
  {
   "cell_type": "code",
   "execution_count": 21,
   "metadata": {},
   "outputs": [
    {
     "data": {
      "text/plain": [
       "0"
      ]
     },
     "execution_count": 21,
     "metadata": {},
     "output_type": "execute_result"
    }
   ],
   "source": [
    "gc.collect()"
   ]
  },
  {
   "cell_type": "markdown",
   "metadata": {},
   "source": [
    "# Model construction"
   ]
  },
  {
   "cell_type": "code",
   "execution_count": 22,
   "metadata": {},
   "outputs": [],
   "source": [
    "class ResidualBlock(layers.Layer):\n",
    "    def __init__(self, num_filter, stride=1):\n",
    "        super(ResidualBlock, self).__init__()\n",
    "        self.n = num_filter\n",
    "        self.s = stride\n",
    "        \n",
    "        self.conv1 = layers.Conv2D(filters=self.n, kernel_size=1, strides=1, kernel_initializer='glorot_normal', padding='same')\n",
    "        self.norm1 = layers.BatchNormalization()\n",
    "        self.act1 = layers.Activation(activations.relu)\n",
    "        self.conv2 = layers.Conv2D(filters=self.n, kernel_size=3, strides=stride, kernel_initializer='glorot_normal', padding='same')\n",
    "        self.norm2 = layers.BatchNormalization()\n",
    "        self.act2 = layers.Activation(activations.relu)\n",
    "        self.conv3 = layers.Conv2D(filters=self.n*4, kernel_size=1, strides=1, kernel_initializer='glorot_normal', padding='same')\n",
    "        self.norm3 = layers.BatchNormalization()\n",
    "        self.act3 = layers.Activation(activations.relu)\n",
    "\n",
    "        self.downsample = Sequential()\n",
    "        self.downsample.add(layers.Conv2D(filters=self.n*4, kernel_size=1, strides=stride, kernel_initializer='glorot_normal'))\n",
    "        self.downsample.add(layers.BatchNormalization())\n",
    "\n",
    "    def call(self, inp, training=None, **kwargs):\n",
    "        shortcut = self.downsample(inp)\n",
    "\n",
    "        inp = self.act1(self.norm1(self.conv1(inp), training=training))\n",
    "        inp = self.act2(self.norm2(self.conv2(inp), training=training))\n",
    "        inp = self.norm3(self.conv3(inp), training=training)\n",
    "\n",
    "        oup = self.act3(layers.add([shortcut, inp]))\n",
    "\n",
    "        return oup"
   ]
  },
  {
   "cell_type": "code",
   "execution_count": 23,
   "metadata": {},
   "outputs": [],
   "source": [
    "def block_maker(num_filter, num_blocks, stride=1):\n",
    "    res_block = tf.keras.Sequential()\n",
    "    res_block.add(ResidualBlock(num_filter, stride=stride))\n",
    "\n",
    "    for _ in range(1, num_blocks):\n",
    "        res_block.add(ResidualBlock(num_filter, stride=1))\n",
    "\n",
    "    return res_block"
   ]
  },
  {
   "cell_type": "code",
   "execution_count": 24,
   "metadata": {},
   "outputs": [],
   "source": [
    "class ResNet2D(Model):\n",
    "    def __init__(self, layer_params):\n",
    "        super(ResNet2D, self).__init__()\n",
    "        self.conv1 = layers.Conv2D(filters=64, kernel_size=7, strides=2, kernel_initializer='glorot_normal', padding=\"same\")\n",
    "        self.norm1 = layers.BatchNormalization()\n",
    "        self.act1 = layers.Activation(activations.relu)\n",
    "        self.pool1 = layers.MaxPool2D(pool_size=(3, 3), strides=2, padding=\"same\")\n",
    "\n",
    "        self.layer1 = block_maker(num_filter=64, num_blocks=layer_params[0])\n",
    "        self.layer2 = block_maker(num_filter=128, num_blocks=layer_params[1], stride=2)\n",
    "        self.layer3 = block_maker(num_filter=256, num_blocks=layer_params[2], stride=2)\n",
    "        self.layer4 = block_maker(num_filter=512, num_blocks=layer_params[3], stride=2)\n",
    "\n",
    "#         self.avgpool = layers.GlobalAveragePooling1D()\n",
    "        self.flat = layers.Flatten()\n",
    "        self.dense1 = layers.Dense(units=512, activation='relu')\n",
    "        self.dense2 = layers.Dense(units=128, activation='relu')\n",
    "        self.fc = layers.Dense(units=4)\n",
    "\n",
    "    def call(self, inp, training=None, mask=None):\n",
    "        inp = self.conv1(inp)\n",
    "        inp = self.norm1(inp, training=training)\n",
    "        inp = self.act1(inp)\n",
    "        inp = self.pool1(inp)\n",
    "        inp = self.layer1(inp, training=training)\n",
    "        inp = self.layer2(inp, training=training)\n",
    "        inp = self.layer3(inp, training=training)\n",
    "        inp = self.layer4(inp, training=training)\n",
    "#         inp = self.avgpool(inp)\n",
    "        inp = self.dense1(self.flat(inp))\n",
    "        inp = self.dense2(inp)\n",
    "        output = self.fc(inp)\n",
    "\n",
    "        return output"
   ]
  },
  {
   "cell_type": "code",
   "execution_count": 25,
   "metadata": {},
   "outputs": [],
   "source": [
    "with strategy.scope():\n",
    "    model = ResNet2D(layer_params=[2, 3, 2, 1])"
   ]
  },
  {
   "cell_type": "code",
   "execution_count": 26,
   "metadata": {},
   "outputs": [],
   "source": [
    "cbs = callbacks.ReduceLROnPlateau(\n",
    "    monitor='val_loss', factor=.1, patience=5, verbose=0, mode='auto',\n",
    "    min_delta=0.0001, cooldown=0, min_lr=0)\n",
    "\n",
    "save = callbacks.ModelCheckpoint(\n",
    "    BEST_PATH, monitor='val_loss', verbose=0,\n",
    "    save_best_only=True, save_weights_only=True, mode='min', save_freq='epoch')\n",
    "\n",
    "early_stop = callbacks.EarlyStopping(monitor='val_loss', min_delta=0.0001, patience=20)"
   ]
  },
  {
   "cell_type": "code",
   "execution_count": 27,
   "metadata": {
    "scrolled": true
   },
   "outputs": [
    {
     "name": "stdout",
     "output_type": "stream",
     "text": [
      "WARNING:tensorflow:From /home/ubuntu/anaconda3/envs/tensorflow2_p36/lib/python3.6/site-packages/tensorflow/python/data/ops/multi_device_iterator_ops.py:601: get_next_as_optional (from tensorflow.python.data.ops.iterator_ops) is deprecated and will be removed in a future version.\n",
      "Instructions for updating:\n",
      "Use `tf.data.Iterator.get_next_as_optional()` instead.\n",
      "INFO:tensorflow:Reduce to /job:localhost/replica:0/task:0/device:CPU:0 then broadcast to ('/job:localhost/replica:0/task:0/device:CPU:0',).\n",
      "INFO:tensorflow:Reduce to /job:localhost/replica:0/task:0/device:CPU:0 then broadcast to ('/job:localhost/replica:0/task:0/device:CPU:0',).\n",
      "INFO:tensorflow:Reduce to /job:localhost/replica:0/task:0/device:CPU:0 then broadcast to ('/job:localhost/replica:0/task:0/device:CPU:0',).\n",
      "INFO:tensorflow:Reduce to /job:localhost/replica:0/task:0/device:CPU:0 then broadcast to ('/job:localhost/replica:0/task:0/device:CPU:0',).\n",
      "INFO:tensorflow:Reduce to /job:localhost/replica:0/task:0/device:CPU:0 then broadcast to ('/job:localhost/replica:0/task:0/device:CPU:0',).\n",
      "INFO:tensorflow:Reduce to /job:localhost/replica:0/task:0/device:CPU:0 then broadcast to ('/job:localhost/replica:0/task:0/device:CPU:0',).\n",
      "INFO:tensorflow:Reduce to /job:localhost/replica:0/task:0/device:CPU:0 then broadcast to ('/job:localhost/replica:0/task:0/device:CPU:0',).\n",
      "INFO:tensorflow:Reduce to /job:localhost/replica:0/task:0/device:CPU:0 then broadcast to ('/job:localhost/replica:0/task:0/device:CPU:0',).\n",
      "INFO:tensorflow:Reduce to /job:localhost/replica:0/task:0/device:CPU:0 then broadcast to ('/job:localhost/replica:0/task:0/device:CPU:0',).\n",
      "INFO:tensorflow:Reduce to /job:localhost/replica:0/task:0/device:CPU:0 then broadcast to ('/job:localhost/replica:0/task:0/device:CPU:0',).\n"
     ]
    }
   ],
   "source": [
    "with strategy.scope():\n",
    "    opt = optimizers.Adam(learning_rate=LEARNING_RATE, epsilon=EPSILON)\n",
    "    model.compile(optimizer=opt, loss='mae')\n",
    "    model.predict(val_input[:5, ...]/255)\n",
    "    model.load_weights(PRE_TRAINED)\n",
    "    model.save_weights(BEST_PATH) # For deep copy\n",
    "    model.load_weights(BEST_PATH)"
   ]
  },
  {
   "cell_type": "code",
   "execution_count": 28,
   "metadata": {},
   "outputs": [],
   "source": [
    "with strategy.scope():\n",
    "    prediction_layer1 = layers.Conv2D(filters=64, kernel_size=7, strides=2, kernel_initializer='glorot_normal', padding=\"same\")\n",
    "    base_model = Sequential(model.layers[1:-3])\n",
    "    prediction_layer2 = layers.Dense(512, activation='relu')\n",
    "    prediction_layer3 = layers.Dense(128, activation='relu')\n",
    "    prediction_layer4 = layers.Dense(4)"
   ]
  },
  {
   "cell_type": "code",
   "execution_count": 29,
   "metadata": {},
   "outputs": [],
   "source": [
    "base_model.trainable = False"
   ]
  },
  {
   "cell_type": "code",
   "execution_count": 30,
   "metadata": {},
   "outputs": [],
   "source": [
    "with strategy.scope():\n",
    "    new_model = Sequential([\n",
    "        prediction_layer1,\n",
    "        base_model,\n",
    "        prediction_layer2,\n",
    "        prediction_layer3,\n",
    "        prediction_layer4\n",
    "    ])"
   ]
  },
  {
   "cell_type": "code",
   "execution_count": 31,
   "metadata": {},
   "outputs": [
    {
     "data": {
      "text/plain": [
       "1380"
      ]
     },
     "execution_count": 31,
     "metadata": {},
     "output_type": "execute_result"
    }
   ],
   "source": [
    "gc.collect()"
   ]
  },
  {
   "cell_type": "code",
   "execution_count": 32,
   "metadata": {
    "scrolled": true
   },
   "outputs": [
    {
     "name": "stdout",
     "output_type": "stream",
     "text": [
      "WARNING:tensorflow:Using MirroredStrategy eagerly has significant overhead currently. We will be working on improving this in the future, but for now please wrap `call_for_each_replica` or `experimental_run` or `experimental_run_v2` inside a tf.function to get the best performance.\n",
      "Epoch 1/200\n",
      "5/5 [==============================] - 40s 8s/step - loss: 1.5085 - val_loss: 0.6474\n",
      "Epoch 2/200\n",
      "5/5 [==============================] - 37s 7s/step - loss: 0.5970 - val_loss: 0.4815\n",
      "Epoch 3/200\n",
      "5/5 [==============================] - 38s 8s/step - loss: 0.3499 - val_loss: 0.2946\n",
      "Epoch 4/200\n",
      "5/5 [==============================] - 37s 7s/step - loss: 0.2848 - val_loss: 0.2888\n",
      "Epoch 5/200\n",
      "5/5 [==============================] - 37s 7s/step - loss: 0.2321 - val_loss: 0.2472\n",
      "Epoch 6/200\n",
      "5/5 [==============================] - 37s 7s/step - loss: 0.2055 - val_loss: 0.1880\n",
      "Epoch 7/200\n",
      "5/5 [==============================] - 37s 7s/step - loss: 0.1640 - val_loss: 0.1660\n",
      "Epoch 8/200\n",
      "5/5 [==============================] - 37s 7s/step - loss: 0.1321 - val_loss: 0.1093\n",
      "Epoch 9/200\n",
      "5/5 [==============================] - 36s 7s/step - loss: 0.1181 - val_loss: 0.1299\n",
      "Epoch 10/200\n",
      "5/5 [==============================] - 37s 7s/step - loss: 0.1148 - val_loss: 0.1066\n",
      "Epoch 11/200\n",
      "5/5 [==============================] - 36s 7s/step - loss: 0.0972 - val_loss: 0.1165\n",
      "Epoch 12/200\n",
      "5/5 [==============================] - 37s 7s/step - loss: 0.1054 - val_loss: 0.1045\n",
      "Epoch 13/200\n",
      "5/5 [==============================] - 37s 7s/step - loss: 0.0960 - val_loss: 0.0982\n",
      "Epoch 14/200\n",
      "5/5 [==============================] - 37s 7s/step - loss: 0.0864 - val_loss: 0.0858\n",
      "Epoch 15/200\n",
      "5/5 [==============================] - 37s 7s/step - loss: 0.0837 - val_loss: 0.0787\n",
      "Epoch 16/200\n",
      "5/5 [==============================] - 37s 7s/step - loss: 0.0797 - val_loss: 0.0776\n",
      "Epoch 17/200\n",
      "5/5 [==============================] - 36s 7s/step - loss: 0.0756 - val_loss: 0.0819\n",
      "Epoch 18/200\n",
      "5/5 [==============================] - 36s 7s/step - loss: 0.0833 - val_loss: 0.0957\n",
      "Epoch 19/200\n",
      "5/5 [==============================] - 36s 7s/step - loss: 0.0936 - val_loss: 0.1484\n",
      "Epoch 20/200\n",
      "5/5 [==============================] - 36s 7s/step - loss: 0.1276 - val_loss: 0.1477\n",
      "Epoch 21/200\n",
      "5/5 [==============================] - 36s 7s/step - loss: 0.1227 - val_loss: 0.1056\n",
      "Epoch 22/200\n",
      "5/5 [==============================] - 36s 7s/step - loss: 0.0991 - val_loss: 0.0842\n",
      "Epoch 23/200\n",
      "5/5 [==============================] - 37s 7s/step - loss: 0.0735 - val_loss: 0.0764\n",
      "Epoch 24/200\n",
      "5/5 [==============================] - 37s 7s/step - loss: 0.0683 - val_loss: 0.0662\n",
      "Epoch 25/200\n",
      "5/5 [==============================] - 37s 7s/step - loss: 0.0648 - val_loss: 0.0650\n",
      "Epoch 26/200\n",
      "5/5 [==============================] - 36s 7s/step - loss: 0.0612 - val_loss: 0.0659\n",
      "Epoch 27/200\n",
      "5/5 [==============================] - 37s 7s/step - loss: 0.0579 - val_loss: 0.0647\n",
      "Epoch 28/200\n",
      "5/5 [==============================] - 37s 7s/step - loss: 0.0576 - val_loss: 0.0623\n",
      "Epoch 29/200\n",
      "5/5 [==============================] - 37s 7s/step - loss: 0.0564 - val_loss: 0.0603\n",
      "Epoch 30/200\n",
      "5/5 [==============================] - 37s 7s/step - loss: 0.0546 - val_loss: 0.0598\n",
      "Epoch 31/200\n",
      "5/5 [==============================] - 37s 7s/step - loss: 0.0562 - val_loss: 0.0581\n",
      "Epoch 32/200\n",
      "5/5 [==============================] - 37s 7s/step - loss: 0.0554 - val_loss: 0.0581\n",
      "Epoch 33/200\n",
      "5/5 [==============================] - 37s 7s/step - loss: 0.0539 - val_loss: 0.0574\n",
      "Epoch 34/200\n",
      "5/5 [==============================] - 37s 7s/step - loss: 0.0546 - val_loss: 0.0572\n",
      "Epoch 35/200\n",
      "5/5 [==============================] - 37s 7s/step - loss: 0.0541 - val_loss: 0.0568\n",
      "Epoch 36/200\n",
      "5/5 [==============================] - 36s 7s/step - loss: 0.0543 - val_loss: 0.0574\n",
      "Epoch 37/200\n",
      "5/5 [==============================] - 36s 7s/step - loss: 0.0512 - val_loss: 0.0569\n",
      "Epoch 38/200\n",
      "5/5 [==============================] - 36s 7s/step - loss: 0.0517 - val_loss: 0.0576\n",
      "Epoch 39/200\n",
      "5/5 [==============================] - 37s 7s/step - loss: 0.0518 - val_loss: 0.0555\n",
      "Epoch 40/200\n",
      "5/5 [==============================] - 37s 7s/step - loss: 0.0518 - val_loss: 0.0544\n",
      "Epoch 41/200\n",
      "5/5 [==============================] - 37s 7s/step - loss: 0.0505 - val_loss: 0.0540\n",
      "Epoch 42/200\n",
      "5/5 [==============================] - 36s 7s/step - loss: 0.0504 - val_loss: 0.0542\n",
      "Epoch 43/200\n",
      "5/5 [==============================] - 36s 7s/step - loss: 0.0508 - val_loss: 0.0540\n",
      "Epoch 44/200\n",
      "5/5 [==============================] - 37s 7s/step - loss: 0.0495 - val_loss: 0.0527\n",
      "Epoch 45/200\n",
      "5/5 [==============================] - 37s 7s/step - loss: 0.0478 - val_loss: 0.0527\n",
      "Epoch 46/200\n",
      "5/5 [==============================] - 37s 7s/step - loss: 0.0482 - val_loss: 0.0520\n",
      "Epoch 47/200\n",
      "5/5 [==============================] - 36s 7s/step - loss: 0.0492 - val_loss: 0.0525\n",
      "Epoch 48/200\n",
      "5/5 [==============================] - 37s 7s/step - loss: 0.0478 - val_loss: 0.0516\n",
      "Epoch 49/200\n",
      "5/5 [==============================] - 37s 7s/step - loss: 0.0463 - val_loss: 0.0510\n",
      "Epoch 50/200\n",
      "5/5 [==============================] - 37s 7s/step - loss: 0.0474 - val_loss: 0.0505\n",
      "Epoch 51/200\n",
      "5/5 [==============================] - 36s 7s/step - loss: 0.0465 - val_loss: 0.0534\n",
      "Epoch 52/200\n",
      "5/5 [==============================] - 36s 7s/step - loss: 0.0486 - val_loss: 0.0516\n",
      "Epoch 53/200\n",
      "5/5 [==============================] - 36s 7s/step - loss: 0.0469 - val_loss: 0.0506\n",
      "Epoch 54/200\n",
      "5/5 [==============================] - 37s 7s/step - loss: 0.0468 - val_loss: 0.0490\n",
      "Epoch 55/200\n",
      "5/5 [==============================] - 36s 7s/step - loss: 0.0455 - val_loss: 0.0491\n",
      "Epoch 56/200\n",
      "5/5 [==============================] - 36s 7s/step - loss: 0.0447 - val_loss: 0.0498\n",
      "Epoch 57/200\n",
      "5/5 [==============================] - 38s 8s/step - loss: 0.0462 - val_loss: 0.0481\n",
      "Epoch 58/200\n",
      "5/5 [==============================] - 36s 7s/step - loss: 0.0451 - val_loss: 0.0491\n",
      "Epoch 59/200\n",
      "5/5 [==============================] - 37s 7s/step - loss: 0.0458 - val_loss: 0.0479\n",
      "Epoch 60/200\n",
      "5/5 [==============================] - 37s 7s/step - loss: 0.0433 - val_loss: 0.0477\n",
      "Epoch 61/200\n",
      "5/5 [==============================] - 36s 7s/step - loss: 0.0454 - val_loss: 0.0511\n",
      "Epoch 62/200\n",
      "5/5 [==============================] - 36s 7s/step - loss: 0.0456 - val_loss: 0.0485\n",
      "Epoch 63/200\n",
      "5/5 [==============================] - 36s 7s/step - loss: 0.0441 - val_loss: 0.0479\n",
      "Epoch 64/200\n",
      "5/5 [==============================] - 37s 7s/step - loss: 0.0447 - val_loss: 0.0471\n",
      "Epoch 65/200\n",
      "5/5 [==============================] - 36s 7s/step - loss: 0.0441 - val_loss: 0.0473\n",
      "Epoch 66/200\n",
      "5/5 [==============================] - 36s 7s/step - loss: 0.0420 - val_loss: 0.0478\n",
      "Epoch 67/200\n",
      "5/5 [==============================] - 37s 7s/step - loss: 0.0436 - val_loss: 0.0458\n",
      "Epoch 68/200\n",
      "5/5 [==============================] - 36s 7s/step - loss: 0.0421 - val_loss: 0.0471\n",
      "Epoch 69/200\n",
      "5/5 [==============================] - 37s 7s/step - loss: 0.0428 - val_loss: 0.0455\n",
      "Epoch 70/200\n",
      "5/5 [==============================] - 37s 7s/step - loss: 0.0422 - val_loss: 0.0453\n",
      "Epoch 71/200\n",
      "5/5 [==============================] - 36s 7s/step - loss: 0.0424 - val_loss: 0.0455\n",
      "Epoch 72/200\n",
      "5/5 [==============================] - 36s 7s/step - loss: 0.0428 - val_loss: 0.0459\n",
      "Epoch 73/200\n",
      "5/5 [==============================] - 37s 7s/step - loss: 0.0405 - val_loss: 0.0446\n",
      "Epoch 74/200\n",
      "5/5 [==============================] - 36s 7s/step - loss: 0.0398 - val_loss: 0.0449\n",
      "Epoch 75/200\n",
      "5/5 [==============================] - 36s 7s/step - loss: 0.0402 - val_loss: 0.0453\n",
      "Epoch 76/200\n",
      "5/5 [==============================] - 38s 8s/step - loss: 0.0396 - val_loss: 0.0445\n",
      "Epoch 77/200\n",
      "5/5 [==============================] - 36s 7s/step - loss: 0.0395 - val_loss: 0.0448\n",
      "Epoch 78/200\n",
      "5/5 [==============================] - 36s 7s/step - loss: 0.0401 - val_loss: 0.0449\n",
      "Epoch 79/200\n",
      "5/5 [==============================] - 37s 7s/step - loss: 0.0402 - val_loss: 0.0446\n",
      "Epoch 80/200\n",
      "5/5 [==============================] - 37s 7s/step - loss: 0.0396 - val_loss: 0.0444\n",
      "Epoch 81/200\n",
      "5/5 [==============================] - 37s 7s/step - loss: 0.0382 - val_loss: 0.0436\n",
      "Epoch 82/200\n",
      "5/5 [==============================] - 36s 7s/step - loss: 0.0401 - val_loss: 0.0436\n",
      "Epoch 83/200\n",
      "5/5 [==============================] - 37s 7s/step - loss: 0.0379 - val_loss: 0.0434\n",
      "Epoch 84/200\n",
      "5/5 [==============================] - 36s 7s/step - loss: 0.0394 - val_loss: 0.0436\n",
      "Epoch 85/200\n",
      "5/5 [==============================] - 37s 7s/step - loss: 0.0386 - val_loss: 0.0431\n",
      "Epoch 86/200\n",
      "5/5 [==============================] - 36s 7s/step - loss: 0.0381 - val_loss: 0.0434\n",
      "Epoch 87/200\n",
      "5/5 [==============================] - 37s 7s/step - loss: 0.0394 - val_loss: 0.0423\n",
      "Epoch 88/200\n",
      "5/5 [==============================] - 36s 7s/step - loss: 0.0379 - val_loss: 0.0423\n",
      "Epoch 89/200\n",
      "5/5 [==============================] - 36s 7s/step - loss: 0.0377 - val_loss: 0.0427\n",
      "Epoch 90/200\n",
      "5/5 [==============================] - 36s 7s/step - loss: 0.0385 - val_loss: 0.0438\n",
      "Epoch 91/200\n",
      "5/5 [==============================] - 36s 7s/step - loss: 0.0379 - val_loss: 0.0424\n",
      "Epoch 92/200\n",
      "5/5 [==============================] - 36s 7s/step - loss: 0.0381 - val_loss: 0.0448\n",
      "Epoch 93/200\n",
      "5/5 [==============================] - 36s 7s/step - loss: 0.0402 - val_loss: 0.0423\n",
      "Epoch 94/200\n",
      "5/5 [==============================] - 37s 7s/step - loss: 0.0367 - val_loss: 0.0418\n",
      "Epoch 95/200\n",
      "5/5 [==============================] - 36s 7s/step - loss: 0.0356 - val_loss: 0.0419\n",
      "Epoch 96/200\n",
      "5/5 [==============================] - 36s 7s/step - loss: 0.0345 - val_loss: 0.0420\n",
      "Epoch 97/200\n",
      "5/5 [==============================] - 37s 7s/step - loss: 0.0363 - val_loss: 0.0407\n",
      "Epoch 98/200\n",
      "5/5 [==============================] - 36s 7s/step - loss: 0.0364 - val_loss: 0.0408\n",
      "Epoch 99/200\n",
      "5/5 [==============================] - 37s 7s/step - loss: 0.0360 - val_loss: 0.0406\n",
      "Epoch 100/200\n",
      "5/5 [==============================] - 36s 7s/step - loss: 0.0357 - val_loss: 0.0412\n",
      "Epoch 101/200\n",
      "5/5 [==============================] - 37s 7s/step - loss: 0.0361 - val_loss: 0.0403\n",
      "Epoch 102/200\n",
      "5/5 [==============================] - 36s 7s/step - loss: 0.0371 - val_loss: 0.0411\n",
      "Epoch 103/200\n",
      "5/5 [==============================] - 36s 7s/step - loss: 0.0349 - val_loss: 0.0406\n",
      "Epoch 104/200\n",
      "5/5 [==============================] - 36s 7s/step - loss: 0.0352 - val_loss: 0.0405\n",
      "Epoch 105/200\n",
      "5/5 [==============================] - 37s 7s/step - loss: 0.0351 - val_loss: 0.0401\n",
      "Epoch 106/200\n",
      "5/5 [==============================] - 36s 7s/step - loss: 0.0366 - val_loss: 0.0408\n",
      "Epoch 107/200\n",
      "5/5 [==============================] - 36s 7s/step - loss: 0.0376 - val_loss: 0.0406\n",
      "Epoch 108/200\n",
      "5/5 [==============================] - 36s 7s/step - loss: 0.0384 - val_loss: 0.0405\n",
      "Epoch 109/200\n",
      "5/5 [==============================] - 36s 7s/step - loss: 0.0373 - val_loss: 0.0403\n",
      "Epoch 110/200\n",
      "5/5 [==============================] - 36s 7s/step - loss: 0.0372 - val_loss: 0.0405\n",
      "Epoch 111/200\n",
      "5/5 [==============================] - 36s 7s/step - loss: 0.0343 - val_loss: 0.0410\n",
      "Epoch 112/200\n",
      "5/5 [==============================] - 36s 7s/step - loss: 0.0357 - val_loss: 0.0405\n",
      "Epoch 113/200\n",
      "5/5 [==============================] - 36s 7s/step - loss: 0.0363 - val_loss: 0.0408\n",
      "Epoch 114/200\n",
      "5/5 [==============================] - 36s 7s/step - loss: 0.0377 - val_loss: 0.0404\n",
      "Epoch 115/200\n",
      "5/5 [==============================] - 36s 7s/step - loss: 0.0363 - val_loss: 0.0404\n",
      "Epoch 116/200\n",
      "5/5 [==============================] - 36s 7s/step - loss: 0.0379 - val_loss: 0.0408\n",
      "Epoch 117/200\n",
      "5/5 [==============================] - 36s 7s/step - loss: 0.0355 - val_loss: 0.0407\n",
      "Epoch 118/200\n",
      "5/5 [==============================] - 36s 7s/step - loss: 0.0373 - val_loss: 0.0404\n",
      "Epoch 119/200\n",
      "5/5 [==============================] - 36s 7s/step - loss: 0.0368 - val_loss: 0.0411\n",
      "Epoch 120/200\n",
      "5/5 [==============================] - 36s 7s/step - loss: 0.0362 - val_loss: 0.0409\n",
      "Epoch 121/200\n",
      "5/5 [==============================] - 36s 7s/step - loss: 0.0365 - val_loss: 0.0415\n",
      "Epoch 122/200\n",
      "5/5 [==============================] - 36s 7s/step - loss: 0.0367 - val_loss: 0.0403\n",
      "Epoch 123/200\n",
      "5/5 [==============================] - 37s 7s/step - loss: 0.0349 - val_loss: 0.0400\n",
      "Epoch 124/200\n",
      "5/5 [==============================] - 37s 7s/step - loss: 0.0360 - val_loss: 0.0396\n",
      "Epoch 125/200\n",
      "5/5 [==============================] - 36s 7s/step - loss: 0.0378 - val_loss: 0.0404\n",
      "Epoch 126/200\n",
      "5/5 [==============================] - 36s 7s/step - loss: 0.0346 - val_loss: 0.0406\n",
      "Epoch 127/200\n",
      "5/5 [==============================] - 36s 7s/step - loss: 0.0370 - val_loss: 0.0408\n",
      "Epoch 128/200\n",
      "5/5 [==============================] - 36s 7s/step - loss: 0.0348 - val_loss: 0.0404\n",
      "Epoch 129/200\n",
      "5/5 [==============================] - 36s 7s/step - loss: 0.0351 - val_loss: 0.0403\n",
      "Epoch 130/200\n",
      "5/5 [==============================] - 36s 7s/step - loss: 0.0370 - val_loss: 0.0407\n",
      "Epoch 131/200\n",
      "5/5 [==============================] - 37s 7s/step - loss: 0.0363 - val_loss: 0.0395\n",
      "Epoch 132/200\n",
      "5/5 [==============================] - 36s 7s/step - loss: 0.0352 - val_loss: 0.0401\n",
      "Epoch 133/200\n",
      "5/5 [==============================] - 36s 7s/step - loss: 0.0363 - val_loss: 0.0416\n",
      "Epoch 134/200\n",
      "5/5 [==============================] - 37s 7s/step - loss: 0.0355 - val_loss: 0.0392\n",
      "Epoch 135/200\n",
      "5/5 [==============================] - 36s 7s/step - loss: 0.0368 - val_loss: 0.0407\n",
      "Epoch 136/200\n",
      "5/5 [==============================] - 36s 7s/step - loss: 0.0366 - val_loss: 0.0409\n",
      "Epoch 137/200\n",
      "5/5 [==============================] - 36s 7s/step - loss: 0.0344 - val_loss: 0.0403\n",
      "Epoch 138/200\n",
      "5/5 [==============================] - 36s 7s/step - loss: 0.0364 - val_loss: 0.0404\n",
      "Epoch 139/200\n",
      "5/5 [==============================] - 36s 7s/step - loss: 0.0361 - val_loss: 0.0406\n",
      "Epoch 140/200\n",
      "5/5 [==============================] - 36s 7s/step - loss: 0.0338 - val_loss: 0.0403\n",
      "Epoch 141/200\n",
      "5/5 [==============================] - 36s 7s/step - loss: 0.0352 - val_loss: 0.0397\n",
      "Epoch 142/200\n",
      "5/5 [==============================] - 36s 7s/step - loss: 0.0363 - val_loss: 0.0405\n",
      "Epoch 143/200\n",
      "5/5 [==============================] - 36s 7s/step - loss: 0.0352 - val_loss: 0.0400\n",
      "Epoch 144/200\n",
      "5/5 [==============================] - 36s 7s/step - loss: 0.0352 - val_loss: 0.0409\n",
      "Epoch 145/200\n",
      "5/5 [==============================] - 36s 7s/step - loss: 0.0351 - val_loss: 0.0411\n",
      "Epoch 146/200\n",
      "5/5 [==============================] - 37s 7s/step - loss: 0.0347 - val_loss: 0.0407\n",
      "Epoch 147/200\n",
      "5/5 [==============================] - 36s 7s/step - loss: 0.0365 - val_loss: 0.0413\n",
      "Epoch 148/200\n",
      "5/5 [==============================] - 37s 7s/step - loss: 0.0355 - val_loss: 0.0417\n",
      "Epoch 149/200\n",
      "5/5 [==============================] - 37s 7s/step - loss: 0.0349 - val_loss: 0.0409\n",
      "Epoch 150/200\n",
      "5/5 [==============================] - 37s 7s/step - loss: 0.0356 - val_loss: 0.0404\n",
      "Epoch 151/200\n",
      "5/5 [==============================] - 36s 7s/step - loss: 0.0364 - val_loss: 0.0407\n",
      "Epoch 152/200\n",
      "5/5 [==============================] - 36s 7s/step - loss: 0.0363 - val_loss: 0.0404\n",
      "Epoch 153/200\n",
      "5/5 [==============================] - 36s 7s/step - loss: 0.0358 - val_loss: 0.0401\n",
      "Epoch 154/200\n",
      "5/5 [==============================] - 36s 7s/step - loss: 0.0338 - val_loss: 0.0398\n"
     ]
    }
   ],
   "source": [
    "with strategy.scope():\n",
    "    opt = optimizers.Adam(learning_rate=LEARNING_RATE, epsilon=EPSILON)\n",
    "    new_model.compile(optimizer=opt, loss='mae')\n",
    "    new_model.fit(train_iterator, epochs=TRAINING_EPOCHS, validation_data=test_iterator,\n",
    "                  verbose=1, callbacks=[cbs, save, early_stop]) "
   ]
  },
  {
   "cell_type": "code",
   "execution_count": 33,
   "metadata": {},
   "outputs": [],
   "source": [
    "new_model.load_weights(BEST_PATH)"
   ]
  },
  {
   "cell_type": "code",
   "execution_count": 34,
   "metadata": {},
   "outputs": [],
   "source": [
    "del(train_index)\n",
    "del(train_input)\n",
    "del(train_iterator)\n",
    "del(train_label)\n",
    "del(val_index)\n",
    "del(val_input)\n",
    "del(val_iterator)\n",
    "del(val_label)"
   ]
  },
  {
   "cell_type": "code",
   "execution_count": 35,
   "metadata": {},
   "outputs": [
    {
     "data": {
      "text/plain": [
       "24357"
      ]
     },
     "execution_count": 35,
     "metadata": {},
     "output_type": "execute_result"
    }
   ],
   "source": [
    "gc.collect()"
   ]
  },
  {
   "cell_type": "code",
   "execution_count": 36,
   "metadata": {},
   "outputs": [],
   "source": [
    "pred_result = model.predict(test_input/255)"
   ]
  },
  {
   "cell_type": "code",
   "execution_count": 37,
   "metadata": {},
   "outputs": [
    {
     "name": "stdout",
     "output_type": "stream",
     "text": [
      "(2100, 4)\n",
      "(2100, 4)\n"
     ]
    }
   ],
   "source": [
    "print(pred_result.shape)\n",
    "print(test_label.shape)"
   ]
  },
  {
   "cell_type": "code",
   "execution_count": 38,
   "metadata": {},
   "outputs": [],
   "source": [
    "test_label = (OUTPUT_MAXS - OUTPUT_MINS)*test_label + OUTPUT_MINS\n",
    "pred_result = (OUTPUT_MAXS - OUTPUT_MINS)*pred_result + OUTPUT_MINS"
   ]
  },
  {
   "cell_type": "code",
   "execution_count": 39,
   "metadata": {},
   "outputs": [],
   "source": [
    "pred_df = pd.DataFrame(np.concatenate([test_label, pred_result], axis=1), index=test_index)\n",
    "pred_df.columns = ['label_node_len', 'label_node_dia', 'label_plant_h', 'label_leaf_area', 'pred_node_len', 'pred_node_dia', 'pred_plant_h', 'pred_leaf_area']"
   ]
  },
  {
   "cell_type": "code",
   "execution_count": 40,
   "metadata": {},
   "outputs": [],
   "source": [
    "pred_df.to_csv('./results/model_output/pg_transfer_pred_result.csv')"
   ]
  }
 ],
 "metadata": {
  "kernelspec": {
   "display_name": "Environment (conda_tensorflow2_p36)",
   "language": "python",
   "name": "conda_tensorflow2_p36"
  },
  "language_info": {
   "codemirror_mode": {
    "name": "ipython",
    "version": 3
   },
   "file_extension": ".py",
   "mimetype": "text/x-python",
   "name": "python",
   "nbconvert_exporter": "python",
   "pygments_lexer": "ipython3",
   "version": "3.6.10"
  }
 },
 "nbformat": 4,
 "nbformat_minor": 4
}
