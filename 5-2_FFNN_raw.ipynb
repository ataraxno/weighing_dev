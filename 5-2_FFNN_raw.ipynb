{
 "cells": [
  {
   "cell_type": "code",
   "execution_count": 1,
   "metadata": {},
   "outputs": [
    {
     "data": {
      "text/plain": [
       "'2.3.0'"
      ]
     },
     "execution_count": 1,
     "metadata": {},
     "output_type": "execute_result"
    }
   ],
   "source": [
    "import pandas as pd\n",
    "import numpy as np\n",
    "np.set_printoptions(precision=6, suppress=True)\n",
    "from sklearn.model_selection import train_test_split\n",
    "\n",
    "from tqdm import tqdm\n",
    "\n",
    "import tensorflow as tf\n",
    "from tensorflow.keras import *\n",
    "import tensorflow_addons as tfa\n",
    "tf.__version__"
   ]
  },
  {
   "cell_type": "code",
   "execution_count": 2,
   "metadata": {},
   "outputs": [],
   "source": [
    "import matplotlib\n",
    "import matplotlib.pyplot as plt\n",
    "import matplotlib.dates as mdates\n",
    "from matplotlib.ticker import (LinearLocator, MultipleLocator, FormatStrFormatter)\n",
    "from matplotlib.dates import MONDAY\n",
    "from matplotlib.dates import MonthLocator, WeekdayLocator, DateFormatter\n",
    "from matplotlib import gridspec\n",
    "from pandas.plotting import register_matplotlib_converters\n",
    "register_matplotlib_converters()\n",
    "%matplotlib inline"
   ]
  },
  {
   "cell_type": "code",
   "execution_count": 3,
   "metadata": {},
   "outputs": [],
   "source": [
    "plt.rcParams['figure.figsize'] = ((8/2.54), (6/2.54))\n",
    "plt.rcParams[\"font.family\"] = \"Arial\"\n",
    "plt.rcParams[\"mathtext.default\"] = \"rm\"\n",
    "plt.rcParams.update({'font.size': 11})\n",
    "MARKER_SIZE = 15\n",
    "cmap_m = [\"#f4a6ad\", \"#f6957e\", \"#fccfa2\", \"#8de7be\", \"#86d6f2\", \"#24a9e4\", \"#b586e0\", \"#d7f293\"]\n",
    "cmap = [\"#e94d5b\", \"#ef4d28\", \"#f9a54f\", \"#25b575\", \"#1bb1e7\", \"#1477a2\", \"#a662e5\", \"#c2f442\"]\n",
    "\n",
    "plt.rcParams['axes.spines.top'] = False\n",
    "# plt.rcParams['axes.edgecolor'] = \n",
    "plt.rcParams['axes.linewidth'] = 1\n",
    "plt.rcParams['lines.linewidth'] = 1.5\n",
    "plt.rcParams['xtick.major.width'] = 1\n",
    "plt.rcParams['xtick.minor.width'] = 1\n",
    "plt.rcParams['ytick.major.width'] = 1\n",
    "plt.rcParams['ytick.minor.width'] = 1"
   ]
  },
  {
   "cell_type": "code",
   "execution_count": 4,
   "metadata": {},
   "outputs": [
    {
     "data": {
      "text/plain": [
       "[PhysicalDevice(name='/physical_device:GPU:0', device_type='GPU')]"
      ]
     },
     "execution_count": 4,
     "metadata": {},
     "output_type": "execute_result"
    }
   ],
   "source": [
    "tf.config.list_physical_devices('GPU')"
   ]
  },
  {
   "cell_type": "code",
   "execution_count": 5,
   "metadata": {},
   "outputs": [
    {
     "name": "stdout",
     "output_type": "stream",
     "text": [
      "1 Physical GPUs, 1 Logical GPUs\n"
     ]
    }
   ],
   "source": [
    "gpus = tf.config.experimental.list_physical_devices('GPU')\n",
    "if gpus:\n",
    "    try:\n",
    "        for gpu in gpus:\n",
    "            tf.config.experimental.set_memory_growth(gpu, True)\n",
    "        logical_gpus = tf.config.experimental.list_logical_devices('GPU')\n",
    "        print(len(gpus), \"Physical GPUs,\", len(logical_gpus), \"Logical GPUs\")\n",
    "    except RuntimeError as e:\n",
    "        print(e)"
   ]
  },
  {
   "cell_type": "code",
   "execution_count": 6,
   "metadata": {},
   "outputs": [
    {
     "name": "stdout",
     "output_type": "stream",
     "text": [
      "INFO:tensorflow:Using MirroredStrategy with devices ('/job:localhost/replica:0/task:0/device:GPU:0',)\n"
     ]
    }
   ],
   "source": [
    "strategy = tf.distribute.MirroredStrategy()"
   ]
  },
  {
   "cell_type": "markdown",
   "metadata": {},
   "source": [
    "# Hyperparameters"
   ]
  },
  {
   "cell_type": "code",
   "execution_count": 7,
   "metadata": {},
   "outputs": [],
   "source": [
    "BEST_PATH = './models/ffnn_raw.h5'\n",
    "TRAINING_EPOCHS = 200\n",
    "LEARNING_RATE = 0.001\n",
    "EPSILON = 1e-06\n",
    "BATCH_SIZE = 16"
   ]
  },
  {
   "cell_type": "markdown",
   "metadata": {},
   "source": [
    "# Data loading"
   ]
  },
  {
   "cell_type": "code",
   "execution_count": 8,
   "metadata": {},
   "outputs": [],
   "source": [
    "l = np.load('./results/2020_W/fw_ct_dataset.npz', allow_pickle=True)\n",
    "data_indices = l['data_indices']\n",
    "input_data = l['input_data']\n",
    "output_label = l['output_label']\n",
    "INPUT_MAXS = l['INPUT_MAXS']\n",
    "INPUT_MINS = l['INPUT_MINS']\n",
    "OUTPUT_MAX = l['OUTPUT_MAX']\n",
    "OUTPUT_MIN = l['OUTPUT_MIN']"
   ]
  },
  {
   "cell_type": "code",
   "execution_count": 9,
   "metadata": {},
   "outputs": [],
   "source": [
    "input_data = input_data.astype('float32')\n",
    "output_label = output_label.astype('float32')"
   ]
  },
  {
   "cell_type": "code",
   "execution_count": 10,
   "metadata": {},
   "outputs": [],
   "source": [
    "input_data = input_data.reshape(input_data.shape[0], -1)"
   ]
  },
  {
   "cell_type": "code",
   "execution_count": 11,
   "metadata": {},
   "outputs": [
    {
     "name": "stdout",
     "output_type": "stream",
     "text": [
      "(456, 1296)\n",
      "(456, 1)\n"
     ]
    }
   ],
   "source": [
    "print(input_data.shape)\n",
    "print(output_label.shape)"
   ]
  },
  {
   "cell_type": "code",
   "execution_count": 12,
   "metadata": {},
   "outputs": [
    {
     "name": "stdout",
     "output_type": "stream",
     "text": [
      "[  42.31875   99.      1313.3       78.755     10.006      5.057\n",
      "   36.58      55.877     19.731  ]\n",
      "[11.5       4.4325   -0.5957   32.115     0.205     0.112    11.53\n",
      "  8.744    11.000128]\n"
     ]
    }
   ],
   "source": [
    "print(INPUT_MAXS)\n",
    "print(INPUT_MINS)"
   ]
  },
  {
   "cell_type": "code",
   "execution_count": 13,
   "metadata": {},
   "outputs": [
    {
     "name": "stdout",
     "output_type": "stream",
     "text": [
      "2.5180414673761202\n",
      "0.15073025551954564\n"
     ]
    }
   ],
   "source": [
    "print(OUTPUT_MAX)\n",
    "print(OUTPUT_MIN)"
   ]
  },
  {
   "cell_type": "code",
   "execution_count": 14,
   "metadata": {},
   "outputs": [],
   "source": [
    "N_TRAIN = int(input_data.shape[0]*.09)\n",
    "N_DEV = int(input_data.shape[0]/3)\n",
    "TRAIN_INDEX = [_ for _ in range(N_TRAIN)] + \\\n",
    "              [_ for _ in range(N_DEV, N_DEV+N_TRAIN)] + \\\n",
    "              [_ for _ in range(N_DEV*2, N_DEV*2+N_TRAIN)]\n",
    "TEST_INDEX = [_ for _ in range(input_data.shape[0]) if _ not in TRAIN_INDEX]\n",
    "train_input = input_data[TRAIN_INDEX, ...]\n",
    "train_label = output_label[TRAIN_INDEX, ...]\n",
    "train_indices = data_indices[TRAIN_INDEX]\n",
    "test_input = input_data[TEST_INDEX, ...]\n",
    "test_label = output_label[TEST_INDEX, ...]\n",
    "test_indices = data_indices[TEST_INDEX]"
   ]
  },
  {
   "cell_type": "code",
   "execution_count": 15,
   "metadata": {},
   "outputs": [],
   "source": [
    "train_indices, val_indices, train_input, val_input, train_label, val_label = train_test_split(train_indices, train_input, train_label, test_size=0.3, shuffle=True, random_state=3101)"
   ]
  },
  {
   "cell_type": "code",
   "execution_count": 16,
   "metadata": {},
   "outputs": [
    {
     "name": "stdout",
     "output_type": "stream",
     "text": [
      "number of data set: 456\n",
      "number of training set: 86\n",
      "number of validation set: 37\n",
      "number of test set: 333\n"
     ]
    }
   ],
   "source": [
    "print(f'number of data set: {input_data.shape[0]}')\n",
    "print(f'number of training set: {train_input.shape[0]}')\n",
    "print(f'number of validation set: {val_input.shape[0]}')\n",
    "print(f'number of test set: {test_input.shape[0]}')"
   ]
  },
  {
   "cell_type": "code",
   "execution_count": 17,
   "metadata": {},
   "outputs": [],
   "source": [
    "with strategy.scope():\n",
    "    train_dataset = tf.data.Dataset.from_tensor_slices((train_input, train_label))\n",
    "    train_dataset = train_dataset.cache().shuffle(BATCH_SIZE*10).batch(BATCH_SIZE, drop_remainder=False)\n",
    "    val_dataset = tf.data.Dataset.from_tensor_slices((val_input, val_label))\n",
    "    val_dataset = val_dataset.cache().shuffle(BATCH_SIZE*10).batch(BATCH_SIZE, drop_remainder=False)"
   ]
  },
  {
   "cell_type": "markdown",
   "metadata": {},
   "source": [
    "# Model construction"
   ]
  },
  {
   "cell_type": "code",
   "execution_count": 18,
   "metadata": {},
   "outputs": [],
   "source": [
    "with strategy.scope():\n",
    "    model = models.Sequential([\n",
    "        layers.Dense(512, activation=tf.nn.sigmoid),\n",
    "        layers.BatchNormalization(),\n",
    "        layers.Dense(512, activation=tf.nn.sigmoid),\n",
    "        layers.BatchNormalization(),\n",
    "        layers.Dense(32),\n",
    "        layers.Dense(1)\n",
    "    ])"
   ]
  },
  {
   "cell_type": "code",
   "execution_count": 19,
   "metadata": {},
   "outputs": [],
   "source": [
    "cbs = callbacks.ReduceLROnPlateau(\n",
    "    monitor='val_loss', factor=.1, patience=5, verbose=0, mode='auto',\n",
    "    min_delta=0.0001, cooldown=0, min_lr=0)\n",
    "\n",
    "save = callbacks.ModelCheckpoint(\n",
    "    BEST_PATH, monitor='val_loss', verbose=0,\n",
    "    save_best_only=True, save_weights_only=True, mode='min', save_freq='epoch')\n",
    "\n",
    "early_stop = callbacks.EarlyStopping(monitor='val_loss', min_delta=0.0001, patience=20)"
   ]
  },
  {
   "cell_type": "code",
   "execution_count": 20,
   "metadata": {
    "scrolled": true
   },
   "outputs": [
    {
     "name": "stdout",
     "output_type": "stream",
     "text": [
      "Epoch 1/200\n",
      "WARNING:tensorflow:From /home/ubuntu/anaconda3/envs/tensorflow2_p36/lib/python3.6/site-packages/tensorflow/python/data/ops/multi_device_iterator_ops.py:601: get_next_as_optional (from tensorflow.python.data.ops.iterator_ops) is deprecated and will be removed in a future version.\n",
      "Instructions for updating:\n",
      "Use `tf.data.Iterator.get_next_as_optional()` instead.\n",
      "INFO:tensorflow:Reduce to /job:localhost/replica:0/task:0/device:CPU:0 then broadcast to ('/job:localhost/replica:0/task:0/device:CPU:0',).\n",
      "INFO:tensorflow:Reduce to /job:localhost/replica:0/task:0/device:CPU:0 then broadcast to ('/job:localhost/replica:0/task:0/device:CPU:0',).\n",
      "INFO:tensorflow:Reduce to /job:localhost/replica:0/task:0/device:CPU:0 then broadcast to ('/job:localhost/replica:0/task:0/device:CPU:0',).\n",
      "INFO:tensorflow:Reduce to /job:localhost/replica:0/task:0/device:CPU:0 then broadcast to ('/job:localhost/replica:0/task:0/device:CPU:0',).\n",
      "6/6 [==============================] - ETA: 0s - loss: 6.8168INFO:tensorflow:Reduce to /job:localhost/replica:0/task:0/device:CPU:0 then broadcast to ('/job:localhost/replica:0/task:0/device:CPU:0',).\n",
      "INFO:tensorflow:Reduce to /job:localhost/replica:0/task:0/device:CPU:0 then broadcast to ('/job:localhost/replica:0/task:0/device:CPU:0',).\n",
      "INFO:tensorflow:Reduce to /job:localhost/replica:0/task:0/device:CPU:0 then broadcast to ('/job:localhost/replica:0/task:0/device:CPU:0',).\n",
      "INFO:tensorflow:Reduce to /job:localhost/replica:0/task:0/device:CPU:0 then broadcast to ('/job:localhost/replica:0/task:0/device:CPU:0',).\n",
      "INFO:tensorflow:Reduce to /job:localhost/replica:0/task:0/device:CPU:0 then broadcast to ('/job:localhost/replica:0/task:0/device:CPU:0',).\n",
      "INFO:tensorflow:Reduce to /job:localhost/replica:0/task:0/device:CPU:0 then broadcast to ('/job:localhost/replica:0/task:0/device:CPU:0',).\n",
      "6/6 [==============================] - 2s 255ms/step - loss: 6.8168 - val_loss: 2.2865\n",
      "Epoch 2/200\n",
      "6/6 [==============================] - 0s 23ms/step - loss: 2.5356 - val_loss: 2.1625\n",
      "Epoch 3/200\n",
      "6/6 [==============================] - 0s 51ms/step - loss: 1.7443 - val_loss: 1.7368\n",
      "Epoch 4/200\n",
      "6/6 [==============================] - 0s 44ms/step - loss: 0.9880 - val_loss: 1.5631\n",
      "Epoch 5/200\n",
      "6/6 [==============================] - 0s 23ms/step - loss: 0.6917 - val_loss: 1.5090\n",
      "Epoch 6/200\n",
      "6/6 [==============================] - 0s 22ms/step - loss: 0.5992 - val_loss: 1.4756\n",
      "Epoch 7/200\n",
      "6/6 [==============================] - 0s 24ms/step - loss: 0.5592 - val_loss: 1.4198\n",
      "Epoch 8/200\n",
      "6/6 [==============================] - 0s 24ms/step - loss: 0.3404 - val_loss: 1.3328\n",
      "Epoch 9/200\n",
      "6/6 [==============================] - 0s 23ms/step - loss: 0.2954 - val_loss: 1.2808\n",
      "Epoch 10/200\n",
      "6/6 [==============================] - 0s 28ms/step - loss: 0.5269 - val_loss: 1.2665\n",
      "Epoch 11/200\n",
      "6/6 [==============================] - 0s 39ms/step - loss: 0.3559 - val_loss: 1.2722\n",
      "Epoch 12/200\n",
      "6/6 [==============================] - 0s 49ms/step - loss: 0.2867 - val_loss: 1.0529\n",
      "Epoch 13/200\n",
      "6/6 [==============================] - 0s 23ms/step - loss: 0.4178 - val_loss: 0.8494\n",
      "Epoch 14/200\n",
      "6/6 [==============================] - 0s 23ms/step - loss: 0.5946 - val_loss: 0.8544\n",
      "Epoch 15/200\n",
      "6/6 [==============================] - 0s 19ms/step - loss: 0.5519 - val_loss: 1.0943\n",
      "Epoch 16/200\n",
      "6/6 [==============================] - 0s 19ms/step - loss: 0.5358 - val_loss: 1.0386\n",
      "Epoch 17/200\n",
      "6/6 [==============================] - 0s 24ms/step - loss: 0.3568 - val_loss: 0.8302\n",
      "Epoch 18/200\n",
      "6/6 [==============================] - 0s 26ms/step - loss: 0.2772 - val_loss: 0.7857\n",
      "Epoch 19/200\n",
      "6/6 [==============================] - 0s 38ms/step - loss: 0.2608 - val_loss: 0.8112\n",
      "Epoch 20/200\n",
      "6/6 [==============================] - 0s 41ms/step - loss: 0.1402 - val_loss: 0.7968\n",
      "Epoch 21/200\n",
      "6/6 [==============================] - 0s 31ms/step - loss: 0.2380 - val_loss: 0.7918\n",
      "Epoch 22/200\n",
      "6/6 [==============================] - 0s 22ms/step - loss: 0.2192 - val_loss: 0.7049\n",
      "Epoch 23/200\n",
      "6/6 [==============================] - 0s 20ms/step - loss: 0.2989 - val_loss: 0.8120\n",
      "Epoch 24/200\n",
      "6/6 [==============================] - 0s 18ms/step - loss: 0.3572 - val_loss: 0.8669\n",
      "Epoch 25/200\n",
      "6/6 [==============================] - 0s 19ms/step - loss: 0.5052 - val_loss: 0.7740\n",
      "Epoch 26/200\n",
      "6/6 [==============================] - 0s 20ms/step - loss: 0.4400 - val_loss: 0.7899\n",
      "Epoch 27/200\n",
      "6/6 [==============================] - 0s 26ms/step - loss: 0.2123 - val_loss: 0.8033\n",
      "Epoch 28/200\n",
      "6/6 [==============================] - 0s 39ms/step - loss: 0.1742 - val_loss: 0.8004\n",
      "Epoch 29/200\n",
      "6/6 [==============================] - 0s 44ms/step - loss: 0.1443 - val_loss: 0.7345\n",
      "Epoch 30/200\n",
      "6/6 [==============================] - 0s 24ms/step - loss: 0.0921 - val_loss: 0.6922\n",
      "Epoch 31/200\n",
      "6/6 [==============================] - 0s 23ms/step - loss: 0.0805 - val_loss: 0.6182\n",
      "Epoch 32/200\n",
      "6/6 [==============================] - 0s 24ms/step - loss: 0.0986 - val_loss: 0.5763\n",
      "Epoch 33/200\n",
      "6/6 [==============================] - 0s 23ms/step - loss: 0.0938 - val_loss: 0.5281\n",
      "Epoch 34/200\n",
      "6/6 [==============================] - 0s 23ms/step - loss: 0.0878 - val_loss: 0.5246\n",
      "Epoch 35/200\n",
      "6/6 [==============================] - 0s 49ms/step - loss: 0.0653 - val_loss: 0.4988\n",
      "Epoch 36/200\n",
      "6/6 [==============================] - 0s 47ms/step - loss: 0.0615 - val_loss: 0.4706\n",
      "Epoch 37/200\n",
      "6/6 [==============================] - 0s 24ms/step - loss: 0.0626 - val_loss: 0.4601\n",
      "Epoch 38/200\n",
      "6/6 [==============================] - 0s 25ms/step - loss: 0.0708 - val_loss: 0.4266\n",
      "Epoch 39/200\n",
      "6/6 [==============================] - 0s 22ms/step - loss: 0.0651 - val_loss: 0.4245\n",
      "Epoch 40/200\n",
      "6/6 [==============================] - 0s 23ms/step - loss: 0.0780 - val_loss: 0.3888\n",
      "Epoch 41/200\n",
      "6/6 [==============================] - 0s 24ms/step - loss: 0.0626 - val_loss: 0.3589\n",
      "Epoch 42/200\n",
      "6/6 [==============================] - 0s 18ms/step - loss: 0.0746 - val_loss: 0.3599\n",
      "Epoch 43/200\n",
      "6/6 [==============================] - 0s 24ms/step - loss: 0.0592 - val_loss: 0.3338\n",
      "Epoch 44/200\n",
      "6/6 [==============================] - 0s 50ms/step - loss: 0.0600 - val_loss: 0.3233\n",
      "Epoch 45/200\n",
      "6/6 [==============================] - 0s 23ms/step - loss: 0.0688 - val_loss: 0.2742\n",
      "Epoch 46/200\n",
      "6/6 [==============================] - 0s 32ms/step - loss: 0.0683 - val_loss: 0.2576\n",
      "Epoch 47/200\n",
      "6/6 [==============================] - 0s 25ms/step - loss: 0.0726 - val_loss: 0.2429\n",
      "Epoch 48/200\n",
      "6/6 [==============================] - 0s 23ms/step - loss: 0.0729 - val_loss: 0.2138\n",
      "Epoch 49/200\n",
      "6/6 [==============================] - 0s 19ms/step - loss: 0.0899 - val_loss: 0.2223\n",
      "Epoch 50/200\n",
      "6/6 [==============================] - 0s 24ms/step - loss: 0.0749 - val_loss: 0.2092\n",
      "Epoch 51/200\n",
      "6/6 [==============================] - 0s 23ms/step - loss: 0.0448 - val_loss: 0.1697\n",
      "Epoch 52/200\n",
      "6/6 [==============================] - 0s 20ms/step - loss: 0.0768 - val_loss: 0.1717\n",
      "Epoch 53/200\n",
      "6/6 [==============================] - 0s 19ms/step - loss: 0.0592 - val_loss: 0.1731\n",
      "Epoch 54/200\n",
      "6/6 [==============================] - 0s 23ms/step - loss: 0.0503 - val_loss: 0.1461\n",
      "Epoch 55/200\n",
      "6/6 [==============================] - 0s 33ms/step - loss: 0.0433 - val_loss: 0.1419\n",
      "Epoch 56/200\n",
      "6/6 [==============================] - 0s 24ms/step - loss: 0.0537 - val_loss: 0.1205\n",
      "Epoch 57/200\n",
      "6/6 [==============================] - 0s 17ms/step - loss: 0.0708 - val_loss: 0.1528\n",
      "Epoch 58/200\n",
      "6/6 [==============================] - 0s 21ms/step - loss: 0.0818 - val_loss: 0.0751\n",
      "Epoch 59/200\n",
      "6/6 [==============================] - 0s 18ms/step - loss: 0.0730 - val_loss: 0.0871\n",
      "Epoch 60/200\n",
      "6/6 [==============================] - 0s 18ms/step - loss: 0.0912 - val_loss: 0.1602\n",
      "Epoch 61/200\n",
      "6/6 [==============================] - 0s 17ms/step - loss: 0.0932 - val_loss: 0.0895\n",
      "Epoch 62/200\n",
      "6/6 [==============================] - 0s 19ms/step - loss: 0.0567 - val_loss: 0.1012\n",
      "Epoch 63/200\n",
      "6/6 [==============================] - 0s 17ms/step - loss: 0.0799 - val_loss: 0.0950\n",
      "Epoch 64/200\n",
      "6/6 [==============================] - 0s 17ms/step - loss: 0.0406 - val_loss: 0.0892\n",
      "Epoch 65/200\n",
      "6/6 [==============================] - 0s 28ms/step - loss: 0.0474 - val_loss: 0.0877\n",
      "Epoch 66/200\n",
      "6/6 [==============================] - 0s 27ms/step - loss: 0.0430 - val_loss: 0.0818\n",
      "Epoch 67/200\n",
      "6/6 [==============================] - 0s 23ms/step - loss: 0.0423 - val_loss: 0.0719\n",
      "Epoch 68/200\n",
      "6/6 [==============================] - 0s 18ms/step - loss: 0.0595 - val_loss: 0.0746\n",
      "Epoch 69/200\n",
      "6/6 [==============================] - 0s 18ms/step - loss: 0.0465 - val_loss: 0.0808\n",
      "Epoch 70/200\n",
      "6/6 [==============================] - 0s 21ms/step - loss: 0.0347 - val_loss: 0.0694\n",
      "Epoch 71/200\n",
      "6/6 [==============================] - 0s 23ms/step - loss: 0.0482 - val_loss: 0.0666\n",
      "Epoch 72/200\n",
      "6/6 [==============================] - 0s 18ms/step - loss: 0.0385 - val_loss: 0.0710\n",
      "Epoch 73/200\n",
      "6/6 [==============================] - 0s 17ms/step - loss: 0.0345 - val_loss: 0.0793\n",
      "Epoch 74/200\n",
      "6/6 [==============================] - 0s 18ms/step - loss: 0.0512 - val_loss: 0.0824\n",
      "Epoch 75/200\n",
      "6/6 [==============================] - 0s 17ms/step - loss: 0.0532 - val_loss: 0.0671\n",
      "Epoch 76/200\n",
      "6/6 [==============================] - 0s 33ms/step - loss: 0.0438 - val_loss: 0.0584\n",
      "Epoch 77/200\n",
      "6/6 [==============================] - 0s 18ms/step - loss: 0.0410 - val_loss: 0.0622\n",
      "Epoch 78/200\n",
      "6/6 [==============================] - 0s 17ms/step - loss: 0.0442 - val_loss: 0.0675\n",
      "Epoch 79/200\n",
      "6/6 [==============================] - 0s 21ms/step - loss: 0.0434 - val_loss: 0.0527\n",
      "Epoch 80/200\n",
      "6/6 [==============================] - 0s 24ms/step - loss: 0.0408 - val_loss: 0.0407\n",
      "Epoch 81/200\n",
      "6/6 [==============================] - 0s 17ms/step - loss: 0.0390 - val_loss: 0.0449\n",
      "Epoch 82/200\n",
      "6/6 [==============================] - 0s 17ms/step - loss: 0.0374 - val_loss: 0.0554\n",
      "Epoch 83/200\n",
      "6/6 [==============================] - 0s 18ms/step - loss: 0.0471 - val_loss: 0.0503\n",
      "Epoch 84/200\n",
      "6/6 [==============================] - 0s 17ms/step - loss: 0.0409 - val_loss: 0.0557\n",
      "Epoch 85/200\n",
      "6/6 [==============================] - 0s 22ms/step - loss: 0.0493 - val_loss: 0.0377\n",
      "Epoch 86/200\n",
      "6/6 [==============================] - 0s 30ms/step - loss: 0.0414 - val_loss: 0.0428\n",
      "Epoch 87/200\n",
      "6/6 [==============================] - 0s 17ms/step - loss: 0.0488 - val_loss: 0.0604\n",
      "Epoch 88/200\n",
      "6/6 [==============================] - 0s 17ms/step - loss: 0.0407 - val_loss: 0.0422\n",
      "Epoch 89/200\n",
      "6/6 [==============================] - 0s 18ms/step - loss: 0.0394 - val_loss: 0.0381\n",
      "Epoch 90/200\n",
      "6/6 [==============================] - 0s 18ms/step - loss: 0.0386 - val_loss: 0.0390\n",
      "Epoch 91/200\n",
      "6/6 [==============================] - 0s 17ms/step - loss: 0.0449 - val_loss: 0.0384\n",
      "Epoch 92/200\n",
      "6/6 [==============================] - 0s 19ms/step - loss: 0.0308 - val_loss: 0.0383\n",
      "Epoch 93/200\n",
      "6/6 [==============================] - 0s 21ms/step - loss: 0.0574 - val_loss: 0.0377\n",
      "Epoch 94/200\n",
      "6/6 [==============================] - 0s 17ms/step - loss: 0.0325 - val_loss: 0.0377\n",
      "Epoch 95/200\n",
      "6/6 [==============================] - 0s 19ms/step - loss: 0.0322 - val_loss: 0.0383\n",
      "Epoch 96/200\n",
      "6/6 [==============================] - 0s 34ms/step - loss: 0.0507 - val_loss: 0.0375\n",
      "Epoch 97/200\n",
      "6/6 [==============================] - 0s 21ms/step - loss: 0.0363 - val_loss: 0.0365\n",
      "Epoch 98/200\n",
      "6/6 [==============================] - 0s 23ms/step - loss: 0.0344 - val_loss: 0.0358\n",
      "Epoch 99/200\n",
      "6/6 [==============================] - 0s 22ms/step - loss: 0.0551 - val_loss: 0.0346\n",
      "Epoch 100/200\n",
      "6/6 [==============================] - 0s 21ms/step - loss: 0.0325 - val_loss: 0.0339\n",
      "Epoch 101/200\n",
      "6/6 [==============================] - 0s 22ms/step - loss: 0.0346 - val_loss: 0.0333\n",
      "Epoch 102/200\n",
      "6/6 [==============================] - 0s 21ms/step - loss: 0.0331 - val_loss: 0.0325\n",
      "Epoch 103/200\n",
      "6/6 [==============================] - 0s 21ms/step - loss: 0.0383 - val_loss: 0.0318\n",
      "Epoch 104/200\n",
      "6/6 [==============================] - 0s 23ms/step - loss: 0.0329 - val_loss: 0.0312\n",
      "Epoch 105/200\n",
      "6/6 [==============================] - 0s 34ms/step - loss: 0.0475 - val_loss: 0.0309\n",
      "Epoch 106/200\n",
      "6/6 [==============================] - 0s 21ms/step - loss: 0.0316 - val_loss: 0.0303\n",
      "Epoch 107/200\n",
      "6/6 [==============================] - 0s 23ms/step - loss: 0.0330 - val_loss: 0.0298\n",
      "Epoch 108/200\n",
      "6/6 [==============================] - 0s 21ms/step - loss: 0.0468 - val_loss: 0.0294\n",
      "Epoch 109/200\n",
      "6/6 [==============================] - 0s 22ms/step - loss: 0.0317 - val_loss: 0.0291\n",
      "Epoch 110/200\n",
      "6/6 [==============================] - 0s 23ms/step - loss: 0.0355 - val_loss: 0.0286\n",
      "Epoch 111/200\n",
      "6/6 [==============================] - 0s 22ms/step - loss: 0.0403 - val_loss: 0.0286\n",
      "Epoch 112/200\n",
      "6/6 [==============================] - 0s 21ms/step - loss: 0.0350 - val_loss: 0.0280\n",
      "Epoch 113/200\n",
      "6/6 [==============================] - 0s 24ms/step - loss: 0.0430 - val_loss: 0.0275\n",
      "Epoch 114/200\n",
      "6/6 [==============================] - 0s 34ms/step - loss: 0.0424 - val_loss: 0.0270\n",
      "Epoch 115/200\n",
      "6/6 [==============================] - 0s 21ms/step - loss: 0.0335 - val_loss: 0.0265\n",
      "Epoch 116/200\n",
      "6/6 [==============================] - 0s 22ms/step - loss: 0.0297 - val_loss: 0.0263\n",
      "Epoch 117/200\n",
      "6/6 [==============================] - 0s 21ms/step - loss: 0.0278 - val_loss: 0.0259\n",
      "Epoch 118/200\n",
      "6/6 [==============================] - 0s 17ms/step - loss: 0.0399 - val_loss: 0.0260\n",
      "Epoch 119/200\n",
      "6/6 [==============================] - 0s 22ms/step - loss: 0.0429 - val_loss: 0.0258\n",
      "Epoch 120/200\n",
      "6/6 [==============================] - 0s 17ms/step - loss: 0.0436 - val_loss: 0.0259\n",
      "Epoch 121/200\n",
      "6/6 [==============================] - 0s 21ms/step - loss: 0.0383 - val_loss: 0.0256\n",
      "Epoch 122/200\n",
      "6/6 [==============================] - 0s 23ms/step - loss: 0.0344 - val_loss: 0.0255\n",
      "Epoch 123/200\n",
      "6/6 [==============================] - 0s 33ms/step - loss: 0.0492 - val_loss: 0.0256\n",
      "Epoch 124/200\n",
      "6/6 [==============================] - 0s 21ms/step - loss: 0.0475 - val_loss: 0.0253\n",
      "Epoch 125/200\n",
      "6/6 [==============================] - 0s 23ms/step - loss: 0.0447 - val_loss: 0.0249\n",
      "Epoch 126/200\n",
      "6/6 [==============================] - 0s 21ms/step - loss: 0.0399 - val_loss: 0.0247\n",
      "Epoch 127/200\n",
      "6/6 [==============================] - 0s 21ms/step - loss: 0.0449 - val_loss: 0.0246\n",
      "Epoch 128/200\n",
      "6/6 [==============================] - 0s 18ms/step - loss: 0.0394 - val_loss: 0.0246\n",
      "Epoch 129/200\n",
      "6/6 [==============================] - 0s 18ms/step - loss: 0.0372 - val_loss: 0.0248\n",
      "Epoch 130/200\n",
      "6/6 [==============================] - 0s 17ms/step - loss: 0.0417 - val_loss: 0.0251\n",
      "Epoch 131/200\n",
      "6/6 [==============================] - 0s 18ms/step - loss: 0.0401 - val_loss: 0.0249\n",
      "Epoch 132/200\n",
      "6/6 [==============================] - 0s 17ms/step - loss: 0.0436 - val_loss: 0.0248\n",
      "Epoch 133/200\n",
      "6/6 [==============================] - 0s 32ms/step - loss: 0.0367 - val_loss: 0.0248\n",
      "Epoch 134/200\n",
      "6/6 [==============================] - 0s 23ms/step - loss: 0.0413 - val_loss: 0.0244\n",
      "Epoch 135/200\n",
      "6/6 [==============================] - 0s 22ms/step - loss: 0.0344 - val_loss: 0.0243\n",
      "Epoch 136/200\n",
      "6/6 [==============================] - 0s 17ms/step - loss: 0.0439 - val_loss: 0.0246\n",
      "Epoch 137/200\n",
      "6/6 [==============================] - 0s 23ms/step - loss: 0.0334 - val_loss: 0.0242\n",
      "Epoch 138/200\n",
      "6/6 [==============================] - 0s 18ms/step - loss: 0.0416 - val_loss: 0.0243\n",
      "Epoch 139/200\n",
      "6/6 [==============================] - 0s 17ms/step - loss: 0.0386 - val_loss: 0.0244\n",
      "Epoch 140/200\n",
      "6/6 [==============================] - 0s 18ms/step - loss: 0.0342 - val_loss: 0.0247\n",
      "Epoch 141/200\n",
      "6/6 [==============================] - 0s 17ms/step - loss: 0.0412 - val_loss: 0.0249\n",
      "Epoch 142/200\n",
      "6/6 [==============================] - 0s 17ms/step - loss: 0.0432 - val_loss: 0.0246\n",
      "Epoch 143/200\n",
      "6/6 [==============================] - 0s 28ms/step - loss: 0.0542 - val_loss: 0.0245\n",
      "Epoch 144/200\n",
      "6/6 [==============================] - 0s 18ms/step - loss: 0.0388 - val_loss: 0.0242\n",
      "Epoch 145/200\n",
      "6/6 [==============================] - 0s 17ms/step - loss: 0.0397 - val_loss: 0.0243\n",
      "Epoch 146/200\n",
      "6/6 [==============================] - 0s 18ms/step - loss: 0.0317 - val_loss: 0.0242\n",
      "Epoch 147/200\n",
      "6/6 [==============================] - 0s 21ms/step - loss: 0.0531 - val_loss: 0.0241\n",
      "Epoch 148/200\n",
      "6/6 [==============================] - 0s 17ms/step - loss: 0.0528 - val_loss: 0.0244\n",
      "Epoch 149/200\n",
      "6/6 [==============================] - 0s 51ms/step - loss: 0.0383 - val_loss: 0.0244\n",
      "Epoch 150/200\n",
      "6/6 [==============================] - 0s 17ms/step - loss: 0.0486 - val_loss: 0.0241\n",
      "Epoch 151/200\n",
      "6/6 [==============================] - 0s 17ms/step - loss: 0.0354 - val_loss: 0.0243\n",
      "Epoch 152/200\n",
      "6/6 [==============================] - 0s 18ms/step - loss: 0.0519 - val_loss: 0.0245\n",
      "Epoch 153/200\n",
      "6/6 [==============================] - 0s 31ms/step - loss: 0.0312 - val_loss: 0.0242\n",
      "Epoch 154/200\n",
      "6/6 [==============================] - 0s 17ms/step - loss: 0.0520 - val_loss: 0.0244\n",
      "Epoch 155/200\n",
      "6/6 [==============================] - 0s 18ms/step - loss: 0.0310 - val_loss: 0.0243\n",
      "Epoch 156/200\n",
      "6/6 [==============================] - 0s 17ms/step - loss: 0.0337 - val_loss: 0.0242\n",
      "Epoch 157/200\n",
      "6/6 [==============================] - 0s 17ms/step - loss: 0.0543 - val_loss: 0.0242\n"
     ]
    }
   ],
   "source": [
    "with strategy.scope():\n",
    "    opt = optimizers.Adam(learning_rate=LEARNING_RATE, epsilon=EPSILON)\n",
    "    model.compile(optimizer=opt, loss='mae')\n",
    "    model.fit(train_dataset, epochs=TRAINING_EPOCHS, validation_data=val_dataset,\n",
    "                  verbose=1, callbacks=[cbs, save, early_stop]) "
   ]
  },
  {
   "cell_type": "code",
   "execution_count": 21,
   "metadata": {},
   "outputs": [],
   "source": [
    "model.load_weights(BEST_PATH)"
   ]
  },
  {
   "cell_type": "code",
   "execution_count": 22,
   "metadata": {},
   "outputs": [
    {
     "name": "stdout",
     "output_type": "stream",
     "text": [
      "3/3 [==============================] - 0s 2ms/step - loss: 0.0241\n"
     ]
    },
    {
     "data": {
      "text/plain": [
       "0.024097291752696037"
      ]
     },
     "execution_count": 22,
     "metadata": {},
     "output_type": "execute_result"
    }
   ],
   "source": [
    "model.evaluate(val_dataset)"
   ]
  },
  {
   "cell_type": "code",
   "execution_count": 23,
   "metadata": {},
   "outputs": [],
   "source": [
    "pred_output = model.predict(test_input)"
   ]
  },
  {
   "cell_type": "code",
   "execution_count": 24,
   "metadata": {},
   "outputs": [],
   "source": [
    "pred_output = pred_output*(OUTPUT_MAX - OUTPUT_MIN) + OUTPUT_MIN\n",
    "test_label = test_label*(OUTPUT_MAX - OUTPUT_MIN) + OUTPUT_MIN"
   ]
  },
  {
   "cell_type": "code",
   "execution_count": 25,
   "metadata": {},
   "outputs": [
    {
     "data": {
      "image/png": "[encoded data removed]",
      "text/plain": [
       "<Figure size 481.89x340.157 with 1 Axes>"
      ]
     },
     "metadata": {},
     "output_type": "display_data"
    }
   ],
   "source": [
    "fig = plt.figure(figsize=((8.5/2.54*2), (6/2.54*2)))\n",
    "ax0 = plt.subplot()\n",
    "\n",
    "ax0.spines['right'].set_visible(False)\n",
    "ax0.spines['left'].set_position(('outward', 5))\n",
    "ax0.spines['bottom'].set_position(('outward', 5))\n",
    "\n",
    "ax0.plot(test_label, pred_output, 'o', ms=5, mec='k', c=cmap[0])\n",
    "\n",
    "\n",
    "fig.tight_layout()"
   ]
  },
  {
   "cell_type": "code",
   "execution_count": 26,
   "metadata": {},
   "outputs": [],
   "source": [
    "pred_df = pd.DataFrame(test_label, index=test_indices[:, 0], columns=['label'])\n",
    "pred_df['pred'] = pred_output"
   ]
  },
  {
   "cell_type": "code",
   "execution_count": 27,
   "metadata": {},
   "outputs": [
    {
     "data": {
      "image/png": "[encoded data removed]",
      "text/plain": [
       "<Figure size 481.89x340.157 with 1 Axes>"
      ]
     },
     "metadata": {},
     "output_type": "display_data"
    }
   ],
   "source": [
    "fig = plt.figure(figsize=((8.5/2.54*2), (6/2.54*2)))\n",
    "ax0 = plt.subplot()\n",
    "\n",
    "ax0.spines['right'].set_visible(False)\n",
    "ax0.spines['left'].set_position(('outward', 5))\n",
    "ax0.spines['bottom'].set_position(('outward', 5))\n",
    "\n",
    "ax0.plot(pred_df.index, pred_df['label'], '-o', ms=5, mec='k', c=cmap[4])\n",
    "ax0.plot(pred_df.index, pred_df['pred'], 'o', ms=5, mec='k', c=cmap[0])\n",
    "\n",
    "\n",
    "fig.tight_layout()"
   ]
  },
  {
   "cell_type": "code",
   "execution_count": 28,
   "metadata": {},
   "outputs": [],
   "source": [
    "pred_df.to_csv('./results/model_output/ffnn_raw.csv')"
   ]
  }
 ],
 "metadata": {
  "kernelspec": {
   "display_name": "Environment (conda_tensorflow2_p36)",
   "language": "python",
   "name": "conda_tensorflow2_p36"
  },
  "language_info": {
   "codemirror_mode": {
    "name": "ipython",
    "version": 3
   },
   "file_extension": ".py",
   "mimetype": "text/x-python",
   "name": "python",
   "nbconvert_exporter": "python",
   "pygments_lexer": "ipython3",
   "version": "3.6.10"
  }
 },
 "nbformat": 4,
 "nbformat_minor": 4
}
